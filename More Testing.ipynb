{
 "cells": [
  {
   "cell_type": "code",
   "execution_count": 2,
   "metadata": {
    "collapsed": true
   },
   "outputs": [],
   "source": [
    "from __future__ import division\n",
    "from ccdBounds import *\n",
    "#from pyOrbfit.Orbit import Orbit\n",
    "import gzip\n",
    "import glob # Lists files into a directory\n",
    "import tarfile\n",
    "import json\n",
    "import pandas\n",
    "import pylab\n",
    "import ephem\n",
    "import os\n",
    "import time\n",
    "import numpy as np\n",
    "import requests\n",
    "from pandas import *\n",
    "from pylab import *\n",
    "#from astropy.io import fits\n",
    "#from astropy.wcs import WCS"
   ]
  },
  {
   "cell_type": "code",
   "execution_count": 3,
   "metadata": {
    "collapsed": false
   },
   "outputs": [
    {
     "data": {
      "text/plain": [
       "0"
      ]
     },
     "execution_count": 3,
     "metadata": {},
     "output_type": "execute_result"
    }
   ],
   "source": [
    "os.system('export DISPLAY=:1')\n",
    "os.system('Xvfb :1 -screen 0 1024x768x16 &')\n",
    "os.system('top')"
   ]
  },
  {
   "cell_type": "code",
   "execution_count": 6,
   "metadata": {
    "collapsed": false
   },
   "outputs": [
    {
     "name": "stdout",
     "output_type": "stream",
     "text": [
      "Start : Mon Jul 11 15:42:34 2016\n",
      "End : Mon Jul 11 15:42:44 2016\n"
     ]
    }
   ],
   "source": [
    "print \"Start : %s\" % time.ctime()\n",
    "time.sleep( 10 )\n",
    "print \"End : %s\" % time.ctime()"
   ]
  },
  {
   "cell_type": "code",
   "execution_count": null,
   "metadata": {
    "collapsed": true
   },
   "outputs": [],
   "source": []
  },
  {
   "cell_type": "code",
   "execution_count": 9,
   "metadata": {
    "collapsed": false
   },
   "outputs": [
    {
     "name": "stdout",
     "output_type": "stream",
     "text": [
      "Enter an integer: 0\n",
      "('Oops!', <type 'exceptions.ZeroDivisionError'>, 'occured.')\n",
      "Please try again.\n",
      "()\n",
      "Enter an integer: 3.2\n",
      "('The reciprocal of', 3, 'is', 0.3333333333333333)\n"
     ]
    }
   ],
   "source": [
    "import sys\n",
    "\n",
    "while True:\n",
    "    try:\n",
    "        x = int(input(\"Enter an integer: \"))\n",
    "        r = 1/x\n",
    "        break\n",
    "    except:\n",
    "        print(\"Oops!\",sys.exc_info()[0],\"occured.\")\n",
    "        print(\"Please try again.\")\n",
    "        print()\n",
    "\n",
    "print(\"The reciprocal of\",x,\"is\",r)"
   ]
  },
  {
   "cell_type": "code",
   "execution_count": null,
   "metadata": {
    "collapsed": true
   },
   "outputs": [],
   "source": []
  },
  {
   "cell_type": "code",
   "execution_count": null,
   "metadata": {
    "collapsed": true
   },
   "outputs": [],
   "source": []
  }
 ],
 "metadata": {
  "anaconda-cloud": {},
  "kernelspec": {
   "display_name": "Python [Root]",
   "language": "python",
   "name": "Python [Root]"
  },
  "language_info": {
   "codemirror_mode": {
    "name": "ipython",
    "version": 2
   },
   "file_extension": ".py",
   "mimetype": "text/x-python",
   "name": "python",
   "nbconvert_exporter": "python",
   "pygments_lexer": "ipython2",
   "version": "2.7.11"
  }
 },
 "nbformat": 4,
 "nbformat_minor": 0
}
