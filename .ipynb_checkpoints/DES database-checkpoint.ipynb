{
 "cells": [
  {
   "cell_type": "code",
   "execution_count": 1,
   "metadata": {
    "collapsed": true
   },
   "outputs": [],
   "source": [
    "import easyaccess as ea"
   ]
  },
  {
   "cell_type": "code",
   "execution_count": 2,
   "metadata": {
    "collapsed": true
   },
   "outputs": [],
   "source": [
    "import pandas as pd\n",
    "import numpy as np"
   ]
  },
  {
   "cell_type": "code",
   "execution_count": 3,
   "metadata": {
    "collapsed": false
   },
   "outputs": [
    {
     "name": "stdout",
     "output_type": "stream",
     "text": [
      "Connecting to DB ** desoper ** ...\n"
     ]
    }
   ],
   "source": [
    "db = ea.connect(section='desoper')"
   ]
  },
  {
   "cell_type": "code",
   "execution_count": 11,
   "metadata": {
    "collapsed": true
   },
   "outputs": [],
   "source": [
    "query = \"select distinct expnum, date_obs, telra, teldec, exptime, band, object from prod.exposure where \\\n",
    "nite=20140818 and program='survey' order by expnum \""
   ]
  },
  {
   "cell_type": "code",
   "execution_count": 12,
   "metadata": {
    "collapsed": false
   },
   "outputs": [],
   "source": [
    "#query = \"select TPZ_ZCONF from mcarras2.SVA1_GOLD_PHOTOZ where rownum < 11\""
   ]
  },
  {
   "cell_type": "code",
   "execution_count": 13,
   "metadata": {
    "collapsed": false
   },
   "outputs": [],
   "source": [
    "result = db.query_to_pandas(query)"
   ]
  },
  {
   "cell_type": "code",
   "execution_count": 6,
   "metadata": {
    "collapsed": false
   },
   "outputs": [
    {
     "data": {
      "text/html": [
       "<div>\n",
       "<table border=\"1\" class=\"dataframe\">\n",
       "  <thead>\n",
       "    <tr style=\"text-align: right;\">\n",
       "      <th></th>\n",
       "      <th>EXPNUM</th>\n",
       "      <th>DATE_OBS</th>\n",
       "      <th>TELRA</th>\n",
       "      <th>TELDEC</th>\n",
       "      <th>EXPTIME</th>\n",
       "      <th>BAND</th>\n",
       "      <th>OBJECT</th>\n",
       "    </tr>\n",
       "  </thead>\n",
       "  <tbody>\n",
       "    <tr>\n",
       "      <th>0</th>\n",
       "      <td>349754</td>\n",
       "      <td>2014-08-19T04:56:40.398838</td>\n",
       "      <td>21:54:45.468</td>\n",
       "      <td>-40:58:45.296</td>\n",
       "      <td>90.0</td>\n",
       "      <td>r</td>\n",
       "      <td>DES survey hex -313-410 tiling 1</td>\n",
       "    </tr>\n",
       "    <tr>\n",
       "      <th>1</th>\n",
       "      <td>349755</td>\n",
       "      <td>2014-08-19T05:00:21.594131</td>\n",
       "      <td>22:08:45.769</td>\n",
       "      <td>-41:48:25.596</td>\n",
       "      <td>90.0</td>\n",
       "      <td>r</td>\n",
       "      <td>DES survey hex -271-410 tiling 3</td>\n",
       "    </tr>\n",
       "    <tr>\n",
       "      <th>2</th>\n",
       "      <td>349756</td>\n",
       "      <td>2014-08-19T05:02:19.194321</td>\n",
       "      <td>22:06:29.707</td>\n",
       "      <td>-42:32:04.096</td>\n",
       "      <td>90.0</td>\n",
       "      <td>i</td>\n",
       "      <td>DES survey hex -273-430 tiling 2</td>\n",
       "    </tr>\n",
       "    <tr>\n",
       "      <th>3</th>\n",
       "      <td>349757</td>\n",
       "      <td>2014-08-19T05:04:23.415888</td>\n",
       "      <td>22:19:14.696</td>\n",
       "      <td>-43:14:41.096</td>\n",
       "      <td>90.0</td>\n",
       "      <td>g</td>\n",
       "      <td>DES survey hex -253-440 tiling 4</td>\n",
       "    </tr>\n",
       "    <tr>\n",
       "      <th>4</th>\n",
       "      <td>349758</td>\n",
       "      <td>2014-08-19T05:06:21.636912</td>\n",
       "      <td>22:18:59.108</td>\n",
       "      <td>-44:01:21.594</td>\n",
       "      <td>90.0</td>\n",
       "      <td>i</td>\n",
       "      <td>DES survey hex -253-440 tiling 1</td>\n",
       "    </tr>\n",
       "    <tr>\n",
       "      <th>5</th>\n",
       "      <td>349759</td>\n",
       "      <td>2014-08-19T05:08:20.829333</td>\n",
       "      <td>22:09:46.969</td>\n",
       "      <td>-44:15:33.995</td>\n",
       "      <td>90.0</td>\n",
       "      <td>g</td>\n",
       "      <td>DES survey hex -276-450 tiling 4</td>\n",
       "    </tr>\n",
       "    <tr>\n",
       "      <th>6</th>\n",
       "      <td>349760</td>\n",
       "      <td>2014-08-19T05:10:19.743237</td>\n",
       "      <td>22:09:30.877</td>\n",
       "      <td>-45:02:13.697</td>\n",
       "      <td>90.0</td>\n",
       "      <td>i</td>\n",
       "      <td>DES survey hex -276-450 tiling 1</td>\n",
       "    </tr>\n",
       "    <tr>\n",
       "      <th>7</th>\n",
       "      <td>349761</td>\n",
       "      <td>2014-08-19T05:12:24.752109</td>\n",
       "      <td>22:24:28.656</td>\n",
       "      <td>-45:51:56.394</td>\n",
       "      <td>90.0</td>\n",
       "      <td>g</td>\n",
       "      <td>DES survey hex -231-450 tiling 3</td>\n",
       "    </tr>\n",
       "    <tr>\n",
       "      <th>8</th>\n",
       "      <td>349762</td>\n",
       "      <td>2014-08-19T05:14:22.958661</td>\n",
       "      <td>22:22:32.509</td>\n",
       "      <td>-46:35:33.396</td>\n",
       "      <td>90.0</td>\n",
       "      <td>r</td>\n",
       "      <td>DES survey hex -232-471 tiling 2</td>\n",
       "    </tr>\n",
       "    <tr>\n",
       "      <th>9</th>\n",
       "      <td>349763</td>\n",
       "      <td>2014-08-19T05:16:23.417763</td>\n",
       "      <td>22:17:24.198</td>\n",
       "      <td>-47:18:10.195</td>\n",
       "      <td>90.0</td>\n",
       "      <td>i</td>\n",
       "      <td>DES survey hex -257-481 tiling 4</td>\n",
       "    </tr>\n",
       "    <tr>\n",
       "      <th>10</th>\n",
       "      <td>349764</td>\n",
       "      <td>2014-08-19T05:18:21.498968</td>\n",
       "      <td>22:23:45.906</td>\n",
       "      <td>-47:53:41.096</td>\n",
       "      <td>90.0</td>\n",
       "      <td>g</td>\n",
       "      <td>DES survey hex -232-471 tiling 3</td>\n",
       "    </tr>\n",
       "    <tr>\n",
       "      <th>11</th>\n",
       "      <td>349765</td>\n",
       "      <td>2014-08-19T05:20:19.984854</td>\n",
       "      <td>22:21:42.296</td>\n",
       "      <td>-48:37:17.893</td>\n",
       "      <td>90.0</td>\n",
       "      <td>r</td>\n",
       "      <td>DES survey hex -234-491 tiling 2</td>\n",
       "    </tr>\n",
       "    <tr>\n",
       "      <th>12</th>\n",
       "      <td>349766</td>\n",
       "      <td>2014-08-19T05:22:24.609180</td>\n",
       "      <td>22:36:14.486</td>\n",
       "      <td>-49:19:54.494</td>\n",
       "      <td>90.0</td>\n",
       "      <td>i</td>\n",
       "      <td>DES survey hex -210-501 tiling 4</td>\n",
       "    </tr>\n",
       "    <tr>\n",
       "      <th>13</th>\n",
       "      <td>349767</td>\n",
       "      <td>2014-08-19T05:24:23.333983</td>\n",
       "      <td>22:31:12.727</td>\n",
       "      <td>-49:38:09.996</td>\n",
       "      <td>90.0</td>\n",
       "      <td>g</td>\n",
       "      <td>DES survey hex -210-501 tiling 2</td>\n",
       "    </tr>\n",
       "    <tr>\n",
       "      <th>14</th>\n",
       "      <td>349768</td>\n",
       "      <td>2014-08-19T05:26:22.223703</td>\n",
       "      <td>22:31:12.716</td>\n",
       "      <td>-49:38:09.794</td>\n",
       "      <td>90.0</td>\n",
       "      <td>r</td>\n",
       "      <td>DES survey hex -210-501 tiling 2</td>\n",
       "    </tr>\n",
       "    <tr>\n",
       "      <th>15</th>\n",
       "      <td>349769</td>\n",
       "      <td>2014-08-19T05:28:22.717843</td>\n",
       "      <td>22:35:36.708</td>\n",
       "      <td>-52:08:18.593</td>\n",
       "      <td>90.0</td>\n",
       "      <td>g</td>\n",
       "      <td>DES survey hex -211-521 tiling 1</td>\n",
       "    </tr>\n",
       "    <tr>\n",
       "      <th>16</th>\n",
       "      <td>349770</td>\n",
       "      <td>2014-08-19T05:30:21.546902</td>\n",
       "      <td>22:41:01.428</td>\n",
       "      <td>-52:40:46.693</td>\n",
       "      <td>90.0</td>\n",
       "      <td>r</td>\n",
       "      <td>DES survey hex -185-532 tiling 2</td>\n",
       "    </tr>\n",
       "    <tr>\n",
       "      <th>17</th>\n",
       "      <td>349771</td>\n",
       "      <td>2014-08-19T05:32:20.780486</td>\n",
       "      <td>22:40:54.476</td>\n",
       "      <td>-54:42:30.694</td>\n",
       "      <td>90.0</td>\n",
       "      <td>g</td>\n",
       "      <td>DES survey hex -184-552 tiling 2</td>\n",
       "    </tr>\n",
       "    <tr>\n",
       "      <th>18</th>\n",
       "      <td>349772</td>\n",
       "      <td>2014-08-19T05:34:19.479163</td>\n",
       "      <td>22:40:46.618</td>\n",
       "      <td>-56:44:14.896</td>\n",
       "      <td>90.0</td>\n",
       "      <td>r</td>\n",
       "      <td>DES survey hex -184-572 tiling 2</td>\n",
       "    </tr>\n",
       "    <tr>\n",
       "      <th>19</th>\n",
       "      <td>349773</td>\n",
       "      <td>2014-08-19T05:36:23.593614</td>\n",
       "      <td>22:46:42.906</td>\n",
       "      <td>-56:25:58.994</td>\n",
       "      <td>90.0</td>\n",
       "      <td>i</td>\n",
       "      <td>DES survey hex -184-572 tiling 4</td>\n",
       "    </tr>\n",
       "  </tbody>\n",
       "</table>\n",
       "</div>"
      ],
      "text/plain": [
       "    EXPNUM                    DATE_OBS         TELRA         TELDEC  EXPTIME BAND                            OBJECT\n",
       "0   349754  2014-08-19T04:56:40.398838  21:54:45.468  -40:58:45.296     90.0    r  DES survey hex -313-410 tiling 1\n",
       "1   349755  2014-08-19T05:00:21.594131  22:08:45.769  -41:48:25.596     90.0    r  DES survey hex -271-410 tiling 3\n",
       "2   349756  2014-08-19T05:02:19.194321  22:06:29.707  -42:32:04.096     90.0    i  DES survey hex -273-430 tiling 2\n",
       "3   349757  2014-08-19T05:04:23.415888  22:19:14.696  -43:14:41.096     90.0    g  DES survey hex -253-440 tiling 4\n",
       "4   349758  2014-08-19T05:06:21.636912  22:18:59.108  -44:01:21.594     90.0    i  DES survey hex -253-440 tiling 1\n",
       "5   349759  2014-08-19T05:08:20.829333  22:09:46.969  -44:15:33.995     90.0    g  DES survey hex -276-450 tiling 4\n",
       "6   349760  2014-08-19T05:10:19.743237  22:09:30.877  -45:02:13.697     90.0    i  DES survey hex -276-450 tiling 1\n",
       "7   349761  2014-08-19T05:12:24.752109  22:24:28.656  -45:51:56.394     90.0    g  DES survey hex -231-450 tiling 3\n",
       "8   349762  2014-08-19T05:14:22.958661  22:22:32.509  -46:35:33.396     90.0    r  DES survey hex -232-471 tiling 2\n",
       "9   349763  2014-08-19T05:16:23.417763  22:17:24.198  -47:18:10.195     90.0    i  DES survey hex -257-481 tiling 4\n",
       "10  349764  2014-08-19T05:18:21.498968  22:23:45.906  -47:53:41.096     90.0    g  DES survey hex -232-471 tiling 3\n",
       "11  349765  2014-08-19T05:20:19.984854  22:21:42.296  -48:37:17.893     90.0    r  DES survey hex -234-491 tiling 2\n",
       "12  349766  2014-08-19T05:22:24.609180  22:36:14.486  -49:19:54.494     90.0    i  DES survey hex -210-501 tiling 4\n",
       "13  349767  2014-08-19T05:24:23.333983  22:31:12.727  -49:38:09.996     90.0    g  DES survey hex -210-501 tiling 2\n",
       "14  349768  2014-08-19T05:26:22.223703  22:31:12.716  -49:38:09.794     90.0    r  DES survey hex -210-501 tiling 2\n",
       "15  349769  2014-08-19T05:28:22.717843  22:35:36.708  -52:08:18.593     90.0    g  DES survey hex -211-521 tiling 1\n",
       "16  349770  2014-08-19T05:30:21.546902  22:41:01.428  -52:40:46.693     90.0    r  DES survey hex -185-532 tiling 2\n",
       "17  349771  2014-08-19T05:32:20.780486  22:40:54.476  -54:42:30.694     90.0    g  DES survey hex -184-552 tiling 2\n",
       "18  349772  2014-08-19T05:34:19.479163  22:40:46.618  -56:44:14.896     90.0    r  DES survey hex -184-572 tiling 2\n",
       "19  349773  2014-08-19T05:36:23.593614  22:46:42.906  -56:25:58.994     90.0    i  DES survey hex -184-572 tiling 4"
      ]
     },
     "execution_count": 6,
     "metadata": {},
     "output_type": "execute_result"
    }
   ],
   "source": [
    "result.head(20)"
   ]
  },
  {
   "cell_type": "code",
   "execution_count": null,
   "metadata": {
    "collapsed": true
   },
   "outputs": [],
   "source": []
  }
 ],
 "metadata": {
  "anaconda-cloud": {},
  "kernelspec": {
   "display_name": "Python [Root]",
   "language": "python",
   "name": "Python [Root]"
  },
  "language_info": {
   "codemirror_mode": {
    "name": "ipython",
    "version": 2
   },
   "file_extension": ".py",
   "mimetype": "text/x-python",
   "name": "python",
   "nbconvert_exporter": "python",
   "pygments_lexer": "ipython2",
   "version": "2.7.11"
  }
 },
 "nbformat": 4,
 "nbformat_minor": 0
}
