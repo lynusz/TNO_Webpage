{
 "cells": [
  {
   "cell_type": "code",
   "execution_count": null,
   "metadata": {
    "collapsed": true
   },
   "outputs": [],
   "source": [
    "import easyaccess as ea\n",
    "import pandas as pd\n",
    "import numpy as np\n",
    "import glob\n",
    "import os"
   ]
  },
  {
   "cell_type": "code",
   "execution_count": 11,
   "metadata": {
    "collapsed": false
   },
   "outputs": [
    {
     "ename": "OperationalError",
     "evalue": "ORA-03135: connection lost contact\nProcess ID: 6874\nSession ID: 1783 Serial number: 4294990093\n",
     "output_type": "error",
     "traceback": [
      "\u001b[0;31m---------------------------------------------------------------------------\u001b[0m",
      "\u001b[0;31mOperationalError\u001b[0m                          Traceback (most recent call last)",
      "\u001b[0;32m<ipython-input-11-e5c63ef5a84a>\u001b[0m in \u001b[0;36m<module>\u001b[0;34m()\u001b[0m\n\u001b[1;32m      1\u001b[0m \u001b[0mcursor\u001b[0m \u001b[0;34m=\u001b[0m \u001b[0mdb\u001b[0m\u001b[0;34m.\u001b[0m\u001b[0mcursor\u001b[0m\u001b[0;34m(\u001b[0m\u001b[0;34m)\u001b[0m\u001b[0;34m\u001b[0m\u001b[0m\n\u001b[1;32m      2\u001b[0m \u001b[0mcmd\u001b[0m \u001b[0;34m=\u001b[0m \u001b[0;34m'DROP TABLE lzullo.COMMENTTABLE'\u001b[0m\u001b[0;34m\u001b[0m\u001b[0m\n\u001b[0;32m----> 3\u001b[0;31m \u001b[0mcursor\u001b[0m\u001b[0;34m.\u001b[0m\u001b[0mexecute\u001b[0m\u001b[0;34m(\u001b[0m\u001b[0mcmd\u001b[0m\u001b[0;34m)\u001b[0m\u001b[0;34m\u001b[0m\u001b[0m\n\u001b[0m",
      "\u001b[0;31mOperationalError\u001b[0m: ORA-03135: connection lost contact\nProcess ID: 6874\nSession ID: 1783 Serial number: 4294990093\n"
     ]
    }
   ],
   "source": [
    "cursor = db.cursor()\n",
    "cmd = 'DROP TABLE lzullo.COMMENTTABLE'\n",
    "cursor.execute(cmd)"
   ]
  },
  {
   "cell_type": "code",
   "execution_count": null,
   "metadata": {
    "collapsed": false
   },
   "outputs": [],
   "source": [
    "cmd = 'create table lzullo.CANDLIST  \\\n",
    "       (\\\n",
    "          CANID     varchar2(80)  \\\n",
    "       )'\n",
    "\n",
    "db = ea.connect(section='desoper')\n",
    "cursor = db.cursor()\n",
    "try:\n",
    "    cursor.execute('drop table lzullo.CANDLIST')     # drop this table in case there was an existing copy\n",
    "    cursor.execute(cmd)\n",
    "except:\n",
    "    cursor.execute(cmd)"
   ]
  },
  {
   "cell_type": "code",
   "execution_count": 10,
   "metadata": {
    "collapsed": false
   },
   "outputs": [
    {
     "name": "stdout",
     "output_type": "stream",
     "text": [
      "Connecting to DB ** desoper ** ...\n"
     ]
    }
   ],
   "source": [
    "cmd = 'create table lzullo.COMOBS  \\\n",
    "       (\\\n",
    "          CANID     varchar2(80),  \\\n",
    "          COM       varchar2(500), \\\n",
    "          DATE_ADD  varchar2(80) \\\n",
    "       )'\n",
    "\n",
    "db = ea.connect(section='desoper')\n",
    "cursor = db.cursor()\n",
    "try:\n",
    "    cursor.execute('drop table lzullo.COMOBS')     # drop this table in case there was an existing copy\n",
    "    cursor.execute(cmd)\n",
    "except:\n",
    "    cursor.execute(cmd)"
   ]
  },
  {
   "cell_type": "code",
   "execution_count": null,
   "metadata": {
    "collapsed": true
   },
   "outputs": [],
   "source": [
    "cmd = 'create table lzullo.COMSEARCH  \\\n",
    "       (\\\n",
    "          CANID     varchar2(80),  \\\n",
    "          COM       varchar2(500), \\\n",
    "          DATE_ADD  varchar2(80) \\\n",
    "       )'\n",
    "\n",
    "db = ea.connect(section='desoper')\n",
    "cursor = db.cursor()\n",
    "try:\n",
    "    cursor.execute('drop table lzullo.COMSEARCH')     # drop this table in case there was an existing copy\n",
    "    cursor.execute(cmd)\n",
    "except:\n",
    "    cursor.execute(cmd)"
   ]
  },
  {
   "cell_type": "code",
   "execution_count": null,
   "metadata": {
    "collapsed": true
   },
   "outputs": [],
   "source": [
    "cmd = 'create table lzullo.IMAGES  \\\n",
    "       (\\\n",
    "          CANID     varchar2(80),  \\\n",
    "          CCD       NUMBER, \\ \n",
    "          DATE_OBS  varchar2(500), \\\n",
    "          EXPNUM    NUMBER, \\\n",
    "          OBJID     NUMBER, \\\n",
    "          PATH      varchar2(200), \\\n",
    "          REF       varchar2(80), \\\n",
    "          T_EFF     NUMBER(10,3) \\\n",
    "       )'\n",
    "\n",
    "db = ea.connect(section='desoper')\n",
    "cursor = db.cursor()\n",
    "try:\n",
    "    cursor.execute('drop table lzullo.IMAGES')     # drop this table in case there was an existing copy\n",
    "    cursor.execute(cmd)\n",
    "except:\n",
    "    cursor.execute(cmd)"
   ]
  },
  {
   "cell_type": "code",
   "execution_count": null,
   "metadata": {
    "collapsed": true
   },
   "outputs": [],
   "source": [
    "cmd = 'create table lzullo.LINKER  \\\n",
    "       (\\\n",
    "          CANID     varchar2(80),  \\\n",
    "          OBJID     NUMBER \\\n",
    "\n",
    "       )'\n",
    "\n",
    "db = ea.connect(section='desoper')\n",
    "cursor = db.cursor()\n",
    "try:\n",
    "    cursor.execute('drop table lzullo.LINKER')     # drop this table in case there was an existing copy\n",
    "    cursor.execute(cmd)\n",
    "except:\n",
    "    cursor.execute(cmd)"
   ]
  },
  {
   "cell_type": "code",
   "execution_count": null,
   "metadata": {
    "collapsed": true
   },
   "outputs": [],
   "source": [
    "cmd = 'create table lzullo.OBJECTS  \\\n",
    "       (\\\n",
    "          BAND      varchar2(1), \\\n",
    "          CCD       NUMBER(20,0), \\ \n",
    "          DATE_OBS  varchar2(80), \\\n",
    "          DEC       varchar2(11), \\\n",
    "          EXPNUM    NUMBER, \\\n",
    "          EXPTIME   binary_double(8), \\\n",
    "          FAKEID    NUMBER, \\\n",
    "          MAG       binary_double(8), \\\n",
    "          ML_SCORE  binary_double(8), \\\n",
    "          OBJID     NUMBER(20,0), \\\n",
    "          RA        varchar2(20), \\\n",
    "          SOURCE    varchar2(300) \\ \n",
    "       )'\n",
    "\n",
    "db = ea.connect(section='desoper')\n",
    "cursor = db.cursor()\n",
    "try:\n",
    "    cursor.execute('drop table lzullo.OBJECTS')     # drop this table in case there was an existing copy\n",
    "    cursor.execute(cmd)\n",
    "except:\n",
    "    cursor.execute(cmd)"
   ]
  },
  {
   "cell_type": "code",
   "execution_count": null,
   "metadata": {
    "collapsed": true
   },
   "outputs": [],
   "source": [
    "cmd = 'create table lzullo.ORBIT  \\\n",
    "       (\\\n",
    "          A         NUMBER, \\\n",
    "          AOP       NUMBER, \\ \n",
    "          CANID     varchar2(80), \\\n",
    "          CHI       float(22), \\\n",
    "          E         NUMBER, \\\n",
    "          ERR_A     NUMBER, \\\n",
    "          ERR_AOP   NUMBER, \\\n",
    "          ERR_E     NUMBER, \\\n",
    "          ERR_1     NUMBER, \\\n",
    "          ERR_LAN   NUMBER, \\\n",
    "          ERR_TOP   NUMBER, \\\n",
    "          I         NUMBER, \\\n",
    "          LAN       NUMBER, \\\n",
    "          NDOF      NUMBER, \\\n",
    "          TOP       varchar2(80) \\\n",
    "       )'\n",
    "\n",
    "db = ea.connect(section='desoper')\n",
    "cursor = db.cursor()\n",
    "try:\n",
    "    cursor.execute('drop table lzullo.ORBIT')     # drop this table in case there was an existing copy\n",
    "    cursor.execute(cmd)\n",
    "except:\n",
    "    cursor.execute(cmd)"
   ]
  },
  {
   "cell_type": "code",
   "execution_count": null,
   "metadata": {
    "collapsed": true
   },
   "outputs": [],
   "source": [
    "cmd = 'create table lzullo.SEARCHEXPS  \\\n",
    "       (\\\n",
    "          A          NUMBER(10,2), \\\n",
    "          B          NUMBER(10,2), \\ \n",
    "          BAND       varchar2(80), \\\n",
    "          CANID      varchar2(80), \\\n",
    "          CCD        NUMBER(,0), \\\n",
    "          DATE_OBS   varchar2(80), \\\n",
    "          DEC        varchar2(80), \\\n",
    "          EXPNUM     NUMBER(,0), \\\n",
    "          PA         NUMBER(8,2), \\\n",
    "          RA         varchar2(80), \\\n",
    "          SEARCHID   NUMBER(,0) \\\n",
    "       )'\n",
    "\n",
    "db = ea.connect(section='desoper')\n",
    "cursor = db.cursor()\n",
    "try:\n",
    "    cursor.execute('drop table lzullo.SEARCHEXPS')     # drop this table in case there was an existing copy\n",
    "    cursor.execute(cmd)\n",
    "except:\n",
    "    cursor.execute(cmd)"
   ]
  },
  {
   "cell_type": "code",
   "execution_count": null,
   "metadata": {
    "collapsed": true
   },
   "outputs": [],
   "source": [
    "cmd = 'create table lzullo.SEARCHIMGS  \\\n",
    "       (\\\n",
    "          CANID      varchar2(80), \\\n",
    "          CCD        NUMBER(,0), \\\n",
    "          DATE_OBS   varchar2(80), \\\n",
    "          EXPNUM     NUMBER(,0), \\\n",
    "          PATH       varchar2(200), \\\n",
    "          REF        varchar2(80), \\\n",
    "          SEARCHID   NUMBER(,0), \\\n",
    "          T_EFF      NUMBER(10,3) \\\n",
    "       )'\n",
    "\n",
    "db = ea.connect(section='desoper')\n",
    "cursor = db.cursor()\n",
    "try:\n",
    "    cursor.execute('drop table lzullo.SEARCHIMGS')     # drop this table in case there was an existing copy\n",
    "    cursor.execute(cmd)\n",
    "except:\n",
    "    cursor.execute(cmd)"
   ]
  },
  {
   "cell_type": "code",
   "execution_count": null,
   "metadata": {
    "collapsed": true
   },
   "outputs": [],
   "source": [
    "cmd = 'create table lzullo.STATUS  \\\n",
    "       (\\\n",
    "          CANID      varchar2(80), \\\n",
    "          FLAG       varchar2(80), \\\n",
    "          MPC        varchar2(80), \\\n",
    "          STATUS     varchar2(80) \\\n",
    "       )'\n",
    "\n",
    "db = ea.connect(section='desoper')\n",
    "cursor = db.cursor()\n",
    "try:\n",
    "    cursor.execute('drop table lzullo.STATUS')     # drop this table in case there was an existing copy\n",
    "    cursor.execute(cmd)\n",
    "except:\n",
    "    cursor.execute(cmd)"
   ]
  },
  {
   "cell_type": "code",
   "execution_count": null,
   "metadata": {
    "collapsed": true
   },
   "outputs": [],
   "source": []
  }
 ],
 "metadata": {
  "anaconda-cloud": {},
  "kernelspec": {
   "display_name": "Python [Root]",
   "language": "python",
   "name": "Python [Root]"
  },
  "language_info": {
   "codemirror_mode": {
    "name": "ipython",
    "version": 2
   },
   "file_extension": ".py",
   "mimetype": "text/x-python",
   "name": "python",
   "nbconvert_exporter": "python",
   "pygments_lexer": "ipython2",
   "version": "2.7.11"
  }
 },
 "nbformat": 4,
 "nbformat_minor": 0
}
