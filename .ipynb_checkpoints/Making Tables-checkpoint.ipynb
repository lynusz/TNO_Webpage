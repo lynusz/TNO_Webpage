{
 "cells": [
  {
   "cell_type": "code",
   "execution_count": 1,
   "metadata": {
    "collapsed": true
   },
   "outputs": [],
   "source": [
    "import easyaccess as ea\n",
    "import pandas as pd\n",
    "import numpy as np\n",
    "import glob\n",
    "import os"
   ]
  },
  {
   "cell_type": "code",
   "execution_count": 8,
   "metadata": {
    "collapsed": true
   },
   "outputs": [],
   "source": [
    "cursor = db.cursor()\n",
    "cmd = 'DROP TABLE lzullo.COMMENTTABLE'\n",
    "cursor.execute(cmd)"
   ]
  },
  {
   "cell_type": "code",
   "execution_count": 3,
   "metadata": {
    "collapsed": false
   },
   "outputs": [
    {
     "name": "stdout",
     "output_type": "stream",
     "text": [
      "Connecting to DB ** desoper ** ...\n"
     ]
    }
   ],
   "source": [
    "cmd = 'create table lzullo.CANDLIST  \\\n",
    "       (\\\n",
    "          CANID     varchar2(80)  \\\n",
    "       )'\n",
    "\n",
    "db = ea.connect(section='desoper')\n",
    "cursor = db.cursor()\n",
    "try:\n",
    "    cursor.execute('drop table lzullo.CANDLIST')     # drop this table in case there was an existing copy\n",
    "    cursor.execute(cmd)\n",
    "except:\n",
    "    cursor.execute(cmd)"
   ]
  },
  {
   "cell_type": "code",
   "execution_count": 10,
   "metadata": {
    "collapsed": false
   },
   "outputs": [
    {
     "name": "stdout",
     "output_type": "stream",
     "text": [
      "Connecting to DB ** desoper ** ...\n"
     ]
    }
   ],
   "source": [
    "cmd = 'create table lzullo.COMOBS  \\\n",
    "       (\\\n",
    "          CANID     varchar2(80),  \\\n",
    "          COM       varchar2(500), \\\n",
    "          DATE_ADD  varchar2(80) \\\n",
    "       )'\n",
    "\n",
    "db = ea.connect(section='desoper')\n",
    "cursor = db.cursor()\n",
    "try:\n",
    "    cursor.execute('drop table lzullo.COMOBS')     # drop this table in case there was an existing copy\n",
    "    cursor.execute(cmd)\n",
    "except:\n",
    "    cursor.execute(cmd)"
   ]
  },
  {
   "cell_type": "code",
   "execution_count": null,
   "metadata": {
    "collapsed": true
   },
   "outputs": [],
   "source": [
    "cmd = 'create table lzullo.COMSEARCH  \\\n",
    "       (\\\n",
    "          CANID     varchar2(80),  \\\n",
    "          COM       varchar2(500), \\\n",
    "          DATE_ADD  varchar2(80) \\\n",
    "       )'\n",
    "\n",
    "db = ea.connect(section='desoper')\n",
    "cursor = db.cursor()\n",
    "try:\n",
    "    cursor.execute('drop table lzullo.COMSEARCH')     # drop this table in case there was an existing copy\n",
    "    cursor.execute(cmd)\n",
    "except:\n",
    "    cursor.execute(cmd)"
   ]
  },
  {
   "cell_type": "code",
   "execution_count": null,
   "metadata": {
    "collapsed": true
   },
   "outputs": [],
   "source": [
    "cmd = 'create table lzullo.IMAGES  \\\n",
    "       (\\\n",
    "          CANID     varchar2(80),  \\\n",
    "          CCD       NUMBER, \\ \n",
    "          DATE_OBS  varchar2(500), \\\n",
    "          EXPNUM    NUMBER, \\\n",
    "          OBJID     NUMBER, \\\n",
    "          PATH      varchar2(200), \\\n",
    "          REF       varchar2(80), \\\n",
    "          T_EFF     NUMBER(10,3) \\\n",
    "       )'\n",
    "\n",
    "db = ea.connect(section='desoper')\n",
    "cursor = db.cursor()\n",
    "try:\n",
    "    cursor.execute('drop table lzullo.IMAGES')     # drop this table in case there was an existing copy\n",
    "    cursor.execute(cmd)\n",
    "except:\n",
    "    cursor.execute(cmd)"
   ]
  },
  {
   "cell_type": "code",
   "execution_count": null,
   "metadata": {
    "collapsed": true
   },
   "outputs": [],
   "source": [
    "cmd = 'create table lzullo.LINKER  \\\n",
    "       (\\\n",
    "          CANID     varchar2(80),  \\\n",
    "          OBJID     NUMBER \\\n",
    "\n",
    "       )'\n",
    "\n",
    "db = ea.connect(section='desoper')\n",
    "cursor = db.cursor()\n",
    "try:\n",
    "    cursor.execute('drop table lzullo.LINKER')     # drop this table in case there was an existing copy\n",
    "    cursor.execute(cmd)\n",
    "except:\n",
    "    cursor.execute(cmd)"
   ]
  },
  {
   "cell_type": "code",
   "execution_count": null,
   "metadata": {
    "collapsed": true
   },
   "outputs": [],
   "source": [
    "cmd = 'create table lzullo.OBJECTS  \\\n",
    "       (\\\n",
    "          BAND      varchar2(1), \\\n",
    "          CCD       NUMBER(20,0), \\ \n",
    "          CANID     varchar2(80), \\\n",
    "          CHI       float(22), \\\n",
    "          E         NUMBER, \\\n",
    "          ERR_A     NUMBER, \\\n",
    "          ERR_AOP   NUMBER, \\\n",
    "          ERR_E     NUMBER, \\\n",
    "          ERR_1     NUMBER, \\\n",
    "          ERR_LAN   NUMBER, \\\n",
    "          ERR_TOP   NUMBER, \\\n",
    "          I         NUMBER, \\\n",
    "          LAN       NUMBER, \\\n",
    "          NDOF      NUMBER, \\\n",
    "          TOP       varchar2(80) \\\n",
    "       )'\n",
    "\n",
    "db = ea.connect(section='desoper')\n",
    "cursor = db.cursor()\n",
    "try:\n",
    "    cursor.execute('drop table lzullo.OBJECTS')     # drop this table in case there was an existing copy\n",
    "    cursor.execute(cmd)\n",
    "except:\n",
    "    cursor.execute(cmd)"
   ]
  },
  {
   "cell_type": "code",
   "execution_count": null,
   "metadata": {
    "collapsed": true
   },
   "outputs": [],
   "source": [
    "cmd = 'create table lzullo.ORBIT  \\\n",
    "       (\\\n",
    "          A         NUMBER, \\\n",
    "          AOP       NUMBER, \\ \n",
    "          CANID     varchar2(80), \\\n",
    "          CHI       float(22), \\\n",
    "          E         NUMBER, \\\n",
    "          ERR_A     NUMBER, \\\n",
    "          ERR_AOP   NUMBER, \\\n",
    "          ERR_E     NUMBER, \\\n",
    "          ERR_1     NUMBER, \\\n",
    "          ERR_LAN   NUMBER, \\\n",
    "          ERR_TOP   NUMBER, \\\n",
    "          I         NUMBER, \\\n",
    "          LAN       NUMBER, \\\n",
    "          NDOF      NUMBER, \\\n",
    "          TOP       varchar2(80) \\\n",
    "       )'\n",
    "\n",
    "db = ea.connect(section='desoper')\n",
    "cursor = db.cursor()\n",
    "try:\n",
    "    cursor.execute('drop table lzullo.ORBIT')     # drop this table in case there was an existing copy\n",
    "    cursor.execute(cmd)\n",
    "except:\n",
    "    cursor.execute(cmd)"
   ]
  },
  {
   "cell_type": "code",
   "execution_count": null,
   "metadata": {
    "collapsed": true
   },
   "outputs": [],
   "source": []
  }
 ],
 "metadata": {
  "anaconda-cloud": {},
  "kernelspec": {
   "display_name": "Python [Root]",
   "language": "python",
   "name": "Python [Root]"
  },
  "language_info": {
   "codemirror_mode": {
    "name": "ipython",
    "version": 2
   },
   "file_extension": ".py",
   "mimetype": "text/x-python",
   "name": "python",
   "nbconvert_exporter": "python",
   "pygments_lexer": "ipython2",
   "version": "2.7.11"
  }
 },
 "nbformat": 4,
 "nbformat_minor": 0
}
