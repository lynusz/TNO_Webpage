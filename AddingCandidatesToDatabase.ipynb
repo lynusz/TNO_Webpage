{
 "cells": [
  {
   "cell_type": "code",
   "execution_count": 2,
   "metadata": {
    "collapsed": true
   },
   "outputs": [],
   "source": [
    "import easyaccess as ea\n",
    "import pandas as pd\n",
    "import numpy as np\n",
    "import glob\n",
    "import os"
   ]
  },
  {
   "cell_type": "code",
   "execution_count": null,
   "metadata": {
    "collapsed": true
   },
   "outputs": [],
   "source": []
  },
  {
   "cell_type": "code",
   "execution_count": 3,
   "metadata": {
    "collapsed": false
   },
   "outputs": [
    {
     "name": "stdout",
     "output_type": "stream",
     "text": [
      "Connecting to DB ** desoper ** ...\n"
     ]
    }
   ],
   "source": [
    "db = ea.connect(section='desoper')\n",
    "cursor = db.cursor()"
   ]
  },
  {
   "cell_type": "code",
   "execution_count": 9,
   "metadata": {
    "collapsed": false
   },
   "outputs": [],
   "source": [
    "newCandidate=pd.read_csv('/Volumes/lsa-gerdes/wsdiff_catalogs/season1/nofakes/cands_Y1/good_371.csv')"
   ]
  },
  {
   "cell_type": "code",
   "execution_count": 10,
   "metadata": {
    "collapsed": false
   },
   "outputs": [
    {
     "data": {
      "text/html": [
       "<div>\n",
       "<table border=\"1\" class=\"dataframe\">\n",
       "  <thead>\n",
       "    <tr style=\"text-align: right;\">\n",
       "      <th></th>\n",
       "      <th>date</th>\n",
       "      <th>ra</th>\n",
       "      <th>dec</th>\n",
       "      <th>expnum</th>\n",
       "      <th>exptime</th>\n",
       "      <th>band</th>\n",
       "      <th>ccd</th>\n",
       "      <th>mag</th>\n",
       "      <th>ml_score</th>\n",
       "      <th>objid</th>\n",
       "      <th>fakeid</th>\n",
       "    </tr>\n",
       "  </thead>\n",
       "  <tbody>\n",
       "    <tr>\n",
       "      <th>0</th>\n",
       "      <td>2013/10/12 01:01:59</td>\n",
       "      <td>22:20:02.15</td>\n",
       "      <td>-0:44:20.5</td>\n",
       "      <td>243054</td>\n",
       "      <td>90.0</td>\n",
       "      <td>z</td>\n",
       "      <td>19</td>\n",
       "      <td>21.66</td>\n",
       "      <td>0.923</td>\n",
       "      <td>8355790</td>\n",
       "      <td>0</td>\n",
       "    </tr>\n",
       "    <tr>\n",
       "      <th>1</th>\n",
       "      <td>2013/10/12 00:59:59</td>\n",
       "      <td>22:20:02.15</td>\n",
       "      <td>-0:44:20.1</td>\n",
       "      <td>243053</td>\n",
       "      <td>90.0</td>\n",
       "      <td>i</td>\n",
       "      <td>19</td>\n",
       "      <td>21.57</td>\n",
       "      <td>0.930</td>\n",
       "      <td>8355689</td>\n",
       "      <td>0</td>\n",
       "    </tr>\n",
       "    <tr>\n",
       "      <th>2</th>\n",
       "      <td>2013/9/13 04:04:50</td>\n",
       "      <td>22:22:00.41</td>\n",
       "      <td>-0:19:18.3</td>\n",
       "      <td>233509</td>\n",
       "      <td>90.0</td>\n",
       "      <td>i</td>\n",
       "      <td>34</td>\n",
       "      <td>23.73</td>\n",
       "      <td>0.745</td>\n",
       "      <td>9977636</td>\n",
       "      <td>0</td>\n",
       "    </tr>\n",
       "    <tr>\n",
       "      <th>3</th>\n",
       "      <td>2013/9/8 03:20:34</td>\n",
       "      <td>22:22:25.16</td>\n",
       "      <td>-0:14:55.7</td>\n",
       "      <td>231500</td>\n",
       "      <td>90.0</td>\n",
       "      <td>g</td>\n",
       "      <td>55</td>\n",
       "      <td>21.32</td>\n",
       "      <td>0.930</td>\n",
       "      <td>4496229</td>\n",
       "      <td>0</td>\n",
       "    </tr>\n",
       "  </tbody>\n",
       "</table>\n",
       "</div>"
      ],
      "text/plain": [
       "                  date           ra         dec  expnum  exptime band  ccd    mag  ml_score    objid  fakeid\n",
       "0  2013/10/12 01:01:59  22:20:02.15  -0:44:20.5  243054     90.0    z   19  21.66     0.923  8355790       0\n",
       "1  2013/10/12 00:59:59  22:20:02.15  -0:44:20.1  243053     90.0    i   19  21.57     0.930  8355689       0\n",
       "2   2013/9/13 04:04:50  22:22:00.41  -0:19:18.3  233509     90.0    i   34  23.73     0.745  9977636       0\n",
       "3    2013/9/8 03:20:34  22:22:25.16  -0:14:55.7  231500     90.0    g   55  21.32     0.930  4496229       0"
      ]
     },
     "execution_count": 10,
     "metadata": {},
     "output_type": "execute_result"
    }
   ],
   "source": [
    "newCandidate"
   ]
  },
  {
   "cell_type": "code",
   "execution_count": 13,
   "metadata": {
    "collapsed": true
   },
   "outputs": [],
   "source": [
    "#update the candidate list\n",
    "candcmd=\"INSERT INTO scheibne.CANDLIST (CANID) \\\n",
    "VALUES ('S1_Y1_NF_Good_371')\""
   ]
  },
  {
   "cell_type": "code",
   "execution_count": 16,
   "metadata": {
    "collapsed": false
   },
   "outputs": [],
   "source": [
    "#update the linker\n",
    "linkcmds=[]\n",
    "for i in newCandidate.index:\n",
    "    linkcmds+=[\"INSERT INTO scheibne.linker (CANID, OBJID) \\\n",
    "    VALUES ('S12_Y3_FO_Good_371', \"+str(newCandidate['objid'][i])+\")\"]"
   ]
  },
  {
   "cell_type": "code",
   "execution_count": 17,
   "metadata": {
    "collapsed": false
   },
   "outputs": [],
   "source": [
    "#update the objects table\n",
    "objcmds=[]\n",
    "for i in newCandidate.index:\n",
    "    dob=\"'\"+newCandidate['date'][i]+\"'\"\n",
    "    ra=\"'\"+newCandidate['ra'][i]+\"'\"\n",
    "    dec=\"'\"+newCandidate['dec'][i]+\"'\"\n",
    "    expnum=str(newCandidate['expnum'][i])\n",
    "    exptime=str(newCandidate['exptime'][i])\n",
    "    band=\"'\"+newCandidate['band'][i]+\"'\"\n",
    "    ccd=str(newCandidate['ccd'][i])\n",
    "    mag=str(newCandidate['mag'][i])\n",
    "    ml_score=str(newCandidate['ml_score'][i])\n",
    "    objid=str(newCandidate['objid'][i])\n",
    "    fakeid=str(newCandidate['fakeid'][i])\n",
    "    objcmds+=[\"INSERT INTO scheibne.objects (DATE_OBS, RA, DEC, EXPNUM, EXPTIME, BAND, CCD, MAG , ML_SCORE, OBJID, FAKEID) \\\n",
    "    VALUES (\"+dob+\",\"+ra+\",\"+dec+\",\"+expnum+\",\"+exptime+\",\"+band+\",\"+ccd+\",\"+mag+\",\"+ml_score+\",\"+objid+\",\"+fakeid+\")\"]\n"
   ]
  },
  {
   "cell_type": "code",
   "execution_count": 37,
   "metadata": {
    "collapsed": false
   },
   "outputs": [
    {
     "name": "stdout",
     "output_type": "stream",
     "text": [
      "INSERT INTO scheibne.objects (DATE_OBS, RA, DEC, EXPNUM, EXPTIME, BAND, CCD, MAG , ML_SCORE, OBJID, FAKEID)     VALUES ('2013/10/12 01:01:59','22:20:02.15','-0:44:20.5',243054,90.0,'z',19,21.66,0.923,8355790,0)\n",
      "INSERT INTO scheibne.objects (DATE_OBS, RA, DEC, EXPNUM, EXPTIME, BAND, CCD, MAG , ML_SCORE, OBJID, FAKEID)     VALUES ('2013/10/12 00:59:59','22:20:02.15','-0:44:20.1',243053,90.0,'i',19,21.57,0.93,8355689,0)\n",
      "INSERT INTO scheibne.objects (DATE_OBS, RA, DEC, EXPNUM, EXPTIME, BAND, CCD, MAG , ML_SCORE, OBJID, FAKEID)     VALUES ('2013/9/13 04:04:50','22:22:00.41','-0:19:18.3',233509,90.0,'i',34,23.73,0.745,9977636,0)\n",
      "INSERT INTO scheibne.objects (DATE_OBS, RA, DEC, EXPNUM, EXPTIME, BAND, CCD, MAG , ML_SCORE, OBJID, FAKEID)     VALUES ('2013/9/8 03:20:34','22:22:25.16','-0:14:55.7',231500,90.0,'g',55,21.32,0.93,4496229,0)\n"
     ]
    }
   ],
   "source": [
    "for c in objcmds:\n",
    "    print c"
   ]
  },
  {
   "cell_type": "code",
   "execution_count": 38,
   "metadata": {
    "collapsed": true
   },
   "outputs": [],
   "source": [
    "#updates the status\n",
    "\n",
    "statcmd=\"INSERT INTO scheibne.status (CANID, STATUS, FLAG, MPC) \\\n",
    " VALUES ('S1_Y1_NF_Good_371', 'Uninspected','No', 'Unreported')\""
   ]
  },
  {
   "cell_type": "code",
   "execution_count": 39,
   "metadata": {
    "collapsed": true
   },
   "outputs": [],
   "source": [
    "cursor.execute(candcmd)"
   ]
  },
  {
   "cell_type": "code",
   "execution_count": 40,
   "metadata": {
    "collapsed": true
   },
   "outputs": [],
   "source": [
    "for c in linkcmds:\n",
    "    cursor.execute(c)"
   ]
  },
  {
   "cell_type": "code",
   "execution_count": 42,
   "metadata": {
    "collapsed": false
   },
   "outputs": [],
   "source": [
    "for c in objcmds:\n",
    "    cursor.execute(c)"
   ]
  },
  {
   "cell_type": "code",
   "execution_count": 29,
   "metadata": {
    "collapsed": true
   },
   "outputs": [],
   "source": [
    "cursor.execute(statcmd)"
   ]
  },
  {
   "cell_type": "code",
   "execution_count": 43,
   "metadata": {
    "collapsed": true
   },
   "outputs": [],
   "source": [
    "def addCan(szn,cat,yr,nm):\n",
    "    ncan=pd.read_csv('/Volumes/lsa-gerdes/wsdiff_catalogs/season'+str(szn)+'/'+cat+'/cands_Y'+str(yr)+'/'+nm+'.csv')\n",
    "    if cat=='fakesonly':\n",
    "        canid=\"S\"+str(szn)+\"Y\"+str(yr)+\"FO_\"+nm\n",
    "    else:\n",
    "        canid=\"S\"+str(szn)+\"Y\"+str(yr)+\"NF_\"+nm\n",
    "    candcmd=\"INSERT INTO scheibne.CANDLIST (CANID) \\\n",
    "    VALUES ('\"+canid+\"')\"\n",
    "    linkcmds=[]\n",
    "    for i in ncan.index:\n",
    "        linkcmds+=[\"INSERT INTO scheibne.linker (CANID, OBJID) \\\n",
    "        VALUES ('\"+canid+\"', \"+str(ncan['objid'][i])+\")\"]\n",
    "    objcmds=[]\n",
    "    for i in ncan.index:\n",
    "        dob=\"'\"+ncan['date'][i]+\"'\"\n",
    "        ra=\"'\"+ncan['ra'][i]+\"'\"\n",
    "        dec=\"'\"+ncan['dec'][i]+\"'\"\n",
    "        expnum=str(ncan['expnum'][i])\n",
    "        exptime=str(ncan['exptime'][i])\n",
    "        band=\"'\"+ncan['band'][i]+\"'\"\n",
    "        ccd=str(ncan['ccd'][i])\n",
    "        mag=str(ncan['mag'][i])\n",
    "        ml_score=str(ncan['ml_score'][i])\n",
    "        objid=str(ncan['objid'][i])\n",
    "        if ncan['fakeid'][i]>=0:\n",
    "            fakeid=str(ncan['fakeid'][i])\n",
    "        else:\n",
    "            fakeid=str(-99)\n",
    "        objcmds+=[\"INSERT INTO scheibne.objects (DATE_OBS, RA, DEC, EXPNUM, EXPTIME, BAND, CCD, MAG , ML_SCORE, OBJID, FAKEID) \\\n",
    "        VALUES (\"+dob+\",\"+ra+\",\"+dec+\",\"+expnum+\",\"+exptime+\",\"+band+\",\"+ccd+\",\"+mag+\",\"+ml_score+\",\"+objid+\",\"+fakeid+\")\"]\n",
    "    statcmd=\"INSERT INTO scheibne.status (CANID, STATUS, FLAG, MPC) \\\n",
    "         VALUES ('\"+canid+\"', 'Uninspected','No', 'Unreported')\"\n",
    "    cursor.execute(candcmd)\n",
    "    for l in linkcmds:\n",
    "        try:\n",
    "            cursor.execute(l)\n",
    "        except:\n",
    "            print l\n",
    "    for o in objcmds:\n",
    "        try:\n",
    "            cursor.execute(o)\n",
    "        except:\n",
    "            print o\n",
    "    cursor.execute(statcmd)"
   ]
  },
  {
   "cell_type": "code",
   "execution_count": 44,
   "metadata": {
    "collapsed": false
   },
   "outputs": [],
   "source": [
    "addCan(1,'nofakes',1,'good_371')"
   ]
  },
  {
   "cell_type": "markdown",
   "metadata": {},
   "source": []
  },
  {
   "cell_type": "code",
   "execution_count": 38,
   "metadata": {
    "collapsed": true
   },
   "outputs": [],
   "source": [
    "statcmd=\"INSERT INTO scheibne.status (CANID, STATUS, FLAG, MPC) \\\n",
    " VALUES ('S12Y3_good_28', 'Uninspected','No', 'Unreported')\""
   ]
  },
  {
   "cell_type": "code",
   "execution_count": 39,
   "metadata": {
    "collapsed": true
   },
   "outputs": [],
   "source": [
    "cursor.execute(statcmd)"
   ]
  },
  {
   "cell_type": "code",
   "execution_count": 45,
   "metadata": {
    "collapsed": true
   },
   "outputs": [],
   "source": [
    "def bigAdd(szn,yr,cat):\n",
    "    os.chdir('/Volumes/lsa-gerdes/wsdiff_catalogs/season'+str(szn)+'/'+cat+'/cands_Y'+str(yr))\n",
    "        \n",
    "    csv_list=glob.glob('*.csv')\n",
    "    for c in csv_list:\n",
    "        print c\n",
    "        addCan(szn,cat,yr,c[:-4])"
   ]
  },
  {
   "cell_type": "code",
   "execution_count": 46,
   "metadata": {
    "collapsed": false
   },
   "outputs": [
    {
     "name": "stdout",
     "output_type": "stream",
     "text": [
      "good_295.csv\n",
      "good_75.csv\n",
      "good_229.csv\n",
      "good_4.csv\n",
      "good_91.csv\n",
      "good_25.csv\n",
      "good_236.csv\n",
      "good_205.csv\n",
      "good_283.csv\n",
      "good_365.csv\n",
      "good_23.csv\n",
      "good_68.csv\n",
      "good_105.csv\n",
      "good_118.csv\n",
      "good_321.csv\n",
      "good_215.csv\n",
      "good_158.csv\n",
      "good_55.csv\n",
      "good_333.csv\n",
      "good_360.csv\n",
      "good_221.csv\n",
      "good_161.csv\n",
      "good_350.csv\n",
      "good_345.csv\n",
      "good_149.csv\n",
      "good_261.csv\n",
      "good_314.csv\n",
      "good_238.csv\n",
      "good_266.csv\n",
      "good_262.csv\n",
      "good_254.csv\n",
      "good_276.csv\n",
      "good_3.csv\n",
      "good_247.csv\n",
      "good_217.csv\n",
      "good_145.csv\n",
      "good_138.csv\n",
      "good_148.csv\n",
      "good_371.csv\n",
      "good_195.csv\n",
      "good_361.csv\n",
      "good_231.csv\n",
      "good_297.csv\n",
      "good_346.csv\n",
      "good_36.csv\n",
      "good_335.csv\n",
      "good_51.csv\n",
      "good_368.csv\n",
      "good_114.csv\n",
      "good_104.csv\n",
      "good_18.csv\n",
      "good_362.csv\n",
      "good_131.csv\n",
      "good_94.csv\n",
      "good_120.csv\n",
      "good_178.csv\n",
      "good_42.csv\n",
      "good_239.csv\n",
      "good_93.csv\n",
      "good_34.csv\n",
      "good_64.csv\n",
      "good_294.csv\n",
      "good_312.csv\n",
      "good_143.csv\n",
      "good_130.csv\n",
      "good_123.csv\n",
      "good_358.csv\n",
      "good_271.csv\n",
      "good_234.csv\n",
      "good_260.csv\n",
      "good_339.csv\n",
      "good_73.csv\n",
      "good_109.csv\n",
      "good_58.csv\n",
      "good_227.csv\n",
      "good_265.csv\n",
      "good_204.csv\n",
      "good_244.csv\n",
      "good_316.csv\n",
      "good_183.csv\n",
      "good_59.csv\n",
      "good_136.csv\n",
      "good_273.csv\n",
      "good_278.csv\n",
      "good_263.csv\n",
      "good_30.csv\n",
      "good_340.csv\n",
      "good_352.csv\n",
      "good_150.csv\n",
      "good_95.csv\n",
      "good_8.csv\n",
      "good_102.csv\n",
      "good_320.csv\n",
      "good_176.csv\n",
      "good_155.csv\n",
      "good_157.csv\n",
      "good_269.csv\n",
      "good_187.csv\n",
      "good_117.csv\n",
      "good_159.csv\n",
      "good_310.csv\n",
      "good_326.csv\n",
      "good_80.csv\n",
      "good_70.csv\n",
      "good_188.csv\n",
      "good_336.csv\n",
      "good_369.csv\n",
      "good_11.csv\n",
      "good_225.csv\n",
      "good_282.csv\n",
      "good_122.csv\n",
      "good_324.csv\n",
      "good_296.csv\n",
      "good_128.csv\n",
      "good_169.csv\n",
      "good_60.csv\n",
      "good_50.csv\n",
      "good_88.csv\n",
      "good_10.csv\n",
      "good_33.csv\n",
      "good_235.csv\n",
      "good_200.csv\n",
      "good_174.csv\n",
      "good_14.csv\n",
      "good_325.csv\n",
      "good_279.csv\n",
      "good_220.csv\n",
      "good_318.csv\n",
      "good_160.csv\n",
      "good_31.csv\n",
      "good_222.csv\n",
      "good_111.csv\n",
      "good_268.csv\n",
      "good_22.csv\n",
      "good_286.csv\n",
      "good_337.csv\n",
      "good_232.csv\n",
      "good_267.csv\n",
      "good_167.csv\n",
      "good_81.csv\n",
      "good_156.csv\n",
      "good_303.csv\n",
      "good_49.csv\n",
      "good_39.csv\n",
      "good_208.csv\n",
      "good_330.csv\n",
      "good_134.csv\n",
      "good_198.csv\n",
      "good_191.csv\n",
      "good_166.csv\n",
      "good_90.csv\n",
      "good_210.csv\n",
      "good_256.csv\n",
      "good_6.csv\n",
      "good_125.csv\n",
      "good_212.csv\n",
      "good_37.csv\n",
      "good_203.csv\n",
      "good_20.csv\n",
      "good_129.csv\n",
      "good_45.csv\n",
      "good_13.csv\n",
      "good_359.csv\n",
      "good_366.csv\n",
      "good_15.csv\n",
      "good_190.csv\n",
      "good_48.csv\n",
      "good_154.csv\n",
      "good_141.csv\n",
      "good_133.csv\n",
      "good_258.csv\n",
      "good_248.csv\n",
      "good_214.csv\n",
      "good_338.csv\n",
      "good_87.csv\n",
      "good_65.csv\n",
      "good_213.csv\n",
      "good_251.csv\n",
      "good_289.csv\n",
      "good_288.csv\n",
      "good_151.csv\n",
      "good_97.csv\n",
      "good_313.csv\n",
      "good_98.csv\n",
      "good_144.csv\n",
      "good_185.csv\n",
      "good_7.csv\n",
      "good_367.csv\n",
      "good_275.csv\n",
      "good_223.csv\n",
      "good_163.csv\n",
      "good_298.csv\n",
      "good_79.csv\n",
      "good_259.csv\n",
      "good_175.csv\n",
      "good_40.csv\n",
      "good_311.csv\n",
      "good_16.csv\n",
      "good_300.csv\n",
      "good_281.csv\n",
      "good_67.csv\n",
      "good_304.csv\n",
      "good_19.csv\n",
      "good_272.csv\n",
      "good_184.csv\n",
      "good_351.csv\n",
      "good_242.csv\n",
      "good_41.csv\n",
      "good_290.csv\n",
      "good_1.csv\n",
      "good_83.csv\n",
      "good_2.csv\n",
      "good_323.csv\n",
      "good_54.csv\n",
      "good_230.csv\n",
      "good_107.csv\n",
      "good_61.csv\n",
      "good_317.csv\n",
      "good_328.csv\n",
      "good_331.csv\n",
      "good_24.csv\n",
      "good_353.csv\n",
      "good_152.csv\n",
      "good_309.csv\n",
      "good_153.csv\n",
      "good_332.csv\n",
      "good_52.csv\n",
      "good_228.csv\n",
      "good_315.csv\n",
      "good_140.csv\n",
      "good_103.csv\n",
      "good_57.csv\n",
      "good_245.csv\n",
      "good_108.csv\n",
      "good_26.csv\n",
      "good_196.csv\n",
      "good_347.csv\n",
      "good_53.csv\n",
      "good_240.csv\n",
      "good_307.csv\n",
      "good_202.csv\n",
      "good_302.csv\n",
      "good_193.csv\n",
      "good_357.csv\n",
      "good_192.csv\n",
      "good_322.csv\n",
      "good_344.csv\n",
      "good_46.csv\n",
      "good_9.csv\n",
      "good_287.csv\n",
      "good_199.csv\n",
      "good_233.csv\n",
      "good_186.csv\n",
      "good_47.csv\n",
      "good_119.csv\n",
      "good_124.csv\n",
      "good_77.csv\n",
      "good_82.csv\n",
      "good_101.csv\n",
      "good_43.csv\n",
      "good_342.csv\n",
      "good_241.csv\n",
      "good_354.csv\n",
      "good_96.csv\n",
      "good_84.csv\n",
      "good_306.csv\n",
      "good_69.csv\n",
      "good_32.csv\n",
      "good_78.csv\n",
      "good_284.csv\n",
      "good_364.csv\n",
      "good_301.csv\n",
      "good_277.csv\n",
      "good_355.csv\n",
      "good_370.csv\n",
      "good_44.csv\n",
      "good_165.csv\n",
      "good_168.csv\n",
      "good_147.csv\n",
      "good_115.csv\n",
      "good_250.csv\n",
      "good_110.csv\n",
      "good_137.csv\n",
      "good_71.csv\n",
      "good_177.csv\n",
      "good_218.csv\n",
      "good_264.csv\n",
      "good_100.csv\n",
      "good_292.csv\n",
      "good_72.csv\n",
      "good_28.csv\n",
      "good_341.csv\n",
      "good_224.csv\n",
      "good_172.csv\n",
      "good_116.csv\n",
      "good_126.csv\n",
      "good_12.csv\n",
      "good_121.csv\n",
      "good_106.csv\n",
      "good_56.csv\n",
      "good_173.csv\n",
      "good_142.csv\n",
      "good_170.csv\n",
      "good_89.csv\n",
      "good_329.csv\n",
      "good_285.csv\n",
      "good_274.csv\n",
      "good_291.csv\n",
      "good_5.csv\n",
      "good_0.csv\n",
      "good_99.csv\n",
      "good_146.csv\n",
      "good_319.csv\n",
      "good_74.csv\n",
      "good_219.csv\n",
      "good_257.csv\n",
      "good_17.csv\n",
      "good_305.csv\n",
      "good_243.csv\n",
      "good_211.csv\n",
      "good_253.csv\n",
      "good_86.csv\n",
      "good_249.csv\n",
      "good_76.csv\n",
      "good_164.csv\n",
      "good_348.csv\n",
      "good_66.csv\n",
      "good_246.csv\n",
      "good_201.csv\n",
      "good_206.csv\n",
      "good_35.csv\n",
      "good_209.csv\n",
      "good_92.csv\n",
      "good_162.csv\n",
      "good_237.csv\n",
      "good_181.csv\n",
      "good_113.csv\n",
      "good_194.csv\n",
      "good_299.csv\n",
      "good_29.csv\n",
      "good_189.csv\n",
      "good_343.csv\n",
      "good_293.csv\n",
      "good_349.csv\n",
      "good_270.csv\n",
      "good_182.csv\n",
      "good_327.csv\n",
      "good_85.csv\n",
      "good_127.csv\n",
      "good_132.csv\n",
      "good_179.csv\n",
      "good_62.csv\n",
      "good_280.csv\n",
      "good_207.csv\n",
      "good_356.csv\n",
      "good_334.csv\n",
      "good_216.csv\n",
      "good_63.csv\n",
      "good_21.csv\n",
      "good_139.csv\n",
      "good_38.csv\n",
      "good_308.csv\n",
      "good_255.csv\n",
      "good_171.csv\n",
      "good_135.csv\n",
      "good_197.csv\n",
      "good_226.csv\n",
      "good_112.csv\n",
      "good_27.csv\n",
      "good_363.csv\n",
      "good_180.csv\n",
      "good_252.csv\n"
     ]
    }
   ],
   "source": [
    "bigAdd(1,1,'nofakes')"
   ]
  },
  {
   "cell_type": "code",
   "execution_count": 65,
   "metadata": {
    "collapsed": true
   },
   "outputs": [],
   "source": [
    "ooplist=[4,13,45,20,37,6,39,22,31,14,33,10,11,8,30,34,42,18,36,3,23,25,27,29,28]"
   ]
  },
  {
   "cell_type": "code",
   "execution_count": 90,
   "metadata": {
    "collapsed": true
   },
   "outputs": [],
   "source": [
    "for p in range(0,50):\n",
    "    cmd=\"delete from status where canid='S10Y2NF_good_\"+str(p)+\"'\"\n",
    "    cursor.execute(cmd)"
   ]
  },
  {
   "cell_type": "code",
   "execution_count": 91,
   "metadata": {
    "collapsed": false
   },
   "outputs": [
    {
     "data": {
      "text/plain": [
       "True"
      ]
     },
     "execution_count": 91,
     "metadata": {},
     "output_type": "execute_result"
    }
   ],
   "source": []
  },
  {
   "cell_type": "code",
   "execution_count": 8,
   "metadata": {
    "collapsed": false
   },
   "outputs": [],
   "source": [
    "namelist=[]\n",
    "os.chdir('/Volumes/lsa-gerdes/wsdiff_catalogs/season1/nofakes/cands_Y1')\n",
    "csv_list=glob.glob('*.csv')\n",
    "for c in csv_list:\n",
    "    namelist+=['S1Y1NF_'+c[:-4]]"
   ]
  },
  {
   "cell_type": "code",
   "execution_count": 9,
   "metadata": {
    "collapsed": false
   },
   "outputs": [
    {
     "name": "stdout",
     "output_type": "stream",
     "text": [
      "['S1Y1NF_good_295', 'S1Y1NF_good_75', 'S1Y1NF_good_229', 'S1Y1NF_good_4', 'S1Y1NF_good_91', 'S1Y1NF_good_25', 'S1Y1NF_good_236', 'S1Y1NF_good_205', 'S1Y1NF_good_283', 'S1Y1NF_good_365', 'S1Y1NF_good_23', 'S1Y1NF_good_68', 'S1Y1NF_good_105', 'S1Y1NF_good_118', 'S1Y1NF_good_321', 'S1Y1NF_good_215', 'S1Y1NF_good_158', 'S1Y1NF_good_55', 'S1Y1NF_good_333', 'S1Y1NF_good_360', 'S1Y1NF_good_221', 'S1Y1NF_good_161', 'S1Y1NF_good_350', 'S1Y1NF_good_345', 'S1Y1NF_good_149', 'S1Y1NF_good_261', 'S1Y1NF_good_314', 'S1Y1NF_good_238', 'S1Y1NF_good_266', 'S1Y1NF_good_262', 'S1Y1NF_good_254', 'S1Y1NF_good_276', 'S1Y1NF_good_3', 'S1Y1NF_good_247', 'S1Y1NF_good_217', 'S1Y1NF_good_145', 'S1Y1NF_good_138', 'S1Y1NF_good_148', 'S1Y1NF_good_371', 'S1Y1NF_good_195', 'S1Y1NF_good_361', 'S1Y1NF_good_231', 'S1Y1NF_good_297', 'S1Y1NF_good_346', 'S1Y1NF_good_36', 'S1Y1NF_good_335', 'S1Y1NF_good_51', 'S1Y1NF_good_368', 'S1Y1NF_good_114', 'S1Y1NF_good_104', 'S1Y1NF_good_18', 'S1Y1NF_good_362', 'S1Y1NF_good_131', 'S1Y1NF_good_94', 'S1Y1NF_good_120', 'S1Y1NF_good_178', 'S1Y1NF_good_42', 'S1Y1NF_good_239', 'S1Y1NF_good_93', 'S1Y1NF_good_34', 'S1Y1NF_good_64', 'S1Y1NF_good_294', 'S1Y1NF_good_312', 'S1Y1NF_good_143', 'S1Y1NF_good_130', 'S1Y1NF_good_123', 'S1Y1NF_good_358', 'S1Y1NF_good_271', 'S1Y1NF_good_234', 'S1Y1NF_good_260', 'S1Y1NF_good_339', 'S1Y1NF_good_73', 'S1Y1NF_good_109', 'S1Y1NF_good_58', 'S1Y1NF_good_227', 'S1Y1NF_good_265', 'S1Y1NF_good_204', 'S1Y1NF_good_244', 'S1Y1NF_good_316', 'S1Y1NF_good_183', 'S1Y1NF_good_59', 'S1Y1NF_good_136', 'S1Y1NF_good_273', 'S1Y1NF_good_278', 'S1Y1NF_good_263', 'S1Y1NF_good_30', 'S1Y1NF_good_340', 'S1Y1NF_good_352', 'S1Y1NF_good_150', 'S1Y1NF_good_95', 'S1Y1NF_good_8', 'S1Y1NF_good_102', 'S1Y1NF_good_320', 'S1Y1NF_good_176', 'S1Y1NF_good_155', 'S1Y1NF_good_157', 'S1Y1NF_good_269', 'S1Y1NF_good_187', 'S1Y1NF_good_117', 'S1Y1NF_good_159', 'S1Y1NF_good_310', 'S1Y1NF_good_326', 'S1Y1NF_good_80', 'S1Y1NF_good_70', 'S1Y1NF_good_188', 'S1Y1NF_good_336', 'S1Y1NF_good_369', 'S1Y1NF_good_11', 'S1Y1NF_good_225', 'S1Y1NF_good_282', 'S1Y1NF_good_122', 'S1Y1NF_good_324', 'S1Y1NF_good_296', 'S1Y1NF_good_128', 'S1Y1NF_good_169', 'S1Y1NF_good_60', 'S1Y1NF_good_50', 'S1Y1NF_good_88', 'S1Y1NF_good_10', 'S1Y1NF_good_33', 'S1Y1NF_good_235', 'S1Y1NF_good_200', 'S1Y1NF_good_174', 'S1Y1NF_good_14', 'S1Y1NF_good_325', 'S1Y1NF_good_279', 'S1Y1NF_good_220', 'S1Y1NF_good_318', 'S1Y1NF_good_160', 'S1Y1NF_good_31', 'S1Y1NF_good_222', 'S1Y1NF_good_111', 'S1Y1NF_good_268', 'S1Y1NF_good_22', 'S1Y1NF_good_286', 'S1Y1NF_good_337', 'S1Y1NF_good_232', 'S1Y1NF_good_267', 'S1Y1NF_good_167', 'S1Y1NF_good_81', 'S1Y1NF_good_156', 'S1Y1NF_good_303', 'S1Y1NF_good_49', 'S1Y1NF_good_39', 'S1Y1NF_good_208', 'S1Y1NF_good_330', 'S1Y1NF_good_134', 'S1Y1NF_good_198', 'S1Y1NF_good_191', 'S1Y1NF_good_166', 'S1Y1NF_good_90', 'S1Y1NF_good_210', 'S1Y1NF_good_256', 'S1Y1NF_good_6', 'S1Y1NF_good_125', 'S1Y1NF_good_212', 'S1Y1NF_good_37', 'S1Y1NF_good_203', 'S1Y1NF_good_20', 'S1Y1NF_good_129', 'S1Y1NF_good_45', 'S1Y1NF_good_13', 'S1Y1NF_good_359', 'S1Y1NF_good_366', 'S1Y1NF_good_15', 'S1Y1NF_good_190', 'S1Y1NF_good_48', 'S1Y1NF_good_154', 'S1Y1NF_good_141', 'S1Y1NF_good_133', 'S1Y1NF_good_258', 'S1Y1NF_good_248', 'S1Y1NF_good_214', 'S1Y1NF_good_338', 'S1Y1NF_good_87', 'S1Y1NF_good_65', 'S1Y1NF_good_213', 'S1Y1NF_good_251', 'S1Y1NF_good_289', 'S1Y1NF_good_288', 'S1Y1NF_good_151', 'S1Y1NF_good_97', 'S1Y1NF_good_313', 'S1Y1NF_good_98', 'S1Y1NF_good_144', 'S1Y1NF_good_185', 'S1Y1NF_good_7', 'S1Y1NF_good_367', 'S1Y1NF_good_275', 'S1Y1NF_good_223', 'S1Y1NF_good_163', 'S1Y1NF_good_298', 'S1Y1NF_good_79', 'S1Y1NF_good_259', 'S1Y1NF_good_175', 'S1Y1NF_good_40', 'S1Y1NF_good_311', 'S1Y1NF_good_16', 'S1Y1NF_good_300', 'S1Y1NF_good_281', 'S1Y1NF_good_67', 'S1Y1NF_good_304', 'S1Y1NF_good_19', 'S1Y1NF_good_272', 'S1Y1NF_good_184', 'S1Y1NF_good_351', 'S1Y1NF_good_242', 'S1Y1NF_good_41', 'S1Y1NF_good_290', 'S1Y1NF_good_1', 'S1Y1NF_good_83', 'S1Y1NF_good_2', 'S1Y1NF_good_323', 'S1Y1NF_good_54', 'S1Y1NF_good_230', 'S1Y1NF_good_107', 'S1Y1NF_good_61', 'S1Y1NF_good_317', 'S1Y1NF_good_328', 'S1Y1NF_good_331', 'S1Y1NF_good_24', 'S1Y1NF_good_353', 'S1Y1NF_good_152', 'S1Y1NF_good_309', 'S1Y1NF_good_153', 'S1Y1NF_good_332', 'S1Y1NF_good_52', 'S1Y1NF_good_228', 'S1Y1NF_good_315', 'S1Y1NF_good_140', 'S1Y1NF_good_103', 'S1Y1NF_good_57', 'S1Y1NF_good_245', 'S1Y1NF_good_108', 'S1Y1NF_good_26', 'S1Y1NF_good_196', 'S1Y1NF_good_347', 'S1Y1NF_good_53', 'S1Y1NF_good_240', 'S1Y1NF_good_307', 'S1Y1NF_good_202', 'S1Y1NF_good_302', 'S1Y1NF_good_193', 'S1Y1NF_good_357', 'S1Y1NF_good_192', 'S1Y1NF_good_322', 'S1Y1NF_good_344', 'S1Y1NF_good_46', 'S1Y1NF_good_9', 'S1Y1NF_good_287', 'S1Y1NF_good_199', 'S1Y1NF_good_233', 'S1Y1NF_good_186', 'S1Y1NF_good_47', 'S1Y1NF_good_119', 'S1Y1NF_good_124', 'S1Y1NF_good_77', 'S1Y1NF_good_82', 'S1Y1NF_good_101', 'S1Y1NF_good_43', 'S1Y1NF_good_342', 'S1Y1NF_good_241', 'S1Y1NF_good_354', 'S1Y1NF_good_96', 'S1Y1NF_good_84', 'S1Y1NF_good_306', 'S1Y1NF_good_69', 'S1Y1NF_good_32', 'S1Y1NF_good_78', 'S1Y1NF_good_284', 'S1Y1NF_good_364', 'S1Y1NF_good_301', 'S1Y1NF_good_277', 'S1Y1NF_good_355', 'S1Y1NF_good_370', 'S1Y1NF_good_44', 'S1Y1NF_good_165', 'S1Y1NF_good_168', 'S1Y1NF_good_147', 'S1Y1NF_good_115', 'S1Y1NF_good_250', 'S1Y1NF_good_110', 'S1Y1NF_good_137', 'S1Y1NF_good_71', 'S1Y1NF_good_177', 'S1Y1NF_good_218', 'S1Y1NF_good_264', 'S1Y1NF_good_100', 'S1Y1NF_good_292', 'S1Y1NF_good_72', 'S1Y1NF_good_28', 'S1Y1NF_good_341', 'S1Y1NF_good_224', 'S1Y1NF_good_172', 'S1Y1NF_good_116', 'S1Y1NF_good_126', 'S1Y1NF_good_12', 'S1Y1NF_good_121', 'S1Y1NF_good_106', 'S1Y1NF_good_56', 'S1Y1NF_good_173', 'S1Y1NF_good_142', 'S1Y1NF_good_170', 'S1Y1NF_good_89', 'S1Y1NF_good_329', 'S1Y1NF_good_285', 'S1Y1NF_good_274', 'S1Y1NF_good_291', 'S1Y1NF_good_5', 'S1Y1NF_good_0', 'S1Y1NF_good_99', 'S1Y1NF_good_146', 'S1Y1NF_good_319', 'S1Y1NF_good_74', 'S1Y1NF_good_219', 'S1Y1NF_good_257', 'S1Y1NF_good_17', 'S1Y1NF_good_305', 'S1Y1NF_good_243', 'S1Y1NF_good_211', 'S1Y1NF_good_253', 'S1Y1NF_good_86', 'S1Y1NF_good_249', 'S1Y1NF_good_76', 'S1Y1NF_good_164', 'S1Y1NF_good_348', 'S1Y1NF_good_66', 'S1Y1NF_good_246', 'S1Y1NF_good_201', 'S1Y1NF_good_206', 'S1Y1NF_good_35', 'S1Y1NF_good_209', 'S1Y1NF_good_92', 'S1Y1NF_good_162', 'S1Y1NF_good_237', 'S1Y1NF_good_181', 'S1Y1NF_good_113', 'S1Y1NF_good_194', 'S1Y1NF_good_299', 'S1Y1NF_good_29', 'S1Y1NF_good_189', 'S1Y1NF_good_343', 'S1Y1NF_good_293', 'S1Y1NF_good_349', 'S1Y1NF_good_270', 'S1Y1NF_good_182', 'S1Y1NF_good_327', 'S1Y1NF_good_85', 'S1Y1NF_good_127', 'S1Y1NF_good_132', 'S1Y1NF_good_179', 'S1Y1NF_good_62', 'S1Y1NF_good_280', 'S1Y1NF_good_207', 'S1Y1NF_good_356', 'S1Y1NF_good_334', 'S1Y1NF_good_216', 'S1Y1NF_good_63', 'S1Y1NF_good_21', 'S1Y1NF_good_139', 'S1Y1NF_good_38', 'S1Y1NF_good_308', 'S1Y1NF_good_255', 'S1Y1NF_good_171', 'S1Y1NF_good_135', 'S1Y1NF_good_197', 'S1Y1NF_good_226', 'S1Y1NF_good_112', 'S1Y1NF_good_27', 'S1Y1NF_good_363', 'S1Y1NF_good_180', 'S1Y1NF_good_252']\n"
     ]
    }
   ],
   "source": [
    "print namelist"
   ]
  },
  {
   "cell_type": "code",
   "execution_count": null,
   "metadata": {
    "collapsed": true
   },
   "outputs": [],
   "source": []
  }
 ],
 "metadata": {
  "anaconda-cloud": {},
  "kernelspec": {
   "display_name": "Python [Root]",
   "language": "python",
   "name": "Python [Root]"
  },
  "language_info": {
   "codemirror_mode": {
    "name": "ipython",
    "version": 2
   },
   "file_extension": ".py",
   "mimetype": "text/x-python",
   "name": "python",
   "nbconvert_exporter": "python",
   "pygments_lexer": "ipython2",
   "version": "2.7.11"
  }
 },
 "nbformat": 4,
 "nbformat_minor": 0
}
