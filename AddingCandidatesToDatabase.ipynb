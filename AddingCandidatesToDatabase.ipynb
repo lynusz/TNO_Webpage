{
 "cells": [
  {
   "cell_type": "code",
   "execution_count": 65,
   "metadata": {
    "collapsed": true
   },
   "outputs": [],
   "source": [
    "import easyaccess as ea\n",
    "import pandas as pd\n",
    "import numpy as np\n",
    "import glob\n",
    "import os\n",
    "import datetime as date"
   ]
  },
  {
   "cell_type": "code",
   "execution_count": null,
   "metadata": {
    "collapsed": true
   },
   "outputs": [],
   "source": []
  },
  {
   "cell_type": "code",
   "execution_count": 85,
   "metadata": {
    "collapsed": false
   },
   "outputs": [
    {
     "name": "stdout",
     "output_type": "stream",
     "text": [
      "Connecting to DB ** desoper ** ...\n"
     ]
    }
   ],
   "source": [
    "db = ea.connect(section='desoper')\n",
    "cursor = db.cursor()"
   ]
  },
  {
   "cell_type": "code",
   "execution_count": 9,
   "metadata": {
    "collapsed": false
   },
   "outputs": [],
   "source": [
    "newCandidate=pd.read_csv('/Volumes/lsa-gerdes/wsdiff_catalogs/season1/nofakes/cands_Y1/good_371.csv')"
   ]
  },
  {
   "cell_type": "code",
   "execution_count": 10,
   "metadata": {
    "collapsed": false
   },
   "outputs": [
    {
     "data": {
      "text/html": [
       "<div>\n",
       "<table border=\"1\" class=\"dataframe\">\n",
       "  <thead>\n",
       "    <tr style=\"text-align: right;\">\n",
       "      <th></th>\n",
       "      <th>date</th>\n",
       "      <th>ra</th>\n",
       "      <th>dec</th>\n",
       "      <th>expnum</th>\n",
       "      <th>exptime</th>\n",
       "      <th>band</th>\n",
       "      <th>ccd</th>\n",
       "      <th>mag</th>\n",
       "      <th>ml_score</th>\n",
       "      <th>objid</th>\n",
       "      <th>fakeid</th>\n",
       "    </tr>\n",
       "  </thead>\n",
       "  <tbody>\n",
       "    <tr>\n",
       "      <th>0</th>\n",
       "      <td>2013/10/12 01:01:59</td>\n",
       "      <td>22:20:02.15</td>\n",
       "      <td>-0:44:20.5</td>\n",
       "      <td>243054</td>\n",
       "      <td>90.0</td>\n",
       "      <td>z</td>\n",
       "      <td>19</td>\n",
       "      <td>21.66</td>\n",
       "      <td>0.923</td>\n",
       "      <td>8355790</td>\n",
       "      <td>0</td>\n",
       "    </tr>\n",
       "    <tr>\n",
       "      <th>1</th>\n",
       "      <td>2013/10/12 00:59:59</td>\n",
       "      <td>22:20:02.15</td>\n",
       "      <td>-0:44:20.1</td>\n",
       "      <td>243053</td>\n",
       "      <td>90.0</td>\n",
       "      <td>i</td>\n",
       "      <td>19</td>\n",
       "      <td>21.57</td>\n",
       "      <td>0.930</td>\n",
       "      <td>8355689</td>\n",
       "      <td>0</td>\n",
       "    </tr>\n",
       "    <tr>\n",
       "      <th>2</th>\n",
       "      <td>2013/9/13 04:04:50</td>\n",
       "      <td>22:22:00.41</td>\n",
       "      <td>-0:19:18.3</td>\n",
       "      <td>233509</td>\n",
       "      <td>90.0</td>\n",
       "      <td>i</td>\n",
       "      <td>34</td>\n",
       "      <td>23.73</td>\n",
       "      <td>0.745</td>\n",
       "      <td>9977636</td>\n",
       "      <td>0</td>\n",
       "    </tr>\n",
       "    <tr>\n",
       "      <th>3</th>\n",
       "      <td>2013/9/8 03:20:34</td>\n",
       "      <td>22:22:25.16</td>\n",
       "      <td>-0:14:55.7</td>\n",
       "      <td>231500</td>\n",
       "      <td>90.0</td>\n",
       "      <td>g</td>\n",
       "      <td>55</td>\n",
       "      <td>21.32</td>\n",
       "      <td>0.930</td>\n",
       "      <td>4496229</td>\n",
       "      <td>0</td>\n",
       "    </tr>\n",
       "  </tbody>\n",
       "</table>\n",
       "</div>"
      ],
      "text/plain": [
       "                  date           ra         dec  expnum  exptime band  ccd    mag  ml_score    objid  fakeid\n",
       "0  2013/10/12 01:01:59  22:20:02.15  -0:44:20.5  243054     90.0    z   19  21.66     0.923  8355790       0\n",
       "1  2013/10/12 00:59:59  22:20:02.15  -0:44:20.1  243053     90.0    i   19  21.57     0.930  8355689       0\n",
       "2   2013/9/13 04:04:50  22:22:00.41  -0:19:18.3  233509     90.0    i   34  23.73     0.745  9977636       0\n",
       "3    2013/9/8 03:20:34  22:22:25.16  -0:14:55.7  231500     90.0    g   55  21.32     0.930  4496229       0"
      ]
     },
     "execution_count": 10,
     "metadata": {},
     "output_type": "execute_result"
    }
   ],
   "source": [
    "newCandidate"
   ]
  },
  {
   "cell_type": "code",
   "execution_count": 13,
   "metadata": {
    "collapsed": true
   },
   "outputs": [],
   "source": [
    "#update the candidate list\n",
    "candcmd=\"INSERT INTO scheibne.CANDLIST (CANID) \\\n",
    "VALUES ('S1_Y1_NF_Good_371')\""
   ]
  },
  {
   "cell_type": "code",
   "execution_count": 16,
   "metadata": {
    "collapsed": false
   },
   "outputs": [],
   "source": [
    "#update the linker\n",
    "linkcmds=[]\n",
    "for i in newCandidate.index:\n",
    "    linkcmds+=[\"INSERT INTO scheibne.linker (CANID, OBJID) \\\n",
    "    VALUES ('S12_Y3_FO_Good_371', \"+str(newCandidate['objid'][i])+\")\"]"
   ]
  },
  {
   "cell_type": "code",
   "execution_count": 17,
   "metadata": {
    "collapsed": false
   },
   "outputs": [],
   "source": [
    "#update the objects table\n",
    "objcmds=[]\n",
    "for i in newCandidate.index:\n",
    "    dob=\"'\"+newCandidate['date'][i]+\"'\"\n",
    "    ra=\"'\"+newCandidate['ra'][i]+\"'\"\n",
    "    dec=\"'\"+newCandidate['dec'][i]+\"'\"\n",
    "    expnum=str(newCandidate['expnum'][i])\n",
    "    exptime=str(newCandidate['exptime'][i])\n",
    "    band=\"'\"+newCandidate['band'][i]+\"'\"\n",
    "    ccd=str(newCandidate['ccd'][i])\n",
    "    mag=str(newCandidate['mag'][i])\n",
    "    ml_score=str(newCandidate['ml_score'][i])\n",
    "    objid=str(newCandidate['objid'][i])\n",
    "    fakeid=str(newCandidate['fakeid'][i])\n",
    "    objcmds+=[\"INSERT INTO scheibne.objects (DATE_OBS, RA, DEC, EXPNUM, EXPTIME, BAND, CCD, MAG , ML_SCORE, OBJID, FAKEID) \\\n",
    "    VALUES (\"+dob+\",\"+ra+\",\"+dec+\",\"+expnum+\",\"+exptime+\",\"+band+\",\"+ccd+\",\"+mag+\",\"+ml_score+\",\"+objid+\",\"+fakeid+\")\"]\n"
   ]
  },
  {
   "cell_type": "code",
   "execution_count": null,
   "metadata": {
    "collapsed": false
   },
   "outputs": [],
   "source": []
  },
  {
   "cell_type": "code",
   "execution_count": 38,
   "metadata": {
    "collapsed": true
   },
   "outputs": [],
   "source": [
    "#updates the status\n",
    "\n",
    "statcmd=\"INSERT INTO scheibne.status (CANID, STATUS, FLAG, MPC) \\\n",
    " VALUES ('S1_Y1_NF_Good_371', 'Uninspected','No', 'Unreported')\""
   ]
  },
  {
   "cell_type": "code",
   "execution_count": 39,
   "metadata": {
    "collapsed": true
   },
   "outputs": [],
   "source": [
    "cursor.execute(candcmd)"
   ]
  },
  {
   "cell_type": "code",
   "execution_count": 40,
   "metadata": {
    "collapsed": true
   },
   "outputs": [],
   "source": [
    "for c in linkcmds:\n",
    "    cursor.execute(c)"
   ]
  },
  {
   "cell_type": "code",
   "execution_count": 42,
   "metadata": {
    "collapsed": false
   },
   "outputs": [],
   "source": [
    "for c in objcmds:\n",
    "    cursor.execute(c)"
   ]
  },
  {
   "cell_type": "code",
   "execution_count": 29,
   "metadata": {
    "collapsed": true
   },
   "outputs": [],
   "source": [
    "cursor.execute(statcmd)"
   ]
  },
  {
   "cell_type": "markdown",
   "metadata": {},
   "source": [
    "date,ra,dec,expnum,exptime,band,ccd,mag,ml_score,objid,fakeid,source\n",
    "2014/11/3 07:38:27,2:58:22.23,-10:47:46.7,374608,90.0,g,10,23.6,0.87,29471684,0,Linker\n",
    "2014/10/28 08:03:22,2:59:04.88,-10:43:44.8,372225,90.0,i,40,23.44,0.757,29041484,0,Linker\n",
    "2014/10/28 08:01:25,2:59:04.89,-10:43:44.6,372224,90.0,r,11,22.74,-99,-1,0,SE_catalog\n",
    "2014/10/23 08:20:02,2:59:39.40,-10:39:54.5,370734,90.0,i,55,23.06,0.83,28869833,0,Linker\n",
    "2014/10/23 08:22:00,2:59:39.41,-10:39:54.7,370735,90.0,r,34,23.06,0.893,28928859,0,Linker\n",
    "2014/10/21 08:31:55,2:59:52.84,-10:38:15.9,369938,90.0,g,34,23.69,0.872,28632960,0,Linker\n",
    "2015/11/30 06:04:45,3:10:10.86,-10:15:08.3,497815,90.0,i,12,22.29,-99,-2,0,SE_catalog\n",
    "2015/11/1 07:42:56,3:13:43.23,-10:03:27.2,488903,90.0,z,41,4113.83,-99,-3,0,SE_catalog\n",
    "2015/01/26 01:42:22.47,2:51:55.76,-10:25:00.4,403015,90.0,z,35,21.74,-99,-4,0,SE_catalog\n",
    "2015/12/17 04:35:15,3:08:22.75,-10:13:11.3,502705,90.0,r,11,22.82,0.861,31619604,0,Linker\n",
    "2015/12/17 04:37:16,3:08:22.73,-10:13:11.4,502706,90.0,g,11,23.72,0.87,31653054,0,Linker"
   ]
  },
  {
   "cell_type": "markdown",
   "metadata": {},
   "source": [
    "# Y1 was 8/1/13-2/20/14\n",
    "# Y2 was 8/1/14-2/20/15\n",
    "# Y3 was 8/1/15-2/20/16"
   ]
  },
  {
   "cell_type": "code",
   "execution_count": 68,
   "metadata": {
    "collapsed": false
   },
   "outputs": [
    {
     "name": "stdout",
     "output_type": "stream",
     "text": [
      "2\n",
      "2\n",
      "2\n",
      "2\n",
      "2\n",
      "2\n"
     ]
    }
   ],
   "source": [
    "#Straight testing.  Disregard this cell\n",
    "\n",
    "\n",
    "string = \"201412341234\"\n",
    "#print string[:4]\n",
    "csv = 'good_2.csv'\n",
    "indivCan=pd.read_csv('/Users/lynuszullo/pyOrbfit/'+csv)\n",
    "indivCan\n",
    "indivCan['fakeid']\n",
    "\n",
    "for i in indivCan['date']:\n",
    "    \n",
    "    #today = date.today()\n",
    "    #today\n",
    "    date = i\n",
    "    splitdate = date.split('/')\n",
    "    year = splitdate[0]\n",
    "    month = splitdate[1]\n",
    "    daytime = splitdate[2].split()\n",
    "    day = daytime[0]\n",
    "    \n",
    "    dateCan = datetime.date(int(year),int(month),int(day))\n",
    "    \n",
    "    y1start = datetime.date(2013, 8, 1)\n",
    "    y1end = datetime.date(2014, 2, 20)\n",
    "    \n",
    "    y2start = datetime.date(2014, 8, 1)\n",
    "    y2end = datetime.date(2015, 2, 20)\n",
    "    \n",
    "    y3start = datetime.date(2014, 8, 1)\n",
    "    y3end = datetime.date(2015, 2, 20)\n",
    "    \n",
    "    if y1start < dateCan < y1end:\n",
    "        yr = 1\n",
    "        print yr\n",
    "    elif y2start < dateCan < y2end:\n",
    "        yr = 2\n",
    "        print yr\n",
    "    elif y3start < dateCan < y3end:\n",
    "        yr = 3\n",
    "        print yr"
   ]
  },
  {
   "cell_type": "code",
   "execution_count": 90,
   "metadata": {
    "collapsed": true
   },
   "outputs": [],
   "source": [
    "#Able to add a candidate just given csv file and season.  Find a way to find the season cause I'm just guessing right now.\n",
    "\n",
    "def addIndivCan(csv ,szn):\n",
    "    ncan=pd.read_csv('/Users/lynuszullo/pyOrbfit/'+csv)\n",
    "    \n",
    "    #nm = csv.split('.')\n",
    "    #nm = nm[0]\n",
    "    #print nm\n",
    "    nm = 'TEST GOOD_2'\n",
    "    \n",
    "    y1start = datetime.date(2013, 8, 1)\n",
    "    y1end = datetime.date(2014, 2, 20)\n",
    "    \n",
    "    y2start = datetime.date(2014, 8, 1)\n",
    "    y2end = datetime.date(2015, 2, 20)\n",
    "    \n",
    "    y3start = datetime.date(2014, 8, 1)\n",
    "    y3end = datetime.date(2015, 2, 20)\n",
    "    \n",
    "    \n",
    "    fakeidstr = str(indivCan['fakeid'])\n",
    "    \n",
    "    if fakeidstr == '0':\n",
    "        for i in ncan['date']:\n",
    "    \n",
    "            date = i\n",
    "            splitdate = date.split('/')\n",
    "            year = splitdate[0]\n",
    "            month = splitdate[1]\n",
    "            daytime = splitdate[2].split()\n",
    "            day = daytime[0]\n",
    "    \n",
    "            dateCan = datetime.date(int(year),int(month),int(day))\n",
    "    \n",
    "            if y1start < dateCan < y1end:\n",
    "                yr = 1\n",
    "                #print yr\n",
    "            elif y2start < dateCan < y2end:\n",
    "                yr = 2\n",
    "                #print yr\n",
    "            elif y3start < dateCan < y3end:\n",
    "                yr = 3\n",
    "                #print yr\n",
    "             \n",
    "            canid=\"S\"+str(szn)+\"Y\"+str(yr)+\"FO_\"+nm\n",
    "            print canid\n",
    "            \n",
    "    else:\n",
    "        \n",
    "        for i in ncan['date']:\n",
    "    \n",
    "            date = i\n",
    "            splitdate = date.split('/')\n",
    "            year = splitdate[0]\n",
    "            month = splitdate[1]\n",
    "            daytime = splitdate[2].split()\n",
    "            day = daytime[0]\n",
    "    \n",
    "            dateCan = datetime.date(int(year),int(month),int(day))\n",
    "    \n",
    "            if y1start < dateCan < y1end:\n",
    "                yr = 1\n",
    "                #print yr\n",
    "            elif y2start < dateCan < y2end:\n",
    "                yr = 2\n",
    "                #print yr\n",
    "            elif y3start < dateCan < y3end:\n",
    "                yr = 3\n",
    "                #print yr\n",
    "        \n",
    "            canid=\"S\"+str(szn)+\"Y\"+str(yr)+\"NF_\"+nm\n",
    "        \n",
    "        \n",
    "    candcmd=\"INSERT INTO scheibne.CANDLIST (CANID) \\\n",
    "    VALUES ('\"+canid+\"')\"\n",
    "    linkcmds=[]\n",
    "    \n",
    "    for i in ncan.index:\n",
    "        linkcmds+=[\"INSERT INTO scheibne.linker (CANID, OBJID) \\\n",
    "        VALUES ('\"+canid+\"', \"+str(ncan['objid'][i])+\")\"]\n",
    "    objcmds=[]\n",
    "    for i in ncan.index:\n",
    "        dob=\"'\"+ncan['date'][i]+\"'\"\n",
    "        ra=\"'\"+ncan['ra'][i]+\"'\"\n",
    "        dec=\"'\"+ncan['dec'][i]+\"'\"\n",
    "        expnum=str(ncan['expnum'][i])\n",
    "        exptime=str(ncan['exptime'][i])\n",
    "        band=\"'\"+ncan['band'][i]+\"'\"\n",
    "        ccd=str(ncan['ccd'][i])\n",
    "        mag=str(ncan['mag'][i])\n",
    "        ml_score=str(ncan['ml_score'][i])\n",
    "        objid=str(ncan['objid'][i])\n",
    "        \n",
    "        if ncan['fakeid'][i]>=0:\n",
    "            fakeid=str(ncan['fakeid'][i])\n",
    "        else:\n",
    "            fakeid=str(-99)\n",
    "        objcmds+=[\"INSERT INTO scheibne.objects (DATE_OBS, RA, DEC, EXPNUM, EXPTIME, BAND, CCD, MAG , ML_SCORE, OBJID, FAKEID) \\\n",
    "        VALUES (\"+dob+\",\"+ra+\",\"+dec+\",\"+expnum+\",\"+exptime+\",\"+band+\",\"+ccd+\",\"+mag+\",\"+ml_score+\",\"+objid+\",\"+fakeid+\")\"]\n",
    "    statcmd=\"INSERT INTO scheibne.status (CANID, STATUS, FLAG, MPC) \\\n",
    "         VALUES ('\"+canid+\"', 'Uninspected','No', 'Unreported')\"\n",
    "    cursor.execute(candcmd)\n",
    "    \n",
    "    for l in linkcmds:\n",
    "        try:\n",
    "            cursor.execute(l)\n",
    "        except:\n",
    "            print l\n",
    "    for o in objcmds:\n",
    "        try:\n",
    "            cursor.execute(o)\n",
    "        except:\n",
    "            print o\n",
    "    cursor.execute(statcmd)\n",
    "    \n",
    "    "
   ]
  },
  {
   "cell_type": "code",
   "execution_count": 91,
   "metadata": {
    "collapsed": false
   },
   "outputs": [],
   "source": [
    "#Second argument is the season\n",
    "addIndivCan('good_2.csv', 3)"
   ]
  },
  {
   "cell_type": "code",
   "execution_count": 86,
   "metadata": {
    "collapsed": true
   },
   "outputs": [],
   "source": [
    "#Adding candidates to database.  Only works with csv file groupings from the server\n",
    "\n",
    "def addCan(szn,cat,yr,nm):\n",
    "    ncan=pd.read_csv('/Volumes/lsa-gerdes/wsdiff_catalogs/season'+str(szn)+'/'+cat+'/cands_Y'+str(yr)+'/'+nm+'.csv')\n",
    "    if cat=='fakesonly':\n",
    "        canid=\"S\"+str(szn)+\"Y\"+str(yr)+\"FO_\"+nm\n",
    "    else:\n",
    "        canid=\"S\"+str(szn)+\"Y\"+str(yr)+\"NF_\"+nm\n",
    "    candcmd=\"INSERT INTO scheibne.CANDLIST (CANID) \\\n",
    "    VALUES ('\"+canid+\"')\"\n",
    "    linkcmds=[]\n",
    "    print canid\n",
    "    for i in ncan.index:\n",
    "        linkcmds+=[\"INSERT INTO scheibne.linker (CANID, OBJID) \\\n",
    "        VALUES ('\"+canid+\"', \"+str(ncan['objid'][i])+\")\"]\n",
    "    objcmds=[]\n",
    "    for i in ncan.index:\n",
    "        dob=\"'\"+ncan['date'][i]+\"'\"\n",
    "        ra=\"'\"+ncan['ra'][i]+\"'\"\n",
    "        dec=\"'\"+ncan['dec'][i]+\"'\"\n",
    "        expnum=str(ncan['expnum'][i])\n",
    "        exptime=str(ncan['exptime'][i])\n",
    "        band=\"'\"+ncan['band'][i]+\"'\"\n",
    "        ccd=str(ncan['ccd'][i])\n",
    "        mag=str(ncan['mag'][i])\n",
    "        ml_score=str(ncan['ml_score'][i])\n",
    "        objid=str(ncan['objid'][i])\n",
    "        if ncan['fakeid'][i]>=0:\n",
    "            fakeid=str(ncan['fakeid'][i])\n",
    "        else:\n",
    "            fakeid=str(-99)\n",
    "        objcmds+=[\"INSERT INTO scheibne.objects (DATE_OBS, RA, DEC, EXPNUM, EXPTIME, BAND, CCD, MAG , ML_SCORE, OBJID, FAKEID) \\\n",
    "        VALUES (\"+dob+\",\"+ra+\",\"+dec+\",\"+expnum+\",\"+exptime+\",\"+band+\",\"+ccd+\",\"+mag+\",\"+ml_score+\",\"+objid+\",\"+fakeid+\")\"]\n",
    "    statcmd=\"INSERT INTO scheibne.status (CANID, STATUS, FLAG, MPC) \\\n",
    "         VALUES ('\"+canid+\"', 'Uninspected','No', 'Unreported')\"\n",
    "    cursor.execute(candcmd)\n",
    "    for l in linkcmds:\n",
    "        try:\n",
    "            cursor.execute(l)\n",
    "        except:\n",
    "            print l\n",
    "    for o in objcmds:\n",
    "        try:\n",
    "            cursor.execute(o)\n",
    "        except:\n",
    "            print o\n",
    "    cursor.execute(statcmd)"
   ]
  },
  {
   "cell_type": "code",
   "execution_count": 87,
   "metadata": {
    "collapsed": false
   },
   "outputs": [
    {
     "name": "stdout",
     "output_type": "stream",
     "text": [
      "S1Y1NF_good_371\n"
     ]
    }
   ],
   "source": [
    "addCan(1,'nofakes',1,'good_371')\n"
   ]
  },
  {
   "cell_type": "markdown",
   "metadata": {},
   "source": []
  },
  {
   "cell_type": "code",
   "execution_count": 38,
   "metadata": {
    "collapsed": true
   },
   "outputs": [],
   "source": [
    "statcmd=\"INSERT INTO scheibne.status (CANID, STATUS, FLAG, MPC) \\\n",
    " VALUES ('S12Y3_good_28', 'Uninspected','No', 'Unreported')\""
   ]
  },
  {
   "cell_type": "code",
   "execution_count": 39,
   "metadata": {
    "collapsed": true
   },
   "outputs": [],
   "source": [
    "cursor.execute(statcmd)"
   ]
  },
  {
   "cell_type": "code",
   "execution_count": 45,
   "metadata": {
    "collapsed": true
   },
   "outputs": [],
   "source": [
    "def bigAdd(szn,yr,cat):\n",
    "    os.chdir('/Volumes/lsa-gerdes/wsdiff_catalogs/season'+str(szn)+'/'+cat+'/cands_Y'+str(yr))\n",
    "        \n",
    "    csv_list=glob.glob('*.csv')\n",
    "    for c in csv_list:\n",
    "        print c\n",
    "        addCan(szn,cat,yr,c[:-4])"
   ]
  },
  {
   "cell_type": "code",
   "execution_count": 46,
   "metadata": {
    "collapsed": false
   },
   "outputs": [
    {
     "name": "stdout",
     "output_type": "stream",
     "text": [
      "good_295.csv\n",
      "good_75.csv\n",
      "good_229.csv\n",
      "good_4.csv\n",
      "good_91.csv\n",
      "good_25.csv\n",
      "good_236.csv\n",
      "good_205.csv\n",
      "good_283.csv\n",
      "good_365.csv\n",
      "good_23.csv\n",
      "good_68.csv\n",
      "good_105.csv\n",
      "good_118.csv\n",
      "good_321.csv\n",
      "good_215.csv\n",
      "good_158.csv\n",
      "good_55.csv\n",
      "good_333.csv\n",
      "good_360.csv\n",
      "good_221.csv\n",
      "good_161.csv\n",
      "good_350.csv\n",
      "good_345.csv\n",
      "good_149.csv\n",
      "good_261.csv\n",
      "good_314.csv\n",
      "good_238.csv\n",
      "good_266.csv\n",
      "good_262.csv\n",
      "good_254.csv\n",
      "good_276.csv\n",
      "good_3.csv\n",
      "good_247.csv\n",
      "good_217.csv\n",
      "good_145.csv\n",
      "good_138.csv\n",
      "good_148.csv\n",
      "good_371.csv\n",
      "good_195.csv\n",
      "good_361.csv\n",
      "good_231.csv\n",
      "good_297.csv\n",
      "good_346.csv\n",
      "good_36.csv\n",
      "good_335.csv\n",
      "good_51.csv\n",
      "good_368.csv\n",
      "good_114.csv\n",
      "good_104.csv\n",
      "good_18.csv\n",
      "good_362.csv\n",
      "good_131.csv\n",
      "good_94.csv\n",
      "good_120.csv\n",
      "good_178.csv\n",
      "good_42.csv\n",
      "good_239.csv\n",
      "good_93.csv\n",
      "good_34.csv\n",
      "good_64.csv\n",
      "good_294.csv\n",
      "good_312.csv\n",
      "good_143.csv\n",
      "good_130.csv\n",
      "good_123.csv\n",
      "good_358.csv\n",
      "good_271.csv\n",
      "good_234.csv\n",
      "good_260.csv\n",
      "good_339.csv\n",
      "good_73.csv\n",
      "good_109.csv\n",
      "good_58.csv\n",
      "good_227.csv\n",
      "good_265.csv\n",
      "good_204.csv\n",
      "good_244.csv\n",
      "good_316.csv\n",
      "good_183.csv\n",
      "good_59.csv\n",
      "good_136.csv\n",
      "good_273.csv\n",
      "good_278.csv\n",
      "good_263.csv\n",
      "good_30.csv\n",
      "good_340.csv\n",
      "good_352.csv\n",
      "good_150.csv\n",
      "good_95.csv\n",
      "good_8.csv\n",
      "good_102.csv\n",
      "good_320.csv\n",
      "good_176.csv\n",
      "good_155.csv\n",
      "good_157.csv\n",
      "good_269.csv\n",
      "good_187.csv\n",
      "good_117.csv\n",
      "good_159.csv\n",
      "good_310.csv\n",
      "good_326.csv\n",
      "good_80.csv\n",
      "good_70.csv\n",
      "good_188.csv\n",
      "good_336.csv\n",
      "good_369.csv\n",
      "good_11.csv\n",
      "good_225.csv\n",
      "good_282.csv\n",
      "good_122.csv\n",
      "good_324.csv\n",
      "good_296.csv\n",
      "good_128.csv\n",
      "good_169.csv\n",
      "good_60.csv\n",
      "good_50.csv\n",
      "good_88.csv\n",
      "good_10.csv\n",
      "good_33.csv\n",
      "good_235.csv\n",
      "good_200.csv\n",
      "good_174.csv\n",
      "good_14.csv\n",
      "good_325.csv\n",
      "good_279.csv\n",
      "good_220.csv\n",
      "good_318.csv\n",
      "good_160.csv\n",
      "good_31.csv\n",
      "good_222.csv\n",
      "good_111.csv\n",
      "good_268.csv\n",
      "good_22.csv\n",
      "good_286.csv\n",
      "good_337.csv\n",
      "good_232.csv\n",
      "good_267.csv\n",
      "good_167.csv\n",
      "good_81.csv\n",
      "good_156.csv\n",
      "good_303.csv\n",
      "good_49.csv\n",
      "good_39.csv\n",
      "good_208.csv\n",
      "good_330.csv\n",
      "good_134.csv\n",
      "good_198.csv\n",
      "good_191.csv\n",
      "good_166.csv\n",
      "good_90.csv\n",
      "good_210.csv\n",
      "good_256.csv\n",
      "good_6.csv\n",
      "good_125.csv\n",
      "good_212.csv\n",
      "good_37.csv\n",
      "good_203.csv\n",
      "good_20.csv\n",
      "good_129.csv\n",
      "good_45.csv\n",
      "good_13.csv\n",
      "good_359.csv\n",
      "good_366.csv\n",
      "good_15.csv\n",
      "good_190.csv\n",
      "good_48.csv\n",
      "good_154.csv\n",
      "good_141.csv\n",
      "good_133.csv\n",
      "good_258.csv\n",
      "good_248.csv\n",
      "good_214.csv\n",
      "good_338.csv\n",
      "good_87.csv\n",
      "good_65.csv\n",
      "good_213.csv\n",
      "good_251.csv\n",
      "good_289.csv\n",
      "good_288.csv\n",
      "good_151.csv\n",
      "good_97.csv\n",
      "good_313.csv\n",
      "good_98.csv\n",
      "good_144.csv\n",
      "good_185.csv\n",
      "good_7.csv\n",
      "good_367.csv\n",
      "good_275.csv\n",
      "good_223.csv\n",
      "good_163.csv\n",
      "good_298.csv\n",
      "good_79.csv\n",
      "good_259.csv\n",
      "good_175.csv\n",
      "good_40.csv\n",
      "good_311.csv\n",
      "good_16.csv\n",
      "good_300.csv\n",
      "good_281.csv\n",
      "good_67.csv\n",
      "good_304.csv\n",
      "good_19.csv\n",
      "good_272.csv\n",
      "good_184.csv\n",
      "good_351.csv\n",
      "good_242.csv\n",
      "good_41.csv\n",
      "good_290.csv\n",
      "good_1.csv\n",
      "good_83.csv\n",
      "good_2.csv\n",
      "good_323.csv\n",
      "good_54.csv\n",
      "good_230.csv\n",
      "good_107.csv\n",
      "good_61.csv\n",
      "good_317.csv\n",
      "good_328.csv\n",
      "good_331.csv\n",
      "good_24.csv\n",
      "good_353.csv\n",
      "good_152.csv\n",
      "good_309.csv\n",
      "good_153.csv\n",
      "good_332.csv\n",
      "good_52.csv\n",
      "good_228.csv\n",
      "good_315.csv\n",
      "good_140.csv\n",
      "good_103.csv\n",
      "good_57.csv\n",
      "good_245.csv\n",
      "good_108.csv\n",
      "good_26.csv\n",
      "good_196.csv\n",
      "good_347.csv\n",
      "good_53.csv\n",
      "good_240.csv\n",
      "good_307.csv\n",
      "good_202.csv\n",
      "good_302.csv\n",
      "good_193.csv\n",
      "good_357.csv\n",
      "good_192.csv\n",
      "good_322.csv\n",
      "good_344.csv\n",
      "good_46.csv\n",
      "good_9.csv\n",
      "good_287.csv\n",
      "good_199.csv\n",
      "good_233.csv\n",
      "good_186.csv\n",
      "good_47.csv\n",
      "good_119.csv\n",
      "good_124.csv\n",
      "good_77.csv\n",
      "good_82.csv\n",
      "good_101.csv\n",
      "good_43.csv\n",
      "good_342.csv\n",
      "good_241.csv\n",
      "good_354.csv\n",
      "good_96.csv\n",
      "good_84.csv\n",
      "good_306.csv\n",
      "good_69.csv\n",
      "good_32.csv\n",
      "good_78.csv\n",
      "good_284.csv\n",
      "good_364.csv\n",
      "good_301.csv\n",
      "good_277.csv\n",
      "good_355.csv\n",
      "good_370.csv\n",
      "good_44.csv\n",
      "good_165.csv\n",
      "good_168.csv\n",
      "good_147.csv\n",
      "good_115.csv\n",
      "good_250.csv\n",
      "good_110.csv\n",
      "good_137.csv\n",
      "good_71.csv\n",
      "good_177.csv\n",
      "good_218.csv\n",
      "good_264.csv\n",
      "good_100.csv\n",
      "good_292.csv\n",
      "good_72.csv\n",
      "good_28.csv\n",
      "good_341.csv\n",
      "good_224.csv\n",
      "good_172.csv\n",
      "good_116.csv\n",
      "good_126.csv\n",
      "good_12.csv\n",
      "good_121.csv\n",
      "good_106.csv\n",
      "good_56.csv\n",
      "good_173.csv\n",
      "good_142.csv\n",
      "good_170.csv\n",
      "good_89.csv\n",
      "good_329.csv\n",
      "good_285.csv\n",
      "good_274.csv\n",
      "good_291.csv\n",
      "good_5.csv\n",
      "good_0.csv\n",
      "good_99.csv\n",
      "good_146.csv\n",
      "good_319.csv\n",
      "good_74.csv\n",
      "good_219.csv\n",
      "good_257.csv\n",
      "good_17.csv\n",
      "good_305.csv\n",
      "good_243.csv\n",
      "good_211.csv\n",
      "good_253.csv\n",
      "good_86.csv\n",
      "good_249.csv\n",
      "good_76.csv\n",
      "good_164.csv\n",
      "good_348.csv\n",
      "good_66.csv\n",
      "good_246.csv\n",
      "good_201.csv\n",
      "good_206.csv\n",
      "good_35.csv\n",
      "good_209.csv\n",
      "good_92.csv\n",
      "good_162.csv\n",
      "good_237.csv\n",
      "good_181.csv\n",
      "good_113.csv\n",
      "good_194.csv\n",
      "good_299.csv\n",
      "good_29.csv\n",
      "good_189.csv\n",
      "good_343.csv\n",
      "good_293.csv\n",
      "good_349.csv\n",
      "good_270.csv\n",
      "good_182.csv\n",
      "good_327.csv\n",
      "good_85.csv\n",
      "good_127.csv\n",
      "good_132.csv\n",
      "good_179.csv\n",
      "good_62.csv\n",
      "good_280.csv\n",
      "good_207.csv\n",
      "good_356.csv\n",
      "good_334.csv\n",
      "good_216.csv\n",
      "good_63.csv\n",
      "good_21.csv\n",
      "good_139.csv\n",
      "good_38.csv\n",
      "good_308.csv\n",
      "good_255.csv\n",
      "good_171.csv\n",
      "good_135.csv\n",
      "good_197.csv\n",
      "good_226.csv\n",
      "good_112.csv\n",
      "good_27.csv\n",
      "good_363.csv\n",
      "good_180.csv\n",
      "good_252.csv\n"
     ]
    }
   ],
   "source": [
    "bigAdd(1,1,'nofakes')"
   ]
  },
  {
   "cell_type": "code",
   "execution_count": 65,
   "metadata": {
    "collapsed": true
   },
   "outputs": [],
   "source": [
    "ooplist=[4,13,45,20,37,6,39,22,31,14,33,10,11,8,30,34,42,18,36,3,23,25,27,29,28]"
   ]
  },
  {
   "cell_type": "code",
   "execution_count": 90,
   "metadata": {
    "collapsed": true
   },
   "outputs": [],
   "source": [
    "for p in range(0,50):\n",
    "    cmd=\"delete from status where canid='S10Y2NF_good_\"+str(p)+\"'\"\n",
    "    cursor.execute(cmd)"
   ]
  },
  {
   "cell_type": "code",
   "execution_count": 91,
   "metadata": {
    "collapsed": false
   },
   "outputs": [
    {
     "data": {
      "text/plain": [
       "True"
      ]
     },
     "execution_count": 91,
     "metadata": {},
     "output_type": "execute_result"
    }
   ],
   "source": []
  },
  {
   "cell_type": "code",
   "execution_count": 8,
   "metadata": {
    "collapsed": false
   },
   "outputs": [],
   "source": [
    "namelist=[]\n",
    "os.chdir('/Volumes/lsa-gerdes/wsdiff_catalogs/season1/nofakes/cands_Y1')\n",
    "csv_list=glob.glob('*.csv')\n",
    "for c in csv_list:\n",
    "    namelist+=['S1Y1NF_'+c[:-4]]"
   ]
  },
  {
   "cell_type": "code",
   "execution_count": 92,
   "metadata": {
    "collapsed": false
   },
   "outputs": [],
   "source": [
    "#print namelist"
   ]
  },
  {
   "cell_type": "code",
   "execution_count": null,
   "metadata": {
    "collapsed": true
   },
   "outputs": [],
   "source": []
  }
 ],
 "metadata": {
  "anaconda-cloud": {},
  "kernelspec": {
   "display_name": "Python [Root]",
   "language": "python",
   "name": "Python [Root]"
  },
  "language_info": {
   "codemirror_mode": {
    "name": "ipython",
    "version": 2
   },
   "file_extension": ".py",
   "mimetype": "text/x-python",
   "name": "python",
   "nbconvert_exporter": "python",
   "pygments_lexer": "ipython2",
   "version": "2.7.11"
  }
 },
 "nbformat": 4,
 "nbformat_minor": 0
}
