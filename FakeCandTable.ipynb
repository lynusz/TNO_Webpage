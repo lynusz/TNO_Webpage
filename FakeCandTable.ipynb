{
 "cells": [
  {
   "cell_type": "code",
   "execution_count": 21,
   "metadata": {
    "collapsed": true
   },
   "outputs": [],
   "source": [
    "import easyaccess as ea\n",
    "import pandas as pd\n",
    "import numpy as np"
   ]
  },
  {
   "cell_type": "code",
   "execution_count": 22,
   "metadata": {
    "collapsed": false
   },
   "outputs": [
    {
     "name": "stdout",
     "output_type": "stream",
     "text": [
      "Connecting to DB ** desoper ** ...\n"
     ]
    }
   ],
   "source": [
    "db = ea.connect(section = 'desoper')"
   ]
  },
  {
   "cell_type": "code",
   "execution_count": 23,
   "metadata": {
    "collapsed": false
   },
   "outputs": [
    {
     "name": "stdout",
     "output_type": "stream",
     "text": [
      "Empty DataFrame\n",
      "Columns: [DATE_OBS, RA, DEC, EXPNUM, BAND, CCD, MAG, ML_SCORE, OBJID]\n",
      "Index: []\n"
     ]
    }
   ],
   "source": [
    "query = \"select distinct DATE_OBS, RA, DEC, EXPNUM, BAND, CCD, MAG, ML_SCORE, objects.objid from scheibne.OBJECTS inner join scheibne.linker on \\\n",
    "... objects.objid=linker.objid where linker.canid= 'Mysterious Centaur' ORDER BY OBJID\"\n",
    "result = db.query_to_pandas(query)\n",
    "print result"
   ]
  },
  {
   "cell_type": "code",
   "execution_count": 17,
   "metadata": {
    "collapsed": false
   },
   "outputs": [
    {
     "ename": "AttributeError",
     "evalue": "'NoneType' object has no attribute 'description'",
     "output_type": "error",
     "traceback": [
      "\u001b[0;31m---------------------------------------------------------------------------\u001b[0m",
      "\u001b[0;31mAttributeError\u001b[0m                            Traceback (most recent call last)",
      "\u001b[0;32m<ipython-input-17-bc11cda3cedb>\u001b[0m in \u001b[0;36m<module>\u001b[0;34m()\u001b[0m\n\u001b[1;32m      1\u001b[0m \u001b[0mquery\u001b[0m \u001b[0;34m=\u001b[0m \u001b[0;34m\"DELETE FROM scheibne.objects WHERE objid='28632960' or objid='28813385' or objid='28869833' or objid = '28928859' or objid = '29041484' or objid = '29471684' or objid = '31619604'\"\u001b[0m\u001b[0;34m\u001b[0m\u001b[0m\n\u001b[0;32m----> 2\u001b[0;31m \u001b[0mresult\u001b[0m \u001b[0;34m=\u001b[0m \u001b[0mdb\u001b[0m\u001b[0;34m.\u001b[0m\u001b[0mquery_to_pandas\u001b[0m\u001b[0;34m(\u001b[0m\u001b[0mquery\u001b[0m\u001b[0;34m)\u001b[0m\u001b[0;34m\u001b[0m\u001b[0m\n\u001b[0m\u001b[1;32m      3\u001b[0m \u001b[0;32mprint\u001b[0m \u001b[0mresult\u001b[0m\u001b[0;34m\u001b[0m\u001b[0m\n",
      "\u001b[0;32m/Users/lynuszullo/anaconda/lib/python2.7/site-packages/easyaccess/easyaccess.pyc\u001b[0m in \u001b[0;36mquery_to_pandas\u001b[0;34m(self, query, prefetch, iterator)\u001b[0m\n\u001b[1;32m   2472\u001b[0m         \u001b[0;32mif\u001b[0m \u001b[0mfuns\u001b[0m \u001b[0;32mis\u001b[0m \u001b[0mNone\u001b[0m \u001b[0;34m:\u001b[0m \u001b[0mextra_func\u001b[0m \u001b[0;34m=\u001b[0m \u001b[0mNone\u001b[0m\u001b[0;34m\u001b[0m\u001b[0m\n\u001b[1;32m   2473\u001b[0m         \u001b[0mtemp\u001b[0m \u001b[0;34m=\u001b[0m \u001b[0mcursor\u001b[0m\u001b[0;34m.\u001b[0m\u001b[0mexecute\u001b[0m\u001b[0;34m(\u001b[0m\u001b[0mquery\u001b[0m\u001b[0;34m)\u001b[0m\u001b[0;34m\u001b[0m\u001b[0m\n\u001b[0;32m-> 2474\u001b[0;31m         \u001b[0;32mif\u001b[0m \u001b[0mtemp\u001b[0m\u001b[0;34m.\u001b[0m\u001b[0mdescription\u001b[0m \u001b[0;34m!=\u001b[0m \u001b[0mNone\u001b[0m\u001b[0;34m:\u001b[0m\u001b[0;34m\u001b[0m\u001b[0m\n\u001b[0m\u001b[1;32m   2475\u001b[0m             \u001b[0;32mif\u001b[0m \u001b[0miterator\u001b[0m\u001b[0;34m:\u001b[0m\u001b[0;34m\u001b[0m\u001b[0m\n\u001b[1;32m   2476\u001b[0m                 \u001b[0mdata\u001b[0m \u001b[0;34m=\u001b[0m \u001b[0mIterData\u001b[0m\u001b[0;34m(\u001b[0m\u001b[0mtemp\u001b[0m\u001b[0;34m,\u001b[0m \u001b[0mextra_func\u001b[0m\u001b[0;34m)\u001b[0m\u001b[0;34m\u001b[0m\u001b[0m\n",
      "\u001b[0;31mAttributeError\u001b[0m: 'NoneType' object has no attribute 'description'"
     ]
    }
   ],
   "source": [
    "query = \"DELETE FROM scheibne.objects WHERE objid='28632960' or objid='28813385' or objid='28869833' or objid = '28928859' or objid = '29041484' or objid = '29471684' or objid = '31619604'\"\n",
    "result = db.query_to_pandas(query)\n",
    "print result\n"
   ]
  },
  {
   "cell_type": "code",
   "execution_count": 6,
   "metadata": {
    "collapsed": false
   },
   "outputs": [
    {
     "name": "stdout",
     "output_type": "stream",
     "text": [
      "                  CANID       STATUS FLAG         MPC\n",
      "0        S11Y2NF_good_3  Uninspected   No  Unreported\n",
      "1        S11Y2NF_good_1  Uninspected   No  Unreported\n",
      "2        S11Y2NF_good_2  Uninspected   No  Unreported\n",
      "3        S11Y2NF_good_0  Uninspected   No  Unreported\n",
      "4        S11Y3NF_good_4  Uninspected   No  Unreported\n",
      "5        S11Y3NF_good_3  Uninspected   No  Unreported\n",
      "6        S11Y3NF_good_1  Uninspected   No  Unreported\n",
      "7        S11Y3NF_good_2  Uninspected   No  Unreported\n",
      "8        S11Y3NF_good_0  Uninspected   No  Unreported\n",
      "9        S12Y2NF_good_4  Uninspected   No  Unreported\n",
      "10       S12Y2NF_good_3  Uninspected   No  Unreported\n",
      "11       S12Y2NF_good_8  Uninspected   No  Unreported\n",
      "12       S12Y2NF_good_6  Uninspected   No  Unreported\n",
      "13       S12Y2NF_good_7  Uninspected   No  Unreported\n",
      "14       S12Y2NF_good_1  Uninspected   No  Unreported\n",
      "15       S12Y2NF_good_2  Uninspected   No  Unreported\n",
      "16       S12Y2NF_good_5  Uninspected   No  Unreported\n",
      "17       S12Y2NF_good_0  Uninspected   No  Unreported\n",
      "18       S12Y3NF_good_0  Uninspected   No  Unreported\n",
      "19       S13Y2NF_good_4  Uninspected   No  Unreported\n",
      "20       S13Y2NF_good_3  Uninspected   No  Unreported\n",
      "21       S13Y2NF_good_8  Uninspected   No  Unreported\n",
      "22       S13Y2NF_good_6  Uninspected   No  Unreported\n",
      "23       S13Y2NF_good_7  Uninspected   No  Unreported\n",
      "24       S13Y2NF_good_1  Uninspected   No  Unreported\n",
      "25       S13Y2NF_good_2  Uninspected   No  Unreported\n",
      "26       S13Y2NF_good_9  Uninspected   No  Unreported\n",
      "27       S13Y2NF_good_5  Uninspected   No  Unreported\n",
      "28       S13Y2NF_good_0  Uninspected   No  Unreported\n",
      "29       S13Y3NF_good_1  Uninspected   No  Unreported\n",
      "30       S13Y3NF_good_2  Uninspected   No  Unreported\n",
      "31       S13Y3NF_good_0  Uninspected   No  Unreported\n",
      "32       S14Y2NF_good_0  Uninspected   No  Unreported\n",
      "33       S14Y3NF_good_1  Uninspected   No  Unreported\n",
      "34       S14Y3NF_good_2  Uninspected   No  Unreported\n",
      "35       S14Y3NF_good_0  Uninspected   No  Unreported\n",
      "36       S15Y2NF_good_0  Uninspected   No  Unreported\n",
      "37       S16Y2NF_good_0  Uninspected   No  Unreported\n",
      "38       S17Y2NF_good_4  Uninspected   No  Unreported\n",
      "39       S17Y2NF_good_3  Uninspected   No  Unreported\n",
      "40       S17Y2NF_good_1  Uninspected   No  Unreported\n",
      "41       S17Y2NF_good_2  Uninspected   No  Unreported\n",
      "42       S17Y2NF_good_5  Uninspected   No  Unreported\n",
      "43       S17Y2NF_good_0  Uninspected   No  Unreported\n",
      "44       S17Y3NF_good_1  Uninspected   No  Unreported\n",
      "45       S17Y3NF_good_0  Uninspected   No  Unreported\n",
      "46      S118Y3NF_good_4  Uninspected   No  Unreported\n",
      "47      S118Y3NF_good_3  Uninspected   No  Unreported\n",
      "48      S118Y3NF_good_8  Uninspected   No  Unreported\n",
      "49      S118Y3NF_good_6  Uninspected   No  Unreported\n",
      "50      S118Y3NF_good_7  Uninspected   No  Unreported\n",
      "51      S118Y3NF_good_1  Uninspected   No  Unreported\n",
      "52      S118Y3NF_good_2  Uninspected   No  Unreported\n",
      "53      S118Y3NF_good_9  Uninspected   No  Unreported\n",
      "54      S118Y3NF_good_5  Uninspected   No  Unreported\n",
      "55      S118Y3NF_good_0  Uninspected   No  Unreported\n",
      "56      S119Y2NF_good_1  Uninspected   No  Unreported\n",
      "57      S119Y2NF_good_2  Uninspected   No  Unreported\n",
      "58      S119Y2NF_good_0  Uninspected   No  Unreported\n",
      "59      S119Y3NF_good_3  Uninspected   No  Unreported\n",
      "60      S119Y3NF_good_1  Uninspected   No  Unreported\n",
      "61      S119Y3NF_good_2  Uninspected   No  Unreported\n",
      "62      S119Y3NF_good_0  Uninspected   No  Unreported\n",
      "63   Mysterious Centaur  Uninspected   No  Unreported\n",
      "64              cand001     Accepted   No    Reported\n",
      "65              cand002     Rejected   No  Unreported\n",
      "66              cand003  Uninspected   No    Reported\n",
      "67    S12_Y3_FO_Good_28  Uninspected   No  Unreported\n",
      "68        S12Y3_good_29  Uninspected   No  Unreported\n",
      "69        S12Y3_good_27  Uninspected   No  Unreported\n",
      "70      S12Y3FO_good_26  Uninspected   No  Unreported\n",
      "71       S10Y2NF_good_4  Uninspected   No  Unreported\n",
      "72      S10Y2NF_good_25  Uninspected   No  Unreported\n",
      "73      S10Y2NF_good_23  Uninspected   No  Unreported\n",
      "74       S10Y2NF_good_3  Uninspected   No  Unreported\n",
      "75      S10Y2NF_good_36  Uninspected   No  Unreported\n",
      "76      S10Y2NF_good_18  Uninspected   No  Unreported\n",
      "77      S10Y2NF_good_42  Uninspected   No  Unreported\n",
      "78      S10Y2NF_good_34  Uninspected   No  Unreported\n",
      "79      S10Y2NF_good_30  Uninspected   No  Unreported\n",
      "80       S10Y2NF_good_8  Uninspected   No  Unreported\n",
      "81      S10Y2NF_good_11  Uninspected  Yes  Unreported\n",
      "82      S10Y2NF_good_10  Uninspected   No  Unreported\n",
      "83      S10Y2NF_good_33  Uninspected   No  Unreported\n",
      "84      S10Y2NF_good_14  Uninspected   No  Unreported\n",
      "85      S10Y2NF_good_31  Uninspected   No  Unreported\n",
      "86      S10Y2NF_good_22  Uninspected   No  Unreported\n",
      "87      S10Y2NF_good_39  Uninspected   No  Unreported\n",
      "88       S10Y2NF_good_6  Uninspected   No  Unreported\n",
      "89      S10Y2NF_good_37  Uninspected   No  Unreported\n",
      "90      S10Y2NF_good_20  Uninspected   No  Unreported\n",
      "91      S10Y2NF_good_45  Uninspected   No  Unreported\n",
      "92      S10Y2NF_good_13  Uninspected   No  Unreported\n",
      "93      S10Y2NF_good_15  Uninspected   No  Unreported\n",
      "94      S10Y2NF_good_48  Uninspected   No  Unreported\n",
      "95       S10Y2NF_good_7  Uninspected   No  Unreported\n",
      "96      S10Y2NF_good_40  Uninspected   No  Unreported\n",
      "97      S10Y2NF_good_16  Uninspected   No  Unreported\n",
      "98      S10Y2NF_good_19  Uninspected   No  Unreported\n",
      "99      S10Y2NF_good_41  Uninspected   No  Unreported\n",
      "100      S10Y2NF_good_1  Uninspected   No  Unreported\n",
      "101      S10Y2NF_good_2  Uninspected   No  Unreported\n",
      "102     S10Y2NF_good_24  Uninspected   No  Unreported\n",
      "103     S10Y2NF_good_26  Uninspected   No  Unreported\n",
      "104     S10Y2NF_good_46  Uninspected   No  Unreported\n",
      "105      S10Y2NF_good_9  Uninspected   No  Unreported\n",
      "106     S10Y2NF_good_47  Uninspected   No  Unreported\n",
      "107     S10Y2NF_good_43  Uninspected   No  Unreported\n",
      "108     S10Y2NF_good_32  Uninspected   No  Unreported\n",
      "109     S10Y2NF_good_44  Uninspected   No  Unreported\n",
      "110     S10Y2NF_good_28  Uninspected   No  Unreported\n",
      "111     S10Y2NF_good_12  Uninspected   No  Unreported\n",
      "112      S10Y2NF_good_5  Uninspected   No  Unreported\n",
      "113      S10Y2NF_good_0  Uninspected   No  Unreported\n",
      "114     S10Y2NF_good_17  Uninspected   No  Unreported\n",
      "115     S10Y2NF_good_35  Uninspected   No  Unreported\n",
      "116     S10Y2NF_good_29  Uninspected   No  Unreported\n",
      "117     S10Y2NF_good_21  Uninspected   No  Unreported\n",
      "118     S10Y2NF_good_38  Uninspected   No  Unreported\n",
      "119     S10Y2NF_good_27  Uninspected   No  Unreported\n"
     ]
    }
   ],
   "source": [
    "#Candidate Names\n",
    "query = \"select * FROM scheibne.status\"\n",
    "result = db.query_to_pandas(query)\n",
    "print result"
   ]
  },
  {
   "cell_type": "code",
   "execution_count": 47,
   "metadata": {
    "collapsed": false
   },
   "outputs": [
    {
     "data": {
      "text/html": [
       "<div>\n",
       "<table border=\"1\" class=\"dataframe\">\n",
       "  <thead>\n",
       "    <tr style=\"text-align: right;\">\n",
       "      <th></th>\n",
       "      <th>OBJID</th>\n",
       "      <th>PATH</th>\n",
       "      <th>REF</th>\n",
       "      <th>T_EFF</th>\n",
       "      <th>CCD</th>\n",
       "      <th>EXPNUM</th>\n",
       "      <th>DATE_OBS</th>\n",
       "    </tr>\n",
       "  </thead>\n",
       "  <tbody>\n",
       "    <tr>\n",
       "      <th>0</th>\n",
       "      <td>7088355</td>\n",
       "      <td>path/to/file</td>\n",
       "      <td>Yes</td>\n",
       "      <td>1.067</td>\n",
       "      <td>45</td>\n",
       "      <td>345654</td>\n",
       "      <td>2013/10/28 01:33:55</td>\n",
       "    </tr>\n",
       "  </tbody>\n",
       "</table>\n",
       "</div>"
      ],
      "text/plain": [
       "     OBJID          PATH  REF  T_EFF  CCD  EXPNUM             DATE_OBS\n",
       "0  7088355  path/to/file  Yes  1.067   45  345654  2013/10/28 01:33:55"
      ]
     },
     "execution_count": 47,
     "metadata": {},
     "output_type": "execute_result"
    }
   ],
   "source": [
    "query = \"select * FROM scheibne.images\"\n",
    "result = db.query_to_pandas(query)\n",
    "result.head()"
   ]
  },
  {
   "cell_type": "code",
   "execution_count": 48,
   "metadata": {
    "collapsed": false
   },
   "outputs": [
    {
     "data": {
      "text/html": [
       "<div>\n",
       "<table border=\"1\" class=\"dataframe\">\n",
       "  <thead>\n",
       "    <tr style=\"text-align: right;\">\n",
       "      <th></th>\n",
       "      <th>CANID</th>\n",
       "      <th>OBJID</th>\n",
       "    </tr>\n",
       "  </thead>\n",
       "  <tbody>\n",
       "    <tr>\n",
       "      <th>0</th>\n",
       "      <td>cand001</td>\n",
       "      <td>32025356</td>\n",
       "    </tr>\n",
       "    <tr>\n",
       "      <th>1</th>\n",
       "      <td>cand001</td>\n",
       "      <td>31674061</td>\n",
       "    </tr>\n",
       "    <tr>\n",
       "      <th>2</th>\n",
       "      <td>cand001</td>\n",
       "      <td>31373733</td>\n",
       "    </tr>\n",
       "    <tr>\n",
       "      <th>3</th>\n",
       "      <td>cand001</td>\n",
       "      <td>31336446</td>\n",
       "    </tr>\n",
       "    <tr>\n",
       "      <th>4</th>\n",
       "      <td>cand002</td>\n",
       "      <td>31655759</td>\n",
       "    </tr>\n",
       "  </tbody>\n",
       "</table>\n",
       "</div>"
      ],
      "text/plain": [
       "     CANID     OBJID\n",
       "0  cand001  32025356\n",
       "1  cand001  31674061\n",
       "2  cand001  31373733\n",
       "3  cand001  31336446\n",
       "4  cand002  31655759"
      ]
     },
     "execution_count": 48,
     "metadata": {},
     "output_type": "execute_result"
    }
   ],
   "source": [
    "query = \"select * FROM scheibne.linker\"\n",
    "result = db.query_to_pandas(query)\n",
    "result.head()"
   ]
  },
  {
   "cell_type": "code",
   "execution_count": 86,
   "metadata": {
    "collapsed": false
   },
   "outputs": [
    {
     "data": {
      "text/html": [
       "<div>\n",
       "<table border=\"1\" class=\"dataframe\">\n",
       "  <thead>\n",
       "    <tr style=\"text-align: right;\">\n",
       "      <th></th>\n",
       "      <th>CANID</th>\n",
       "      <th>OBJID</th>\n",
       "    </tr>\n",
       "  </thead>\n",
       "  <tbody>\n",
       "    <tr>\n",
       "      <th>0</th>\n",
       "      <td>cand001</td>\n",
       "      <td>32025356</td>\n",
       "    </tr>\n",
       "    <tr>\n",
       "      <th>1</th>\n",
       "      <td>cand001</td>\n",
       "      <td>31674061</td>\n",
       "    </tr>\n",
       "    <tr>\n",
       "      <th>2</th>\n",
       "      <td>cand001</td>\n",
       "      <td>31373733</td>\n",
       "    </tr>\n",
       "    <tr>\n",
       "      <th>3</th>\n",
       "      <td>cand001</td>\n",
       "      <td>31336446</td>\n",
       "    </tr>\n",
       "  </tbody>\n",
       "</table>\n",
       "</div>"
      ],
      "text/plain": [
       "     CANID     OBJID\n",
       "0  cand001  32025356\n",
       "1  cand001  31674061\n",
       "2  cand001  31373733\n",
       "3  cand001  31336446"
      ]
     },
     "execution_count": 86,
     "metadata": {},
     "output_type": "execute_result"
    }
   ],
   "source": [
    "#Got all the OBJID for cand001\n",
    "\n",
    "query = \"select * FROM scheibne.linker WHERE CANID = 'cand001'\"\n",
    "result = db.query_to_pandas(query)\n",
    "result.head()"
   ]
  },
  {
   "cell_type": "code",
   "execution_count": 49,
   "metadata": {
    "collapsed": false
   },
   "outputs": [
    {
     "data": {
      "text/html": [
       "<div>\n",
       "<table border=\"1\" class=\"dataframe\">\n",
       "  <thead>\n",
       "    <tr style=\"text-align: right;\">\n",
       "      <th></th>\n",
       "      <th>DATE_OBS</th>\n",
       "      <th>RA</th>\n",
       "      <th>DEC</th>\n",
       "      <th>EXPNUM</th>\n",
       "      <th>EXPTIME</th>\n",
       "      <th>BAND</th>\n",
       "      <th>CCD</th>\n",
       "      <th>MAG</th>\n",
       "      <th>ML_SCORE</th>\n",
       "      <th>OBJID</th>\n",
       "      <th>FAKEID</th>\n",
       "    </tr>\n",
       "  </thead>\n",
       "  <tbody>\n",
       "    <tr>\n",
       "      <th>0</th>\n",
       "      <td>2016/1/16 02:39:02</td>\n",
       "      <td>2:53:55.87</td>\n",
       "      <td>-8:00:20.2</td>\n",
       "      <td>511744</td>\n",
       "      <td>90.0</td>\n",
       "      <td>i</td>\n",
       "      <td>57</td>\n",
       "      <td>18.90</td>\n",
       "      <td>0.98</td>\n",
       "      <td>32025356</td>\n",
       "      <td>150056721</td>\n",
       "    </tr>\n",
       "    <tr>\n",
       "      <th>1</th>\n",
       "      <td>2015/12/18 01:02:40</td>\n",
       "      <td>2:55:20.36</td>\n",
       "      <td>-8:12:53.4</td>\n",
       "      <td>502984</td>\n",
       "      <td>90.0</td>\n",
       "      <td>z</td>\n",
       "      <td>11</td>\n",
       "      <td>18.50</td>\n",
       "      <td>0.99</td>\n",
       "      <td>31674061</td>\n",
       "      <td>150056721</td>\n",
       "    </tr>\n",
       "    <tr>\n",
       "      <th>2</th>\n",
       "      <td>2015/12/17 04:31:13</td>\n",
       "      <td>2:55:23.73</td>\n",
       "      <td>-8:13:07.5</td>\n",
       "      <td>502703</td>\n",
       "      <td>90.0</td>\n",
       "      <td>i</td>\n",
       "      <td>11</td>\n",
       "      <td>18.84</td>\n",
       "      <td>0.99</td>\n",
       "      <td>31373733</td>\n",
       "      <td>150056721</td>\n",
       "    </tr>\n",
       "    <tr>\n",
       "      <th>3</th>\n",
       "      <td>2015/12/17 04:29:15</td>\n",
       "      <td>2:55:23.73</td>\n",
       "      <td>-8:13:07.5</td>\n",
       "      <td>502702</td>\n",
       "      <td>90.0</td>\n",
       "      <td>r</td>\n",
       "      <td>11</td>\n",
       "      <td>19.30</td>\n",
       "      <td>0.99</td>\n",
       "      <td>31336446</td>\n",
       "      <td>150056721</td>\n",
       "    </tr>\n",
       "    <tr>\n",
       "      <th>4</th>\n",
       "      <td>2015/11/30 05:48:43</td>\n",
       "      <td>2:52:54.50</td>\n",
       "      <td>-12:27:35.8</td>\n",
       "      <td>497807</td>\n",
       "      <td>90.0</td>\n",
       "      <td>i</td>\n",
       "      <td>14</td>\n",
       "      <td>21.64</td>\n",
       "      <td>0.92</td>\n",
       "      <td>31655759</td>\n",
       "      <td>150058187</td>\n",
       "    </tr>\n",
       "  </tbody>\n",
       "</table>\n",
       "</div>"
      ],
      "text/plain": [
       "              DATE_OBS          RA          DEC  EXPNUM  EXPTIME BAND  CCD    MAG  ML_SCORE     OBJID     FAKEID\n",
       "0   2016/1/16 02:39:02  2:53:55.87   -8:00:20.2  511744     90.0    i   57  18.90      0.98  32025356  150056721\n",
       "1  2015/12/18 01:02:40  2:55:20.36   -8:12:53.4  502984     90.0    z   11  18.50      0.99  31674061  150056721\n",
       "2  2015/12/17 04:31:13  2:55:23.73   -8:13:07.5  502703     90.0    i   11  18.84      0.99  31373733  150056721\n",
       "3  2015/12/17 04:29:15  2:55:23.73   -8:13:07.5  502702     90.0    r   11  19.30      0.99  31336446  150056721\n",
       "4  2015/11/30 05:48:43  2:52:54.50  -12:27:35.8  497807     90.0    i   14  21.64      0.92  31655759  150058187"
      ]
     },
     "execution_count": 49,
     "metadata": {},
     "output_type": "execute_result"
    }
   ],
   "source": [
    "query = \"select * FROM scheibne.objects\"\n",
    "result = db.query_to_pandas(query)\n",
    "result.head()"
   ]
  },
  {
   "cell_type": "code",
   "execution_count": 90,
   "metadata": {
    "collapsed": false
   },
   "outputs": [
    {
     "data": {
      "text/html": [
       "<div>\n",
       "<table border=\"1\" class=\"dataframe\">\n",
       "  <thead>\n",
       "    <tr style=\"text-align: right;\">\n",
       "      <th></th>\n",
       "      <th>CANID</th>\n",
       "      <th>OBJID</th>\n",
       "      <th>DATE_OBS</th>\n",
       "      <th>RA</th>\n",
       "      <th>DEC</th>\n",
       "      <th>EXPNUM</th>\n",
       "      <th>EXPTIME</th>\n",
       "      <th>BAND</th>\n",
       "      <th>CCD</th>\n",
       "      <th>MAG</th>\n",
       "      <th>ML_SCORE</th>\n",
       "      <th>OBJID</th>\n",
       "      <th>FAKEID</th>\n",
       "    </tr>\n",
       "  </thead>\n",
       "  <tbody>\n",
       "    <tr>\n",
       "      <th>0</th>\n",
       "      <td>cand001</td>\n",
       "      <td>32025356</td>\n",
       "      <td>2016/1/16 02:39:02</td>\n",
       "      <td>2:53:55.87</td>\n",
       "      <td>-8:00:20.2</td>\n",
       "      <td>511744</td>\n",
       "      <td>90.0</td>\n",
       "      <td>i</td>\n",
       "      <td>57</td>\n",
       "      <td>18.90</td>\n",
       "      <td>0.98</td>\n",
       "      <td>32025356</td>\n",
       "      <td>150056721</td>\n",
       "    </tr>\n",
       "    <tr>\n",
       "      <th>1</th>\n",
       "      <td>cand001</td>\n",
       "      <td>31674061</td>\n",
       "      <td>2015/12/18 01:02:40</td>\n",
       "      <td>2:55:20.36</td>\n",
       "      <td>-8:12:53.4</td>\n",
       "      <td>502984</td>\n",
       "      <td>90.0</td>\n",
       "      <td>z</td>\n",
       "      <td>11</td>\n",
       "      <td>18.50</td>\n",
       "      <td>0.99</td>\n",
       "      <td>31674061</td>\n",
       "      <td>150056721</td>\n",
       "    </tr>\n",
       "    <tr>\n",
       "      <th>2</th>\n",
       "      <td>cand001</td>\n",
       "      <td>31373733</td>\n",
       "      <td>2015/12/17 04:31:13</td>\n",
       "      <td>2:55:23.73</td>\n",
       "      <td>-8:13:07.5</td>\n",
       "      <td>502703</td>\n",
       "      <td>90.0</td>\n",
       "      <td>i</td>\n",
       "      <td>11</td>\n",
       "      <td>18.84</td>\n",
       "      <td>0.99</td>\n",
       "      <td>31373733</td>\n",
       "      <td>150056721</td>\n",
       "    </tr>\n",
       "    <tr>\n",
       "      <th>3</th>\n",
       "      <td>cand001</td>\n",
       "      <td>31336446</td>\n",
       "      <td>2015/12/17 04:29:15</td>\n",
       "      <td>2:55:23.73</td>\n",
       "      <td>-8:13:07.5</td>\n",
       "      <td>502702</td>\n",
       "      <td>90.0</td>\n",
       "      <td>r</td>\n",
       "      <td>11</td>\n",
       "      <td>19.30</td>\n",
       "      <td>0.99</td>\n",
       "      <td>31336446</td>\n",
       "      <td>150056721</td>\n",
       "    </tr>\n",
       "  </tbody>\n",
       "</table>\n",
       "</div>"
      ],
      "text/plain": [
       "     CANID     OBJID             DATE_OBS          RA         DEC  EXPNUM  EXPTIME BAND  CCD    MAG  ML_SCORE     OBJID     FAKEID\n",
       "0  cand001  32025356   2016/1/16 02:39:02  2:53:55.87  -8:00:20.2  511744     90.0    i   57  18.90      0.98  32025356  150056721\n",
       "1  cand001  31674061  2015/12/18 01:02:40  2:55:20.36  -8:12:53.4  502984     90.0    z   11  18.50      0.99  31674061  150056721\n",
       "2  cand001  31373733  2015/12/17 04:31:13  2:55:23.73  -8:13:07.5  502703     90.0    i   11  18.84      0.99  31373733  150056721\n",
       "3  cand001  31336446  2015/12/17 04:29:15  2:55:23.73  -8:13:07.5  502702     90.0    r   11  19.30      0.99  31336446  150056721"
      ]
     },
     "execution_count": 90,
     "metadata": {},
     "output_type": "execute_result"
    }
   ],
   "source": [
    "query = \"select * FROM scheibne.linker, scheibne.objects, WHERE scheibne.linker.objid = scheibne.objects.objid AND scheibne.linker.canid = 'cand001'\"\n",
    "result = db.query_to_pandas(query)\n",
    "result.head()"
   ]
  },
  {
   "cell_type": "code",
   "execution_count": 50,
   "metadata": {
    "collapsed": false
   },
   "outputs": [
    {
     "data": {
      "text/html": [
       "<div>\n",
       "<table border=\"1\" class=\"dataframe\">\n",
       "  <thead>\n",
       "    <tr style=\"text-align: right;\">\n",
       "      <th></th>\n",
       "      <th>CANID</th>\n",
       "      <th>SEARCHID</th>\n",
       "      <th>RA</th>\n",
       "      <th>DEC</th>\n",
       "      <th>EXPNUM</th>\n",
       "      <th>BAND</th>\n",
       "      <th>CCD</th>\n",
       "      <th>PA</th>\n",
       "      <th>A</th>\n",
       "      <th>B</th>\n",
       "      <th>DATE_OBS</th>\n",
       "    </tr>\n",
       "  </thead>\n",
       "  <tbody>\n",
       "    <tr>\n",
       "      <th>0</th>\n",
       "      <td>CAND111</td>\n",
       "      <td>45</td>\n",
       "      <td>3:20:55.43</td>\n",
       "      <td>-33:45:44.0</td>\n",
       "      <td>345654</td>\n",
       "      <td>g</td>\n",
       "      <td>51</td>\n",
       "      <td>134.33</td>\n",
       "      <td>44.12</td>\n",
       "      <td>0.03</td>\n",
       "      <td>2013/10/28 01:33:55</td>\n",
       "    </tr>\n",
       "  </tbody>\n",
       "</table>\n",
       "</div>"
      ],
      "text/plain": [
       "     CANID  SEARCHID          RA          DEC  EXPNUM BAND  CCD      PA      A     B             DATE_OBS\n",
       "0  CAND111        45  3:20:55.43  -33:45:44.0  345654    g   51  134.33  44.12  0.03  2013/10/28 01:33:55"
      ]
     },
     "execution_count": 50,
     "metadata": {},
     "output_type": "execute_result"
    }
   ],
   "source": [
    "query = \"select * FROM scheibne.searchexps\"\n",
    "result = db.query_to_pandas(query)\n",
    "result.head()"
   ]
  },
  {
   "cell_type": "code",
   "execution_count": 51,
   "metadata": {
    "collapsed": false
   },
   "outputs": [
    {
     "data": {
      "text/html": [
       "<div>\n",
       "<table border=\"1\" class=\"dataframe\">\n",
       "  <thead>\n",
       "    <tr style=\"text-align: right;\">\n",
       "      <th></th>\n",
       "      <th>CANID</th>\n",
       "      <th>SEARCHID</th>\n",
       "      <th>PATH</th>\n",
       "      <th>EXPNUM</th>\n",
       "      <th>CCD</th>\n",
       "      <th>T_EFF</th>\n",
       "      <th>DATE_OBS</th>\n",
       "    </tr>\n",
       "  </thead>\n",
       "  <tbody>\n",
       "    <tr>\n",
       "      <th>0</th>\n",
       "      <td>CAND111</td>\n",
       "      <td>45</td>\n",
       "      <td>path/to/file</td>\n",
       "      <td>345654</td>\n",
       "      <td>51</td>\n",
       "      <td>1.33</td>\n",
       "      <td>2013/10/28 01:33:55</td>\n",
       "    </tr>\n",
       "  </tbody>\n",
       "</table>\n",
       "</div>"
      ],
      "text/plain": [
       "     CANID  SEARCHID          PATH  EXPNUM  CCD  T_EFF             DATE_OBS\n",
       "0  CAND111        45  path/to/file  345654   51   1.33  2013/10/28 01:33:55"
      ]
     },
     "execution_count": 51,
     "metadata": {},
     "output_type": "execute_result"
    }
   ],
   "source": [
    "query = \"select * FROM scheibne.searchimgs\"\n",
    "result = db.query_to_pandas(query)\n",
    "result.head()"
   ]
  },
  {
   "cell_type": "code",
   "execution_count": 52,
   "metadata": {
    "collapsed": false
   },
   "outputs": [
    {
     "data": {
      "text/html": [
       "<div>\n",
       "<table border=\"1\" class=\"dataframe\">\n",
       "  <thead>\n",
       "    <tr style=\"text-align: right;\">\n",
       "      <th></th>\n",
       "      <th>CANID</th>\n",
       "      <th>STATUS</th>\n",
       "      <th>FLAG</th>\n",
       "      <th>MPC</th>\n",
       "    </tr>\n",
       "  </thead>\n",
       "  <tbody>\n",
       "    <tr>\n",
       "      <th>0</th>\n",
       "      <td>cand001</td>\n",
       "      <td>Uninspected</td>\n",
       "      <td>Yes</td>\n",
       "      <td>Reported</td>\n",
       "    </tr>\n",
       "    <tr>\n",
       "      <th>1</th>\n",
       "      <td>cand002</td>\n",
       "      <td>Rejected</td>\n",
       "      <td>No</td>\n",
       "      <td>Unreported</td>\n",
       "    </tr>\n",
       "    <tr>\n",
       "      <th>2</th>\n",
       "      <td>cand003</td>\n",
       "      <td>Accepted</td>\n",
       "      <td>No</td>\n",
       "      <td>Unreported</td>\n",
       "    </tr>\n",
       "  </tbody>\n",
       "</table>\n",
       "</div>"
      ],
      "text/plain": [
       "     CANID       STATUS FLAG         MPC\n",
       "0  cand001  Uninspected  Yes    Reported\n",
       "1  cand002     Rejected   No  Unreported\n",
       "2  cand003     Accepted   No  Unreported"
      ]
     },
     "execution_count": 52,
     "metadata": {},
     "output_type": "execute_result"
    }
   ],
   "source": [
    "query = \"select * FROM scheibne.status\"\n",
    "result = db.query_to_pandas(query)\n",
    "result.head()"
   ]
  },
  {
   "cell_type": "code",
   "execution_count": 82,
   "metadata": {
    "collapsed": false
   },
   "outputs": [
    {
     "name": "stdout",
     "output_type": "stream",
     "text": [
      "        STATUS\n",
      "0  Uninspected\n",
      "1  Uninspected\n",
      "2  Uninspected\n",
      "3  Uninspected\n",
      "4  Uninspected\n"
     ]
    }
   ],
   "source": [
    "query = \"select STATUS from scheibne.candlist, scheibne.images, scheibne.linker, scheibne.objects, scheibne.status\"\n",
    "result = db.query_to_pandas(query)\n",
    "print result.head()\n"
   ]
  },
  {
   "cell_type": "code",
   "execution_count": 76,
   "metadata": {
    "collapsed": true
   },
   "outputs": [],
   "source": [
    "query = \"select distinct DATE_OBS, RA, DEC, EXPNUM, EXPTIME, BAND, CCD, MAG, ML_SCORE FROM scheibne.status, scheibne.objects WHERE OBJID = 32025356\""
   ]
  },
  {
   "cell_type": "code",
   "execution_count": 77,
   "metadata": {
    "collapsed": false
   },
   "outputs": [
    {
     "name": "stdout",
     "output_type": "stream",
     "text": [
      "             DATE_OBS          RA         DEC  EXPNUM  EXPTIME BAND  CCD   MAG  ML_SCORE\n",
      "0  2016/1/16 02:39:02  2:53:55.87  -8:00:20.2  511744     90.0    i   57  18.9      0.98\n"
     ]
    }
   ],
   "source": [
    "result = db.query_to_pandas(query)\n",
    "print result.head(5)"
   ]
  },
  {
   "cell_type": "code",
   "execution_count": 60,
   "metadata": {
    "collapsed": true
   },
   "outputs": [],
   "source": [
    "query = \"select * FROM scheibne.candlist, scheibne.objects, scheibne.status where CANID = 'cand001'\""
   ]
  },
  {
   "cell_type": "code",
   "execution_count": 61,
   "metadata": {
    "collapsed": false
   },
   "outputs": [
    {
     "ename": "DatabaseError",
     "evalue": "ORA-00918: column ambiguously defined\n",
     "output_type": "error",
     "traceback": [
      "\u001b[0;31m---------------------------------------------------------------------------\u001b[0m",
      "\u001b[0;31mDatabaseError\u001b[0m                             Traceback (most recent call last)",
      "\u001b[0;32m<ipython-input-61-f59c456e25b8>\u001b[0m in \u001b[0;36m<module>\u001b[0;34m()\u001b[0m\n\u001b[0;32m----> 1\u001b[0;31m \u001b[0mresult\u001b[0m \u001b[0;34m=\u001b[0m \u001b[0mdb\u001b[0m\u001b[0;34m.\u001b[0m\u001b[0mquery_to_pandas\u001b[0m\u001b[0;34m(\u001b[0m\u001b[0mquery\u001b[0m\u001b[0;34m)\u001b[0m\u001b[0;34m\u001b[0m\u001b[0m\n\u001b[0m",
      "\u001b[0;32m/Users/lynuszullo/anaconda/lib/python2.7/site-packages/easyaccess/easyaccess.pyc\u001b[0m in \u001b[0;36mquery_to_pandas\u001b[0;34m(self, query, prefetch, iterator)\u001b[0m\n\u001b[1;32m   2471\u001b[0m         \u001b[0mextra_func\u001b[0m \u001b[0;34m=\u001b[0m \u001b[0;34m[\u001b[0m\u001b[0mfuns\u001b[0m\u001b[0;34m,\u001b[0m \u001b[0margs\u001b[0m\u001b[0;34m,\u001b[0m \u001b[0mnames\u001b[0m\u001b[0;34m]\u001b[0m\u001b[0;34m\u001b[0m\u001b[0m\n\u001b[1;32m   2472\u001b[0m         \u001b[0;32mif\u001b[0m \u001b[0mfuns\u001b[0m \u001b[0;32mis\u001b[0m \u001b[0mNone\u001b[0m \u001b[0;34m:\u001b[0m \u001b[0mextra_func\u001b[0m \u001b[0;34m=\u001b[0m \u001b[0mNone\u001b[0m\u001b[0;34m\u001b[0m\u001b[0m\n\u001b[0;32m-> 2473\u001b[0;31m         \u001b[0mtemp\u001b[0m \u001b[0;34m=\u001b[0m \u001b[0mcursor\u001b[0m\u001b[0;34m.\u001b[0m\u001b[0mexecute\u001b[0m\u001b[0;34m(\u001b[0m\u001b[0mquery\u001b[0m\u001b[0;34m)\u001b[0m\u001b[0;34m\u001b[0m\u001b[0m\n\u001b[0m\u001b[1;32m   2474\u001b[0m         \u001b[0;32mif\u001b[0m \u001b[0mtemp\u001b[0m\u001b[0;34m.\u001b[0m\u001b[0mdescription\u001b[0m \u001b[0;34m!=\u001b[0m \u001b[0mNone\u001b[0m\u001b[0;34m:\u001b[0m\u001b[0;34m\u001b[0m\u001b[0m\n\u001b[1;32m   2475\u001b[0m             \u001b[0;32mif\u001b[0m \u001b[0miterator\u001b[0m\u001b[0;34m:\u001b[0m\u001b[0;34m\u001b[0m\u001b[0m\n",
      "\u001b[0;31mDatabaseError\u001b[0m: ORA-00918: column ambiguously defined\n"
     ]
    }
   ],
   "source": [
    "result = db.query_to_pandas(query)"
   ]
  },
  {
   "cell_type": "code",
   "execution_count": 55,
   "metadata": {
    "collapsed": false
   },
   "outputs": [
    {
     "data": {
      "text/html": [
       "<div>\n",
       "<table border=\"1\" class=\"dataframe\">\n",
       "  <thead>\n",
       "    <tr style=\"text-align: right;\">\n",
       "      <th></th>\n",
       "      <th>CANID</th>\n",
       "      <th>STATUS</th>\n",
       "      <th>FLAG</th>\n",
       "      <th>MPC</th>\n",
       "    </tr>\n",
       "  </thead>\n",
       "  <tbody>\n",
       "    <tr>\n",
       "      <th>0</th>\n",
       "      <td>cand001</td>\n",
       "      <td>Uninspected</td>\n",
       "      <td>Yes</td>\n",
       "      <td>Reported</td>\n",
       "    </tr>\n",
       "    <tr>\n",
       "      <th>1</th>\n",
       "      <td>cand002</td>\n",
       "      <td>Rejected</td>\n",
       "      <td>No</td>\n",
       "      <td>Unreported</td>\n",
       "    </tr>\n",
       "    <tr>\n",
       "      <th>2</th>\n",
       "      <td>cand003</td>\n",
       "      <td>Accepted</td>\n",
       "      <td>No</td>\n",
       "      <td>Unreported</td>\n",
       "    </tr>\n",
       "  </tbody>\n",
       "</table>\n",
       "</div>"
      ],
      "text/plain": [
       "     CANID       STATUS FLAG         MPC\n",
       "0  cand001  Uninspected  Yes    Reported\n",
       "1  cand002     Rejected   No  Unreported\n",
       "2  cand003     Accepted   No  Unreported"
      ]
     },
     "execution_count": 55,
     "metadata": {},
     "output_type": "execute_result"
    }
   ],
   "source": [
    "result.head()"
   ]
  },
  {
   "cell_type": "code",
   "execution_count": 23,
   "metadata": {
    "collapsed": true
   },
   "outputs": [],
   "source": []
  },
  {
   "cell_type": "code",
   "execution_count": 24,
   "metadata": {
    "collapsed": false
   },
   "outputs": [
    {
     "ename": "DatabaseError",
     "evalue": "ORA-00942: table or view does not exist\n",
     "output_type": "error",
     "traceback": [
      "\u001b[0;31m---------------------------------------------------------------------------\u001b[0m",
      "\u001b[0;31mDatabaseError\u001b[0m                             Traceback (most recent call last)",
      "\u001b[0;32m<ipython-input-24-b4dd5ddf567e>\u001b[0m in \u001b[0;36m<module>\u001b[0;34m()\u001b[0m\n\u001b[0;32m----> 1\u001b[0;31m \u001b[0mnew_result\u001b[0m \u001b[0;34m=\u001b[0m \u001b[0mdb\u001b[0m\u001b[0;34m.\u001b[0m\u001b[0mquery_to_pandas\u001b[0m\u001b[0;34m(\u001b[0m\u001b[0mquery\u001b[0m\u001b[0;34m)\u001b[0m\u001b[0;34m\u001b[0m\u001b[0m\n\u001b[0m",
      "\u001b[0;32m/Users/lynuszullo/anaconda/lib/python2.7/site-packages/easyaccess/easyaccess.pyc\u001b[0m in \u001b[0;36mquery_to_pandas\u001b[0;34m(self, query, prefetch, iterator)\u001b[0m\n\u001b[1;32m   2471\u001b[0m         \u001b[0mextra_func\u001b[0m \u001b[0;34m=\u001b[0m \u001b[0;34m[\u001b[0m\u001b[0mfuns\u001b[0m\u001b[0;34m,\u001b[0m \u001b[0margs\u001b[0m\u001b[0;34m,\u001b[0m \u001b[0mnames\u001b[0m\u001b[0;34m]\u001b[0m\u001b[0;34m\u001b[0m\u001b[0m\n\u001b[1;32m   2472\u001b[0m         \u001b[0;32mif\u001b[0m \u001b[0mfuns\u001b[0m \u001b[0;32mis\u001b[0m \u001b[0mNone\u001b[0m \u001b[0;34m:\u001b[0m \u001b[0mextra_func\u001b[0m \u001b[0;34m=\u001b[0m \u001b[0mNone\u001b[0m\u001b[0;34m\u001b[0m\u001b[0m\n\u001b[0;32m-> 2473\u001b[0;31m         \u001b[0mtemp\u001b[0m \u001b[0;34m=\u001b[0m \u001b[0mcursor\u001b[0m\u001b[0;34m.\u001b[0m\u001b[0mexecute\u001b[0m\u001b[0;34m(\u001b[0m\u001b[0mquery\u001b[0m\u001b[0;34m)\u001b[0m\u001b[0;34m\u001b[0m\u001b[0m\n\u001b[0m\u001b[1;32m   2474\u001b[0m         \u001b[0;32mif\u001b[0m \u001b[0mtemp\u001b[0m\u001b[0;34m.\u001b[0m\u001b[0mdescription\u001b[0m \u001b[0;34m!=\u001b[0m \u001b[0mNone\u001b[0m\u001b[0;34m:\u001b[0m\u001b[0;34m\u001b[0m\u001b[0m\n\u001b[1;32m   2475\u001b[0m             \u001b[0;32mif\u001b[0m \u001b[0miterator\u001b[0m\u001b[0;34m:\u001b[0m\u001b[0;34m\u001b[0m\u001b[0m\n",
      "\u001b[0;31mDatabaseError\u001b[0m: ORA-00942: table or view does not exist\n"
     ]
    }
   ],
   "source": []
  },
  {
   "cell_type": "code",
   "execution_count": null,
   "metadata": {
    "collapsed": true
   },
   "outputs": [],
   "source": []
  }
 ],
 "metadata": {
  "anaconda-cloud": {},
  "kernelspec": {
   "display_name": "Python [Root]",
   "language": "python",
   "name": "Python [Root]"
  },
  "language_info": {
   "codemirror_mode": {
    "name": "ipython",
    "version": 2
   },
   "file_extension": ".py",
   "mimetype": "text/x-python",
   "name": "python",
   "nbconvert_exporter": "python",
   "pygments_lexer": "ipython2",
   "version": "2.7.11"
  }
 },
 "nbformat": 4,
 "nbformat_minor": 0
}
