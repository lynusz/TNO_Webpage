{
 "cells": [
  {
   "cell_type": "markdown",
   "metadata": {},
   "source": [
    "#This is a cleaned up version of TNO Individual Web Page.ipynb. Now showing expected exposures. \n",
    "\n",
    "Lynus,\n",
    "\n",
    "To make this run, here is what you need to do.\n",
    "\n",
    "1) Make sure you can import all the libraries/methods in the first cell. You need to have pyOrbfit (Prof. Gerdes just / sent out instructions for downloading and installing this. You also need ccdBounds, which is on the dwgerdes GitHub / repository https://github.com/dwgerdes/tnofind\n",
    "\n",
    "2) Make sure you have installed ds9: http://ds9.si.edu/site/Download.html. Go with the X11 version for Mac. Test it out by going to your terminal and typing ds9. You may have to make a binary executable file.\n",
    "\n",
    "3) Have a directory with the following things in it: \n",
    "    \n",
    "    1) good_2.csv\n",
    "    \n",
    "    2) exposures.csv\n",
    "    \n",
    "    3) style_content.css\n",
    "\n",
    "4) Go to sendObsRequest and sendSearchRequest and replace my username and password with your username and password\n",
    "\n",
    "5) Run this line of code: rawFileObs, rawFileSearch, observed, expected = getImageTar(\"good_2.csv\")\n",
    "\n",
    "6) Go to http://desdev3.cosmology.illinois.edu:8000 (you may have enter your user name and password). Go and download the tar files and put them in the directory where everything else is stored. It may take a minute or two for the job to complete. \n",
    "\n",
    "7) Run the following line of code (putting in the appropriate file path): makeIndividualWebpage('/Users/ColinS/Documents/TNOSearch','good_2.csv',expecteds, rawFileObs, rawFileSearch) \n",
    "\n",
    "Hopefully this works. \n",
    "\n",
    "-Colin\n",
    "\n",
    "ps. You're totally right, that second break statement doesn't do anything. \n"
   ]
  },
  {
   "cell_type": "code",
   "execution_count": 127,
   "metadata": {
    "collapsed": true
   },
   "outputs": [],
   "source": [
    "from __future__ import division\n",
    "from ccdBounds import *\n",
    "from pyOrbfit.Orbit import Orbit\n",
    "import gzip\n",
    "import glob # Lists files into a directory\n",
    "import tarfile\n",
    "import json\n",
    "import pandas\n",
    "import pylab\n",
    "import ephem\n",
    "import os\n",
    "import time\n",
    "import numpy as np\n",
    "import requests\n",
    "from pandas import *\n",
    "from pylab import *\n",
    "from astropy.io import fits\n",
    "from astropy.wcs import WCS"
   ]
  },
  {
   "cell_type": "code",
   "execution_count": 128,
   "metadata": {
    "collapsed": true
   },
   "outputs": [],
   "source": [
    "def drawObsCircle(tempfits, imgfile, regfile, ra, dec):\n",
    "    with open(regfile, 'w') as fout:\n",
    "        #fout.write('fk5; circle '+str(ra)+' '+str(dec)+' 6\" #dash=1') This line works\n",
    "        w=WCS(tempfits)\n",
    "        lon, lat = np.degrees(ephem.hours(ra)),np.degrees(ephem.degrees(dec))\n",
    "        pixx,pixy= w.wcs_world2pix(lon,lat,3)\n",
    "        fout.write('physical; circle '+str(pixx)+' '+str(pixy)+' 6\" #dash=1')\n",
    "    hdu=fits.getdata(tempfits)\n",
    "    h=hdu.shape[0]\n",
    "    w=hdu.shape[1]\n",
    "    os.system(\"ds9 \"+tempfits+\" -scale mode zscale -colorbar no -height \"+str(h)+\" -width \"+str(w)+\" -zoom to fit -region\"+\" \"+regfile+\" -saveimage png \"+imgfile+\" -exit\")  "
   ]
  },
  {
   "cell_type": "code",
   "execution_count": 129,
   "metadata": {
    "collapsed": true
   },
   "outputs": [],
   "source": [
    "def makeObsReg(regfile, ra, dec):\n",
    "    with open(regfile,'w') as fout:\n",
    "        fout.write('fk5; circle '+str(ra)+' '+str(dec)+' 6\" #dash=1')"
   ]
  },
  {
   "cell_type": "code",
   "execution_count": 130,
   "metadata": {
    "collapsed": true
   },
   "outputs": [],
   "source": [
    "def drawSearchEllipse(tempfits, imgfile, regfile, ra, dec, PA, a, b):\n",
    "    with open(regfile, 'w') as fout:\n",
    "        if a > 2:\n",
    "            fout.write('fk5; ellipse '+str(ra)+' '+str(dec)+' '+str(a)+'\" '+str(b)+'\" '+str(PA-90)+' # dash=1')\n",
    "        else:\n",
    "            fout.write('fk5; box '+str(ra)+' '+str(dec)+' '+str(6)+'\" '+str(6)+'\" 0 #color=red dash=1')\n",
    "    hdu=fits.getdata(tempfits)\n",
    "    h=hdu.shape[0]\n",
    "    w=hdu.shape[1]\n",
    "    os.system(\"ds9 \"+tempfits+\" -scale mode zscale -colorbar no -height \"+str(h)+\" -width \"+str(w)+\" -zoom to fit -region\"+\" \"+regfile+\" -saveimage png \"+imgfile+\" -exit\")"
   ]
  },
  {
   "cell_type": "code",
   "execution_count": 131,
   "metadata": {
    "collapsed": true
   },
   "outputs": [],
   "source": [
    "def makeSearchReg(regfile, ra, dec, PA, a, b):\n",
    "    with open(regfile, 'w') as fout:\n",
    "        if a>2:\n",
    "            fout.write('fk5; ellipse '+str(ra)+' '+str(dec)+' '+str(a)+'\" '+str(b)+'\" '+str(PA-90)+' # dash=1')\n",
    "        else:\n",
    "            fout.write('fk5; box '+str(ra)+' '+str(dec)+' '+str(6)+'\" '+str(6)+'\" 0 #color=red dash=1')"
   ]
  },
  {
   "cell_type": "code",
   "execution_count": 132,
   "metadata": {
    "collapsed": true
   },
   "outputs": [],
   "source": [
    "def fit_orbit(df_obs):\n",
    "    df_obs = df_obs.ix[['#' not in row['date'] for ind, row in df_obs.iterrows()]]   # filter comment lines\n",
    "    nobs = len(df_obs)\n",
    "    ralist = [ephem.hours(r) for r in df_obs['ra'].values]\n",
    "    declist = [ephem.degrees(r) for r in df_obs['dec'].values]\n",
    "    datelist = [ephem.date(d) for d in df_obs['date'].values]\n",
    "    obscode = np.ones(nobs, dtype=int)*807\n",
    "    orbit = Orbit(dates=datelist, ra=ralist, dec=declist, obscode=obscode, err=0.15)\n",
    "    return orbit"
   ]
  },
  {
   "cell_type": "code",
   "execution_count": 133,
   "metadata": {
    "collapsed": true
   },
   "outputs": [],
   "source": [
    "def compute_chip(rockra, rockdec, expra, expdec):\n",
    "    '''\n",
    "    Given the ra and dec of a point and of the center\n",
    "    of an exposure, find the CCD containing that point.\n",
    "    \n",
    "    Returns a pair of the CCD name and number.\n",
    "    '''\n",
    "    deltara = 180/np.pi*ephem.degrees(rockra-expra).znorm  # compute difference in degrees (normalized between -180, +180)\n",
    "    deltadec = 180/np.pi*ephem.degrees(rockdec-expdec).znorm  # the 180/pi is because ephem.Angle objects are natively in radians\n",
    "    ccdname = 'None'\n",
    "    for k in ccdBounds:\n",
    "        if deltara > ccdBounds[k][0] and deltara < ccdBounds[k][1] and deltadec > ccdBounds[k][2] and deltadec < ccdBounds[k][3]:\n",
    "            ccdname = k\n",
    "    return ccdname, ccdNum[ccdname]\n",
    "\n"
   ]
  },
  {
   "cell_type": "code",
   "execution_count": 134,
   "metadata": {
    "collapsed": true
   },
   "outputs": [],
   "source": [
    "#Unzips tar.gz files\n",
    "def unzip_tar(tarname):\n",
    "    fname = str(tarname)\n",
    "    if (fname.endswith(\"tar.gz\")):\n",
    "        tar = tarfile.open(fname, 'r:gz')\n",
    "        tar.extractall() ##Deleted the slash in front of c\n",
    "        tar.close()\n",
    "    elif (fname.endswith(\"tar\")):\n",
    "        tar = tarfile.open(fname, 'r:')\n",
    "        tar.extractall()\n",
    "        tar.close()\n",
    "    raw_fname = fname[:36]\n",
    "    return raw_fname"
   ]
  },
  {
   "cell_type": "code",
   "execution_count": 135,
   "metadata": {
    "collapsed": false
   },
   "outputs": [],
   "source": [
    "#Produces an array of images and puts the stuff around the image (see website)\n",
    "\n",
    "def makeImgArray(obs_properties, flist, directory, raw_fname, exp_values):\n",
    "    \n",
    "    os.mkdir(directory+'NotTempImgs_'+raw_fname) #makes permanent folder\n",
    "    \n",
    "    \n",
    "    # columns\n",
    "    img_array=pandas.DataFrame.from_items([('expnum',[]),('refccd',[]),('refpng',[]), ('refdate',[]),('reftef',[]),('compimages',[]),('compexp',[]),('compccd',[]),('compdate',[]),('comptef',[])])\n",
    "    \n",
    "    def getkey(item):\n",
    "            return item[0]\n",
    "        \n",
    "    # i corresponds to the row\n",
    "    for i in range(0,len(obs_properties)):\n",
    "        \n",
    "        commandstr='ds9 '\n",
    "        \n",
    "        refnum=obs_properties['expnum'][i]\n",
    "        #refccd=obs_properties['ccd'][i]\n",
    "        refccd=obs_properties['ccd'][i]\n",
    "        refband=obs_properties['band'][i]\n",
    "        refdate=obs_properties['date'][i]\n",
    "        ref_ra=obs_properties['ra'][i]\n",
    "        ref_dec=obs_properties['dec'][i]\n",
    "        CompImgs=[]\n",
    "        expnums=[]\n",
    "        refpng=''\n",
    "        reftef=round(float(exp_values[exp_values['expnum']==refnum]['t_eff']),3)\n",
    "        \n",
    "        breaktime=False\n",
    "        quicklabel=[]\n",
    "        \n",
    "        for thumb in flist:\n",
    "            os.chdir(directory+raw_fname+'/'+thumb)\n",
    "            fit_list = glob.glob('*fits')\n",
    "        \n",
    "            for f in fit_list:\n",
    "                h=fits.open(f)\n",
    "                if h[0].header[\"EXPNUM\"]==refnum and h[0].header['CCDNUM']==refccd:\n",
    "                    reffit=f\n",
    "                    refpng='NotTempImgs_'+raw_fname+'/'+reffit[:-5]+'Circ.png' \n",
    "                    makeObsReg('temp.reg',ref_ra, ref_dec)\n",
    "                    commandstr+=f+' -scale zscale '\n",
    "                    \n",
    "                    \n",
    "                    for g in fit_list: #Compare z band to z band for example\n",
    "                        j=fits.open(g)\n",
    "                        jnum=j[0].header['EXPNUM']\n",
    "                        if (j[0].header['BAND']==refband and jnum != refnum and not (jnum in expnums)):\n",
    "                            try:\n",
    "                                teff=float(exp_values[exp_values['expnum']==jnum]['t_eff'])\n",
    "                            except:\n",
    "                                teff=0\n",
    "                                print jnum\n",
    "                            pnglabel='NotTempImgs_'+raw_fname+'/'+g[:-5]+'Circ.png'\n",
    "                            quicklabel+=[g[:-5]+'Circ.png']\n",
    "                            date=str(j[0].header['DATE-OBS'])\n",
    "                            nicedate=date[0:4]+'/'+date[5:7]+'/'+date[8:10]+' '+date[11:19]\n",
    "                            CompImgs.append([teff,pnglabel, jnum, j[0].header['CCDNUM'], nicedate])\n",
    "                            expnums+=[jnum]\n",
    "                            commandstr+=' -file '+g\n",
    "                        j.close()\n",
    "                    commandstr+=' -single -region load all temp.reg -height 288 -width 288 -colorbar no -bg black '\n",
    "                    for q in quicklabel:\n",
    "                        commandstr+=' -zoom to fit -saveimage png '+q+' -frame prev '\n",
    "                    commandstr+='-zoom to fit -saveimage png '+reffit[:-5]+'Circ.png'+' -exit'\n",
    "                    os.system(commandstr)\n",
    "                    os.system('cp '+directory+raw_fname+'/'+thumb +'/*.png '+directory+'NotTempImgs_'+raw_fname+'/')\n",
    "                    flist.remove(thumb)\n",
    "                    breaktime=True\n",
    "                    break\n",
    "                h.close()\n",
    "            \n",
    "            if breaktime:\n",
    "                break \n",
    "                \n",
    "                \n",
    "            \n",
    "\n",
    "\n",
    "        sortedcomps=sorted(CompImgs, key=getkey, reverse=True)\n",
    "        \n",
    "        tempframe=pandas.DataFrame.from_items([('expnum', refnum),('refccd',refccd), ('refpng',[ refpng]), ('refdate', [refdate]),('reftef',[reftef]),('compimages', [[x[1] for x in sortedcomps]]),('compexp',[[x[2] for x in sortedcomps]]), ('compccd',[[x[3] for x in sortedcomps]]),('compdate',[[x[4] for x in sortedcomps]]),('comptef',[[round(x[0],3) for x in sortedcomps]])])                \n",
    "        img_array=img_array.append(tempframe, ignore_index=True) \n",
    "    \n",
    "    return img_array"
   ]
  },
  {
   "cell_type": "code",
   "execution_count": 136,
   "metadata": {
    "collapsed": false
   },
   "outputs": [],
   "source": [
    "def makeSearchArray(obs_properties, flist, directory, raw_fname, exp_values):\n",
    "    \n",
    "    os.mkdir(directory+'NotTempImgs_'+raw_fname) #makes the directory for all images needed for website.\n",
    "    \n",
    "    search_array=pandas.DataFrame.from_items([('expnum',[]),('refccd',[]),('refpng',[]), ('refdate',[]),('reftef',[]),('compimages',[]),('compexp',[]),('compccd',[]),('compdate',[]),('comptef',[])])\n",
    "    \n",
    "    def getkey(item):\n",
    "            return item[0]\n",
    "        \n",
    "    for i in obs_properties.index:\n",
    "        print \"entering row\"+str(i), time.ctime()\n",
    "        \n",
    "        commandstr='ds9 '\n",
    "        \n",
    "        refnum=obs_properties['expnum'][i]\n",
    "        refccd=obs_properties['ccd'][i]\n",
    "        #refccd=obs_properties['ccdnum'][i]\n",
    "        refband=obs_properties['band'][i]\n",
    "        refdate=str(ephem.date(obs_properties['date'][i]))\n",
    "        ref_ra=ephem.hours(obs_properties['can_ra'][i])\n",
    "        ref_dec=ephem.degrees(obs_properties['can_dec'][i])\n",
    "        ref_PA=obs_properties['PA'][i]\n",
    "        ref_a=obs_properties['a'][i]\n",
    "        ref_b=obs_properties['b'][i]\n",
    "        CompImgs=[]\n",
    "        expnums=[]\n",
    "        refpng=''\n",
    "        reftef=round(float(exp_values[exp_values['expnum']==refnum]['t_eff']),3)\n",
    "        \n",
    "        breaktime=False\n",
    "        quicklabel=[]\n",
    "        \n",
    "        for thumb in flist:\n",
    "            print r\"     checking thumb\"+thumb, time.ctime()\n",
    "            os.chdir(directory+raw_fname+'/'+thumb)\n",
    "            fit_list = glob.glob('*fits')\n",
    "        \n",
    "            for f in fit_list:\n",
    "                h=fits.open(f)\n",
    "                if h[0].header[\"EXPNUM\"]==refnum and h[0].header['CCDNUM']==refccd:\n",
    "                    print r\"         Found correct thumb\", time.ctime()\n",
    "                    reffit=f\n",
    "                    refpng='NotTempImgs_'+raw_fname+'/'+reffit[:-5]+'Circ.png' \n",
    "                    makeSearchReg('temp.reg',ref_ra, ref_dec, ref_PA, ref_a, ref_b)\n",
    "                    commandstr+=f+' -scale zscale '\n",
    "                    for g in fit_list:\n",
    "                        j=fits.open(g)\n",
    "                        jnum=j[0].header['EXPNUM']\n",
    "                        if (j[0].header['BAND']==refband and jnum != refnum and not (jnum in expnums)):\n",
    "                            try:\n",
    "                                teff=float(exp_values[exp_values['expnum']==jnum]['t_eff'])\n",
    "                            except:\n",
    "                                teff=0\n",
    "                                print jnum\n",
    "                            pnglabel='NotTempImgs_'+raw_fname+'/'+g[:-5]+'Circ.png'\n",
    "                            quicklabel+=[g[:-5]+'Circ.png']\n",
    "                            date=str(j[0].header['DATE-OBS'])\n",
    "                            nicedate=date[0:4]+'/'+date[5:7]+'/'+date[8:10]+' '+date[11:19]\n",
    "                            CompImgs.append([teff,pnglabel, jnum, j[0].header['CCDNUM'], nicedate])\n",
    "                            expnums+=[jnum]\n",
    "                            commandstr+=' -file '+g\n",
    "                        j.close()\n",
    "                    commandstr+=' -single -region load all temp.reg -height 288 -width 288 -colorbar no -bg black '\n",
    "                    for q in quicklabel:\n",
    "                        commandstr+=' -zoom to fit -saveimage png '+q+' -frame prev '\n",
    "                    commandstr+='-zoom to fit -saveimage png '+reffit[:-5]+'Circ.png'+' -exit'\n",
    "                    os.system(commandstr)\n",
    "                    os.system('cp '+directory+raw_fname+'/'+thumb +'/*.png '+directory+'NotTempImgs_'+raw_fname)\n",
    "                    flist.remove(thumb)\n",
    "                    breaktime=True\n",
    "                    print r\"         Done writing row\", time.ctime()\n",
    "                    break \n",
    "                h.close()\n",
    "            if breaktime:\n",
    "                break\n",
    "        \n",
    "        sortedcomps=sorted(CompImgs, key=getkey, reverse=True)\n",
    "        \n",
    "        tempframe=pandas.DataFrame.from_items([('expnum', refnum),('refccd',refccd), ('refpng',[ refpng]), ('refdate', [refdate]),('reftef',[reftef]),('compimages', [[x[1] for x in sortedcomps]]),('compexp',[[x[2] for x in sortedcomps]]), ('compccd',[[x[3] for x in sortedcomps]]),('compdate',[[x[4] for x in sortedcomps]]),('comptef',[[round(x[0],3) for x in sortedcomps]])])                \n",
    "        search_array=search_array.append(tempframe, ignore_index=True)\n",
    "    \n",
    "        \n",
    "    return search_array"
   ]
  },
  {
   "cell_type": "code",
   "execution_count": 137,
   "metadata": {
    "collapsed": true
   },
   "outputs": [],
   "source": [
    "def writeStatus():\n",
    "    statstr=r'''<div>\n",
    "                <br><br>\n",
    "                <form action=\"action_page.php\" >\n",
    "                    <select name=\"Status\">\n",
    "                        <option value=\"Unchecked\" >Unchecked</option>\n",
    "                        <option value=\"Confirmed\">Confirmed</option>\n",
    "                        <option value=\"Rejected\">Rejected</option>\n",
    "                        <option value=\"Under Inspection\">Under Inspection</option>\n",
    "                    </select>\n",
    "                    <input type=\"submit\">\n",
    "                        </form>\n",
    "            </div>'''\n",
    "    return statstr"
   ]
  },
  {
   "cell_type": "code",
   "execution_count": 138,
   "metadata": {
    "collapsed": true
   },
   "outputs": [],
   "source": [
    "def makeHead(obs_properties, objid):\n",
    "    numobs=len(obs_properties)\n",
    "    headstr=r\"\"\"\n",
    "    <!DOCTYPE html>\n",
    "    <html>\n",
    "    <head>\n",
    "    <title>Candidate: \"\"\"+objid+ r\"\"\"</title>\n",
    "    <link href =\"style_content.css\" type=\"text/css\" rel=\"stylesheet\">\n",
    "    </head>\n",
    "    <body>\n",
    "        <div class = \"main\">\n",
    "            <div class = \"header\">\n",
    "                <h1> Candidate: \"\"\"+objid+r\"\"\"</h1>\n",
    "                <p><a href = \"homepage2.html\">Home</a></p>\n",
    "            </div>\"\"\"+writeStatus()+r\"\"\"\n",
    "            <div class = \"tab\" align = \"center\">\n",
    "                \n",
    "            <table width = \"700\" border=\"1\" align=\"center\">\n",
    "            <tr>\n",
    "            <td align=\"center\" colspan=\"10\"><b>Properties</b>\n",
    "            </td>\n",
    "            \n",
    "            <tr align = \"center\">\n",
    "                <td>Date</td>\n",
    "                <td>Ra</td>\n",
    "                <td>Dec</td>\n",
    "                <td>Expnum</td>\n",
    "                <td>Exptime</td>\n",
    "                <td>Band</td>\n",
    "                <td>Ccd</td>\n",
    "                <td>Mag</td>\n",
    "                <td>ml_score</td>\n",
    "                <td>Object ID</td>\n",
    "            </tr>\"\"\"\n",
    "\n",
    "    for i in range(0,numobs):\n",
    "        headstr+= r\"\"\"        <tr align = \"center\">\n",
    "                <td>\"\"\"+obs_properties['date'][i]+r\"\"\"</td>\n",
    "                <td>\"\"\"+obs_properties['ra'][i]+r\"\"\"</td>\n",
    "                <td>\"\"\"+obs_properties['dec'][i]+r\"\"\"</td>\n",
    "                <td>\"\"\"+str(obs_properties['expnum'][i])+r\"\"\"</td>\n",
    "                <td>\"\"\"+str(obs_properties['exptime'][i])+r\"\"\"</td>\n",
    "                <td>\"\"\"+obs_properties['band'][i]+r\"\"\"</td>\n",
    "                <td>\"\"\"+str(obs_properties['ccd'][i])+r\"\"\"</td>\n",
    "                <td>\"\"\"+str(obs_properties['mag'][i])+r\"\"\"</td>\n",
    "                <td>\"\"\"+str(obs_properties['ml_score'][i])+r\"\"\"</td>\n",
    "                <td>\"\"\"+str(obs_properties['objid'][i])+r\"\"\"</td>\n",
    "            </tr>\"\"\"\n",
    "\n",
    "    headstr+=\"\"\"\n",
    "        </table>\n",
    "            </div>\"\"\"\n",
    "    return headstr\n",
    "\n"
   ]
  },
  {
   "cell_type": "code",
   "execution_count": 139,
   "metadata": {
    "collapsed": false
   },
   "outputs": [],
   "source": [
    "def makeSearchTable(obs_properties, objid):\n",
    "    headstr=r\"\"\"\n",
    "            <div class = \"tab\" align = \"center\">\n",
    "                \n",
    "            <table width = \"700\" border=\"1\" align=\"center\">\n",
    "            <tr>\n",
    "            <td align=\"center\" colspan=\"10\"><b>Possible Exposures</b>\n",
    "            </td>\n",
    "            \n",
    "            <tr align = \"center\">\n",
    "                <td>Date</td>\n",
    "                <td>Ra</td>\n",
    "                <td>Dec</td>\n",
    "                <td>Expnum</td>\n",
    "                <td>Band</td>\n",
    "                <td>Ccd</td>\n",
    "                <td>PA </td>\n",
    "                <td>a</td>\n",
    "                <td>b</td>\n",
    "            </tr>\"\"\"\n",
    "\n",
    "    for i in obs_properties.index:\n",
    "        headstr+= r\"\"\"        <tr align = \"center\">\n",
    "                <td>\"\"\"+str(ephem.date(obs_properties['date'][i]))+r\"\"\"</td>\n",
    "                <td>\"\"\"+str(ephem.hours(obs_properties['can_ra'][i]))+r\"\"\"</td>\n",
    "                <td>\"\"\"+str(ephem.degrees(obs_properties['can_dec'][i]))+r\"\"\"</td>\n",
    "                <td>\"\"\"+str(int(obs_properties['expnum'][i]))+r\"\"\"</td>\n",
    "                <td>\"\"\"+str(obs_properties['band'][i])+r\"\"\"</td>\n",
    "                <td>\"\"\"+str(int(obs_properties['ccd'][i]))+r\"\"\"</td>\n",
    "                <td>\"\"\"+str(round(obs_properties['PA'][i],2))+r\"\"\"</td>\n",
    "                <td>\"\"\"+str(round(obs_properties['a'][i],2))+r\"\"\"</td>\n",
    "                <td>\"\"\"+str(round(obs_properties['b'][i],2))+r\"\"\"</td>\n",
    "            </tr>\"\"\"\n",
    "\n",
    "    headstr+=r\"\"\"\n",
    "        </table>\n",
    "            </div>\"\"\"\n",
    "    return headstr\n",
    "    "
   ]
  },
  {
   "cell_type": "code",
   "execution_count": 140,
   "metadata": {
    "collapsed": true
   },
   "outputs": [],
   "source": [
    "def tableHeader(objid):\n",
    "    tableHead = \"\"\"\t\t<div class = \"img\">\n",
    "\t\t\t<table ID=\"t02\" >\n",
    "\t\t\t\t<tr>\n",
    "\t\t\t\t\t<td align=\"center\" colspan=\"5\"><b>Images of \"\"\"+objid+\"\"\"</b>\n",
    "\t\t\t\t\t<p> Click on an image to expand it. </p>\n",
    "\t\t\t\t\t</td>\n",
    "                </tr>\n",
    "                    <th>Observations</th> <th>Comparison images ordered by decreasing t_eff</th> \"\"\"\n",
    "    return tableHead"
   ]
  },
  {
   "cell_type": "code",
   "execution_count": 141,
   "metadata": {
    "collapsed": true
   },
   "outputs": [],
   "source": [
    "def searchHeader(objid):\n",
    "    tableHead = \"\"\"\t\t<div class = \"img\">\n",
    "\t\t\t<table ID=\"t02\" >\n",
    "\t\t\t\t<tr>\n",
    "\t\t\t\t\t<td align=\"center\" colspan=\"5\"><b>Exposures coinciding with best fit orbit of \"\"\"+objid+\"\"\"</b>\n",
    "\t\t\t\t\t<p> Click on an image to expand it. </p>\n",
    "\t\t\t\t\t</td>\n",
    "                </tr>\n",
    "                    <th>Expected Observations</th> <th>Comparison images ordered by decreasing t_eff</th> \"\"\"\n",
    "    return tableHead"
   ]
  },
  {
   "cell_type": "code",
   "execution_count": 142,
   "metadata": {
    "collapsed": false
   },
   "outputs": [],
   "source": [
    "def writeImgTable(ImgArray, directory, raw_fname):\n",
    "    tableBody = ''\n",
    "    for i in range(0,len(ImgArray)):\n",
    "        refpng=ImgArray['refpng'][i]\n",
    "        expnum=ImgArray['expnum'][i]\n",
    "        refccd=ImgArray['refccd'][i]\n",
    "        refdate=ImgArray['refdate'][i]\n",
    "        reftef=ImgArray['reftef'][i]\n",
    "        compimages=ImgArray['compimages'][i]\n",
    "        compexp=ImgArray['compexp'][i]\n",
    "        compccd=ImgArray['compccd'][i]\n",
    "        compdate=ImgArray['compdate'][i]\n",
    "        comptef=ImgArray['comptef'][i]\n",
    "        tableBody+= '<tr align =\"center\">'\n",
    "        tableBody+= '<tr><td><p></p></td></tr>'\n",
    "        tableBody+= r'''<td> <u>t_eff = '''+str(reftef)+r'''</u></td>'''\n",
    "        for j in range(0,len(compimages)):\n",
    "            tableBody+= r'''<td><u> t_eff = '''+str(comptef[j])+'''</u></td>'''\n",
    "        tableBody += '</tr>\t\t<tr align = \"center\" valign=\"top\">'\n",
    "        tableBody += '\t\t\t'+r''' <td><a href = \"'''+directory+refpng+r'''\" ><img src= \"'''+directory+refpng+r'''\" align='center' alt = \"No Reference Image Available\"\n",
    "                width =\"200\" height=\"200\" align=\"center\" border = \"1\"></img> </a> </td>''' #This will have to change--probably get rid of: +raw_fname+'/'\n",
    "        for j in range(0,len(compimages)):\n",
    "            tableBody += '\t\t\t'+r'''<td> <a href = \"'''+directory+compimages[j]+'''\"><img src=\"'''+directory+compimages[j]+'''\" align='center' alt = \"Example 1 pic\"\n",
    "                width =\"200\" height=\"200\" align=\"center\" border = \"1\"></img></a> </td>''' #once again get rid of teh raw_fname part\n",
    "        tableBody+= r'''</tr>     <tr align = \"center\">'''\n",
    "        tableBody+= r'''<td>Expnum = '''+str(int(expnum))+r''', ccd = '''+ str(int(refccd))+r'''</td>'''\n",
    "        for j in range(0, len(compimages)):\n",
    "            tableBody+='''<td>Expnum = '''+str(compexp[j])+r''', ccd = '''+ str(compccd[j])+r'''</td>'''\n",
    "        tableBody+=r'''</tr> <tr align = \"center\" border-bottom=\"1px\">'''\n",
    "        tableBody+=r'''<td> Date: '''+str(refdate)+r'''</td>'''\n",
    "        for j in range(0, len(compimages)):\n",
    "            tableBody+=r'''<td> Date: '''+str(compdate[j])+r'''</td>'''\n",
    "        tableBody += \"</tr> \\n\"\n",
    "    \n",
    "    return tableBody"
   ]
  },
  {
   "cell_type": "code",
   "execution_count": 143,
   "metadata": {
    "collapsed": true
   },
   "outputs": [],
   "source": [
    "def writeComments():\n",
    "    comstr = r'''<div> \n",
    "    <br><br>\n",
    "    \n",
    "    \n",
    "    <table id=\"t01\" width = \"700\" align=\"center\" cellspacing=\"6\" cellpadding = \"2\" >\n",
    "        <tr>\n",
    "            <th align=\"center\" colspan=\"5\"><b>Comments</b> </th>\n",
    "        </tr>\n",
    "        <tr>\n",
    "            <td> 12/18/2016 </td>\n",
    "        </tr>\n",
    "        <tr>\n",
    "        <td > TNOs are so cool! </td>\n",
    "        </tr>\n",
    "        <tr>\n",
    "            <td > 12/15/2016 </td>\n",
    "        </tr>\n",
    "        <tr>\n",
    "            <td> This candidate is registered with the Minor Planet Center </td>\n",
    "        </tr>\n",
    "    \n",
    "    \n",
    "    \n",
    "    </table>\n",
    "\n",
    "    </div>'''\n",
    "    \n",
    "    return comstr"
   ]
  },
  {
   "cell_type": "code",
   "execution_count": 144,
   "metadata": {
    "collapsed": true
   },
   "outputs": [],
   "source": [
    "def writeLeavCom():\n",
    "    formstr=r'''<div>\n",
    "    <form action=\"gold_27.html\" method=\"post\">\n",
    "        <p>Comment:</p>\n",
    "        <textarea type=\"text\" name=\"name\"> </textarea> <br>\n",
    "    \n",
    "        <input type=\"submit\">\n",
    "    </form>\n",
    "    </div>'''\n",
    "    \n",
    "    \n",
    "    return formstr"
   ]
  },
  {
   "cell_type": "code",
   "execution_count": 145,
   "metadata": {
    "collapsed": true
   },
   "outputs": [],
   "source": [
    "def buildpage(obs_properties, searchFrame, flistObs, flistSearch, directory, raw_fnameObs,raw_fnameSearch, exp_values, objid):\n",
    "    print \"making image array\", time.ctime()\n",
    "    ImgArray=makeImgArray(obs_properties, flistObs, directory, raw_fnameObs, exp_values)\n",
    "    print \"making search array\", time.ctime()\n",
    "    SearchArray=makeSearchArray(searchFrame,flistSearch,directory,raw_fnameSearch, exp_values)\n",
    "    print \"writing web page\", time.ctime()\n",
    "    indivpage = makeHead(obs_properties, objid) + tableHeader(objid) + '''</tr> \\n\n",
    "    '''+ writeImgTable(ImgArray, directory, raw_fnameObs)+'''\n",
    "        \t\t\n",
    "\t\t\n",
    "\t\t\n",
    "\t</table>\n",
    "\t\t\n",
    "\t</div>'''+writeComments()+writeLeavCom()+ makeSearchTable(searchFrame, objid)+searchHeader(objid)+'''</tr> \\n\n",
    "    '''+writeImgTable(SearchArray,directory, raw_fnameSearch)+r'''\n",
    "    \n",
    "    </table>\n",
    "    </div>'''+writeComments()+writeLeavCom()+r'''\n",
    "    \n",
    "    </body>\n",
    "\n",
    "    </html>'''\n",
    "    return indivpage"
   ]
  },
  {
   "cell_type": "code",
   "execution_count": 146,
   "metadata": {
    "collapsed": true
   },
   "outputs": [],
   "source": [
    "def findExposures(candidate):\n",
    "    all_exps = read_csv('exposures.csv')\n",
    "    df = read_csv(candidate)\n",
    "    orb = fit_orbit(df)\n",
    "    matches=DataFrame() #Dataframe is a panda function.  Creates an empty dataframe\n",
    "    \n",
    "    #Checks to see the position of the candidate in the orbit and does that position lie in any ccd\n",
    "    for i in all_exps[all_exps['t_eff']>.3].index:\n",
    "        e_ra, e_dec=all_exps['ra'][i],all_exps['dec'][i]\n",
    "        pos=orb.predict_pos(all_exps['date'][i]) #Predicts position \n",
    "        pos_ra, pos_dec=pos['ra'], pos['dec']\n",
    "        ccdname, ccdnum = compute_chip(pos_ra, pos_dec, e_ra, e_dec)\n",
    "        if ccdnum>0:\n",
    "            temp=all_exps.loc[i,['expnum','date','nite','band','t_eff']]\n",
    "            temp['ccd']=ccdnum\n",
    "            temp['can_ra']=pos_ra\n",
    "            temp['can_dec']=pos_dec\n",
    "            temp['PA']=pos['err']['PA']\n",
    "            temp['a']=pos['err']['a'] #Semimajor axis of error elipse\n",
    "            temp['b']=pos['err']['b'] #Semiminor axis of error elipse\n",
    "            temp['isinobs']=all_exps['expnum'][i] in list(df['expnum']) #True if it should be in top section of array aka we know if should be in that exposure\n",
    "            matches=matches.append(temp,ignore_index=True)\n",
    "    return matches"
   ]
  },
  {
   "cell_type": "code",
   "execution_count": 147,
   "metadata": {
    "collapsed": true
   },
   "outputs": [],
   "source": [
    "#Takes all the matches.  Sends the list of RA and DEC to the thumbnail generator\n",
    "\n",
    "def sendObsRequest(matches):\n",
    "    ra=list(np.degrees(matches[matches['isinobs']==True]['can_ra']))\n",
    "    dec=list(np.degrees(matches[matches['isinobs']==True]['can_dec']))\n",
    "    bands='[g,r,i,z]'\n",
    "    req='http://desdev3.cosmology.illinois.edu:8000/api?username=scheibne&password=sch70chips&ra=%s&dec=%s&bands=%s' % (ra,dec,bands)\n",
    "    submit = requests.get(req)\n",
    "    return submit.json()['job'] # Returns job ID, long string"
   ]
  },
  {
   "cell_type": "code",
   "execution_count": 148,
   "metadata": {
    "collapsed": true
   },
   "outputs": [],
   "source": [
    "#Does the same thing as sendObsRequest except for the reference images\n",
    "\n",
    "def sendSearchRequest(matches):\n",
    "    ra=list(np.degrees(matches[matches['isinobs']==False]['can_ra']))\n",
    "    dec=list(np.degrees(matches[matches['isinobs']==False]['can_dec']))\n",
    "    bands='[g,r,i,z]'\n",
    "    req='http://desdev3.cosmology.illinois.edu:8000/api?username=scheibne&password=sch70chips&ra=%s&dec=%s&bands=%s' % (ra,dec,bands)\n",
    "    submit = requests.get(req)\n",
    "    return submit.json()['job']"
   ]
  },
  {
   "cell_type": "code",
   "execution_count": 149,
   "metadata": {
    "collapsed": true
   },
   "outputs": [],
   "source": [
    "def getImageTar(candidate):\n",
    "    matches=findExposures(candidate)\n",
    "    \n",
    "    #The name of the tar.gz file is just the job ID plus .tar.gz\n",
    "    rawFileObs=sendObsRequest(matches)\n",
    "    rawFileSearch=sendSearchRequest(matches)\n",
    "    \n",
    "    #Slices of matches where isinobs is true or false\n",
    "    observed=matches[matches['isinobs']==True]\n",
    "    expected=matches[matches['isinobs']==False]\n",
    "    return rawFileObs,rawFileSearch,observed,expected"
   ]
  },
  {
   "cell_type": "code",
   "execution_count": 150,
   "metadata": {
    "collapsed": true
   },
   "outputs": [],
   "source": [
    "#takes the filename of json and returns a list of dicts\n",
    "def open_json(jsonName):\n",
    "    f = open(jsonName, \"r\")\n",
    "    s=f.read()\n",
    "    type(s)\n",
    "    book = json.loads(s)\n",
    "    return book"
   ]
  },
  {
   "cell_type": "code",
   "execution_count": 151,
   "metadata": {
    "collapsed": true
   },
   "outputs": [],
   "source": [
    "#takes a job id and returns \"temp_<jobid>\", which is the name of directory containting all the files from the thumbnail request\n",
    "def fetchFiles(jobid):\n",
    "   \n",
    "    while True:\n",
    "        os.system('wget -O file_list_'+jobid+'.txt http://desdev3.cosmology.illinois.edu:8000/static/uploads/scheibne/results/'+jobid+'/file_list.txt')\n",
    "        myfile=open(os.getcwd()+'/file_list_'+jobid+'.txt')\n",
    "        mylines=myfile.readlines()\n",
    "        if mylines==[]:\n",
    "            time.sleep(10)\n",
    "        else:\n",
    "            break\n",
    "            \n",
    "            \n",
    "    newlines=[]\n",
    "    for l in mylines:\n",
    "        if l[-5:-1]=='fits' or l[-5:-1]=='json':\n",
    "            newlines+=['http://desdev3.cosmology.illinois.edu:8000'+l[37:]]\n",
    "    newfilelist=open('newfile_list.txt','w')\n",
    "    newfilelist.writelines(newlines)\n",
    "    newfilelist.close()\n",
    "    myfile.close()\n",
    "    try:\n",
    "        os.mkdir('temp_'+jobid) #will this work if directory already exists? Yes. Maybe just use the job id as the directory name\n",
    "    except:\n",
    "        print \"temp_\"+jobid+\" already exists\"\n",
    "    os.chdir('temp_'+jobid)\n",
    "    os.system('wget -i '+'../newfile_list.txt')\n",
    "    os.chdir('..')\n",
    "    os.remove('file_list_'+jobid+'.txt')\n",
    "    return 'temp_'+jobid"
   ]
  },
  {
   "cell_type": "code",
   "execution_count": 152,
   "metadata": {
    "collapsed": true
   },
   "outputs": [],
   "source": [
    "#takes a directory, preferablly the directory given from fetchFiles. Creates sub directories called thumbs_0, thumbs_1 ,...\n",
    "#populates each thumb directory with fits files sharing the same ra/dec center. \n",
    "def organizeTempDirectory(tempDirectory):\n",
    "    os.chdir(tempDirectory)\n",
    "    jsonlist=glob.glob('*.json*')\n",
    "    for i in range(len(jsonlist)):\n",
    "        try:\n",
    "            os.mkdir('thumbs_'+str(i))\n",
    "        except:\n",
    "            print 'thumbs_'+str(i)+' already exists'\n",
    "        jarray=open_json(jsonlist[i])\n",
    "        for j in jarray:\n",
    "            try: \n",
    "                os.system('mv '+j['png_name'][:-3]+'fits'+' thumbs_'+str(i)) \n",
    "            except:\n",
    "                print \"Could not move file\"\n",
    "    os.chdir('..')"
   ]
  },
  {
   "cell_type": "code",
   "execution_count": 153,
   "metadata": {
    "collapsed": false
   },
   "outputs": [],
   "source": [
    "def main(directory, obfile):\n",
    "    os.chdir(directory)\n",
    "    obs_props=read_csv(obfile) #The .csv files contain a list of RA and DEC of an object in the sky at every point it was observed\n",
    "    objid=obfile[:-4]\n",
    "    \n",
    "    print \"finding exposures\", time.ctime()\n",
    "    #Exposures is a ton of exposures with teff over a certain threshold\n",
    "    exposures = read_csv('exposures.csv') \n",
    "    exp_values = exposures.ix[:,['expnum','t_eff']]\n",
    "    \n",
    "    print \"sending job\", time.ctime()\n",
    "    \n",
    "    rawFileObs, rawFileSearch, observed, expecteds = getImageTar(obfile)\n",
    "    \n",
    "    print \"job sent\", time.ctime()\n",
    "    \n",
    "    \n",
    "    raw_fnameObs =  fetchFiles(rawFileObs) \n",
    "    raw_fnameSearch= fetchFiles(rawFileSearch)\n",
    "\n",
    "\n",
    "    print \"job retrieved\", time.ctime()       \n",
    "        \n",
    "    organizeTempDirectory(raw_fnameObs)\n",
    "    organizeTempDirectory(raw_fnameSearch)\n",
    "    print \"job organized\", time.ctime()\n",
    "    \n",
    "    os.chdir(directory+'/'+raw_fnameObs)\n",
    "    flistObs = glob.glob('thumbs*')\n",
    "    os.chdir(directory+'/'+raw_fnameSearch)\n",
    "    flistSearch = glob.glob('thumbs*')\n",
    "    \n",
    "    print \"building page\", time.ctime()\n",
    "    page = buildpage(obs_props, expecteds, flistObs, flistSearch, directory, raw_fnameObs, raw_fnameSearch, exp_values, objid)\n",
    "    os.chdir(directory)\n",
    "    \n",
    "    print \"page built, writing page\", time.ctime()\n",
    "    with open(objid+'.html', 'w') as fout:\n",
    "        fout.write(page)\n",
    "    \n",
    "    \n",
    "    os.system('rm -r '+raw_fnameObs)\n",
    "    os.system('rm -r '+raw_fnameSearch)\n",
    "    \n",
    "    \n",
    "    print 'done', time.ctime()\n",
    "#print pag"
   ]
  },
  {
   "cell_type": "code",
   "execution_count": 154,
   "metadata": {
    "collapsed": false
   },
   "outputs": [
    {
     "name": "stdout",
     "output_type": "stream",
     "text": [
      "finding exposures Thu Jul 14 14:38:43 2016\n",
      "sending job Thu Jul 14 14:38:44 2016\n",
      "job sent Thu Jul 14 14:38:50 2016\n",
      "job retrieved Thu Jul 14 14:39:53 2016\n",
      "job organized Thu Jul 14 14:39:54 2016\n",
      "building page Thu Jul 14 14:39:54 2016\n",
      "making image array Thu Jul 14 14:39:54 2016\n",
      "511748\n",
      "511748\n",
      "making search array Thu Jul 14 14:40:15 2016\n",
      "entering row0 Thu Jul 14 14:40:15 2016\n",
      "     checking thumbthumbs_0 Thu Jul 14 14:40:15 2016\n",
      "         Found correct thumb Thu Jul 14 14:40:15 2016\n",
      "507755\n",
      "         Done writing row Thu Jul 14 14:40:18 2016\n",
      "entering row1 Thu Jul 14 14:40:18 2016\n",
      "     checking thumbthumbs_1 Thu Jul 14 14:40:18 2016\n",
      "         Found correct thumb Thu Jul 14 14:40:18 2016\n",
      "         Done writing row Thu Jul 14 14:40:21 2016\n",
      "entering row8 Thu Jul 14 14:40:21 2016\n",
      "     checking thumbthumbs_2 Thu Jul 14 14:40:21 2016\n",
      "         Found correct thumb Thu Jul 14 14:40:21 2016\n",
      "         Done writing row Thu Jul 14 14:40:24 2016\n",
      "entering row10 Thu Jul 14 14:40:24 2016\n",
      "     checking thumbthumbs_3 Thu Jul 14 14:40:24 2016\n",
      "     checking thumbthumbs_4 Thu Jul 14 14:40:24 2016\n",
      "     checking thumbthumbs_5 Thu Jul 14 14:40:25 2016\n",
      "     checking thumbthumbs_6 Thu Jul 14 14:40:25 2016\n",
      "entering row11 Thu Jul 14 14:40:25 2016\n",
      "     checking thumbthumbs_3 Thu Jul 14 14:40:25 2016\n",
      "     checking thumbthumbs_4 Thu Jul 14 14:40:25 2016\n",
      "         Found correct thumb Thu Jul 14 14:40:26 2016\n",
      "         Done writing row Thu Jul 14 14:40:29 2016\n",
      "entering row12 Thu Jul 14 14:40:29 2016\n",
      "     checking thumbthumbs_3 Thu Jul 14 14:40:29 2016\n",
      "     checking thumbthumbs_5 Thu Jul 14 14:40:29 2016\n",
      "         Found correct thumb Thu Jul 14 14:40:29 2016\n",
      "         Done writing row Thu Jul 14 14:40:32 2016\n",
      "entering row14 Thu Jul 14 14:40:32 2016\n",
      "     checking thumbthumbs_3 Thu Jul 14 14:40:32 2016\n",
      "     checking thumbthumbs_6 Thu Jul 14 14:40:32 2016\n",
      "         Found correct thumb Thu Jul 14 14:40:33 2016\n",
      "         Done writing row Thu Jul 14 14:40:37 2016\n",
      "writing web page Thu Jul 14 14:40:37 2016\n",
      "page built, writing page Thu Jul 14 14:40:37 2016\n",
      "done Thu Jul 14 14:40:37 2016\n",
      "1.88572444916 minutes\n"
     ]
    }
   ],
   "source": [
    "if __name__ == '__main__':\n",
    "    start_time = time.time()\n",
    "    main('/Users/ColinS/Documents/TNO_Webpage/','distant_s13_y2.csv')\n",
    "    minutes = (((time.time() - start_time)) / 60)\n",
    "    print(\"%s minutes\" % (minutes))"
   ]
  },
  {
   "cell_type": "markdown",
   "metadata": {},
   "source": [
    "Second run with more print statements.\n",
    "\n",
    "finding exposures Thu Jul 14 10:05:14 2016\n",
    "sending job Thu Jul 14 10:05:14 2016\n",
    "True\n",
    "{u'status': u'ok', u'job': u'd689cbc5-28d6-4321-b13c-243ae02de881', u'message': u'Job d689cbc5-28d6-4321-b13c-243ae02de881 for scheibne has been submitted'}\n",
    "job sent Thu Jul 14 10:05:20 2016\n",
    "job retrieved Thu Jul 14 10:06:21 2016\n",
    "job organized Thu Jul 14 10:06:23 2016\n",
    "building page Thu Jul 14 10:06:23 2016\n",
    "making image array Thu Jul 14 10:06:23 2016\n",
    "here is flistcopy before ['thumbs_0', 'thumbs_1', 'thumbs_2']\n",
    "cp /Users/ColinS/Documents/TNO_Webpage/temp_d689cbc5-28d6-4321-b13c-243ae02de881/thumbs_2/*.png /Users/ColinS/Documents/TNO_Webpage/NotTempImgs_temp_d689cbc5-28d6-4321-b13c-243ae02de881/\n",
    "cp /Users/ColinS/Documents/TNO_Webpage/temp_d689cbc5-28d6-4321-b13c-243ae02de881/thumbs_0/*.png /Users/ColinS/Documents/TNO_Webpage/NotTempImgs_temp_d689cbc5-28d6-4321-b13c-243ae02de881/\n",
    "cp /Users/ColinS/Documents/TNO_Webpage/temp_d689cbc5-28d6-4321-b13c-243ae02de881/thumbs_1/*.png /Users/ColinS/Documents/TNO_Webpage/NotTempImgs_temp_d689cbc5-28d6-4321-b13c-243ae02de881/\n",
    "making search array Thu Jul 14 10:06:47 2016\n",
    "here is flistcopy before ['thumbs_0', 'thumbs_1', 'thumbs_10', 'thumbs_11', 'thumbs_2', 'thumbs_3', 'thumbs_4', 'thumbs_5', 'thumbs_6', 'thumbs_7', 'thumbs_8', 'thumbs_9']\n",
    "entering row0 Thu Jul 14 10:06:47 2016\n",
    "     checking thumbthumbs_0 Thu Jul 14 10:06:47 2016\n",
    "         Found correct thumb Thu Jul 14 10:06:47 2016\n",
    "         Done writing row Thu Jul 14 10:06:55 2016\n",
    "entering row1 Thu Jul 14 10:06:55 2016\n",
    "     checking thumbthumbs_1 Thu Jul 14 10:06:55 2016\n",
    "         Found correct thumb Thu Jul 14 10:06:55 2016\n",
    "         Done writing row Thu Jul 14 10:07:01 2016\n",
    "entering row2 Thu Jul 14 10:07:01 2016\n",
    "     checking thumbthumbs_10 Thu Jul 14 10:07:01 2016\n",
    "     checking thumbthumbs_11 Thu Jul 14 10:07:02 2016\n",
    "     checking thumbthumbs_2 Thu Jul 14 10:07:02 2016\n",
    "     checking thumbthumbs_3 Thu Jul 14 10:07:02 2016\n",
    "     checking thumbthumbs_4 Thu Jul 14 10:07:02 2016\n",
    "     checking thumbthumbs_5 Thu Jul 14 10:07:03 2016\n",
    "     checking thumbthumbs_6 Thu Jul 14 10:07:03 2016\n",
    "     checking thumbthumbs_7 Thu Jul 14 10:07:03 2016\n",
    "     checking thumbthumbs_8 Thu Jul 14 10:07:03 2016\n",
    "     checking thumbthumbs_9 Thu Jul 14 10:07:03 2016\n",
    "entering row3 Thu Jul 14 10:07:03 2016\n",
    "     checking thumbthumbs_10 Thu Jul 14 10:07:03 2016\n",
    "     checking thumbthumbs_11 Thu Jul 14 10:07:04 2016\n",
    "     checking thumbthumbs_2 Thu Jul 14 10:07:04 2016\n",
    "     checking thumbthumbs_3 Thu Jul 14 10:07:04 2016\n",
    "     checking thumbthumbs_4 Thu Jul 14 10:07:04 2016\n",
    "         Found correct thumb Thu Jul 14 10:07:05 2016\n",
    "         Done writing row Thu Jul 14 10:07:15 2016\n",
    "entering row6 Thu Jul 14 10:07:15 2016\n",
    "     checking thumbthumbs_10 Thu Jul 14 10:07:15 2016\n",
    "     checking thumbthumbs_11 Thu Jul 14 10:07:15 2016\n",
    "     checking thumbthumbs_2 Thu Jul 14 10:07:15 2016\n",
    "     checking thumbthumbs_3 Thu Jul 14 10:07:15 2016\n",
    "     checking thumbthumbs_5 Thu Jul 14 10:07:16 2016\n",
    "     checking thumbthumbs_6 Thu Jul 14 10:07:16 2016\n",
    "         Found correct thumb Thu Jul 14 10:07:16 2016\n",
    "         Done writing row Thu Jul 14 10:07:28 2016\n",
    "entering row8 Thu Jul 14 10:07:28 2016\n",
    "     checking thumbthumbs_10 Thu Jul 14 10:07:28 2016\n",
    "     checking thumbthumbs_11 Thu Jul 14 10:07:28 2016\n",
    "     checking thumbthumbs_2 Thu Jul 14 10:07:28 2016\n",
    "     checking thumbthumbs_3 Thu Jul 14 10:07:28 2016\n",
    "     checking thumbthumbs_5 Thu Jul 14 10:07:29 2016\n",
    "     checking thumbthumbs_7 Thu Jul 14 10:07:29 2016\n",
    "     checking thumbthumbs_8 Thu Jul 14 10:07:29 2016\n",
    "     checking thumbthumbs_9 Thu Jul 14 10:07:29 2016\n",
    "entering row9 Thu Jul 14 10:07:29 2016\n",
    "     checking thumbthumbs_10 Thu Jul 14 10:07:29 2016\n",
    "     checking thumbthumbs_11 Thu Jul 14 10:07:30 2016\n",
    "     checking thumbthumbs_2 Thu Jul 14 10:07:30 2016\n",
    "     checking thumbthumbs_3 Thu Jul 14 10:07:30 2016\n",
    "     checking thumbthumbs_5 Thu Jul 14 10:07:30 2016\n",
    "     checking thumbthumbs_7 Thu Jul 14 10:07:31 2016\n",
    "     checking thumbthumbs_8 Thu Jul 14 10:07:31 2016\n",
    "         Found correct thumb Thu Jul 14 10:07:31 2016\n",
    "         Done writing row Thu Jul 14 10:07:39 2016\n",
    "entering row11 Thu Jul 14 10:07:39 2016\n",
    "     checking thumbthumbs_10 Thu Jul 14 10:07:39 2016\n",
    "     checking thumbthumbs_11 Thu Jul 14 10:07:39 2016\n",
    "     checking thumbthumbs_2 Thu Jul 14 10:07:39 2016\n",
    "     checking thumbthumbs_3 Thu Jul 14 10:07:39 2016\n",
    "     checking thumbthumbs_5 Thu Jul 14 10:07:40 2016\n",
    "     checking thumbthumbs_7 Thu Jul 14 10:07:40 2016\n",
    "     checking thumbthumbs_9 Thu Jul 14 10:07:40 2016\n",
    "         Found correct thumb Thu Jul 14 10:07:40 2016\n",
    "         Done writing row Thu Jul 14 10:07:52 2016\n",
    "entering row12 Thu Jul 14 10:07:52 2016\n",
    "     checking thumbthumbs_10 Thu Jul 14 10:07:52 2016\n",
    "         Found correct thumb Thu Jul 14 10:07:52 2016\n",
    "         Done writing row Thu Jul 14 10:08:04 2016\n",
    "entering row13 Thu Jul 14 10:08:04 2016\n",
    "     checking thumbthumbs_11 Thu Jul 14 10:08:04 2016\n",
    "         Found correct thumb Thu Jul 14 10:08:04 2016\n",
    "         Done writing row Thu Jul 14 10:08:15 2016\n",
    "entering row14 Thu Jul 14 10:08:15 2016\n",
    "     checking thumbthumbs_2 Thu Jul 14 10:08:15 2016\n",
    "         Found correct thumb Thu Jul 14 10:08:15 2016\n",
    "         Done writing row Thu Jul 14 10:08:27 2016\n",
    "entering row15 Thu Jul 14 10:08:27 2016\n",
    "     checking thumbthumbs_3 Thu Jul 14 10:08:27 2016\n",
    "     checking thumbthumbs_5 Thu Jul 14 10:08:27 2016\n",
    "     checking thumbthumbs_7 Thu Jul 14 10:08:27 2016\n",
    "entering row16 Thu Jul 14 10:08:27 2016\n",
    "     checking thumbthumbs_3 Thu Jul 14 10:08:27 2016\n",
    "         Found correct thumb Thu Jul 14 10:08:27 2016\n",
    "         Done writing row Thu Jul 14 10:08:38 2016\n",
    "writing web page Thu Jul 14 10:08:39 2016\n",
    "0\n",
    "1\n",
    "2\n",
    "3\n",
    "6\n",
    "8\n",
    "9\n",
    "11\n",
    "12\n",
    "13\n",
    "14\n",
    "15\n",
    "16\n",
    "page built, writing page Thu Jul 14 10:08:39 2016\n",
    "done Thu Jul 14 10:08:39 2016"
   ]
  },
  {
   "cell_type": "markdown",
   "metadata": {},
   "source": [
    "From our first run--naivee breakstatements\n",
    "\n",
    "finding exposures Thu Jul 14 09:34:03 2016\n",
    "sending job Thu Jul 14 09:34:03 2016\n",
    "True\n",
    "{u'status': u'ok', u'job': u'7b4d571a-215a-4c19-aa6b-183a99968bee', u'message': u'Job 7b4d571a-215a-4c19-aa6b-183a99968bee for scheibne has been submitted'}\n",
    "job sent Thu Jul 14 09:34:09 2016\n",
    "job retrieved Thu Jul 14 09:35:11 2016\n",
    "job organized Thu Jul 14 09:35:13 2016\n",
    "building page Thu Jul 14 09:35:13 2016\n",
    "making image array Thu Jul 14 09:35:13 2016\n",
    "here is flistcopy before ['thumbs_0', 'thumbs_1', 'thumbs_2']\n",
    "cp /Users/ColinS/Documents/TNO_Webpage/temp_7b4d571a-215a-4c19-aa6b-183a99968bee/thumbs_2/*.png /Users/ColinS/Documents/TNO_Webpage/NotTempImgs_temp_7b4d571a-215a-4c19-aa6b-183a99968bee/\n",
    "cp /Users/ColinS/Documents/TNO_Webpage/temp_7b4d571a-215a-4c19-aa6b-183a99968bee/thumbs_0/*.png /Users/ColinS/Documents/TNO_Webpage/NotTempImgs_temp_7b4d571a-215a-4c19-aa6b-183a99968bee/\n",
    "cp /Users/ColinS/Documents/TNO_Webpage/temp_7b4d571a-215a-4c19-aa6b-183a99968bee/thumbs_1/*.png /Users/ColinS/Documents/TNO_Webpage/NotTempImgs_temp_7b4d571a-215a-4c19-aa6b-183a99968bee/\n",
    "making search array Thu Jul 14 09:35:38 2016\n",
    "here is flistcopy before ['thumbs_0', 'thumbs_1', 'thumbs_10', 'thumbs_11', 'thumbs_2', 'thumbs_3', 'thumbs_4', 'thumbs_5', 'thumbs_6', 'thumbs_7', 'thumbs_8', 'thumbs_9']\n",
    "0\n",
    "1\n",
    "2\n",
    "3\n",
    "6\n",
    "8\n",
    "9\n",
    "11\n",
    "12\n",
    "13\n",
    "14\n",
    "15\n",
    "16\n",
    "writing web page Thu Jul 14 09:37:34 2016\n",
    "0\n",
    "1\n",
    "2\n",
    "3\n",
    "6\n",
    "8\n",
    "9\n",
    "11\n",
    "12\n",
    "13\n",
    "14\n",
    "15\n",
    "16\n",
    "page built, writing page Thu Jul 14 09:37:34 2016\n",
    "done Thu Jul 14 09:37:34 2016"
   ]
  },
  {
   "cell_type": "code",
   "execution_count": null,
   "metadata": {
    "collapsed": true
   },
   "outputs": [],
   "source": []
  },
  {
   "cell_type": "code",
   "execution_count": 29,
   "metadata": {
    "collapsed": false
   },
   "outputs": [],
   "source": [
    "#rawFileObs, rawFileSearch, observed, expecteds = getImageTar(\"good_2.csv\")"
   ]
  },
  {
   "cell_type": "code",
   "execution_count": 30,
   "metadata": {
    "collapsed": false
   },
   "outputs": [],
   "source": [
    "#main('/Users/ColinS/Documents/TNO_Webpage/','good_2.csv',expecteds, rawFileObs, rawFileSearch)"
   ]
  },
  {
   "cell_type": "code",
   "execution_count": null,
   "metadata": {
    "collapsed": true
   },
   "outputs": [],
   "source": []
  },
  {
   "cell_type": "code",
   "execution_count": null,
   "metadata": {
    "collapsed": true
   },
   "outputs": [],
   "source": []
  },
  {
   "cell_type": "markdown",
   "metadata": {
    "collapsed": false
   },
   "source": [
    "makeIndividualWebpage('/Users/ColinS/Documents/TNOSearch','gold_27.csv','5ad98083-9dcb-41e3-aed2-b9bd25237430.tar.gz')"
   ]
  },
  {
   "cell_type": "code",
   "execution_count": null,
   "metadata": {
    "collapsed": false
   },
   "outputs": [],
   "source": [
    "#makeIndividualWebpage('/Users/lynuszullo/pyOrbfit','good_2.csv',expecteds,'8e9ca6ad-11b1-4d58-ac89-18009f2a797b.tar', 'a84925eb-f279-437c-8619-9c9b8edc2d74.tar')"
   ]
  },
  {
   "cell_type": "markdown",
   "metadata": {
    "collapsed": false
   },
   "source": [
    "makeIndividualWebpage('/Users/ColinS/Documents/TNOSearch','QR441.csv','8e1523a8-2194-4464-a80b-1306feadacad.tar')"
   ]
  },
  {
   "cell_type": "markdown",
   "metadata": {},
   "source": [
    "Here is an example of an input:\n",
    "makeIndividualWebpage('/Users/ColinS/Documents/TNOSearch','Fakegold.csv','5ad98083-9dcb-41e3-aed2-b9bd25237430.tar.gz')\n"
   ]
  },
  {
   "cell_type": "code",
   "execution_count": null,
   "metadata": {
    "collapsed": false
   },
   "outputs": [],
   "source": [
    "all_exps=read_csv('exposures.csv')\n",
    "mymatches=findExposures('good_2.csv')"
   ]
  },
  {
   "cell_type": "code",
   "execution_count": null,
   "metadata": {
    "collapsed": true
   },
   "outputs": [],
   "source": [
    "goodObs=read_csv('good_2.csv')"
   ]
  },
  {
   "cell_type": "code",
   "execution_count": null,
   "metadata": {
    "collapsed": false
   },
   "outputs": [],
   "source": [
    "goodObs[goodObs['expnum']==386739]"
   ]
  },
  {
   "cell_type": "code",
   "execution_count": null,
   "metadata": {
    "collapsed": false
   },
   "outputs": [],
   "source": [
    "mymatches.head()"
   ]
  },
  {
   "cell_type": "code",
   "execution_count": null,
   "metadata": {
    "collapsed": true
   },
   "outputs": [],
   "source": [
    "expecteds=mymatches[mymatches['isinobs']==False]"
   ]
  },
  {
   "cell_type": "code",
   "execution_count": null,
   "metadata": {
    "collapsed": false
   },
   "outputs": [],
   "source": [
    "expecteds"
   ]
  },
  {
   "cell_type": "code",
   "execution_count": null,
   "metadata": {
    "collapsed": false
   },
   "outputs": [],
   "source": [
    "unzip_tar('a84925eb-f279-437c-8619-9c9b8edc2d74.tar')"
   ]
  },
  {
   "cell_type": "code",
   "execution_count": null,
   "metadata": {
    "collapsed": true
   },
   "outputs": [],
   "source": [
    "os.chdir('/Users/ColinS/Documents/TNOSearch/'+'a84925eb-f279-437c-8619-9c9b8edc2d74')"
   ]
  },
  {
   "cell_type": "code",
   "execution_count": null,
   "metadata": {
    "collapsed": true
   },
   "outputs": [],
   "source": [
    "myflist=glob.glob('thumbs*')"
   ]
  },
  {
   "cell_type": "code",
   "execution_count": null,
   "metadata": {
    "collapsed": false
   },
   "outputs": [],
   "source": [
    "tempSearchArray=makeSearchArray(expecteds,myflist,'/Users/ColinS/Documents/TNOSearch','a84925eb-f279-437c-8619-9c9b8edc2d74',all_exps)"
   ]
  },
  {
   "cell_type": "code",
   "execution_count": null,
   "metadata": {
    "collapsed": false
   },
   "outputs": [],
   "source": [
    "tempSearchArray.head()"
   ]
  },
  {
   "cell_type": "code",
   "execution_count": null,
   "metadata": {
    "collapsed": false
   },
   "outputs": [],
   "source": [
    "str(ephem.hours(expecteds['can_ra'][1]))"
   ]
  },
  {
   "cell_type": "code",
   "execution_count": null,
   "metadata": {
    "collapsed": false
   },
   "outputs": [],
   "source": [
    "np.degrees(expecteds['can_ra'][1])"
   ]
  },
  {
   "cell_type": "code",
   "execution_count": null,
   "metadata": {
    "collapsed": false
   },
   "outputs": [],
   "source": [
    "len(myflist)"
   ]
  },
  {
   "cell_type": "markdown",
   "metadata": {},
   "source": [
    "Potential Problem expousure numbers:\n",
    "    459985\n",
    "230084\n",
    "231480\n",
    "238906\n",
    "240458\n",
    "245899\n",
    "247890\n",
    "251065\n",
    "255875\n",
    "261942\n",
    "267565\n",
    "275246\n",
    "277592\n",
    "354905\n",
    "359571\n",
    "360540\n",
    "369023\n",
    "372919\n",
    "379269\n",
    "381508\n",
    "382518\n",
    "389436\n",
    "391629\n",
    "395515\n",
    "398240\n",
    "400779\n",
    "403386\n",
    "459983\n",
    "464794\n",
    "466292\n",
    "474311\n",
    "475839\n",
    "478352\n",
    "483388\n",
    "484472\n",
    "506645\n",
    "459985\n",
    "459985\n",
    "345372\n",
    "345373\n",
    "226647\n",
    "228716\n",
    "230090\n",
    "231474\n",
    "237666\n",
    "242388\n",
    "243829\n",
    "245905\n",
    "255881\n",
    "258477\n",
    "275252\n",
    "277598\n",
    "280306\n",
    "345371\n",
    "348369\n",
    "352863\n",
    "359564\n",
    "367108\n",
    "371612\n",
    "376673\n",
    "379263\n",
    "381225\n",
    "381502\n",
    "389430\n",
    "401525\n",
    "475492\n",
    "482091\n",
    "485807\n",
    "492427\n",
    "494279\n",
    "497332\n",
    "500457\n",
    "501985\n",
    "506784\n",
    "508804\n",
    "345372\n",
    "345373\n",
    "345372\n",
    "345373\n",
    "345372\n",
    "459985"
   ]
  },
  {
   "cell_type": "code",
   "execution_count": null,
   "metadata": {
    "collapsed": false
   },
   "outputs": [],
   "source": [
    "mySearchTable=makeSearchTable(expecteds, \"good_2\")"
   ]
  },
  {
   "cell_type": "code",
   "execution_count": null,
   "metadata": {
    "collapsed": false
   },
   "outputs": [],
   "source": [
    "str(expecteds['b'][0])"
   ]
  },
  {
   "cell_type": "code",
   "execution_count": null,
   "metadata": {
    "collapsed": false
   },
   "outputs": [],
   "source": [
    "str(round(expecteds['b'][0],3))"
   ]
  },
  {
   "cell_type": "code",
   "execution_count": null,
   "metadata": {
    "collapsed": false
   },
   "outputs": [],
   "source": [
    "str(ephem.date(4444444.5))"
   ]
  },
  {
   "cell_type": "code",
   "execution_count": null,
   "metadata": {
    "collapsed": false
   },
   "outputs": [],
   "source": [
    "all_exps[all_exps['t_eff']>.3].index"
   ]
  },
  {
   "cell_type": "code",
   "execution_count": null,
   "metadata": {
    "collapsed": true
   },
   "outputs": [],
   "source": []
  }
 ],
 "metadata": {
  "anaconda-cloud": {},
  "kernelspec": {
   "display_name": "Python 2",
   "language": "python",
   "name": "python2"
  },
  "language_info": {
   "codemirror_mode": {
    "name": "ipython",
    "version": 2
   },
   "file_extension": ".py",
   "mimetype": "text/x-python",
   "name": "python",
   "nbconvert_exporter": "python",
   "pygments_lexer": "ipython2",
   "version": "2.7.11"
  }
 },
 "nbformat": 4,
 "nbformat_minor": 0
}
