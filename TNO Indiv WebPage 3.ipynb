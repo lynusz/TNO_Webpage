{
 "cells": [
  {
   "cell_type": "markdown",
   "metadata": {},
   "source": [
    "#This is a cleaned up version of TNO Individual Web Page.ipynb. Now showing expected exposures. \n",
    "\n",
    "Lynus,\n",
    "\n",
    "To make this run, here is what you need to do.\n",
    "\n",
    "1) Make sure you can import all the libraries/methods in the first cell. You need to have pyOrbfit (Prof. Gerdes just / sent out instructions for downloading and installing this. You also need ccdBounds, which is on the dwgerdes GitHub / repository https://github.com/dwgerdes/tnofind\n",
    "\n",
    "2) Make sure you have installed ds9: http://ds9.si.edu/site/Download.html. Go with the X11 version for Mac. Test it out by going to your terminal and typing ds9. You may have to make a binary executable file.\n",
    "\n",
    "3) Have a directory with the following things in it: \n",
    "    \n",
    "    1) good_2.csv\n",
    "    \n",
    "    2) exposures.csv\n",
    "    \n",
    "    3) style_content.css\n",
    "\n",
    "4) Go to sendObsRequest and sendSearchRequest and replace my username and password with your username and password\n",
    "\n",
    "5) Run this line of code: rawFileObs, rawFileSearch, observed, expected = getImageTar(\"good_2.csv\")\n",
    "\n",
    "6) Go to http://desdev3.cosmology.illinois.edu:8000 (you may have enter your user name and password). Go and download the tar files and put them in the directory where everything else is stored. It may take a minute or two for the job to complete. \n",
    "\n",
    "7) Run the following line of code (putting in the appropriate file path): makeIndividualWebpage('/Users/ColinS/Documents/TNOSearch','good_2.csv',expecteds, rawFileObs, rawFileSearch) \n",
    "\n",
    "Hopefully this works. \n",
    "\n",
    "-Colin\n",
    "\n",
    "ps. You're totally right, that second break statement doesn't do anything. \n"
   ]
  },
  {
   "cell_type": "code",
   "execution_count": 57,
   "metadata": {
    "collapsed": true
   },
   "outputs": [],
   "source": [
    "from __future__ import division\n",
    "from ccdBounds import *\n",
    "from pyOrbfit.Orbit import Orbit\n",
    "import gzip\n",
    "import glob # Lists files into a directory\n",
    "import tarfile\n",
    "import json\n",
    "import pandas\n",
    "import pylab\n",
    "import ephem\n",
    "import os\n",
    "import numpy as np\n",
    "import requests\n",
    "from pandas import *\n",
    "from pylab import *\n",
    "from astropy.io import fits\n",
    "from astropy.wcs import WCS"
   ]
  },
  {
   "cell_type": "code",
   "execution_count": 58,
   "metadata": {
    "collapsed": true
   },
   "outputs": [],
   "source": [
    "def drawObsCircle(tempfits, imgfile, regfile, ra, dec):\n",
    "    with open(regfile, 'w') as fout:\n",
    "        #fout.write('fk5; circle '+str(ra)+' '+str(dec)+' 6\" #dash=1') This line works\n",
    "        w=WCS(tempfits)\n",
    "        lon, lat = np.degrees(ephem.hours(ra)),np.degrees(ephem.degrees(dec))\n",
    "        pixx,pixy= w.wcs_world2pix(lon,lat,3)\n",
    "        fout.write('physical; circle '+str(pixx)+' '+str(pixy)+' 6\" #dash=1')\n",
    "    hdu=fits.getdata(tempfits)\n",
    "    h=hdu.shape[0]\n",
    "    w=hdu.shape[1]\n",
    "    os.system(\"ds9 \"+tempfits+\" -scale mode zscale -colorbar no -height \"+str(h)+\" -width \"+str(w)+\" -zoom to fit -region\"+\" \"+regfile+\" -saveimage png \"+imgfile+\" -exit\")  "
   ]
  },
  {
   "cell_type": "code",
   "execution_count": 59,
   "metadata": {
    "collapsed": true
   },
   "outputs": [],
   "source": [
    "def drawSearchEllipse(tempfits, imgfile, regfile, ra, dec, PA, a, b):\n",
    "    with open(regfile, 'w') as fout:\n",
    "        if a > 2:\n",
    "            fout.write('fk5; ellipse '+str(ra)+' '+str(dec)+' '+str(a)+'\" '+str(b)+'\" '+str(PA-90)+' # dash=1')\n",
    "        else:\n",
    "            fout.write('fk5; box '+str(ra)+' '+str(dec)+' '+str(6)+'\" '+str(6)+'\" 0 #color=red dash=1')\n",
    "    hdu=fits.getdata(tempfits)\n",
    "    h=hdu.shape[0]\n",
    "    w=hdu.shape[1]\n",
    "    os.system(\"ds9 \"+tempfits+\" -scale mode zscale -colorbar no -height \"+str(h)+\" -width \"+str(w)+\" -zoom to fit -region\"+\" \"+regfile+\" -saveimage png \"+imgfile+\" -exit\")\n",
    "    "
   ]
  },
  {
   "cell_type": "code",
   "execution_count": 60,
   "metadata": {
    "collapsed": true
   },
   "outputs": [],
   "source": [
    "def fit_orbit(df_obs):\n",
    "    df_obs = df_obs.ix[['#' not in row['date'] for ind, row in df_obs.iterrows()]]   # filter comment lines\n",
    "    nobs = len(df_obs)\n",
    "    ralist = [ephem.hours(r) for r in df_obs['ra'].values]\n",
    "    declist = [ephem.degrees(r) for r in df_obs['dec'].values]\n",
    "    datelist = [ephem.date(d) for d in df_obs['date'].values]\n",
    "    obscode = np.ones(nobs, dtype=int)*807\n",
    "    orbit = Orbit(dates=datelist, ra=ralist, dec=declist, obscode=obscode, err=0.15)\n",
    "    return orbit"
   ]
  },
  {
   "cell_type": "code",
   "execution_count": 61,
   "metadata": {
    "collapsed": true
   },
   "outputs": [],
   "source": [
    "def compute_chip(rockra, rockdec, expra, expdec):\n",
    "    '''\n",
    "    Given the ra and dec of a point and of the center\n",
    "    of an exposure, find the CCD containing that point.\n",
    "    \n",
    "    Returns a pair of the CCD name and number.\n",
    "    '''\n",
    "    deltara = 180/np.pi*ephem.degrees(rockra-expra).znorm  # compute difference in degrees (normalized between -180, +180)\n",
    "    deltadec = 180/np.pi*ephem.degrees(rockdec-expdec).znorm  # the 180/pi is because ephem.Angle objects are natively in radians\n",
    "    ccdname = 'None'\n",
    "    for k in ccdBounds:\n",
    "        if deltara > ccdBounds[k][0] and deltara < ccdBounds[k][1] and deltadec > ccdBounds[k][2] and deltadec < ccdBounds[k][3]:\n",
    "            ccdname = k\n",
    "    return ccdname, ccdNum[ccdname]\n",
    "\n"
   ]
  },
  {
   "cell_type": "code",
   "execution_count": 62,
   "metadata": {
    "collapsed": true
   },
   "outputs": [],
   "source": [
    "#Unzips tar.gz files\n",
    "def unzip_tar(tarname):\n",
    "    fname = str(tarname)\n",
    "    if (fname.endswith(\"tar.gz\")):\n",
    "        tar = tarfile.open(fname, 'r:gz')\n",
    "        tar.extractall() ##Deleted the slash in front of c\n",
    "        tar.close()\n",
    "    elif (fname.endswith(\"tar\")):\n",
    "        tar = tarfile.open(fname, 'r:')\n",
    "        tar.extractall()\n",
    "        tar.close()\n",
    "    raw_fname = fname[:36]\n",
    "    return raw_fname"
   ]
  },
  {
   "cell_type": "code",
   "execution_count": 63,
   "metadata": {
    "collapsed": true
   },
   "outputs": [],
   "source": [
    "#Produces an array of images and puts the stuff around the image (see website)\n",
    "\n",
    "def makeImgArray(obs_properties, flist, directory, raw_fname, exp_values):\n",
    "    \n",
    "    # columns\n",
    "    img_array=pandas.DataFrame.from_items([('expnum',[]),('refccd',[]),('refpng',[]), ('refdate',[]),('reftef',[]),('compimages',[]),('compexp',[]),('compccd',[]),('compdate',[]),('comptef',[])])\n",
    "    \n",
    "    def getkey(item):\n",
    "            return item[0]\n",
    "        \n",
    "    # i corresponds to the row\n",
    "    for i in range(0,len(obs_properties)):\n",
    "        \n",
    "        refnum=obs_properties['expnum'][i]\n",
    "        #refccd=obs_properties['ccd'][i]\n",
    "        refccd=obs_properties['ccd'][i]\n",
    "        refband=obs_properties['band'][i]\n",
    "        refdate=obs_properties['date'][i]\n",
    "        ref_ra=obs_properties['ra'][i]\n",
    "        ref_dec=obs_properties['dec'][i]\n",
    "        CompImgs=[]\n",
    "        expnums=[]\n",
    "        refpng=''\n",
    "        reftef=round(float(exp_values[exp_values['expnum']==refnum]['t_eff']),3)\n",
    "        \n",
    "        for thumb in flist:\n",
    "            \n",
    "            \n",
    "            os.chdir(directory+'/'+raw_fname+'/'+thumb)\n",
    "            fit_list = glob.glob('*fits')\n",
    "        \n",
    "            for f in fit_list:\n",
    "                h=fits.open(f)\n",
    "                if h[0].header[\"EXPNUM\"]==refnum and h[0].header['CCDNUM']==refccd:\n",
    "                    reffit=f\n",
    "                    refpng=thumb+'/'+reffit[:-5]+'Circ.png'\n",
    "                    drawObsCircle(reffit,reffit[:-5]+'Circ.png','temp.reg',ref_ra,ref_dec)\n",
    "                    for g in fit_list: #Compare z band to z band for example\n",
    "                        j=fits.open(g)\n",
    "                        jnum=j[0].header['EXPNUM']\n",
    "                        if (j[0].header['BAND']==refband and jnum != refnum and not (jnum in expnums)):\n",
    "                            try:\n",
    "                                teff=float(exp_values[exp_values['expnum']==jnum]['t_eff'])\n",
    "                            except:\n",
    "                                teff=0\n",
    "                                print jnum\n",
    "                            pnglabel=g[:-5]+'Circ.png'\n",
    "                            drawObsCircle(g, pnglabel, 'temp.reg',ref_ra, ref_dec)\n",
    "                            date=str(j[0].header['DATE-OBS'])\n",
    "                            nicedate=date[0:4]+'/'+date[5:7]+'/'+date[8:10]+' '+date[11:19]\n",
    "                            CompImgs.append([teff,thumb+'/'+pnglabel, jnum, j[0].header['CCDNUM'], nicedate])\n",
    "                            expnums+=[jnum]\n",
    "                        j.close()\n",
    "                    flist.remove(thumb)\n",
    "                    break\n",
    "                    break \n",
    "                h.close()\n",
    "                \n",
    "\n",
    "        \n",
    "        sortedcomps=sorted(CompImgs, key=getkey, reverse=True)\n",
    "        \n",
    "        tempframe=pandas.DataFrame.from_items([('expnum', refnum),('refccd',refccd), ('refpng',[ refpng]), ('refdate', [refdate]),('reftef',[reftef]),('compimages', [[x[1] for x in sortedcomps]]),('compexp',[[x[2] for x in sortedcomps]]), ('compccd',[[x[3] for x in sortedcomps]]),('compdate',[[x[4] for x in sortedcomps]]),('comptef',[[round(x[0],3) for x in sortedcomps]])])                \n",
    "        img_array=img_array.append(tempframe, ignore_index=True)\n",
    "        \n",
    "    return img_array"
   ]
  },
  {
   "cell_type": "code",
   "execution_count": 64,
   "metadata": {
    "collapsed": true
   },
   "outputs": [],
   "source": [
    "def makeSearchArray(obs_properties, flist, directory, raw_fname, exp_values):\n",
    "    \n",
    "    search_array=pandas.DataFrame.from_items([('expnum',[]),('refccd',[]),('refpng',[]), ('refdate',[]),('reftef',[]),('compimages',[]),('compexp',[]),('compccd',[]),('compdate',[]),('comptef',[])])\n",
    "    \n",
    "    def getkey(item):\n",
    "            return item[0]\n",
    "        \n",
    "    for i in obs_properties.index:\n",
    "        print i\n",
    "        \n",
    "        refnum=obs_properties['expnum'][i]\n",
    "        refccd=obs_properties['ccd'][i]\n",
    "        #refccd=obs_properties['ccdnum'][i]\n",
    "        refband=obs_properties['band'][i]\n",
    "        refdate=str(ephem.date(obs_properties['date'][i]))\n",
    "        ref_ra=ephem.hours(obs_properties['can_ra'][i])\n",
    "        ref_dec=ephem.degrees(obs_properties['can_dec'][i])\n",
    "        ref_PA=obs_properties['PA'][i]\n",
    "        ref_a=obs_properties['a'][i]\n",
    "        ref_b=obs_properties['b'][i]\n",
    "        CompImgs=[]\n",
    "        expnums=[]\n",
    "        refpng=''\n",
    "        reftef=round(float(exp_values[exp_values['expnum']==refnum]['t_eff']),3)\n",
    "        \n",
    "        for thumb in flist:\n",
    "            \n",
    "            os.chdir(directory+'/'+raw_fname+'/'+thumb)\n",
    "            fit_list = glob.glob('*fits')\n",
    "        \n",
    "            for f in fit_list:\n",
    "                h=fits.open(f)\n",
    "                if h[0].header[\"EXPNUM\"]==refnum and h[0].header['CCDNUM']==refccd:\n",
    "                    reffit=f\n",
    "                    refpng=thumb+'/'+reffit[:-5]+'Circ.png'\n",
    "                    drawSearchEllipse(reffit,reffit[:-5]+'Circ.png','temp.reg',ref_ra,ref_dec,ref_PA, ref_a,ref_b)\n",
    "                    for g in fit_list:\n",
    "                        j=fits.open(g)\n",
    "                        jnum=j[0].header['EXPNUM']\n",
    "                        if (j[0].header['BAND']==refband and jnum != refnum and not (jnum in expnums)):\n",
    "                            try:\n",
    "                                teff=float(exp_values[exp_values['expnum']==jnum]['t_eff'])\n",
    "                            except:\n",
    "                                teff=0\n",
    "                                print jnum\n",
    "                            pnglabel=g[:-5]+'Circ.png'\n",
    "                            drawSearchEllipse(g, pnglabel, 'temp.reg',ref_ra, ref_dec, ref_PA, ref_a, ref_b)\n",
    "                            date=str(j[0].header['DATE-OBS'])\n",
    "                            nicedate=date[0:4]+'/'+date[5:7]+'/'+date[8:10]+' '+date[11:19]\n",
    "                            CompImgs.append([teff,thumb+'/'+pnglabel, jnum, j[0].header['CCDNUM'], nicedate])\n",
    "                            expnums+=[jnum]\n",
    "                        j.close()\n",
    "                    flist.remove(thumb)\n",
    "                    break\n",
    "                    break \n",
    "                h.close()\n",
    "        \n",
    "        sortedcomps=sorted(CompImgs, key=getkey, reverse=True)\n",
    "        \n",
    "        tempframe=pandas.DataFrame.from_items([('expnum', refnum),('refccd',refccd), ('refpng',[ refpng]), ('refdate', [refdate]),('reftef',[reftef]),('compimages', [[x[1] for x in sortedcomps]]),('compexp',[[x[2] for x in sortedcomps]]), ('compccd',[[x[3] for x in sortedcomps]]),('compdate',[[x[4] for x in sortedcomps]]),('comptef',[[round(x[0],3) for x in sortedcomps]])])                \n",
    "        search_array=search_array.append(tempframe, ignore_index=True)\n",
    "        \n",
    "    return search_array"
   ]
  },
  {
   "cell_type": "code",
   "execution_count": 65,
   "metadata": {
    "collapsed": true
   },
   "outputs": [],
   "source": [
    "def writeStatus():\n",
    "    statstr=r'''<div>\n",
    "                <br><br>\n",
    "                <form action=\"action_page.php\" >\n",
    "                    <select name=\"Status\">\n",
    "                        <option value=\"Unchecked\" >Unchecked</option>\n",
    "                        <option value=\"Confirmed\">Confirmed</option>\n",
    "                        <option value=\"Rejected\">Rejected</option>\n",
    "                        <option value=\"Under Inspection\">Under Inspection</option>\n",
    "                    </select>\n",
    "                    <input type=\"submit\">\n",
    "                        </form>\n",
    "            </div>'''\n",
    "    return statstr"
   ]
  },
  {
   "cell_type": "code",
   "execution_count": 66,
   "metadata": {
    "collapsed": true
   },
   "outputs": [],
   "source": [
    "def makeHead(obs_properties, objid):\n",
    "    numobs=len(obs_properties)\n",
    "    headstr=r\"\"\"\n",
    "    <!DOCTYPE html>\n",
    "    <html>\n",
    "    <head>\n",
    "    <title>Candidate: \"\"\"+objid+ r\"\"\"</title>\n",
    "    <link href =\"style_content.css\" type=\"text/css\" rel=\"stylesheet\">\n",
    "    </head>\n",
    "    <body>\n",
    "        <div class = \"main\">\n",
    "            <div class = \"header\">\n",
    "                <h1> Candidate: \"\"\"+objid+r\"\"\"</h1>\n",
    "                <p><a href = \"homepage2.html\">Home</a></p>\n",
    "            </div>\"\"\"+writeStatus()+r\"\"\"\n",
    "            <div class = \"tab\" align = \"center\">\n",
    "                \n",
    "            <table width = \"700\" border=\"1\" align=\"center\">\n",
    "            <tr>\n",
    "            <td align=\"center\" colspan=\"10\"><b>Properties</b>\n",
    "            </td>\n",
    "            \n",
    "            <tr align = \"center\">\n",
    "                <td>Date</td>\n",
    "                <td>Ra</td>\n",
    "                <td>Dec</td>\n",
    "                <td>Expnum</td>\n",
    "                <td>Exptime</td>\n",
    "                <td>Band</td>\n",
    "                <td>Ccd</td>\n",
    "                <td>Mag</td>\n",
    "                <td>ml_score</td>\n",
    "                <td>Object ID</td>\n",
    "            </tr>\"\"\"\n",
    "\n",
    "    for i in range(0,numobs):\n",
    "        headstr+= r\"\"\"        <tr align = \"center\">\n",
    "                <td>\"\"\"+obs_properties['date'][i]+r\"\"\"</td>\n",
    "                <td>\"\"\"+obs_properties['ra'][i]+r\"\"\"</td>\n",
    "                <td>\"\"\"+obs_properties['dec'][i]+r\"\"\"</td>\n",
    "                <td>\"\"\"+str(obs_properties['expnum'][i])+r\"\"\"</td>\n",
    "                <td>\"\"\"+str(obs_properties['exptime'][i])+r\"\"\"</td>\n",
    "                <td>\"\"\"+obs_properties['band'][i]+r\"\"\"</td>\n",
    "                <td>\"\"\"+str(obs_properties['ccd'][i])+r\"\"\"</td>\n",
    "                <td>\"\"\"+str(obs_properties['mag'][i])+r\"\"\"</td>\n",
    "                <td>\"\"\"+str(obs_properties['ml_score'][i])+r\"\"\"</td>\n",
    "                <td>\"\"\"+str(obs_properties['objid'][i])+r\"\"\"</td>\n",
    "            </tr>\"\"\"\n",
    "\n",
    "    headstr+=\"\"\"\n",
    "        </table>\n",
    "            </div>\"\"\"\n",
    "    return headstr\n",
    "\n"
   ]
  },
  {
   "cell_type": "code",
   "execution_count": 67,
   "metadata": {
    "collapsed": false
   },
   "outputs": [],
   "source": [
    "def makeSearchTable(obs_properties, objid):\n",
    "    headstr=r\"\"\"\n",
    "            <div class = \"tab\" align = \"center\">\n",
    "                \n",
    "            <table width = \"700\" border=\"1\" align=\"center\">\n",
    "            <tr>\n",
    "            <td align=\"center\" colspan=\"10\"><b>Possible Exposures</b>\n",
    "            </td>\n",
    "            \n",
    "            <tr align = \"center\">\n",
    "                <td>Date</td>\n",
    "                <td>Ra</td>\n",
    "                <td>Dec</td>\n",
    "                <td>Expnum</td>\n",
    "                <td>Band</td>\n",
    "                <td>Ccd</td>\n",
    "                <td>PA </td>\n",
    "                <td>a</td>\n",
    "                <td>b</td>\n",
    "            </tr>\"\"\"\n",
    "\n",
    "    for i in obs_properties.index:\n",
    "        print i\n",
    "        headstr+= r\"\"\"        <tr align = \"center\">\n",
    "                <td>\"\"\"+str(ephem.date(obs_properties['date'][i]))+r\"\"\"</td>\n",
    "                <td>\"\"\"+str(ephem.hours(obs_properties['can_ra'][i]))+r\"\"\"</td>\n",
    "                <td>\"\"\"+str(ephem.degrees(obs_properties['can_dec'][i]))+r\"\"\"</td>\n",
    "                <td>\"\"\"+str(int(obs_properties['expnum'][i]))+r\"\"\"</td>\n",
    "                <td>\"\"\"+str(obs_properties['band'][i])+r\"\"\"</td>\n",
    "                <td>\"\"\"+str(int(obs_properties['ccd'][i]))+r\"\"\"</td>\n",
    "                <td>\"\"\"+str(round(obs_properties['PA'][i],2))+r\"\"\"</td>\n",
    "                <td>\"\"\"+str(round(obs_properties['a'][i],2))+r\"\"\"</td>\n",
    "                <td>\"\"\"+str(round(obs_properties['b'][i],2))+r\"\"\"</td>\n",
    "            </tr>\"\"\"\n",
    "\n",
    "    headstr+=r\"\"\"\n",
    "        </table>\n",
    "            </div>\"\"\"\n",
    "    return headstr\n",
    "    "
   ]
  },
  {
   "cell_type": "code",
   "execution_count": 68,
   "metadata": {
    "collapsed": true
   },
   "outputs": [],
   "source": [
    "def tableHeader(objid):\n",
    "    tableHead = \"\"\"\t\t<div class = \"img\">\n",
    "\t\t\t<table ID=\"t02\" >\n",
    "\t\t\t\t<tr>\n",
    "\t\t\t\t\t<td align=\"center\" colspan=\"5\"><b>Images of \"\"\"+objid+\"\"\"</b>\n",
    "\t\t\t\t\t<p> Click on an image to expand it. </p>\n",
    "\t\t\t\t\t</td>\n",
    "                </tr>\n",
    "                    <th>Observations</th> <th>Comparison images ordered by decreasing t_eff</th> \"\"\"\n",
    "    return tableHead"
   ]
  },
  {
   "cell_type": "code",
   "execution_count": 69,
   "metadata": {
    "collapsed": true
   },
   "outputs": [],
   "source": [
    "def searchHeader(objid):\n",
    "    tableHead = \"\"\"\t\t<div class = \"img\">\n",
    "\t\t\t<table ID=\"t02\" >\n",
    "\t\t\t\t<tr>\n",
    "\t\t\t\t\t<td align=\"center\" colspan=\"5\"><b>Exposures coinciding with best fit orbit of \"\"\"+objid+\"\"\"</b>\n",
    "\t\t\t\t\t<p> Click on an image to expand it. </p>\n",
    "\t\t\t\t\t</td>\n",
    "                </tr>\n",
    "                    <th>Expected Observations</th> <th>Comparison images ordered by decreasing t_eff</th> \"\"\"\n",
    "    return tableHead"
   ]
  },
  {
   "cell_type": "code",
   "execution_count": 70,
   "metadata": {
    "collapsed": false
   },
   "outputs": [],
   "source": [
    "def writeImgTable(ImgArray, directory, raw_fname):\n",
    "    tableBody = ''\n",
    "    for i in range(0,len(ImgArray)):\n",
    "        refpng=ImgArray['refpng'][i]\n",
    "        expnum=ImgArray['expnum'][i]\n",
    "        refccd=ImgArray['refccd'][i]\n",
    "        refdate=ImgArray['refdate'][i]\n",
    "        reftef=ImgArray['reftef'][i]\n",
    "        compimages=ImgArray['compimages'][i]\n",
    "        compexp=ImgArray['compexp'][i]\n",
    "        compccd=ImgArray['compccd'][i]\n",
    "        compdate=ImgArray['compdate'][i]\n",
    "        comptef=ImgArray['comptef'][i]\n",
    "        tableBody+= '<tr align =\"center\">'\n",
    "        tableBody+= '<tr><td><p></p></td></tr>'\n",
    "        tableBody+= r'''<td> <u>t_eff = '''+str(reftef)+r'''</u></td>'''\n",
    "        for j in range(0,len(compimages)):\n",
    "            tableBody+= r'''<td><u> t_eff = '''+str(comptef[j])+'''</u></td>'''\n",
    "        tableBody += '</tr>\t\t<tr align = \"center\" valign=\"top\">'\n",
    "        tableBody += '\t\t\t'+r''' <td><a href = \"'''+directory+'/'+ raw_fname+'/'+refpng+r'''\" ><img src= \"'''+directory+'/'+ raw_fname+'/'+refpng+r'''\" align='center' alt = \"No Reference Image Available\"\n",
    "                width =\"200\" height=\"200\" align=\"center\" border = \"1\"></img> </a> </td>'''\n",
    "        for j in range(0,len(compimages)):\n",
    "            tableBody += '\t\t\t'+r'''<td> <a href = \"'''+directory+'/'+raw_fname+'/'+compimages[j]+'''\"><img src=\"'''+directory+'/'+raw_fname+'/'+compimages[j]+'''\" align='center' alt = \"Example 1 pic\"\n",
    "                width =\"200\" height=\"200\" align=\"center\" border = \"1\"></img></a> </td>'''\n",
    "        tableBody+= r'''</tr>     <tr align = \"center\">'''\n",
    "        tableBody+= r'''<td>Expnum = '''+str(int(expnum))+r''', ccd = '''+ str(int(refccd))+r'''</td>'''\n",
    "        for j in range(0, len(compimages)):\n",
    "            tableBody+='''<td>Expnum = '''+str(compexp[j])+r''', ccd = '''+ str(compccd[j])+r'''</td>'''\n",
    "        tableBody+=r'''</tr> <tr align = \"center\" border-bottom=\"1px\">'''\n",
    "        tableBody+=r'''<td> Date: '''+str(refdate)+r'''</td>'''\n",
    "        for j in range(0, len(compimages)):\n",
    "            tableBody+=r'''<td> Date: '''+str(compdate[j])+r'''</td>'''\n",
    "        tableBody += \"</tr> \\n\"\n",
    "    \n",
    "    return tableBody"
   ]
  },
  {
   "cell_type": "code",
   "execution_count": 71,
   "metadata": {
    "collapsed": true
   },
   "outputs": [],
   "source": [
    "def writeComments():\n",
    "    comstr = r'''<div> \n",
    "    <br><br>\n",
    "    \n",
    "    \n",
    "    <table id=\"t01\" width = \"700\" align=\"center\" cellspacing=\"6\" cellpadding = \"2\" >\n",
    "        <tr>\n",
    "            <th align=\"center\" colspan=\"5\"><b>Comments</b> </th>\n",
    "        </tr>\n",
    "        <tr>\n",
    "            <td> 12/18/2016 </td>\n",
    "        </tr>\n",
    "        <tr>\n",
    "        <td > TNOs are so cool! </td>\n",
    "        </tr>\n",
    "        <tr>\n",
    "            <td > 12/15/2016 </td>\n",
    "        </tr>\n",
    "        <tr>\n",
    "            <td> This candidate is registered with the Minor Planet Center </td>\n",
    "        </tr>\n",
    "    \n",
    "    \n",
    "    \n",
    "    </table>\n",
    "\n",
    "    </div>'''\n",
    "    \n",
    "    return comstr"
   ]
  },
  {
   "cell_type": "code",
   "execution_count": 72,
   "metadata": {
    "collapsed": true
   },
   "outputs": [],
   "source": [
    "def writeLeavCom():\n",
    "    formstr=r'''<div>\n",
    "    <form action=\"gold_27.html\" method=\"post\">\n",
    "        <p>Comment:</p>\n",
    "        <textarea type=\"text\" name=\"name\"> </textarea> <br>\n",
    "    \n",
    "        <input type=\"submit\">\n",
    "    </form>\n",
    "    </div>'''\n",
    "    \n",
    "    \n",
    "    return formstr"
   ]
  },
  {
   "cell_type": "code",
   "execution_count": 73,
   "metadata": {
    "collapsed": true
   },
   "outputs": [],
   "source": [
    "def buildpage(obs_properties, searchFrame, flistObs, flistSearch, directory, raw_fnameObs,raw_fnameSearch, exp_values, objid):\n",
    "    \n",
    "    ImgArray=makeImgArray(obs_properties, flistObs, directory, raw_fnameObs, exp_values)\n",
    "    SearchArray=makeSearchArray(searchFrame,flistSearch,directory,raw_fnameSearch, exp_values)\n",
    "    indivpage = makeHead(obs_properties, objid) + tableHeader(objid) + '''</tr> \\n\n",
    "    '''+ writeImgTable(ImgArray, directory, raw_fnameObs)+'''\n",
    "        \t\t\n",
    "\t\t\n",
    "\t\t\n",
    "\t</table>\n",
    "\t\t\n",
    "\t</div>'''+writeComments()+writeLeavCom()+ makeSearchTable(searchFrame, objid)+searchHeader(objid)+'''</tr> \\n\n",
    "    '''+writeImgTable(SearchArray,directory, raw_fnameSearch)+r'''\n",
    "    \n",
    "    </table>\n",
    "    </div>'''+writeComments()+writeLeavCom()+r'''\n",
    "    \n",
    "    </body>\n",
    "\n",
    "    </html>'''\n",
    "    return indivpage"
   ]
  },
  {
   "cell_type": "code",
   "execution_count": 74,
   "metadata": {
    "collapsed": true
   },
   "outputs": [],
   "source": [
    "def findExposures(candidate):\n",
    "    all_exps = read_csv('exposures.csv')\n",
    "    df = read_csv(candidate)\n",
    "    orb = fit_orbit(df)\n",
    "    matches=DataFrame() #Dataframe is a panda function.  Creates an empty dataframe\n",
    "    \n",
    "    #Checks to see the position of the candidate in the orbit and does that position lie in any ccd\n",
    "    for i in all_exps[all_exps['t_eff']>.3].index:\n",
    "        e_ra, e_dec=all_exps['ra'][i],all_exps['dec'][i]\n",
    "        pos=orb.predict_pos(all_exps['date'][i]) #Predicts position \n",
    "        pos_ra, pos_dec=pos['ra'], pos['dec']\n",
    "        ccdname, ccdnum = compute_chip(pos_ra, pos_dec, e_ra, e_dec)\n",
    "        if ccdnum>0:\n",
    "            temp=all_exps.loc[i,['expnum','date','nite','band','t_eff']]\n",
    "            temp['ccd']=ccdnum\n",
    "            temp['can_ra']=pos_ra\n",
    "            temp['can_dec']=pos_dec\n",
    "            temp['PA']=pos['err']['PA']\n",
    "            temp['a']=pos['err']['a'] #Semimajor axis of error elipse\n",
    "            temp['b']=pos['err']['b'] #Semiminor axis of error elipse\n",
    "            temp['isinobs']=all_exps['expnum'][i] in list(df['expnum']) #True if it should be in top section of array aka we know if should be in that exposure\n",
    "            matches=matches.append(temp,ignore_index=True)\n",
    "    return matches"
   ]
  },
  {
   "cell_type": "code",
   "execution_count": 75,
   "metadata": {
    "collapsed": true
   },
   "outputs": [],
   "source": [
    "#Takes all the matches.  Sends the list of RA and DEC to the thumbnail generator\n",
    "\n",
    "def sendObsRequest(matches):\n",
    "    ra=list(np.degrees(matches[matches['isinobs']==True]['can_ra']))\n",
    "    dec=list(np.degrees(matches[matches['isinobs']==True]['can_dec']))\n",
    "    bands='[g,r,i,z]'\n",
    "    req='http://desdev3.cosmology.illinois.edu:8000/api?username=lzullo&password=lzu70chips&ra=%s&dec=%s&bands=%s' % (ra,dec,bands)\n",
    "    submit = requests.get(req)\n",
    "    return submit.json()['job'] # Returns job ID, long string"
   ]
  },
  {
   "cell_type": "code",
   "execution_count": 76,
   "metadata": {
    "collapsed": true
   },
   "outputs": [],
   "source": [
    "#Does the same thing as sendObsRequest except for the reference images\n",
    "\n",
    "def sendSearchRequest(matches):\n",
    "    ra=list(np.degrees(matches[matches['isinobs']==False]['can_ra']))\n",
    "    dec=list(np.degrees(matches[matches['isinobs']==False]['can_dec']))\n",
    "    bands='[g,r,i,z]'\n",
    "    req='http://desdev3.cosmology.illinois.edu:8000/api?username=lzullo&password=lzu70chips&ra=%s&dec=%s&bands=%s' % (ra,dec,bands)\n",
    "    submit = requests.get(req)\n",
    "    return submit.json()['job']"
   ]
  },
  {
   "cell_type": "code",
   "execution_count": 77,
   "metadata": {
    "collapsed": true
   },
   "outputs": [],
   "source": [
    "def getImageTar(candidate):\n",
    "    matches=findExposures(candidate)\n",
    "    \n",
    "    #The name of the tar.gz file is just the job ID plus .tar.gz\n",
    "    rawFileObs=sendObsRequest(matches)+\".tar.gz\"\n",
    "    rawFileSearch=sendSearchRequest(matches)+\".tar.gz\"\n",
    "    \n",
    "    #Slices of matches where isinobs is true or false\n",
    "    observed=matches[matches['isinobs']==True]\n",
    "    expected=matches[matches['isinobs']==False]\n",
    "    return rawFileObs,rawFileSearch,observed,expected"
   ]
  },
  {
   "cell_type": "markdown",
   "metadata": {
    "collapsed": false
   },
   "source": [
    "def makeIndividualWebpage(directory, obfile, tarname):\n",
    "    os.chdir(directory)\n",
    "    #obs_props=read_csv('Candidates/'+obfile)\n",
    "    obs_props=read_csv(obfile)\n",
    "    objid=obfile[:-4]\n",
    "    exposures = read_csv('exposures.csv') \n",
    "    exp_values = exposures.ix[:,['expnum','t_eff']]\n",
    "    raw_fname = unzip_tar(tarname)\n",
    "    os.chdir(directory+'/'+raw_fname)\n",
    "    flist = glob.glob('thumbs*')    \n",
    "    page = buildpage(obs_props, flist, directory, raw_fname, exp_values, objid)\n",
    "    os.chdir(directory)\n",
    "    with open(objid+'.html', 'w') as fout:\n",
    "        fout.write(page)\n",
    "    return 'done'\n",
    "#print page"
   ]
  },
  {
   "cell_type": "code",
   "execution_count": 81,
   "metadata": {
    "collapsed": false
   },
   "outputs": [],
   "source": [
    "def main(directory, obfile, searchFrame, tarnameObs, tarnameSearch):\n",
    "    os.chdir(directory)\n",
    "    #obs_props=read_csv('Candidates/'+obfile)\n",
    "    obs_props=read_csv(obfile) #The .csv files contain a list of RA and DEC of an object in the sky at every point it was observed\n",
    "    objid=obfile[:-4]\n",
    "    \n",
    "    #Exposures is a ton of exposures with teff over a certain threshold\n",
    "    exposures = read_csv('exposures.csv') \n",
    "    exp_values = exposures.ix[:,['expnum','t_eff']]\n",
    "    raw_fnameObs = unzip_tar(tarnameObs)\n",
    "    raw_fnameSearch= unzip_tar(tarnameSearch)\n",
    "    os.chdir(directory+'/'+raw_fnameObs)\n",
    "    flistObs = glob.glob('thumbs*')\n",
    "    os.chdir(directory+'/'+raw_fnameSearch)\n",
    "    flistSearch = glob.glob('thumbs*')\n",
    "    page = buildpage(obs_props, searchFrame, flistObs, flistSearch, directory, raw_fnameObs, raw_fnameSearch, exp_values, objid)\n",
    "    os.chdir(directory)\n",
    "    with open(objid+'.html', 'w') as fout:\n",
    "        fout.write(page)\n",
    "    return 'done'\n",
    "#print page"
   ]
  },
  {
   "cell_type": "code",
   "execution_count": 82,
   "metadata": {
    "collapsed": false
   },
   "outputs": [
    {
     "ename": "IOError",
     "evalue": "[Errno 2] No such file or directory: '35385e63-0034-4dca-8af0-2244ea99c9c3.tar.gz'",
     "output_type": "error",
     "traceback": [
      "\u001b[0;31m---------------------------------------------------------------------------\u001b[0m",
      "\u001b[0;31mIOError\u001b[0m                                   Traceback (most recent call last)",
      "\u001b[0;32m<ipython-input-82-a246d92d27d6>\u001b[0m in \u001b[0;36m<module>\u001b[0;34m()\u001b[0m\n\u001b[1;32m      1\u001b[0m \u001b[0;32mif\u001b[0m \u001b[0m__name__\u001b[0m \u001b[0;34m==\u001b[0m \u001b[0;34m'__main__'\u001b[0m\u001b[0;34m:\u001b[0m\u001b[0;34m\u001b[0m\u001b[0m\n\u001b[1;32m      2\u001b[0m     \u001b[0mrawFileObs\u001b[0m\u001b[0;34m,\u001b[0m \u001b[0mrawFileSearch\u001b[0m\u001b[0;34m,\u001b[0m \u001b[0mobserved\u001b[0m\u001b[0;34m,\u001b[0m \u001b[0mexpecteds\u001b[0m \u001b[0;34m=\u001b[0m \u001b[0mgetImageTar\u001b[0m\u001b[0;34m(\u001b[0m\u001b[0;34m\"good_2.csv\"\u001b[0m\u001b[0;34m)\u001b[0m\u001b[0;34m\u001b[0m\u001b[0m\n\u001b[0;32m----> 3\u001b[0;31m     \u001b[0mmain\u001b[0m\u001b[0;34m(\u001b[0m\u001b[0;34m'/Users/lynuszullo/pyOrbfit'\u001b[0m\u001b[0;34m,\u001b[0m\u001b[0;34m'good_2.csv'\u001b[0m\u001b[0;34m,\u001b[0m\u001b[0mexpecteds\u001b[0m\u001b[0;34m,\u001b[0m \u001b[0mrawFileObs\u001b[0m\u001b[0;34m,\u001b[0m \u001b[0mrawFileSearch\u001b[0m\u001b[0;34m)\u001b[0m\u001b[0;34m\u001b[0m\u001b[0m\n\u001b[0m",
      "\u001b[0;32m<ipython-input-81-a6dcc2ffc878>\u001b[0m in \u001b[0;36mmain\u001b[0;34m(directory, obfile, searchFrame, tarnameObs, tarnameSearch)\u001b[0m\n\u001b[1;32m      8\u001b[0m     \u001b[0mexposures\u001b[0m \u001b[0;34m=\u001b[0m \u001b[0mread_csv\u001b[0m\u001b[0;34m(\u001b[0m\u001b[0;34m'exposures.csv'\u001b[0m\u001b[0;34m)\u001b[0m\u001b[0;34m\u001b[0m\u001b[0m\n\u001b[1;32m      9\u001b[0m     \u001b[0mexp_values\u001b[0m \u001b[0;34m=\u001b[0m \u001b[0mexposures\u001b[0m\u001b[0;34m.\u001b[0m\u001b[0mix\u001b[0m\u001b[0;34m[\u001b[0m\u001b[0;34m:\u001b[0m\u001b[0;34m,\u001b[0m\u001b[0;34m[\u001b[0m\u001b[0;34m'expnum'\u001b[0m\u001b[0;34m,\u001b[0m\u001b[0;34m't_eff'\u001b[0m\u001b[0;34m]\u001b[0m\u001b[0;34m]\u001b[0m\u001b[0;34m\u001b[0m\u001b[0m\n\u001b[0;32m---> 10\u001b[0;31m     \u001b[0mraw_fnameObs\u001b[0m \u001b[0;34m=\u001b[0m \u001b[0munzip_tar\u001b[0m\u001b[0;34m(\u001b[0m\u001b[0mtarnameObs\u001b[0m\u001b[0;34m)\u001b[0m\u001b[0;34m\u001b[0m\u001b[0m\n\u001b[0m\u001b[1;32m     11\u001b[0m     \u001b[0mraw_fnameSearch\u001b[0m\u001b[0;34m=\u001b[0m \u001b[0munzip_tar\u001b[0m\u001b[0;34m(\u001b[0m\u001b[0mtarnameSearch\u001b[0m\u001b[0;34m)\u001b[0m\u001b[0;34m\u001b[0m\u001b[0m\n\u001b[1;32m     12\u001b[0m     \u001b[0mos\u001b[0m\u001b[0;34m.\u001b[0m\u001b[0mchdir\u001b[0m\u001b[0;34m(\u001b[0m\u001b[0mdirectory\u001b[0m\u001b[0;34m+\u001b[0m\u001b[0;34m'/'\u001b[0m\u001b[0;34m+\u001b[0m\u001b[0mraw_fnameObs\u001b[0m\u001b[0;34m)\u001b[0m\u001b[0;34m\u001b[0m\u001b[0m\n",
      "\u001b[0;32m<ipython-input-62-eb7c381f5157>\u001b[0m in \u001b[0;36munzip_tar\u001b[0;34m(tarname)\u001b[0m\n\u001b[1;32m      3\u001b[0m     \u001b[0mfname\u001b[0m \u001b[0;34m=\u001b[0m \u001b[0mstr\u001b[0m\u001b[0;34m(\u001b[0m\u001b[0mtarname\u001b[0m\u001b[0;34m)\u001b[0m\u001b[0;34m\u001b[0m\u001b[0m\n\u001b[1;32m      4\u001b[0m     \u001b[0;32mif\u001b[0m \u001b[0;34m(\u001b[0m\u001b[0mfname\u001b[0m\u001b[0;34m.\u001b[0m\u001b[0mendswith\u001b[0m\u001b[0;34m(\u001b[0m\u001b[0;34m\"tar.gz\"\u001b[0m\u001b[0;34m)\u001b[0m\u001b[0;34m)\u001b[0m\u001b[0;34m:\u001b[0m\u001b[0;34m\u001b[0m\u001b[0m\n\u001b[0;32m----> 5\u001b[0;31m         \u001b[0mtar\u001b[0m \u001b[0;34m=\u001b[0m \u001b[0mtarfile\u001b[0m\u001b[0;34m.\u001b[0m\u001b[0mopen\u001b[0m\u001b[0;34m(\u001b[0m\u001b[0mfname\u001b[0m\u001b[0;34m,\u001b[0m \u001b[0;34m'r:gz'\u001b[0m\u001b[0;34m)\u001b[0m\u001b[0;34m\u001b[0m\u001b[0m\n\u001b[0m\u001b[1;32m      6\u001b[0m         \u001b[0mtar\u001b[0m\u001b[0;34m.\u001b[0m\u001b[0mextractall\u001b[0m\u001b[0;34m(\u001b[0m\u001b[0;34m)\u001b[0m \u001b[0;31m##Deleted the slash in front of c\u001b[0m\u001b[0;34m\u001b[0m\u001b[0m\n\u001b[1;32m      7\u001b[0m         \u001b[0mtar\u001b[0m\u001b[0;34m.\u001b[0m\u001b[0mclose\u001b[0m\u001b[0;34m(\u001b[0m\u001b[0;34m)\u001b[0m\u001b[0;34m\u001b[0m\u001b[0m\n",
      "\u001b[0;32m/Users/lynuszullo/anaconda/lib/python2.7/tarfile.pyc\u001b[0m in \u001b[0;36mopen\u001b[0;34m(cls, name, mode, fileobj, bufsize, **kwargs)\u001b[0m\n\u001b[1;32m   1689\u001b[0m             \u001b[0;32melse\u001b[0m\u001b[0;34m:\u001b[0m\u001b[0;34m\u001b[0m\u001b[0m\n\u001b[1;32m   1690\u001b[0m                 \u001b[0;32mraise\u001b[0m \u001b[0mCompressionError\u001b[0m\u001b[0;34m(\u001b[0m\u001b[0;34m\"unknown compression type %r\"\u001b[0m \u001b[0;34m%\u001b[0m \u001b[0mcomptype\u001b[0m\u001b[0;34m)\u001b[0m\u001b[0;34m\u001b[0m\u001b[0m\n\u001b[0;32m-> 1691\u001b[0;31m             \u001b[0;32mreturn\u001b[0m \u001b[0mfunc\u001b[0m\u001b[0;34m(\u001b[0m\u001b[0mname\u001b[0m\u001b[0;34m,\u001b[0m \u001b[0mfilemode\u001b[0m\u001b[0;34m,\u001b[0m \u001b[0mfileobj\u001b[0m\u001b[0;34m,\u001b[0m \u001b[0;34m**\u001b[0m\u001b[0mkwargs\u001b[0m\u001b[0;34m)\u001b[0m\u001b[0;34m\u001b[0m\u001b[0m\n\u001b[0m\u001b[1;32m   1692\u001b[0m \u001b[0;34m\u001b[0m\u001b[0m\n\u001b[1;32m   1693\u001b[0m         \u001b[0;32melif\u001b[0m \u001b[0;34m\"|\"\u001b[0m \u001b[0;32min\u001b[0m \u001b[0mmode\u001b[0m\u001b[0;34m:\u001b[0m\u001b[0;34m\u001b[0m\u001b[0m\n",
      "\u001b[0;32m/Users/lynuszullo/anaconda/lib/python2.7/tarfile.pyc\u001b[0m in \u001b[0;36mgzopen\u001b[0;34m(cls, name, mode, fileobj, compresslevel, **kwargs)\u001b[0m\n\u001b[1;32m   1736\u001b[0m \u001b[0;34m\u001b[0m\u001b[0m\n\u001b[1;32m   1737\u001b[0m         \u001b[0;32mtry\u001b[0m\u001b[0;34m:\u001b[0m\u001b[0;34m\u001b[0m\u001b[0m\n\u001b[0;32m-> 1738\u001b[0;31m             \u001b[0mfileobj\u001b[0m \u001b[0;34m=\u001b[0m \u001b[0mgzip\u001b[0m\u001b[0;34m.\u001b[0m\u001b[0mGzipFile\u001b[0m\u001b[0;34m(\u001b[0m\u001b[0mname\u001b[0m\u001b[0;34m,\u001b[0m \u001b[0mmode\u001b[0m\u001b[0;34m,\u001b[0m \u001b[0mcompresslevel\u001b[0m\u001b[0;34m,\u001b[0m \u001b[0mfileobj\u001b[0m\u001b[0;34m)\u001b[0m\u001b[0;34m\u001b[0m\u001b[0m\n\u001b[0m\u001b[1;32m   1739\u001b[0m         \u001b[0;32mexcept\u001b[0m \u001b[0mOSError\u001b[0m\u001b[0;34m:\u001b[0m\u001b[0;34m\u001b[0m\u001b[0m\n\u001b[1;32m   1740\u001b[0m             \u001b[0;32mif\u001b[0m \u001b[0mfileobj\u001b[0m \u001b[0;32mis\u001b[0m \u001b[0;32mnot\u001b[0m \u001b[0mNone\u001b[0m \u001b[0;32mand\u001b[0m \u001b[0mmode\u001b[0m \u001b[0;34m==\u001b[0m \u001b[0;34m'r'\u001b[0m\u001b[0;34m:\u001b[0m\u001b[0;34m\u001b[0m\u001b[0m\n",
      "\u001b[0;32m/Users/lynuszullo/anaconda/lib/python2.7/gzip.pyc\u001b[0m in \u001b[0;36m__init__\u001b[0;34m(self, filename, mode, compresslevel, fileobj, mtime)\u001b[0m\n\u001b[1;32m     92\u001b[0m             \u001b[0mmode\u001b[0m \u001b[0;34m+=\u001b[0m \u001b[0;34m'b'\u001b[0m\u001b[0;34m\u001b[0m\u001b[0m\n\u001b[1;32m     93\u001b[0m         \u001b[0;32mif\u001b[0m \u001b[0mfileobj\u001b[0m \u001b[0;32mis\u001b[0m \u001b[0mNone\u001b[0m\u001b[0;34m:\u001b[0m\u001b[0;34m\u001b[0m\u001b[0m\n\u001b[0;32m---> 94\u001b[0;31m             \u001b[0mfileobj\u001b[0m \u001b[0;34m=\u001b[0m \u001b[0mself\u001b[0m\u001b[0;34m.\u001b[0m\u001b[0mmyfileobj\u001b[0m \u001b[0;34m=\u001b[0m \u001b[0m__builtin__\u001b[0m\u001b[0;34m.\u001b[0m\u001b[0mopen\u001b[0m\u001b[0;34m(\u001b[0m\u001b[0mfilename\u001b[0m\u001b[0;34m,\u001b[0m \u001b[0mmode\u001b[0m \u001b[0;32mor\u001b[0m \u001b[0;34m'rb'\u001b[0m\u001b[0;34m)\u001b[0m\u001b[0;34m\u001b[0m\u001b[0m\n\u001b[0m\u001b[1;32m     95\u001b[0m         \u001b[0;32mif\u001b[0m \u001b[0mfilename\u001b[0m \u001b[0;32mis\u001b[0m \u001b[0mNone\u001b[0m\u001b[0;34m:\u001b[0m\u001b[0;34m\u001b[0m\u001b[0m\n\u001b[1;32m     96\u001b[0m             \u001b[0;31m# Issue #13781: os.fdopen() creates a fileobj with a bogus name\u001b[0m\u001b[0;34m\u001b[0m\u001b[0;34m\u001b[0m\u001b[0m\n",
      "\u001b[0;31mIOError\u001b[0m: [Errno 2] No such file or directory: '35385e63-0034-4dca-8af0-2244ea99c9c3.tar.gz'"
     ]
    }
   ],
   "source": [
    "if __name__ == '__main__':\n",
    "    rawFileObs, rawFileSearch, observed, expecteds = getImageTar(\"good_2.csv\")\n",
    "    main('/Users/lynuszullo/pyOrbfit','good_2.csv',expecteds, rawFileObs, rawFileSearch)"
   ]
  },
  {
   "cell_type": "code",
   "execution_count": null,
   "metadata": {
    "collapsed": false
   },
   "outputs": [],
   "source": []
  },
  {
   "cell_type": "markdown",
   "metadata": {
    "collapsed": false
   },
   "source": [
    "makeIndividualWebpage('/Users/ColinS/Documents/TNOSearch','gold_27.csv','5ad98083-9dcb-41e3-aed2-b9bd25237430.tar.gz')"
   ]
  },
  {
   "cell_type": "code",
   "execution_count": null,
   "metadata": {
    "collapsed": false
   },
   "outputs": [],
   "source": [
    "#makeIndividualWebpage('/Users/lynuszullo/pyOrbfit','good_2.csv',expecteds,'8e9ca6ad-11b1-4d58-ac89-18009f2a797b.tar', 'a84925eb-f279-437c-8619-9c9b8edc2d74.tar')"
   ]
  },
  {
   "cell_type": "markdown",
   "metadata": {
    "collapsed": false
   },
   "source": [
    "makeIndividualWebpage('/Users/ColinS/Documents/TNOSearch','QR441.csv','8e1523a8-2194-4464-a80b-1306feadacad.tar')"
   ]
  },
  {
   "cell_type": "markdown",
   "metadata": {},
   "source": [
    "Here is an example of an input:\n",
    "makeIndividualWebpage('/Users/ColinS/Documents/TNOSearch','Fakegold.csv','5ad98083-9dcb-41e3-aed2-b9bd25237430.tar.gz')\n"
   ]
  },
  {
   "cell_type": "code",
   "execution_count": null,
   "metadata": {
    "collapsed": false
   },
   "outputs": [],
   "source": [
    "all_exps=read_csv('exposures.csv')\n",
    "mymatches=findExposures('good_2.csv')"
   ]
  },
  {
   "cell_type": "code",
   "execution_count": null,
   "metadata": {
    "collapsed": true
   },
   "outputs": [],
   "source": [
    "goodObs=read_csv('good_2.csv')"
   ]
  },
  {
   "cell_type": "code",
   "execution_count": null,
   "metadata": {
    "collapsed": false
   },
   "outputs": [],
   "source": [
    "goodObs[goodObs['expnum']==386739]"
   ]
  },
  {
   "cell_type": "code",
   "execution_count": null,
   "metadata": {
    "collapsed": false
   },
   "outputs": [],
   "source": [
    "mymatches.head()"
   ]
  },
  {
   "cell_type": "code",
   "execution_count": null,
   "metadata": {
    "collapsed": true
   },
   "outputs": [],
   "source": [
    "expecteds=mymatches[mymatches['isinobs']==False]"
   ]
  },
  {
   "cell_type": "code",
   "execution_count": null,
   "metadata": {
    "collapsed": false
   },
   "outputs": [],
   "source": [
    "expecteds"
   ]
  },
  {
   "cell_type": "code",
   "execution_count": null,
   "metadata": {
    "collapsed": false
   },
   "outputs": [],
   "source": [
    "unzip_tar('a84925eb-f279-437c-8619-9c9b8edc2d74.tar')"
   ]
  },
  {
   "cell_type": "code",
   "execution_count": null,
   "metadata": {
    "collapsed": true
   },
   "outputs": [],
   "source": [
    "os.chdir('/Users/ColinS/Documents/TNOSearch/'+'a84925eb-f279-437c-8619-9c9b8edc2d74')"
   ]
  },
  {
   "cell_type": "code",
   "execution_count": null,
   "metadata": {
    "collapsed": true
   },
   "outputs": [],
   "source": [
    "myflist=glob.glob('thumbs*')"
   ]
  },
  {
   "cell_type": "code",
   "execution_count": null,
   "metadata": {
    "collapsed": false
   },
   "outputs": [],
   "source": [
    "tempSearchArray=makeSearchArray(expecteds,myflist,'/Users/ColinS/Documents/TNOSearch','a84925eb-f279-437c-8619-9c9b8edc2d74',all_exps)"
   ]
  },
  {
   "cell_type": "code",
   "execution_count": null,
   "metadata": {
    "collapsed": false
   },
   "outputs": [],
   "source": [
    "tempSearchArray.head()"
   ]
  },
  {
   "cell_type": "code",
   "execution_count": null,
   "metadata": {
    "collapsed": false
   },
   "outputs": [],
   "source": [
    "str(ephem.hours(expecteds['can_ra'][1]))"
   ]
  },
  {
   "cell_type": "code",
   "execution_count": null,
   "metadata": {
    "collapsed": false
   },
   "outputs": [],
   "source": [
    "np.degrees(expecteds['can_ra'][1])"
   ]
  },
  {
   "cell_type": "code",
   "execution_count": null,
   "metadata": {
    "collapsed": false
   },
   "outputs": [],
   "source": [
    "len(myflist)"
   ]
  },
  {
   "cell_type": "markdown",
   "metadata": {},
   "source": [
    "Potential Problem expousure numbers:\n",
    "    459985\n",
    "230084\n",
    "231480\n",
    "238906\n",
    "240458\n",
    "245899\n",
    "247890\n",
    "251065\n",
    "255875\n",
    "261942\n",
    "267565\n",
    "275246\n",
    "277592\n",
    "354905\n",
    "359571\n",
    "360540\n",
    "369023\n",
    "372919\n",
    "379269\n",
    "381508\n",
    "382518\n",
    "389436\n",
    "391629\n",
    "395515\n",
    "398240\n",
    "400779\n",
    "403386\n",
    "459983\n",
    "464794\n",
    "466292\n",
    "474311\n",
    "475839\n",
    "478352\n",
    "483388\n",
    "484472\n",
    "506645\n",
    "459985\n",
    "459985\n",
    "345372\n",
    "345373\n",
    "226647\n",
    "228716\n",
    "230090\n",
    "231474\n",
    "237666\n",
    "242388\n",
    "243829\n",
    "245905\n",
    "255881\n",
    "258477\n",
    "275252\n",
    "277598\n",
    "280306\n",
    "345371\n",
    "348369\n",
    "352863\n",
    "359564\n",
    "367108\n",
    "371612\n",
    "376673\n",
    "379263\n",
    "381225\n",
    "381502\n",
    "389430\n",
    "401525\n",
    "475492\n",
    "482091\n",
    "485807\n",
    "492427\n",
    "494279\n",
    "497332\n",
    "500457\n",
    "501985\n",
    "506784\n",
    "508804\n",
    "345372\n",
    "345373\n",
    "345372\n",
    "345373\n",
    "345372\n",
    "459985"
   ]
  },
  {
   "cell_type": "code",
   "execution_count": null,
   "metadata": {
    "collapsed": false
   },
   "outputs": [],
   "source": [
    "mySearchTable=makeSearchTable(expecteds, \"good_2\")"
   ]
  },
  {
   "cell_type": "code",
   "execution_count": null,
   "metadata": {
    "collapsed": false
   },
   "outputs": [],
   "source": [
    "str(expecteds['b'][0])"
   ]
  },
  {
   "cell_type": "code",
   "execution_count": null,
   "metadata": {
    "collapsed": false
   },
   "outputs": [],
   "source": [
    "str(round(expecteds['b'][0],3))"
   ]
  },
  {
   "cell_type": "code",
   "execution_count": null,
   "metadata": {
    "collapsed": false
   },
   "outputs": [],
   "source": [
    "str(ephem.date(4444444.5))"
   ]
  },
  {
   "cell_type": "code",
   "execution_count": null,
   "metadata": {
    "collapsed": false
   },
   "outputs": [],
   "source": [
    "all_exps[all_exps['t_eff']>.3].index"
   ]
  },
  {
   "cell_type": "code",
   "execution_count": null,
   "metadata": {
    "collapsed": true
   },
   "outputs": [],
   "source": []
  }
 ],
 "metadata": {
  "anaconda-cloud": {},
  "kernelspec": {
   "display_name": "Python [Root]",
   "language": "python",
   "name": "Python [Root]"
  },
  "language_info": {
   "codemirror_mode": {
    "name": "ipython",
    "version": 2
   },
   "file_extension": ".py",
   "mimetype": "text/x-python",
   "name": "python",
   "nbconvert_exporter": "python",
   "pygments_lexer": "ipython2",
   "version": "2.7.11"
  }
 },
 "nbformat": 4,
 "nbformat_minor": 0
}
