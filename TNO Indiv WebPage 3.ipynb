{
 "cells": [
  {
   "cell_type": "markdown",
   "metadata": {},
   "source": [
    "#This is a cleaned up version of TNO Individual Web Page.ipynb. Now showing expected exposures. \n",
    "\n",
    "pyOrbfit lynuszullo$ scp /Users/lynuszullo/pyOrbfit/newfile_list.txt  lynusz@login.itd.umich.edu:/afs/umich.edu/user/l/y/lynusz/Public/html \n",
    "\n",
    "Lynus,\n",
    "\n",
    "To make this run, here is what you need to do.\n",
    "\n",
    "1) Make sure you can import all the libraries/methods in the first cell. You need to have pyOrbfit (Prof. Gerdes just / sent out instructions for downloading and installing this. You also need ccdBounds, which is on the dwgerdes GitHub / repository https://github.com/dwgerdes/tnofind\n",
    "\n",
    "2) Make sure you have installed ds9: http://ds9.si.edu/site/Download.html. Go with the X11 version for Mac. Test it out by going to your terminal and typing ds9. You may have to make a binary executable file.\n",
    "\n",
    "3) Have a directory with the following things in it: \n",
    "    \n",
    "    1) good_2.csv\n",
    "    \n",
    "    2) exposures.csv\n",
    "    \n",
    "    3) style_content.css\n",
    "\n",
    "4) Go to sendObsRequest and sendSearchRequest and replace my username and password with your username and password\n",
    "\n",
    "5) Run this line of code: rawFileObs, rawFileSearch, observed, expected = getImageTar(\"good_2.csv\")\n",
    "\n",
    "6) Go to http://desdev3.cosmology.illinois.edu:8000 (you may have enter your user name and password). Go and download the tar files and put them in the directory where everything else is stored. It may take a minute or two for the job to complete. \n",
    "\n",
    "7) Run the following line of code (putting in the appropriate file path): makeIndividualWebpage('/Users/ColinS/Documents/TNOSearch','good_2.csv',expecteds, rawFileObs, rawFileSearch) \n",
    "\n",
    "Hopefully this works. \n",
    "\n",
    "-Colin\n",
    "\n",
    "ps. You're totally right, that second break statement doesn't do anything. \n"
   ]
  },
  {
   "cell_type": "code",
   "execution_count": 36,
   "metadata": {
    "collapsed": true
   },
   "outputs": [],
   "source": [
    "from __future__ import division\n",
    "from ccdBounds import *\n",
    "from pyOrbfit.Orbit import Orbit\n",
    "import gzip\n",
    "import glob # Lists files into a directory\n",
    "import tarfile\n",
    "import json\n",
    "import pandas as pd\n",
    "import pylab\n",
    "import ephem\n",
    "import os\n",
    "import time\n",
    "import numpy as np\n",
    "import requests\n",
    "import sys\n",
    "import easyaccess as ea\n",
    "from subprocess import call\n",
    "from pandas import *\n",
    "from pylab import *\n",
    "from astropy.io import fits\n",
    "from astropy.wcs import WCS"
   ]
  },
  {
   "cell_type": "code",
   "execution_count": 37,
   "metadata": {
    "collapsed": false
   },
   "outputs": [],
   "source": [
    "def drawObsCircle(tempfits, imgfile, regfile, ra, dec):\n",
    "    with open(regfile, 'w') as fout:\n",
    "        #fout.write('fk5; circle '+str(ra)+' '+str(dec)+' 6\" #dash=1') This line works\n",
    "        w=WCS(tempfits)\n",
    "        lon, lat = np.degrees(ephem.hours(ra)),np.degrees(ephem.degrees(dec))\n",
    "        pixx,pixy= w.wcs_world2pix(lon,lat,3)\n",
    "        fout.write('physical; circle '+str(pixx)+' '+str(pixy)+' 6\" #dash=1')\n",
    "    hdu=fits.getdata(tempfits)\n",
    "    h=hdu.shape[0]\n",
    "    w=hdu.shape[1]\n",
    "    os.system(r'ds9 '+tempfits+' -scale mode zscale -colorbar no -height '+str(h)+' -width '+str(w)+' -zoom to fit -region'+' '+regfile+' -saveimage png '+imgfile+' -exit')"
   ]
  },
  {
   "cell_type": "code",
   "execution_count": 38,
   "metadata": {
    "collapsed": true
   },
   "outputs": [],
   "source": [
    "def makeObsReg(regfile, ra, dec):\n",
    "    with open(regfile,'w') as fout:\n",
    "        fout.write('fk5; circle '+str(ra)+' '+str(dec)+' 6\" #dash=1')"
   ]
  },
  {
   "cell_type": "code",
   "execution_count": 39,
   "metadata": {
    "collapsed": true
   },
   "outputs": [],
   "source": [
    "def drawSearchEllipse(tempfits, imgfile, regfile, ra, dec, PA, a, b):\n",
    "    with open(regfile, 'w') as fout:\n",
    "        if a > 2:\n",
    "            fout.write('fk5; ellipse '+str(ra)+' '+str(dec)+' '+str(a)+'\" '+str(b)+'\" '+str(PA-90)+' # dash=1')\n",
    "        else:\n",
    "            fout.write('fk5; box '+str(ra)+' '+str(dec)+' '+str(6)+'\" '+str(6)+'\" 0 #color=red dash=1')\n",
    "    hdu=fits.getdata(tempfits)\n",
    "    h=hdu.shape[0]\n",
    "    w=hdu.shape[1]\n",
    "    os.system(\"ds9 \"+tempfits+\" -scale mode zscale -colorbar no -height \"+str(h)+\" -width \"+str(w)+\" -zoom to fit -region\"+\" \"+regfile+\" -saveimage png \"+imgfile+\" -exit\")"
   ]
  },
  {
   "cell_type": "code",
   "execution_count": 40,
   "metadata": {
    "collapsed": true
   },
   "outputs": [],
   "source": [
    "def makeSearchReg(regfile, ra, dec, PA, a, b):\n",
    "    with open(regfile, 'w') as fout:\n",
    "        if a>2:\n",
    "            fout.write('fk5; ellipse '+str(ra)+' '+str(dec)+' '+str(a)+'\" '+str(b)+'\" '+str(PA-90)+' # dash=1')\n",
    "        else:\n",
    "            fout.write('fk5; box '+str(ra)+' '+str(dec)+' '+str(6)+'\" '+str(6)+'\" 0 #color=red dash=1')"
   ]
  },
  {
   "cell_type": "code",
   "execution_count": 41,
   "metadata": {
    "collapsed": true
   },
   "outputs": [],
   "source": [
    "def fit_orbit(df_obs):\n",
    "    df_obs = df_obs.ix[['#' not in row['date'] for ind, row in df_obs.iterrows()]]   # filter comment lines\n",
    "    nobs = len(df_obs)\n",
    "    ralist = [ephem.hours(r) for r in df_obs['ra'].values]\n",
    "    declist = [ephem.degrees(r) for r in df_obs['dec'].values]\n",
    "    datelist = [ephem.date(d) for d in df_obs['date'].values]\n",
    "    obscode = np.ones(nobs, dtype=int)*807\n",
    "    orbit = Orbit(dates=datelist, ra=ralist, dec=declist, obscode=obscode, err=0.15)\n",
    "    return orbit"
   ]
  },
  {
   "cell_type": "code",
   "execution_count": 42,
   "metadata": {
    "collapsed": true
   },
   "outputs": [],
   "source": [
    "def compute_chip(rockra, rockdec, expra, expdec):\n",
    "    '''\n",
    "    Given the ra and dec of a point and of the center\n",
    "    of an exposure, find the CCD containing that point.\n",
    "    \n",
    "    Returns a pair of the CCD name and number.\n",
    "    '''\n",
    "    deltara = 180/np.pi*ephem.degrees(rockra-expra).znorm  # compute difference in degrees (normalized between -180, +180)\n",
    "    deltadec = 180/np.pi*ephem.degrees(rockdec-expdec).znorm  # the 180/pi is because ephem.Angle objects are natively in radians\n",
    "    ccdname = 'None'\n",
    "    for k in ccdBounds:\n",
    "        if deltara > ccdBounds[k][0] and deltara < ccdBounds[k][1] and deltadec > ccdBounds[k][2] and deltadec < ccdBounds[k][3]:\n",
    "            ccdname = k\n",
    "    return ccdname, ccdNum[ccdname]\n",
    "\n"
   ]
  },
  {
   "cell_type": "code",
   "execution_count": 43,
   "metadata": {
    "collapsed": true
   },
   "outputs": [],
   "source": [
    "#Unzips tar.gz files\n",
    "def unzip_tar(tarname):\n",
    "    fname = str(tarname)\n",
    "    if (fname.endswith(\"tar.gz\")):\n",
    "        tar = tarfile.open(fname, 'r:gz')\n",
    "        tar.extractall() ##Deleted the slash in front of c\n",
    "        tar.close()\n",
    "    elif (fname.endswith(\"tar\")):\n",
    "        tar = tarfile.open(fname, 'r:')\n",
    "        tar.extractall()\n",
    "        tar.close()\n",
    "    raw_fname = fname[:36]\n",
    "    return raw_fname"
   ]
  },
  {
   "cell_type": "code",
   "execution_count": 44,
   "metadata": {
    "collapsed": false
   },
   "outputs": [],
   "source": [
    "def makeSearchArray(obs_properties, flist, directory, raw_fname, exp_values):\n",
    "    \n",
    "    os.mkdir(directory+'PermFiles/NotTempImgs_'+raw_fname) #makes the directory for all images needed for website.\n",
    "    \n",
    "    search_array=pandas.DataFrame.from_items([('expnum',[]),('refccd',[]),('refpng',[]), ('refdate',[]),('reftef',[]),('compimages',[]),('compexp',[]),('compccd',[]),('compdate',[]),('comptef',[])])\n",
    "    \n",
    "    def getkey(item):\n",
    "            return item[0]\n",
    "        \n",
    "    for i in obs_properties.index:\n",
    "        #print \"entering row\"+str(i), time.ctime()\n",
    "        \n",
    "        commandstr='ds9 '\n",
    "        \n",
    "        refnum=obs_properties['expnum'][i]\n",
    "        refccd=obs_properties['ccd'][i]\n",
    "        #refccd=obs_properties['ccdnum'][i]\n",
    "        refband=obs_properties['band'][i]\n",
    "        refdate=str(ephem.date(obs_properties['date'][i]))\n",
    "        ref_ra=ephem.hours(obs_properties['can_ra'][i])\n",
    "        ref_dec=ephem.degrees(obs_properties['can_dec'][i])\n",
    "        ref_PA=obs_properties['PA'][i]\n",
    "        ref_a=obs_properties['a'][i]\n",
    "        ref_b=obs_properties['b'][i]\n",
    "        CompImgs=[]\n",
    "        expnums=[]\n",
    "        refpng=''\n",
    "        reftef=round(float(exp_values[exp_values['expnum']==refnum]['t_eff']),3)\n",
    "        refisinobs=obs_properties['isinobs'][i]\n",
    "        \n",
    "        breaktime=False\n",
    "        quicklabel=[]\n",
    "        \n",
    "        for thumb in flist:\n",
    "            #print r\"     checking thumb\"+thumb, time.ctime()\n",
    "            os.chdir(directory+raw_fname+'/'+thumb)\n",
    "            fit_list = glob.glob('*fits')\n",
    "        \n",
    "            for f in fit_list:\n",
    "                h=fits.open(f)\n",
    "                if h[0].header[\"EXPNUM\"]==refnum and h[0].header['CCDNUM']==refccd:\n",
    "                    #print r\"         Found correct thumb\", time.ctime()\n",
    "                    reffit=f\n",
    "                    refpng='PermFiles/NotTempImgs_'+raw_fname+'/'+reffit[:-5]+'Circ.png' \n",
    "                    if refisinobs:\n",
    "                        makeObsReg('temp.reg',ref_ra,ref_dec)\n",
    "                    else:\n",
    "                        makeSearchReg('temp.reg',ref_ra, ref_dec, ref_PA, ref_a, ref_b)\n",
    "                    commandstr+=f+' -scale zscale '\n",
    "                    for g in fit_list:\n",
    "                        j=fits.open(g)\n",
    "                        jnum=j[0].header['EXPNUM']\n",
    "                        if (j[0].header['BAND']==refband and jnum != refnum and not (jnum in expnums)):\n",
    "                            try:\n",
    "                                teff=float(exp_values[exp_values['expnum']==jnum]['t_eff'])\n",
    "                            except:\n",
    "                                teff=0\n",
    "                                #print jnum\n",
    "                            pnglabel='Permfiles/NotTempImgs_'+raw_fname+'/'+g[:-5]+'Circ.png'\n",
    "                            quicklabel+=[g[:-5]+'Circ.png']\n",
    "                            date=str(j[0].header['DATE-OBS'])\n",
    "                            nicedate=date[0:4]+'/'+date[5:7]+'/'+date[8:10]+' '+date[11:19]\n",
    "                            CompImgs.append([teff,pnglabel, jnum, j[0].header['CCDNUM'], nicedate])\n",
    "                            expnums+=[jnum]\n",
    "                            commandstr+=' -file '+g\n",
    "                        j.close()\n",
    "                    commandstr+=' -single -region load all temp.reg -height 288 -width 288 -colorbar no -bg black '\n",
    "                    for q in range(1,len(quicklabel)+1):\n",
    "                        commandstr+=' -zoom to fit -saveimage png '+quicklabel[-q]+' -frame prev '\n",
    "                    commandstr+='-zoom to fit -saveimage png '+reffit[:-5]+'Circ.png'+' -exit'\n",
    "                    os.system(commandstr)\n",
    "                    os.system('cp '+directory+raw_fname+'/'+thumb +'/*.png '+directory+'PermFiles/'+'NotTempImgs_'+raw_fname)\n",
    "                    flist.remove(thumb)\n",
    "                    breaktime=True\n",
    "                    #print r\"         Done writing row\", time.ctime()\n",
    "                    break \n",
    "                h.close()\n",
    "            if breaktime:\n",
    "                break\n",
    "        \n",
    "        \n",
    "        sortedcomps=sorted(CompImgs, key=getkey, reverse=True)\n",
    "        \n",
    "        tempframe=pandas.DataFrame.from_items([('expnum', refnum),('refccd',refccd), ('refpng',[ refpng]), ('refdate', [refdate]),('reftef',[reftef]),('compimages', [[x[1] for x in sortedcomps]]),('compexp',[[x[2] for x in sortedcomps]]), ('compccd',[[x[3] for x in sortedcomps]]),('compdate',[[x[4] for x in sortedcomps]]),('comptef',[[round(x[0],3) for x in sortedcomps]])])                \n",
    "        search_array=search_array.append(tempframe, ignore_index=True)\n",
    "    \n",
    "        \n",
    "    return search_array"
   ]
  },
  {
   "cell_type": "code",
   "execution_count": 45,
   "metadata": {
    "collapsed": true
   },
   "outputs": [],
   "source": [
    "def writeStatus():\n",
    "    statstr=r'''<div>\n",
    "                <br><br>\n",
    "                <form>\n",
    "\t<select name = \"status\">\n",
    "\t\t<option>Accepted</option>\n",
    "\t\t<option>Rejected</option>\n",
    "\t\t<option>Uninspected</option>\n",
    "\t\t<option>Look Again</option>\n",
    "\t\t<option>Planet 9!!!</option>\n",
    "\n",
    "\t</select>\n",
    "\t<br>\n",
    "\t<button type = \"submit\" name = \"submit\" value = \"submit\">Submit</button>\n",
    "</form>\n",
    "\n",
    "<p> The status is:</p>\n",
    "\n",
    "<?php\n",
    "\tif (isset($_GET['submit'])){\n",
    "\t\t$status = $_GET['status'];\n",
    "\t\tswitch($status){\n",
    "\t\t\tcase \"Accepted\":\n",
    "\t\t\t\techo \" Accepted!\";\n",
    "\t\t\tbreak;\n",
    "\t\t\tcase \"Rejected\":\n",
    "\t\t\t\techo \" Rejected :(\";\n",
    "\t\t\tbreak;\n",
    "\t\t\tcase \"Uninspected\":\n",
    "\t\t\t\techo \" Uninspected\";\n",
    "\t\t\tbreak;\n",
    "\t\t\tcase \"Look Again\":\n",
    "\t\t\t\techo \" Look Again\";\n",
    "\t\t\tbreak;\n",
    "\t\t\tcase \"Planet 9!!!\":\n",
    "\t\t\t\techo \" Get prepped for the cameras\";\n",
    "\t\t\tbreak;\n",
    "\n",
    "\n",
    "\t\t}\n",
    "\t}\n",
    "?>\n",
    "            </div>'''\n",
    "    return statstr"
   ]
  },
  {
   "cell_type": "code",
   "execution_count": 46,
   "metadata": {
    "collapsed": true
   },
   "outputs": [],
   "source": [
    "def makeHead(obs_properties, objid):\n",
    "    numobs=len(obs_properties)\n",
    "    headstr=r\"\"\"\n",
    "    <!DOCTYPE html>\n",
    "    <html>\n",
    "    <head>\n",
    "    <title>Candidate: \"\"\"+objid+ r\"\"\"</title>\n",
    "    <link href =\"style_content.css\" type=\"text/css\" rel=\"stylesheet\">\n",
    "    </head>\n",
    "    <body>\n",
    "        <div class = \"main\">\n",
    "            <div class = \"header\">\n",
    "                <h1> Candidate: \"\"\"+objid+r\"\"\"</h1>\n",
    "                <p><a href = \"homepage2.html\">Home</a></p>\n",
    "            </div>\"\"\"+writeStatus()+r\"\"\"\n",
    "            <div class = \"tab\" align = \"center\">\n",
    "                \n",
    "            <table width = \"700\" border=\"1\" align=\"center\">\n",
    "            <tr>\n",
    "            <td align=\"center\" colspan=\"10\"><b>Properties</b>\n",
    "            </td>\n",
    "            \n",
    "            <tr align = \"center\">\n",
    "                <td>Date</td>\n",
    "                <td>Ra</td>\n",
    "                <td>Dec</td>\n",
    "                <td>Expnum</td>\n",
    "                <td>Exptime</td>\n",
    "                <td>Band</td>\n",
    "                <td>Ccd</td>\n",
    "                <td>Mag</td>\n",
    "                <td>ml_score</td>\n",
    "                <td>Object ID</td>\n",
    "            </tr>\"\"\"\n",
    "\n",
    "    for i in obs_properties.index:\n",
    "        headstr+= r\"\"\"        <tr align = \"center\">\n",
    "                <td>\"\"\"+str(ephem.date(obs_properties['date'][i]))+r\"\"\"</td>\n",
    "                <td>\"\"\"+str(ephem.hours(obs_properties['can_ra'][i]))+r\"\"\"</td>\n",
    "                <td>\"\"\"+str(ephem.degrees(obs_properties['can_dec'][i]))+r\"\"\"</td>\n",
    "                <td>\"\"\"+str(int(obs_properties['expnum'][i]))+r\"\"\"</td>\n",
    "                <td>\"\"\"+str(obs_properties['exptime'][i])+r\"\"\"</td>\n",
    "                <td>\"\"\"+obs_properties['band'][i]+r\"\"\"</td>\n",
    "                <td>\"\"\"+str(int(obs_properties['ccd'][i]))+r\"\"\"</td>\n",
    "                <td>\"\"\"+str(obs_properties['mag'][i])+r\"\"\"</td>\n",
    "                <td>\"\"\"+str(obs_properties['ml_score'][i])+r\"\"\"</td>\n",
    "                <td>\"\"\"+str(int(obs_properties['objid'][i]))+r\"\"\"</td>\n",
    "            </tr>\"\"\"\n",
    "\n",
    "    headstr+=\"\"\"\n",
    "        </table>\n",
    "            </div>\"\"\"\n",
    "    return headstr\n",
    "\n"
   ]
  },
  {
   "cell_type": "code",
   "execution_count": 47,
   "metadata": {
    "collapsed": false
   },
   "outputs": [],
   "source": [
    "def makeSearchTable(obs_properties, objid):\n",
    "    headstr=r\"\"\"\n",
    "            <div class = \"tab\" align = \"center\">\n",
    "                \n",
    "            <table width = \"700\" border=\"1\" align=\"center\">\n",
    "            <tr>\n",
    "            <td align=\"center\" colspan=\"10\"><b>Possible Exposures</b>\n",
    "            </td>\n",
    "            \n",
    "            <tr align = \"center\">\n",
    "                <td>Date</td>\n",
    "                <td>Ra</td>\n",
    "                <td>Dec</td>\n",
    "                <td>Expnum</td>\n",
    "                <td>Band</td>\n",
    "                <td>Ccd</td>\n",
    "                <td>PA </td>\n",
    "                <td>a</td>\n",
    "                <td>b</td>\n",
    "            </tr>\"\"\"\n",
    "\n",
    "    for i in obs_properties.index:\n",
    "        headstr+= r\"\"\"        <tr align = \"center\">\n",
    "                <td>\"\"\"+str(ephem.date(obs_properties['date'][i]))+r\"\"\"</td>\n",
    "                <td>\"\"\"+str(ephem.hours(obs_properties['can_ra'][i]))+r\"\"\"</td>\n",
    "                <td>\"\"\"+str(ephem.degrees(obs_properties['can_dec'][i]))+r\"\"\"</td>\n",
    "                <td>\"\"\"+str(int(obs_properties['expnum'][i]))+r\"\"\"</td>\n",
    "                <td>\"\"\"+str(obs_properties['band'][i])+r\"\"\"</td>\n",
    "                <td>\"\"\"+str(int(obs_properties['ccd'][i]))+r\"\"\"</td>\n",
    "                <td>\"\"\"+str(round(obs_properties['PA'][i],2))+r\"\"\"</td>\n",
    "                <td>\"\"\"+str(round(obs_properties['a'][i],2))+r\"\"\"</td>\n",
    "                <td>\"\"\"+str(round(obs_properties['b'][i],2))+r\"\"\"</td>\n",
    "            </tr>\"\"\"\n",
    "\n",
    "    headstr+=r\"\"\"\n",
    "        </table>\n",
    "            </div>\"\"\"\n",
    "    return headstr\n",
    "    "
   ]
  },
  {
   "cell_type": "code",
   "execution_count": 48,
   "metadata": {
    "collapsed": true
   },
   "outputs": [],
   "source": [
    "def tableHeader(objid):\n",
    "    tableHead = \"\"\"\t\t<div class = \"img\">\n",
    "\t\t\t<table ID=\"t02\" >\n",
    "\t\t\t\t<tr>\n",
    "\t\t\t\t\t<td align=\"center\" colspan=\"5\"><b>Images of \"\"\"+objid+\"\"\"</b>\n",
    "\t\t\t\t\t<p> Click on an image to expand it. </p>\n",
    "\t\t\t\t\t</td>\n",
    "                </tr>\n",
    "                    <th>Observations</th> <th>Comparison images ordered by decreasing t_eff</th> \"\"\"\n",
    "    return tableHead"
   ]
  },
  {
   "cell_type": "code",
   "execution_count": 49,
   "metadata": {
    "collapsed": true
   },
   "outputs": [],
   "source": [
    "def searchHeader(objid):\n",
    "    tableHead = \"\"\"\t\t<div class = \"img\">\n",
    "\t\t\t<table ID=\"t02\" >\n",
    "\t\t\t\t<tr>\n",
    "\t\t\t\t\t<td align=\"center\" colspan=\"5\"><b>Exposures coinciding with best fit orbit of \"\"\"+objid+\"\"\"</b>\n",
    "\t\t\t\t\t<p> Click on an image to expand it. </p>\n",
    "\t\t\t\t\t</td>\n",
    "                </tr>\n",
    "                    <th>Expected Observations</th> <th>Comparison images ordered by decreasing t_eff</th> \"\"\"\n",
    "    return tableHead"
   ]
  },
  {
   "cell_type": "code",
   "execution_count": 50,
   "metadata": {
    "collapsed": false
   },
   "outputs": [],
   "source": [
    "def writeImgTable(ImgArray, directory, raw_fname):\n",
    "    tableBody = ''\n",
    "    for i in range(0,len(ImgArray)):\n",
    "        refpng=ImgArray['refpng'][i]\n",
    "        expnum=ImgArray['expnum'][i]\n",
    "        refccd=ImgArray['refccd'][i]\n",
    "        refdate=ImgArray['refdate'][i]\n",
    "        reftef=ImgArray['reftef'][i]\n",
    "        compimages=ImgArray['compimages'][i]\n",
    "        compexp=ImgArray['compexp'][i]\n",
    "        compccd=ImgArray['compccd'][i]\n",
    "        compdate=ImgArray['compdate'][i]\n",
    "        comptef=ImgArray['comptef'][i]\n",
    "        tableBody+= '<tr align =\"center\">'\n",
    "        tableBody+= '<tr><td><p></p></td></tr>'\n",
    "        tableBody+= r'''<td> <u>t_eff = '''+str(reftef)+r'''</u></td>'''\n",
    "        for j in range(0,len(compimages)):\n",
    "            tableBody+= r'''<td><u> t_eff = '''+str(comptef[j])+'''</u></td>'''\n",
    "        tableBody += '</tr>\t\t<tr align = \"center\" valign=\"top\">'\n",
    "        tableBody += '\t\t\t'+r''' <td><a href = \"'''+directory+refpng+r'''\" ><img src= \"'''+directory+refpng+r'''\" align='center' alt = \"No Reference Image Available\"\n",
    "                width =\"200\" height=\"200\" align=\"center\" border = \"1\"></img> </a> </td>''' #This will have to change--probably get rid of: +raw_fname+'/'\n",
    "        for j in range(0,len(compimages)):\n",
    "            tableBody += '\t\t\t'+r'''<td> <a href = \"'''+directory+compimages[j]+'''\"><img src=\"'''+directory+compimages[j]+'''\" align='center' alt = \"Example 1 pic\"\n",
    "                width =\"200\" height=\"200\" align=\"center\" border = \"1\"></img></a> </td>''' #once again get rid of teh raw_fname part\n",
    "        tableBody+= r'''</tr>     <tr align = \"center\">'''\n",
    "        tableBody+= r'''<td>Expnum = '''+str(int(expnum))+r''', ccd = '''+ str(int(refccd))+r'''</td>'''\n",
    "        for j in range(0, len(compimages)):\n",
    "            tableBody+='''<td>Expnum = '''+str(compexp[j])+r''', ccd = '''+ str(compccd[j])+r'''</td>'''\n",
    "        tableBody+=r'''</tr> <tr align = \"center\" border-bottom=\"1px\">'''\n",
    "        tableBody+=r'''<td> Date: '''+str(refdate)+r'''</td>'''\n",
    "        for j in range(0, len(compimages)):\n",
    "            tableBody+=r'''<td> Date: '''+str(compdate[j])+r'''</td>'''\n",
    "        tableBody += \"</tr> \\n\"\n",
    "    \n",
    "    return tableBody"
   ]
  },
  {
   "cell_type": "code",
   "execution_count": 51,
   "metadata": {
    "collapsed": true
   },
   "outputs": [],
   "source": [
    "def writeComments():\n",
    "    comstr = r'''<div> \n",
    "    <br><br>\n",
    "    \n",
    "    \n",
    "    <table id=\"t01\" width = \"700\" align=\"center\" cellspacing=\"6\" cellpadding = \"2\" >\n",
    "        <tr>\n",
    "            <th align=\"center\" colspan=\"5\"><b>Comments</b> </th>\n",
    "        </tr>\n",
    "        <tr>\n",
    "            <td> 12/18/2016 </td>\n",
    "        </tr>\n",
    "        <tr>\n",
    "        <td > TNOs are so cool! </td>\n",
    "        </tr>\n",
    "        <tr>\n",
    "            <td > 12/15/2016 </td>\n",
    "        </tr>\n",
    "        <tr>\n",
    "            <td> This candidate is registered with the Minor Planet Center </td>\n",
    "        </tr>\n",
    "    \n",
    "    \n",
    "    \n",
    "    </table>\n",
    "\n",
    "    </div>'''\n",
    "    \n",
    "    return comstr"
   ]
  },
  {
   "cell_type": "code",
   "execution_count": 52,
   "metadata": {
    "collapsed": true
   },
   "outputs": [],
   "source": [
    "def writeLeavCom(): ##Distant s-13 is hardcoded now.  Need to change that later\n",
    "    formstr=r'''\n",
    "<?php\n",
    "\n",
    "if($_POST){\n",
    "    $name = $_POST['name'];\n",
    "    $content = $_POST['commentContent'];\n",
    "    $file = 'distant_s13_y2.php';\n",
    "    if (($handle = fopen($file, \"a\")) !== false) { \n",
    "        fwrite($handle,\"<b>\" . $name . \"</b>:<br/>\" . $content . \"<br/>\");\n",
    "        fclose($handle);\n",
    "    }\n",
    "}\n",
    "\n",
    "?>\n",
    "\n",
    "\n",
    "<form action = \"\" method = \"POST\">\n",
    "    Comments: <textarea rows = \"10\" cols = \"30\" name = \"commentContent\"></textarea><br/>\n",
    "    Name: <input type = \"text\" name = \"name\"><br/>\n",
    "    <input type = \"submit\" value = \"Post!\"><br/>\n",
    "</form>\n",
    "'''\n",
    "    \n",
    "    \n",
    "    return formstr"
   ]
  },
  {
   "cell_type": "code",
   "execution_count": 53,
   "metadata": {
    "collapsed": true
   },
   "outputs": [],
   "source": [
    "def buildpage(obs_properties, searchFrame, flistObs, flistSearch, directory, raw_fnameObs,raw_fnameSearch, exp_values, objid):\n",
    "    #print \"making image array\", time.ctime()\n",
    "    ImgArray=makeSearchArray(obs_properties, flistObs, directory, raw_fnameObs, exp_values)\n",
    "    #print \"making search array\", time.ctime()\n",
    "    SearchArray=makeSearchArray(searchFrame,flistSearch,directory,raw_fnameSearch, exp_values)\n",
    "    #print \"writing web page\", time.ctime()\n",
    "    indivpage = makeHead(obs_properties, objid) + tableHeader(objid) + '''</tr> \\n\n",
    "    '''+ writeImgTable(ImgArray, directory, raw_fnameObs)+'''\n",
    "        \t\t\n",
    "\t\t\n",
    "\t\t\n",
    "\t</table>\n",
    "\t\t\n",
    "\t</div>'''+writeComments()+writeLeavCom()+ makeSearchTable(searchFrame, objid)+searchHeader(objid)+'''</tr> \\n\n",
    "    '''+writeImgTable(SearchArray,directory, raw_fnameSearch)+r'''\n",
    "    \n",
    "    </table>\n",
    "    </div>'''+writeComments()+writeLeavCom()+r'''\n",
    "    \n",
    "    </body>\n",
    "\n",
    "    </html>'''\n",
    "    return indivpage"
   ]
  },
  {
   "cell_type": "code",
   "execution_count": 54,
   "metadata": {
    "collapsed": true
   },
   "outputs": [],
   "source": [
    "def findExposures(candidate):\n",
    "    all_exps = read_csv('exposures.csv')\n",
    "    df = read_csv(candidate)\n",
    "    orb = fit_orbit(df)\n",
    "    matches=DataFrame() #Dataframe is a panda function.  Creates an empty dataframe\n",
    "    \n",
    "    #Checks to see the position of the candidate in the orbit and does that position lie in any ccd\n",
    "    for i in all_exps[all_exps['t_eff']>.3].index:\n",
    "        e_ra, e_dec=all_exps['ra'][i],all_exps['dec'][i]\n",
    "        pos=orb.predict_pos(all_exps['date'][i]) #Predicts position \n",
    "        pos_ra, pos_dec=pos['ra'], pos['dec']\n",
    "        ccdname, ccdnum = compute_chip(pos_ra, pos_dec, e_ra, e_dec)\n",
    "        if ccdnum>0:\n",
    "            temp=all_exps.loc[i,['expnum','date','nite','band','t_eff']]\n",
    "            temp['ccd']=ccdnum\n",
    "            temp['PA']=pos['err']['PA']\n",
    "            temp['a']=pos['err']['a'] #Semimajor axis of error elipse\n",
    "            temp['b']=pos['err']['b'] #Semiminor axis of error elipse\n",
    "            #temp['can_ra']=pos_ra\n",
    "            #temp['can_dec']=pos_dec\n",
    "            #temp['isinobs']=all_exps['expnum'][i] in list(df['expnum']) #True if it should be in top section of array aka we know if should be in that exposure\n",
    "            if all_exps['expnum'][i] in list(df['expnum']):\n",
    "                temp['isinobs']=True\n",
    "                temp['objid']=int(df[df['expnum']==all_exps['expnum'][i]]['objid'])\n",
    "                temp['mag']=float(df[df['expnum']==all_exps['expnum'][i]]['mag'])\n",
    "                temp['ml_score']=float(df[df['expnum']==all_exps['expnum'][i]]['ml_score'])\n",
    "                temp['exptime']=float(df[df['expnum']==all_exps['expnum'][i]]['exptime'])\n",
    "                temp['can_ra']=float(ephem.hours(df[df['expnum']==all_exps['expnum'][i]]['ra'].get_values()[0]))\n",
    "                temp['can_dec']=float(ephem.degrees(df[df['expnum']==all_exps['expnum'][i]]['dec'].get_values()[0]))\n",
    "            else:\n",
    "                temp['isinobs']=False\n",
    "                temp['objid']=-99\n",
    "                temp['mag']=-99\n",
    "                temp['ml_score']=-99\n",
    "                temp['exptime']=-99\n",
    "                temp['can_ra']=pos_ra\n",
    "                temp['can_dec']=pos_dec\n",
    "            matches=matches.append(temp,ignore_index=True)\n",
    "    return matches"
   ]
  },
  {
   "cell_type": "code",
   "execution_count": 55,
   "metadata": {
    "collapsed": true
   },
   "outputs": [],
   "source": [
    "#Takes all the matches.  Sends the list of RA and DEC to the thumbnail generator\n",
    "\n",
    "def sendObsRequest(matches,username,password):\n",
    "    ra=list(np.degrees(matches[matches['isinobs']==True]['can_ra']))\n",
    "    dec=list(np.degrees(matches[matches['isinobs']==True]['can_dec']))\n",
    "    bands='[g,r,i,z]'\n",
    "    req='http://descut.cosmology.illinois.edu:8000/api?username='+username+'&password='+password+'&ra=%s&dec=%s&bands=%s' % (ra,dec,bands)\n",
    "    #req='http://descut.cosmology.illinois.edu:8000/api?username=scheibne&password=sch70chips&ra=%s&dec=%s&bands=%s' % (ra,dec,bands)\n",
    "    submit = requests.get(req)\n",
    "    return submit.json()['job'] # Returns job ID, long string"
   ]
  },
  {
   "cell_type": "code",
   "execution_count": 56,
   "metadata": {
    "collapsed": true
   },
   "outputs": [],
   "source": [
    "#Does the same thing as sendObsRequest except for the reference images\n",
    "\n",
    "def sendSearchRequest(matches,username,password):\n",
    "    ra=list(np.degrees(matches[matches['isinobs']==False]['can_ra']))\n",
    "    dec=list(np.degrees(matches[matches['isinobs']==False]['can_dec']))\n",
    "    bands='[g,r,i,z]'\n",
    "    req='http://descut.cosmology.illinois.edu:8000/api?username='+username+'&password='+password+'&ra=%s&dec=%s&bands=%s' % (ra,dec,bands)\n",
    "    #req='http://descut.cosmology.illinois.edu:8000/api?username=scheibne&password=sch70chips&ra=%s&dec=%s&bands=%s' % (ra,dec,bands)\n",
    "    submit = requests.get(req)\n",
    "    return submit.json()['job']"
   ]
  },
  {
   "cell_type": "code",
   "execution_count": 57,
   "metadata": {
    "collapsed": true
   },
   "outputs": [],
   "source": [
    "def getImageTar(candidate):\n",
    "    matches=findExposures(candidate)\n",
    "    username = raw_input('Enter username ')\n",
    "    password = raw_input('Enter password ')\n",
    "    \n",
    "    #The name of the tar.gz file is just the job ID plus .tar.gz\n",
    "    rawFileObs=sendObsRequest(matches,username,password)\n",
    "    rawFileSearch=sendSearchRequest(matches,username,password)\n",
    "    \n",
    "    #Slices of matches where isinobs is true or false\n",
    "    observed=matches[matches['isinobs']==True]\n",
    "    expected=matches[matches['isinobs']==False]\n",
    "    \n",
    "    #print observed\n",
    "    #print expected\n",
    "    \n",
    "    return rawFileObs,rawFileSearch,observed,expected"
   ]
  },
  {
   "cell_type": "code",
   "execution_count": 58,
   "metadata": {
    "collapsed": true
   },
   "outputs": [],
   "source": [
    "#takes the filename of json and returns a list of dicts\n",
    "def open_json(jsonName):\n",
    "    f = open(jsonName, \"r\")\n",
    "    s=f.read()\n",
    "    type(s)\n",
    "    book = json.loads(s)\n",
    "    return book"
   ]
  },
  {
   "cell_type": "code",
   "execution_count": 59,
   "metadata": {
    "collapsed": true
   },
   "outputs": [],
   "source": [
    "#takes a job id and returns \"temp_<jobid>\", which is the name of directory containting all the files from the thumbnail request\n",
    "def fetchFiles(jobid):\n",
    "   \n",
    "    while True:\n",
    "        os.system('wget -O file_list_'+jobid+'.txt http://descut.cosmology.illinois.edu:8000/static/uploads/lzullo/results/'+jobid+'/file_list.txt')\n",
    "        #os.system('wget -O file_list_'+jobid+'.txt http://descut.cosmology.illinois.edu:8000/static/uploads/scheibne/results/'+jobid+'/file_list.txt')\n",
    "        myfile=open(os.getcwd()+'/file_list_'+jobid+'.txt')\n",
    "        mylines=myfile.readlines()\n",
    "        if mylines==[]:\n",
    "            time.sleep(10)\n",
    "        else:\n",
    "            break\n",
    "            \n",
    "            \n",
    "    newlines=[]\n",
    "    for l in mylines:\n",
    "        if l[-5:-1]=='fits' or l[-5:-1]=='json':\n",
    "            newlines+=['http://descut.cosmology.illinois.edu:8000'+l[37:]]\n",
    "    newfilelist=open('newfile_list.txt','w')\n",
    "    newfilelist.writelines(newlines)\n",
    "    newfilelist.close()\n",
    "    myfile.close()\n",
    "    try:\n",
    "        os.mkdir('temp_'+jobid) #will this work if directory already exists? Yes. Maybe just use the job id as the directory name\n",
    "    except:\n",
    "        print \"temp_\"+jobid+\" already exists\"\n",
    "    os.chdir('temp_'+jobid)\n",
    "    os.system('wget -i '+'../newfile_list.txt')\n",
    "    os.chdir('..')\n",
    "    \n",
    "    #os.remove('file_list_'+jobid+'.txt')\n",
    "    return 'temp_'+jobid"
   ]
  },
  {
   "cell_type": "code",
   "execution_count": 60,
   "metadata": {
    "collapsed": true
   },
   "outputs": [],
   "source": [
    "#takes a directory, preferablly the directory given from fetchFiles. Creates sub directories called thumbs_0, thumbs_1 ,...\n",
    "#populates each thumb directory with fits files sharing the same ra/dec center. \n",
    "def organizeTempDirectory(tempDirectory):\n",
    "    os.chdir(tempDirectory)\n",
    "    jsonlist=glob.glob('*.json*')\n",
    "    for i in range(len(jsonlist)):\n",
    "        try:\n",
    "            os.mkdir('thumbs_'+str(i))\n",
    "        except:\n",
    "            print 'thumbs_'+str(i)+' already exists'\n",
    "        jarray=open_json(jsonlist[i])\n",
    "        for j in jarray:\n",
    "            try: \n",
    "                os.system('mv '+j['png_name'][:-3]+'fits'+' thumbs_'+str(i)) \n",
    "            except:\n",
    "                print \"Could not move file\"\n",
    "    os.chdir('..')"
   ]
  },
  {
   "cell_type": "code",
   "execution_count": 61,
   "metadata": {
    "collapsed": false
   },
   "outputs": [],
   "source": [
    "#Opens and querys the desoper database\n",
    "\n",
    "def accessDB():\n",
    "    db = ea.connect(section = \"desoper\")\n",
    "    cursor = db.cursor()\n",
    "    \n",
    "    #Need to change query so that it shows the objects we are looking for\n",
    "    #query = \"select distinct expnum, date_obs, telra, teldec, exptime, band, object from prod.exposure where \\\n",
    "    #nite=20140818 and program='survey' order by expnum \"\n",
    "    \n",
    "    #query = \"select * from prod.exposure where nite=20140818 and program='survey' order by expnum \"\n",
    "    #select date_obs, telra, teldec, expnum, exptime\n",
    "    query = \"select * from prod.exposure order by expnum\"\n",
    "    \n",
    "    #Can we import as a csv instead of a pandas database?\n",
    "    result = db.query_to_pandas(query)\n",
    "    \n",
    "    db.close()\n",
    "    \n",
    "    return result.head(15)"
   ]
  },
  {
   "cell_type": "code",
   "execution_count": 62,
   "metadata": {
    "collapsed": false
   },
   "outputs": [],
   "source": [
    "#accessDB()\n"
   ]
  },
  {
   "cell_type": "code",
   "execution_count": 63,
   "metadata": {
    "collapsed": false
   },
   "outputs": [],
   "source": [
    "def copyFCS(directory, username):\n",
    "    permDirec = (directory+'PermFiles')\n",
    "    print permDirec\n",
    "    os.chdir(permDirec)\n",
    "    #print permDirec\n",
    "    notTemps = glob.glob('NotTemp*')\n",
    "    #print notTemps\n",
    "    for notTemp in notTemps:\n",
    "        tempDirec = permDirec+ '/'+ notTemp\n",
    "        os.chdir(tempDirec)\n",
    "        pnglist = glob.glob('*png')\n",
    "        print pnglist\n",
    "        for png in pnglist:\n",
    "            #print png\n",
    "            os.system('scp '+tempDirec+'/'+png+ ' '+username+'@login.itd.umich.edu:/afs/umich.edu/user/l/y/'+username+'/Public/html')\n",
    "        \n",
    "    \n",
    "    "
   ]
  },
  {
   "cell_type": "code",
   "execution_count": 64,
   "metadata": {
    "collapsed": false
   },
   "outputs": [],
   "source": [
    "##copyFCS('/Users/lynuszullo/pyOrbfit/','lynusz')"
   ]
  },
  {
   "cell_type": "code",
   "execution_count": 65,
   "metadata": {
    "collapsed": false
   },
   "outputs": [],
   "source": [
    "def main(directory, obfile):\n",
    "    \n",
    "    #add two statements to make ds9 run in background\n",
    "    os.chdir(directory)\n",
    "    obs_props=read_csv(obfile) #The .csv files contain a list of RA and DEC of an object in the sky at every point it was observed\n",
    "    #obs_props = (obfile, \"rb\")\n",
    "    \n",
    "    objid=obfile[:-4]\n",
    "    \n",
    "    print \"finding exposures\"#, time.ctime()\n",
    "    #Exposures is a ton of exposures with teff over a certain threshold\n",
    "    exposures = read_csv('exposures.csv') \n",
    "    exp_values = exposures.ix[:,['expnum','t_eff']]\n",
    "    \n",
    "    print \"sending job\"#, time.ctime()\n",
    "    \n",
    "    rawFileObs, rawFileSearch, observed, expecteds = getImageTar(obfile)\n",
    "    \n",
    "    \n",
    "    print \"job sent\"#, time.ctime()\n",
    "    \n",
    "    \n",
    "    raw_fnameObs =  fetchFiles(rawFileObs) \n",
    "    raw_fnameSearch= fetchFiles(rawFileSearch)\n",
    "  \n",
    "    print \"job retrieved\"#, time.ctime()       \n",
    "        \n",
    "    organizeTempDirectory(raw_fnameObs)\n",
    "    organizeTempDirectory(raw_fnameSearch)\n",
    "\n",
    "    print \"job organized\"#, time.ctime()\n",
    "    \n",
    "    os.chdir(directory+'/'+raw_fnameObs)\n",
    "    flistObs = glob.glob('thumbs*')\n",
    "    os.chdir(directory+'/'+raw_fnameSearch)\n",
    "    flistSearch = glob.glob('thumbs*')\n",
    "\n",
    "    print \"building page\"#, time.ctime()\n",
    "    page = buildpage(observed, expecteds, flistObs, flistSearch, directory, raw_fnameObs, raw_fnameSearch, exp_values, objid)\n",
    "    os.chdir(directory)\n",
    "\n",
    "    print \"page built, writing page\"#, time.ctime()\n",
    "    with open(objid+'.php', 'w') as fout:\n",
    "        fout.write(page)\n",
    "\n",
    "    tempList = glob.glob('temp*')\n",
    "    for t in tempList:\n",
    "        os.system('rm -r '+str(t))\n",
    "    \n",
    "    fileList = glob.glob('file_list*')\n",
    "    for f in fileList:\n",
    "        os.system('rm -r '+str(f))\n",
    "    \n",
    "    #copyFCS(directory,'lynusz')\n",
    "    print 'done'#, time.ctime()\n",
    "#print pag"
   ]
  },
  {
   "cell_type": "code",
   "execution_count": 66,
   "metadata": {
    "collapsed": false
   },
   "outputs": [
    {
     "name": "stdout",
     "output_type": "stream",
     "text": [
      "finding exposures\n",
      "sending job\n",
      "Enter username lzullo\n",
      "Enter password lzu70chips\n",
      "job sent\n",
      "job retrieved\n",
      "job organized\n",
      "building page\n",
      "page built, writing page\n",
      "done\n",
      "2.16637655099 minutes\n"
     ]
    }
   ],
   "source": [
    "if __name__ == '__main__':\n",
    "    start_time = time.time()\n",
    "    main('/Users/lynuszullo/pyOrbfit/','distant_s13_y2.csv')\n",
    "    #main('/Users/ColinS/Documents/TNO_Webpage/','distant_s17_y2.csv')\n",
    "    minutes = (((time.time() - start_time)) / 60)\n",
    "    print(\"%s minutes\" % (minutes))"
   ]
  },
  {
   "cell_type": "code",
   "execution_count": 30,
   "metadata": {
    "collapsed": true
   },
   "outputs": [],
   "source": []
  },
  {
   "cell_type": "code",
   "execution_count": 29,
   "metadata": {
    "collapsed": false
   },
   "outputs": [],
   "source": [
    "#rawFileObs, rawFileSearch, observed, expecteds = getImageTar(\"good_2.csv\")"
   ]
  },
  {
   "cell_type": "code",
   "execution_count": 30,
   "metadata": {
    "collapsed": false
   },
   "outputs": [],
   "source": [
    "#main('/Users/ColinS/Documents/TNO_Webpage/','good_2.csv',expecteds, rawFileObs, rawFileSearch)"
   ]
  },
  {
   "cell_type": "code",
   "execution_count": 122,
   "metadata": {
    "collapsed": false
   },
   "outputs": [
    {
     "data": {
      "text/html": [
       "<div>\n",
       "<table border=\"1\" class=\"dataframe\">\n",
       "  <thead>\n",
       "    <tr style=\"text-align: right;\">\n",
       "      <th></th>\n",
       "      <th>date</th>\n",
       "      <th>ra</th>\n",
       "      <th>dec</th>\n",
       "      <th>expnum</th>\n",
       "      <th>exptime</th>\n",
       "      <th>band</th>\n",
       "      <th>ccd</th>\n",
       "      <th>mag</th>\n",
       "      <th>ml_score</th>\n",
       "      <th>objid</th>\n",
       "      <th>fakeid</th>\n",
       "    </tr>\n",
       "  </thead>\n",
       "  <tbody>\n",
       "    <tr>\n",
       "      <th>0</th>\n",
       "      <td>2014/12/24 04:04:15</td>\n",
       "      <td>2:35:16.79</td>\n",
       "      <td>-14:18:09.9</td>\n",
       "      <td>390941</td>\n",
       "      <td>90</td>\n",
       "      <td>r</td>\n",
       "      <td>22</td>\n",
       "      <td>23.87</td>\n",
       "      <td>0.780</td>\n",
       "      <td>25189745</td>\n",
       "      <td>0</td>\n",
       "    </tr>\n",
       "    <tr>\n",
       "      <th>1</th>\n",
       "      <td>2014/12/16 04:41:53</td>\n",
       "      <td>2:35:43.58</td>\n",
       "      <td>-14:21:48.9</td>\n",
       "      <td>388201</td>\n",
       "      <td>90</td>\n",
       "      <td>i</td>\n",
       "      <td>26</td>\n",
       "      <td>23.28</td>\n",
       "      <td>0.858</td>\n",
       "      <td>25564805</td>\n",
       "      <td>0</td>\n",
       "    </tr>\n",
       "    <tr>\n",
       "      <th>2</th>\n",
       "      <td>2014/12/12 04:48:56</td>\n",
       "      <td>2:35:58.88</td>\n",
       "      <td>-14:23:17.2</td>\n",
       "      <td>386740</td>\n",
       "      <td>90</td>\n",
       "      <td>i</td>\n",
       "      <td>23</td>\n",
       "      <td>23.42</td>\n",
       "      <td>0.742</td>\n",
       "      <td>24509371</td>\n",
       "      <td>0</td>\n",
       "    </tr>\n",
       "    <tr>\n",
       "      <th>3</th>\n",
       "      <td>2014/12/12 04:46:58</td>\n",
       "      <td>2:35:58.89</td>\n",
       "      <td>-14:23:17.2</td>\n",
       "      <td>386739</td>\n",
       "      <td>90</td>\n",
       "      <td>z</td>\n",
       "      <td>23</td>\n",
       "      <td>23.19</td>\n",
       "      <td>0.645</td>\n",
       "      <td>24541494</td>\n",
       "      <td>0</td>\n",
       "    </tr>\n",
       "  </tbody>\n",
       "</table>\n",
       "</div>"
      ],
      "text/plain": [
       "                  date          ra          dec  expnum  exptime band  ccd  \\\n",
       "0  2014/12/24 04:04:15  2:35:16.79  -14:18:09.9  390941       90    r   22   \n",
       "1  2014/12/16 04:41:53  2:35:43.58  -14:21:48.9  388201       90    i   26   \n",
       "2  2014/12/12 04:48:56  2:35:58.88  -14:23:17.2  386740       90    i   23   \n",
       "3  2014/12/12 04:46:58  2:35:58.89  -14:23:17.2  386739       90    z   23   \n",
       "\n",
       "     mag  ml_score     objid  fakeid  \n",
       "0  23.87     0.780  25189745       0  \n",
       "1  23.28     0.858  25564805       0  \n",
       "2  23.42     0.742  24509371       0  \n",
       "3  23.19     0.645  24541494       0  "
      ]
     },
     "execution_count": 122,
     "metadata": {},
     "output_type": "execute_result"
    }
   ],
   "source": [
    "checkout=read_csv('good_2.csv')\n",
    "checkout"
   ]
  },
  {
   "cell_type": "code",
   "execution_count": 138,
   "metadata": {
    "collapsed": false
   },
   "outputs": [
    {
     "data": {
      "text/plain": [
       "0.6794843121812157"
      ]
     },
     "execution_count": 138,
     "metadata": {},
     "output_type": "execute_result"
    }
   ],
   "source": [
    "ephem.hours(checkout[checkout['expnum']==388201]['ra'].get_values()[0])"
   ]
  },
  {
   "cell_type": "code",
   "execution_count": 144,
   "metadata": {
    "collapsed": false
   },
   "outputs": [
    {
     "data": {
      "text/plain": [
       "4"
      ]
     },
     "execution_count": 144,
     "metadata": {},
     "output_type": "execute_result"
    }
   ],
   "source": [
    "myarray=[1,2,3,4]\n",
    "myarray[-1]"
   ]
  },
  {
   "cell_type": "markdown",
   "metadata": {
    "collapsed": false
   },
   "source": [
    "makeIndividualWebpage('/Users/ColinS/Documents/TNOSearch','gold_27.csv','5ad98083-9dcb-41e3-aed2-b9bd25237430.tar.gz')"
   ]
  },
  {
   "cell_type": "code",
   "execution_count": 32,
   "metadata": {
    "collapsed": false
   },
   "outputs": [],
   "source": [
    "#makeIndividualWebpage('/Users/lynuszullo/pyOrbfit','good_2.csv',expecteds,'8e9ca6ad-11b1-4d58-ac89-18009f2a797b.tar', 'a84925eb-f279-437c-8619-9c9b8edc2d74.tar')"
   ]
  },
  {
   "cell_type": "markdown",
   "metadata": {
    "collapsed": false
   },
   "source": [
    "makeIndividualWebpage('/Users/ColinS/Documents/TNOSearch','QR441.csv','8e1523a8-2194-4464-a80b-1306feadacad.tar')"
   ]
  },
  {
   "cell_type": "markdown",
   "metadata": {},
   "source": [
    "Here is an example of an input:\n",
    "makeIndividualWebpage('/Users/ColinS/Documents/TNOSearch','Fakegold.csv','5ad98083-9dcb-41e3-aed2-b9bd25237430.tar.gz')\n"
   ]
  },
  {
   "cell_type": "code",
   "execution_count": 33,
   "metadata": {
    "collapsed": false
   },
   "outputs": [],
   "source": [
    "all_exps=read_csv('exposures.csv')\n",
    "mymatches=findExposures('good_2.csv')"
   ]
  },
  {
   "cell_type": "code",
   "execution_count": 34,
   "metadata": {
    "collapsed": true
   },
   "outputs": [],
   "source": [
    "goodObs=read_csv('good_2.csv')"
   ]
  },
  {
   "cell_type": "code",
   "execution_count": 35,
   "metadata": {
    "collapsed": false
   },
   "outputs": [
    {
     "data": {
      "text/html": [
       "<div>\n",
       "<table border=\"1\" class=\"dataframe\">\n",
       "  <thead>\n",
       "    <tr style=\"text-align: right;\">\n",
       "      <th></th>\n",
       "      <th>date</th>\n",
       "      <th>ra</th>\n",
       "      <th>dec</th>\n",
       "      <th>expnum</th>\n",
       "      <th>exptime</th>\n",
       "      <th>band</th>\n",
       "      <th>ccd</th>\n",
       "      <th>mag</th>\n",
       "      <th>ml_score</th>\n",
       "      <th>objid</th>\n",
       "      <th>fakeid</th>\n",
       "    </tr>\n",
       "  </thead>\n",
       "  <tbody>\n",
       "    <tr>\n",
       "      <th>3</th>\n",
       "      <td>2014/12/12 04:46:58</td>\n",
       "      <td>2:35:58.89</td>\n",
       "      <td>-14:23:17.2</td>\n",
       "      <td>386739</td>\n",
       "      <td>90.0</td>\n",
       "      <td>z</td>\n",
       "      <td>23</td>\n",
       "      <td>23.19</td>\n",
       "      <td>0.645</td>\n",
       "      <td>24541494</td>\n",
       "      <td>0</td>\n",
       "    </tr>\n",
       "  </tbody>\n",
       "</table>\n",
       "</div>"
      ],
      "text/plain": [
       "                  date          ra          dec  expnum  exptime band  ccd  \\\n",
       "3  2014/12/12 04:46:58  2:35:58.89  -14:23:17.2  386739     90.0    z   23   \n",
       "\n",
       "     mag  ml_score     objid  fakeid  \n",
       "3  23.19     0.645  24541494       0  "
      ]
     },
     "execution_count": 35,
     "metadata": {},
     "output_type": "execute_result"
    }
   ],
   "source": [
    "goodObs[goodObs['expnum']==386739]"
   ]
  },
  {
   "cell_type": "code",
   "execution_count": 36,
   "metadata": {
    "collapsed": false
   },
   "outputs": [
    {
     "data": {
      "text/html": [
       "<div>\n",
       "<table border=\"1\" class=\"dataframe\">\n",
       "  <thead>\n",
       "    <tr style=\"text-align: right;\">\n",
       "      <th></th>\n",
       "      <th>PA</th>\n",
       "      <th>a</th>\n",
       "      <th>b</th>\n",
       "      <th>band</th>\n",
       "      <th>can_dec</th>\n",
       "      <th>can_ra</th>\n",
       "      <th>ccd</th>\n",
       "      <th>date</th>\n",
       "      <th>expnum</th>\n",
       "      <th>isinobs</th>\n",
       "      <th>nite</th>\n",
       "      <th>t_eff</th>\n",
       "    </tr>\n",
       "  </thead>\n",
       "  <tbody>\n",
       "    <tr>\n",
       "      <th>0</th>\n",
       "      <td>47.310968</td>\n",
       "      <td>32.998642</td>\n",
       "      <td>21.950566</td>\n",
       "      <td>z</td>\n",
       "      <td>-0.244178</td>\n",
       "      <td>0.710670</td>\n",
       "      <td>49.0</td>\n",
       "      <td>41895.827010</td>\n",
       "      <td>359284.0</td>\n",
       "      <td>0.0</td>\n",
       "      <td>20140914.0</td>\n",
       "      <td>0.749</td>\n",
       "    </tr>\n",
       "    <tr>\n",
       "      <th>1</th>\n",
       "      <td>49.696497</td>\n",
       "      <td>18.262265</td>\n",
       "      <td>10.827863</td>\n",
       "      <td>z</td>\n",
       "      <td>-0.249310</td>\n",
       "      <td>0.702039</td>\n",
       "      <td>30.0</td>\n",
       "      <td>41924.866214</td>\n",
       "      <td>367659.0</td>\n",
       "      <td>0.0</td>\n",
       "      <td>20141013.0</td>\n",
       "      <td>0.367</td>\n",
       "    </tr>\n",
       "    <tr>\n",
       "      <th>2</th>\n",
       "      <td>50.389237</td>\n",
       "      <td>10.650317</td>\n",
       "      <td>5.937280</td>\n",
       "      <td>r</td>\n",
       "      <td>-0.251284</td>\n",
       "      <td>0.695664</td>\n",
       "      <td>56.0</td>\n",
       "      <td>41941.784114</td>\n",
       "      <td>373323.0</td>\n",
       "      <td>0.0</td>\n",
       "      <td>20141030.0</td>\n",
       "      <td>0.537</td>\n",
       "    </tr>\n",
       "    <tr>\n",
       "      <th>3</th>\n",
       "      <td>50.483913</td>\n",
       "      <td>9.441596</td>\n",
       "      <td>5.206346</td>\n",
       "      <td>i</td>\n",
       "      <td>-0.251527</td>\n",
       "      <td>0.694485</td>\n",
       "      <td>7.0</td>\n",
       "      <td>41944.810133</td>\n",
       "      <td>374602.0</td>\n",
       "      <td>0.0</td>\n",
       "      <td>20141102.0</td>\n",
       "      <td>0.428</td>\n",
       "    </tr>\n",
       "    <tr>\n",
       "      <th>4</th>\n",
       "      <td>51.851678</td>\n",
       "      <td>0.106077</td>\n",
       "      <td>0.098858</td>\n",
       "      <td>z</td>\n",
       "      <td>-0.251120</td>\n",
       "      <td>0.680598</td>\n",
       "      <td>23.0</td>\n",
       "      <td>41983.699292</td>\n",
       "      <td>386739.0</td>\n",
       "      <td>1.0</td>\n",
       "      <td>20141211.0</td>\n",
       "      <td>1.717</td>\n",
       "    </tr>\n",
       "  </tbody>\n",
       "</table>\n",
       "</div>"
      ],
      "text/plain": [
       "          PA          a          b band   can_dec    can_ra   ccd  \\\n",
       "0  47.310968  32.998642  21.950566    z -0.244178  0.710670  49.0   \n",
       "1  49.696497  18.262265  10.827863    z -0.249310  0.702039  30.0   \n",
       "2  50.389237  10.650317   5.937280    r -0.251284  0.695664  56.0   \n",
       "3  50.483913   9.441596   5.206346    i -0.251527  0.694485   7.0   \n",
       "4  51.851678   0.106077   0.098858    z -0.251120  0.680598  23.0   \n",
       "\n",
       "           date    expnum  isinobs        nite  t_eff  \n",
       "0  41895.827010  359284.0      0.0  20140914.0  0.749  \n",
       "1  41924.866214  367659.0      0.0  20141013.0  0.367  \n",
       "2  41941.784114  373323.0      0.0  20141030.0  0.537  \n",
       "3  41944.810133  374602.0      0.0  20141102.0  0.428  \n",
       "4  41983.699292  386739.0      1.0  20141211.0  1.717  "
      ]
     },
     "execution_count": 36,
     "metadata": {},
     "output_type": "execute_result"
    }
   ],
   "source": [
    "mymatches.head()"
   ]
  },
  {
   "cell_type": "code",
   "execution_count": 37,
   "metadata": {
    "collapsed": true
   },
   "outputs": [],
   "source": [
    "expecteds=mymatches[mymatches['isinobs']==False]"
   ]
  },
  {
   "cell_type": "code",
   "execution_count": 38,
   "metadata": {
    "collapsed": false
   },
   "outputs": [
    {
     "data": {
      "text/html": [
       "<div>\n",
       "<table border=\"1\" class=\"dataframe\">\n",
       "  <thead>\n",
       "    <tr style=\"text-align: right;\">\n",
       "      <th></th>\n",
       "      <th>PA</th>\n",
       "      <th>a</th>\n",
       "      <th>b</th>\n",
       "      <th>band</th>\n",
       "      <th>can_dec</th>\n",
       "      <th>can_ra</th>\n",
       "      <th>ccd</th>\n",
       "      <th>date</th>\n",
       "      <th>expnum</th>\n",
       "      <th>isinobs</th>\n",
       "      <th>nite</th>\n",
       "      <th>t_eff</th>\n",
       "    </tr>\n",
       "  </thead>\n",
       "  <tbody>\n",
       "    <tr>\n",
       "      <th>0</th>\n",
       "      <td>47.310968</td>\n",
       "      <td>32.998642</td>\n",
       "      <td>21.950566</td>\n",
       "      <td>z</td>\n",
       "      <td>-0.244178</td>\n",
       "      <td>0.710670</td>\n",
       "      <td>49.0</td>\n",
       "      <td>41895.827010</td>\n",
       "      <td>359284.0</td>\n",
       "      <td>0.0</td>\n",
       "      <td>20140914.0</td>\n",
       "      <td>0.749</td>\n",
       "    </tr>\n",
       "    <tr>\n",
       "      <th>1</th>\n",
       "      <td>49.696497</td>\n",
       "      <td>18.262265</td>\n",
       "      <td>10.827863</td>\n",
       "      <td>z</td>\n",
       "      <td>-0.249310</td>\n",
       "      <td>0.702039</td>\n",
       "      <td>30.0</td>\n",
       "      <td>41924.866214</td>\n",
       "      <td>367659.0</td>\n",
       "      <td>0.0</td>\n",
       "      <td>20141013.0</td>\n",
       "      <td>0.367</td>\n",
       "    </tr>\n",
       "    <tr>\n",
       "      <th>2</th>\n",
       "      <td>50.389237</td>\n",
       "      <td>10.650317</td>\n",
       "      <td>5.937280</td>\n",
       "      <td>r</td>\n",
       "      <td>-0.251284</td>\n",
       "      <td>0.695664</td>\n",
       "      <td>56.0</td>\n",
       "      <td>41941.784114</td>\n",
       "      <td>373323.0</td>\n",
       "      <td>0.0</td>\n",
       "      <td>20141030.0</td>\n",
       "      <td>0.537</td>\n",
       "    </tr>\n",
       "    <tr>\n",
       "      <th>3</th>\n",
       "      <td>50.483913</td>\n",
       "      <td>9.441596</td>\n",
       "      <td>5.206346</td>\n",
       "      <td>i</td>\n",
       "      <td>-0.251527</td>\n",
       "      <td>0.694485</td>\n",
       "      <td>7.0</td>\n",
       "      <td>41944.810133</td>\n",
       "      <td>374602.0</td>\n",
       "      <td>0.0</td>\n",
       "      <td>20141102.0</td>\n",
       "      <td>0.428</td>\n",
       "    </tr>\n",
       "    <tr>\n",
       "      <th>6</th>\n",
       "      <td>51.735688</td>\n",
       "      <td>0.127820</td>\n",
       "      <td>0.089842</td>\n",
       "      <td>g</td>\n",
       "      <td>-0.250805</td>\n",
       "      <td>0.679754</td>\n",
       "      <td>4.0</td>\n",
       "      <td>41986.697405</td>\n",
       "      <td>387818.0</td>\n",
       "      <td>0.0</td>\n",
       "      <td>20141214.0</td>\n",
       "      <td>0.627</td>\n",
       "    </tr>\n",
       "    <tr>\n",
       "      <th>8</th>\n",
       "      <td>52.105541</td>\n",
       "      <td>0.163427</td>\n",
       "      <td>0.113144</td>\n",
       "      <td>g</td>\n",
       "      <td>-0.250196</td>\n",
       "      <td>0.678464</td>\n",
       "      <td>23.0</td>\n",
       "      <td>41991.677810</td>\n",
       "      <td>389511.0</td>\n",
       "      <td>0.0</td>\n",
       "      <td>20141219.0</td>\n",
       "      <td>0.641</td>\n",
       "    </tr>\n",
       "    <tr>\n",
       "      <th>9</th>\n",
       "      <td>52.260969</td>\n",
       "      <td>0.131613</td>\n",
       "      <td>0.130294</td>\n",
       "      <td>g</td>\n",
       "      <td>-0.249787</td>\n",
       "      <td>0.677773</td>\n",
       "      <td>25.0</td>\n",
       "      <td>41994.609436</td>\n",
       "      <td>390516.0</td>\n",
       "      <td>0.0</td>\n",
       "      <td>20141222.0</td>\n",
       "      <td>0.463</td>\n",
       "    </tr>\n",
       "    <tr>\n",
       "      <th>11</th>\n",
       "      <td>52.701844</td>\n",
       "      <td>0.825977</td>\n",
       "      <td>0.412639</td>\n",
       "      <td>z</td>\n",
       "      <td>-0.248485</td>\n",
       "      <td>0.676162</td>\n",
       "      <td>38.0</td>\n",
       "      <td>42002.647899</td>\n",
       "      <td>393528.0</td>\n",
       "      <td>0.0</td>\n",
       "      <td>20141230.0</td>\n",
       "      <td>0.370</td>\n",
       "    </tr>\n",
       "    <tr>\n",
       "      <th>12</th>\n",
       "      <td>90.481380</td>\n",
       "      <td>233.874277</td>\n",
       "      <td>62.477664</td>\n",
       "      <td>z</td>\n",
       "      <td>-0.233191</td>\n",
       "      <td>0.711792</td>\n",
       "      <td>55.0</td>\n",
       "      <td>42328.599776</td>\n",
       "      <td>495734.0</td>\n",
       "      <td>0.0</td>\n",
       "      <td>20151121.0</td>\n",
       "      <td>0.549</td>\n",
       "    </tr>\n",
       "    <tr>\n",
       "      <th>13</th>\n",
       "      <td>90.810564</td>\n",
       "      <td>227.710362</td>\n",
       "      <td>64.477595</td>\n",
       "      <td>i</td>\n",
       "      <td>-0.233045</td>\n",
       "      <td>0.708863</td>\n",
       "      <td>54.0</td>\n",
       "      <td>42336.739409</td>\n",
       "      <td>497805.0</td>\n",
       "      <td>0.0</td>\n",
       "      <td>20151129.0</td>\n",
       "      <td>0.683</td>\n",
       "    </tr>\n",
       "    <tr>\n",
       "      <th>14</th>\n",
       "      <td>90.900762</td>\n",
       "      <td>224.202121</td>\n",
       "      <td>65.984417</td>\n",
       "      <td>r</td>\n",
       "      <td>-0.232810</td>\n",
       "      <td>0.707177</td>\n",
       "      <td>54.0</td>\n",
       "      <td>42341.725140</td>\n",
       "      <td>499471.0</td>\n",
       "      <td>0.0</td>\n",
       "      <td>20151204.0</td>\n",
       "      <td>0.780</td>\n",
       "    </tr>\n",
       "    <tr>\n",
       "      <th>15</th>\n",
       "      <td>90.900773</td>\n",
       "      <td>224.201163</td>\n",
       "      <td>65.984869</td>\n",
       "      <td>g</td>\n",
       "      <td>-0.232810</td>\n",
       "      <td>0.707177</td>\n",
       "      <td>54.0</td>\n",
       "      <td>42341.726519</td>\n",
       "      <td>499472.0</td>\n",
       "      <td>0.0</td>\n",
       "      <td>20151204.0</td>\n",
       "      <td>0.648</td>\n",
       "    </tr>\n",
       "    <tr>\n",
       "      <th>16</th>\n",
       "      <td>90.492826</td>\n",
       "      <td>215.211286</td>\n",
       "      <td>72.554720</td>\n",
       "      <td>z</td>\n",
       "      <td>-0.231325</td>\n",
       "      <td>0.702566</td>\n",
       "      <td>28.0</td>\n",
       "      <td>42357.582474</td>\n",
       "      <td>504524.0</td>\n",
       "      <td>0.0</td>\n",
       "      <td>20151220.0</td>\n",
       "      <td>0.477</td>\n",
       "    </tr>\n",
       "  </tbody>\n",
       "</table>\n",
       "</div>"
      ],
      "text/plain": [
       "           PA           a          b band   can_dec    can_ra   ccd  \\\n",
       "0   47.310968   32.998642  21.950566    z -0.244178  0.710670  49.0   \n",
       "1   49.696497   18.262265  10.827863    z -0.249310  0.702039  30.0   \n",
       "2   50.389237   10.650317   5.937280    r -0.251284  0.695664  56.0   \n",
       "3   50.483913    9.441596   5.206346    i -0.251527  0.694485   7.0   \n",
       "6   51.735688    0.127820   0.089842    g -0.250805  0.679754   4.0   \n",
       "8   52.105541    0.163427   0.113144    g -0.250196  0.678464  23.0   \n",
       "9   52.260969    0.131613   0.130294    g -0.249787  0.677773  25.0   \n",
       "11  52.701844    0.825977   0.412639    z -0.248485  0.676162  38.0   \n",
       "12  90.481380  233.874277  62.477664    z -0.233191  0.711792  55.0   \n",
       "13  90.810564  227.710362  64.477595    i -0.233045  0.708863  54.0   \n",
       "14  90.900762  224.202121  65.984417    r -0.232810  0.707177  54.0   \n",
       "15  90.900773  224.201163  65.984869    g -0.232810  0.707177  54.0   \n",
       "16  90.492826  215.211286  72.554720    z -0.231325  0.702566  28.0   \n",
       "\n",
       "            date    expnum  isinobs        nite  t_eff  \n",
       "0   41895.827010  359284.0      0.0  20140914.0  0.749  \n",
       "1   41924.866214  367659.0      0.0  20141013.0  0.367  \n",
       "2   41941.784114  373323.0      0.0  20141030.0  0.537  \n",
       "3   41944.810133  374602.0      0.0  20141102.0  0.428  \n",
       "6   41986.697405  387818.0      0.0  20141214.0  0.627  \n",
       "8   41991.677810  389511.0      0.0  20141219.0  0.641  \n",
       "9   41994.609436  390516.0      0.0  20141222.0  0.463  \n",
       "11  42002.647899  393528.0      0.0  20141230.0  0.370  \n",
       "12  42328.599776  495734.0      0.0  20151121.0  0.549  \n",
       "13  42336.739409  497805.0      0.0  20151129.0  0.683  \n",
       "14  42341.725140  499471.0      0.0  20151204.0  0.780  \n",
       "15  42341.726519  499472.0      0.0  20151204.0  0.648  \n",
       "16  42357.582474  504524.0      0.0  20151220.0  0.477  "
      ]
     },
     "execution_count": 38,
     "metadata": {},
     "output_type": "execute_result"
    }
   ],
   "source": [
    "expecteds"
   ]
  },
  {
   "cell_type": "code",
   "execution_count": 39,
   "metadata": {
    "collapsed": false
   },
   "outputs": [
    {
     "ename": "IOError",
     "evalue": "[Errno 2] No such file or directory: 'a84925eb-f279-437c-8619-9c9b8edc2d74.tar'",
     "output_type": "error",
     "traceback": [
      "\u001b[0;31m---------------------------------------------------------------------------\u001b[0m",
      "\u001b[0;31mIOError\u001b[0m                                   Traceback (most recent call last)",
      "\u001b[0;32m<ipython-input-39-8196b395f667>\u001b[0m in \u001b[0;36m<module>\u001b[0;34m()\u001b[0m\n\u001b[0;32m----> 1\u001b[0;31m \u001b[0munzip_tar\u001b[0m\u001b[0;34m(\u001b[0m\u001b[0;34m'a84925eb-f279-437c-8619-9c9b8edc2d74.tar'\u001b[0m\u001b[0;34m)\u001b[0m\u001b[0;34m\u001b[0m\u001b[0m\n\u001b[0m",
      "\u001b[0;32m<ipython-input-7-eb7c381f5157>\u001b[0m in \u001b[0;36munzip_tar\u001b[0;34m(tarname)\u001b[0m\n\u001b[1;32m      7\u001b[0m         \u001b[0mtar\u001b[0m\u001b[0;34m.\u001b[0m\u001b[0mclose\u001b[0m\u001b[0;34m(\u001b[0m\u001b[0;34m)\u001b[0m\u001b[0;34m\u001b[0m\u001b[0m\n\u001b[1;32m      8\u001b[0m     \u001b[0;32melif\u001b[0m \u001b[0;34m(\u001b[0m\u001b[0mfname\u001b[0m\u001b[0;34m.\u001b[0m\u001b[0mendswith\u001b[0m\u001b[0;34m(\u001b[0m\u001b[0;34m\"tar\"\u001b[0m\u001b[0;34m)\u001b[0m\u001b[0;34m)\u001b[0m\u001b[0;34m:\u001b[0m\u001b[0;34m\u001b[0m\u001b[0m\n\u001b[0;32m----> 9\u001b[0;31m         \u001b[0mtar\u001b[0m \u001b[0;34m=\u001b[0m \u001b[0mtarfile\u001b[0m\u001b[0;34m.\u001b[0m\u001b[0mopen\u001b[0m\u001b[0;34m(\u001b[0m\u001b[0mfname\u001b[0m\u001b[0;34m,\u001b[0m \u001b[0;34m'r:'\u001b[0m\u001b[0;34m)\u001b[0m\u001b[0;34m\u001b[0m\u001b[0m\n\u001b[0m\u001b[1;32m     10\u001b[0m         \u001b[0mtar\u001b[0m\u001b[0;34m.\u001b[0m\u001b[0mextractall\u001b[0m\u001b[0;34m(\u001b[0m\u001b[0;34m)\u001b[0m\u001b[0;34m\u001b[0m\u001b[0m\n\u001b[1;32m     11\u001b[0m         \u001b[0mtar\u001b[0m\u001b[0;34m.\u001b[0m\u001b[0mclose\u001b[0m\u001b[0;34m(\u001b[0m\u001b[0;34m)\u001b[0m\u001b[0;34m\u001b[0m\u001b[0m\n",
      "\u001b[0;32m/Users/lynuszullo/anaconda/lib/python2.7/tarfile.pyc\u001b[0m in \u001b[0;36mopen\u001b[0;34m(cls, name, mode, fileobj, bufsize, **kwargs)\u001b[0m\n\u001b[1;32m   1689\u001b[0m             \u001b[0;32melse\u001b[0m\u001b[0;34m:\u001b[0m\u001b[0;34m\u001b[0m\u001b[0m\n\u001b[1;32m   1690\u001b[0m                 \u001b[0;32mraise\u001b[0m \u001b[0mCompressionError\u001b[0m\u001b[0;34m(\u001b[0m\u001b[0;34m\"unknown compression type %r\"\u001b[0m \u001b[0;34m%\u001b[0m \u001b[0mcomptype\u001b[0m\u001b[0;34m)\u001b[0m\u001b[0;34m\u001b[0m\u001b[0m\n\u001b[0;32m-> 1691\u001b[0;31m             \u001b[0;32mreturn\u001b[0m \u001b[0mfunc\u001b[0m\u001b[0;34m(\u001b[0m\u001b[0mname\u001b[0m\u001b[0;34m,\u001b[0m \u001b[0mfilemode\u001b[0m\u001b[0;34m,\u001b[0m \u001b[0mfileobj\u001b[0m\u001b[0;34m,\u001b[0m \u001b[0;34m**\u001b[0m\u001b[0mkwargs\u001b[0m\u001b[0;34m)\u001b[0m\u001b[0;34m\u001b[0m\u001b[0m\n\u001b[0m\u001b[1;32m   1692\u001b[0m \u001b[0;34m\u001b[0m\u001b[0m\n\u001b[1;32m   1693\u001b[0m         \u001b[0;32melif\u001b[0m \u001b[0;34m\"|\"\u001b[0m \u001b[0;32min\u001b[0m \u001b[0mmode\u001b[0m\u001b[0;34m:\u001b[0m\u001b[0;34m\u001b[0m\u001b[0m\n",
      "\u001b[0;32m/Users/lynuszullo/anaconda/lib/python2.7/tarfile.pyc\u001b[0m in \u001b[0;36mtaropen\u001b[0;34m(cls, name, mode, fileobj, **kwargs)\u001b[0m\n\u001b[1;32m   1719\u001b[0m         \u001b[0;32mif\u001b[0m \u001b[0mmode\u001b[0m \u001b[0;32mnot\u001b[0m \u001b[0;32min\u001b[0m \u001b[0;34m(\u001b[0m\u001b[0;34m\"r\"\u001b[0m\u001b[0;34m,\u001b[0m \u001b[0;34m\"a\"\u001b[0m\u001b[0;34m,\u001b[0m \u001b[0;34m\"w\"\u001b[0m\u001b[0;34m)\u001b[0m\u001b[0;34m:\u001b[0m\u001b[0;34m\u001b[0m\u001b[0m\n\u001b[1;32m   1720\u001b[0m             \u001b[0;32mraise\u001b[0m \u001b[0mValueError\u001b[0m\u001b[0;34m(\u001b[0m\u001b[0;34m\"mode must be 'r', 'a' or 'w'\"\u001b[0m\u001b[0;34m)\u001b[0m\u001b[0;34m\u001b[0m\u001b[0m\n\u001b[0;32m-> 1721\u001b[0;31m         \u001b[0;32mreturn\u001b[0m \u001b[0mcls\u001b[0m\u001b[0;34m(\u001b[0m\u001b[0mname\u001b[0m\u001b[0;34m,\u001b[0m \u001b[0mmode\u001b[0m\u001b[0;34m,\u001b[0m \u001b[0mfileobj\u001b[0m\u001b[0;34m,\u001b[0m \u001b[0;34m**\u001b[0m\u001b[0mkwargs\u001b[0m\u001b[0;34m)\u001b[0m\u001b[0;34m\u001b[0m\u001b[0m\n\u001b[0m\u001b[1;32m   1722\u001b[0m \u001b[0;34m\u001b[0m\u001b[0m\n\u001b[1;32m   1723\u001b[0m     \u001b[0;34m@\u001b[0m\u001b[0mclassmethod\u001b[0m\u001b[0;34m\u001b[0m\u001b[0m\n",
      "\u001b[0;32m/Users/lynuszullo/anaconda/lib/python2.7/tarfile.pyc\u001b[0m in \u001b[0;36m__init__\u001b[0;34m(self, name, mode, fileobj, format, tarinfo, dereference, ignore_zeros, encoding, errors, pax_headers, debug, errorlevel)\u001b[0m\n\u001b[1;32m   1533\u001b[0m                 \u001b[0mself\u001b[0m\u001b[0;34m.\u001b[0m\u001b[0mmode\u001b[0m \u001b[0;34m=\u001b[0m \u001b[0;34m\"w\"\u001b[0m\u001b[0;34m\u001b[0m\u001b[0m\n\u001b[1;32m   1534\u001b[0m                 \u001b[0mself\u001b[0m\u001b[0;34m.\u001b[0m\u001b[0m_mode\u001b[0m \u001b[0;34m=\u001b[0m \u001b[0;34m\"wb\"\u001b[0m\u001b[0;34m\u001b[0m\u001b[0m\n\u001b[0;32m-> 1535\u001b[0;31m             \u001b[0mfileobj\u001b[0m \u001b[0;34m=\u001b[0m \u001b[0mbltn_open\u001b[0m\u001b[0;34m(\u001b[0m\u001b[0mname\u001b[0m\u001b[0;34m,\u001b[0m \u001b[0mself\u001b[0m\u001b[0;34m.\u001b[0m\u001b[0m_mode\u001b[0m\u001b[0;34m)\u001b[0m\u001b[0;34m\u001b[0m\u001b[0m\n\u001b[0m\u001b[1;32m   1536\u001b[0m             \u001b[0mself\u001b[0m\u001b[0;34m.\u001b[0m\u001b[0m_extfileobj\u001b[0m \u001b[0;34m=\u001b[0m \u001b[0mFalse\u001b[0m\u001b[0;34m\u001b[0m\u001b[0m\n\u001b[1;32m   1537\u001b[0m         \u001b[0;32melse\u001b[0m\u001b[0;34m:\u001b[0m\u001b[0;34m\u001b[0m\u001b[0m\n",
      "\u001b[0;31mIOError\u001b[0m: [Errno 2] No such file or directory: 'a84925eb-f279-437c-8619-9c9b8edc2d74.tar'"
     ]
    }
   ],
   "source": [
    "unzip_tar('a84925eb-f279-437c-8619-9c9b8edc2d74.tar')"
   ]
  },
  {
   "cell_type": "code",
   "execution_count": null,
   "metadata": {
    "collapsed": true
   },
   "outputs": [],
   "source": [
    "os.chdir('/Users/ColinS/Documents/TNOSearch/'+'a84925eb-f279-437c-8619-9c9b8edc2d74')"
   ]
  },
  {
   "cell_type": "code",
   "execution_count": null,
   "metadata": {
    "collapsed": true
   },
   "outputs": [],
   "source": [
    "myflist=glob.glob('thumbs*')"
   ]
  },
  {
   "cell_type": "code",
   "execution_count": null,
   "metadata": {
    "collapsed": false
   },
   "outputs": [],
   "source": [
    "tempSearchArray=makeSearchArray(expecteds,myflist,'/Users/ColinS/Documents/TNOSearch','a84925eb-f279-437c-8619-9c9b8edc2d74',all_exps)"
   ]
  },
  {
   "cell_type": "code",
   "execution_count": null,
   "metadata": {
    "collapsed": false
   },
   "outputs": [],
   "source": [
    "tempSearchArray.head()"
   ]
  },
  {
   "cell_type": "code",
   "execution_count": null,
   "metadata": {
    "collapsed": false
   },
   "outputs": [],
   "source": [
    "str(ephem.hours(expecteds['can_ra'][1]))"
   ]
  },
  {
   "cell_type": "code",
   "execution_count": null,
   "metadata": {
    "collapsed": false
   },
   "outputs": [],
   "source": [
    "np.degrees(expecteds['can_ra'][1])"
   ]
  },
  {
   "cell_type": "code",
   "execution_count": null,
   "metadata": {
    "collapsed": false
   },
   "outputs": [],
   "source": [
    "len(myflist)"
   ]
  },
  {
   "cell_type": "markdown",
   "metadata": {},
   "source": [
    "Potential Problem expousure numbers:\n",
    "    459985\n",
    "230084\n",
    "231480\n",
    "238906\n",
    "240458\n",
    "245899\n",
    "247890\n",
    "251065\n",
    "255875\n",
    "261942\n",
    "267565\n",
    "275246\n",
    "277592\n",
    "354905\n",
    "359571\n",
    "360540\n",
    "369023\n",
    "372919\n",
    "379269\n",
    "381508\n",
    "382518\n",
    "389436\n",
    "391629\n",
    "395515\n",
    "398240\n",
    "400779\n",
    "403386\n",
    "459983\n",
    "464794\n",
    "466292\n",
    "474311\n",
    "475839\n",
    "478352\n",
    "483388\n",
    "484472\n",
    "506645\n",
    "459985\n",
    "459985\n",
    "345372\n",
    "345373\n",
    "226647\n",
    "228716\n",
    "230090\n",
    "231474\n",
    "237666\n",
    "242388\n",
    "243829\n",
    "245905\n",
    "255881\n",
    "258477\n",
    "275252\n",
    "277598\n",
    "280306\n",
    "345371\n",
    "348369\n",
    "352863\n",
    "359564\n",
    "367108\n",
    "371612\n",
    "376673\n",
    "379263\n",
    "381225\n",
    "381502\n",
    "389430\n",
    "401525\n",
    "475492\n",
    "482091\n",
    "485807\n",
    "492427\n",
    "494279\n",
    "497332\n",
    "500457\n",
    "501985\n",
    "506784\n",
    "508804\n",
    "345372\n",
    "345373\n",
    "345372\n",
    "345373\n",
    "345372\n",
    "459985"
   ]
  },
  {
   "cell_type": "code",
   "execution_count": null,
   "metadata": {
    "collapsed": false
   },
   "outputs": [],
   "source": [
    "mySearchTable=makeSearchTable(expecteds, \"good_2\")"
   ]
  },
  {
   "cell_type": "code",
   "execution_count": null,
   "metadata": {
    "collapsed": false
   },
   "outputs": [],
   "source": [
    "str(expecteds['b'][0])"
   ]
  },
  {
   "cell_type": "code",
   "execution_count": null,
   "metadata": {
    "collapsed": false
   },
   "outputs": [],
   "source": [
    "str(round(expecteds['b'][0],3))"
   ]
  },
  {
   "cell_type": "code",
   "execution_count": null,
   "metadata": {
    "collapsed": false
   },
   "outputs": [],
   "source": [
    "str(ephem.date(4444444.5))"
   ]
  },
  {
   "cell_type": "code",
   "execution_count": null,
   "metadata": {
    "collapsed": false
   },
   "outputs": [],
   "source": [
    "all_exps[all_exps['t_eff']>.3].index"
   ]
  },
  {
   "cell_type": "code",
   "execution_count": null,
   "metadata": {
    "collapsed": true
   },
   "outputs": [],
   "source": []
  }
 ],
 "metadata": {
  "anaconda-cloud": {},
  "kernelspec": {
   "display_name": "Python [Root]",
   "language": "python",
   "name": "Python [Root]"
  },
  "language_info": {
   "codemirror_mode": {
    "name": "ipython",
    "version": 2
   },
   "file_extension": ".py",
   "mimetype": "text/x-python",
   "name": "python",
   "nbconvert_exporter": "python",
   "pygments_lexer": "ipython2",
   "version": "2.7.11"
  }
 },
 "nbformat": 4,
 "nbformat_minor": 0
}
