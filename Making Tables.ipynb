{
 "cells": [
  {
   "cell_type": "code",
   "execution_count": 12,
   "metadata": {
    "collapsed": true
   },
   "outputs": [],
   "source": [
    "import easyaccess as ea\n",
    "import pandas as pd\n",
    "import numpy as np\n",
    "import glob\n",
    "import os"
   ]
  },
  {
   "cell_type": "code",
   "execution_count": 15,
   "metadata": {
    "collapsed": false
   },
   "outputs": [],
   "source": [
    "cursor = db.cursor()\n"
   ]
  },
  {
   "cell_type": "code",
   "execution_count": 16,
   "metadata": {
    "collapsed": false
   },
   "outputs": [
    {
     "name": "stdout",
     "output_type": "stream",
     "text": [
      "Connecting to DB ** desoper ** ...\n"
     ]
    }
   ],
   "source": [
    "cmd = 'create table lzullo.CANDLIST  \\\n",
    "       (\\\n",
    "          CANID     varchar2(80)  \\\n",
    "       )'\n",
    "\n",
    "db = ea.connect(section='desoper')\n",
    "cursor = db.cursor()\n",
    "try:\n",
    "    cursor.execute('drop table lzullo.CANDLIST')     # drop this table in case there was an existing copy\n",
    "    cursor.execute(cmd)\n",
    "except:\n",
    "    cursor.execute(cmd)"
   ]
  },
  {
   "cell_type": "code",
   "execution_count": 17,
   "metadata": {
    "collapsed": false
   },
   "outputs": [
    {
     "name": "stdout",
     "output_type": "stream",
     "text": [
      "Connecting to DB ** desoper ** ...\n"
     ]
    }
   ],
   "source": [
    "cmd = 'create table lzullo.COMOBS  \\\n",
    "       (\\\n",
    "          CANID     varchar2(80),  \\\n",
    "          COM       varchar2(500), \\\n",
    "          DATE_ADD  varchar2(80) \\\n",
    "       )'\n",
    "\n",
    "db = ea.connect(section='desoper')\n",
    "cursor = db.cursor()\n",
    "try:\n",
    "    cursor.execute('drop table lzullo.COMOBS')     # drop this table in case there was an existing copy\n",
    "    cursor.execute(cmd)\n",
    "except:\n",
    "    cursor.execute(cmd)"
   ]
  },
  {
   "cell_type": "code",
   "execution_count": 18,
   "metadata": {
    "collapsed": false
   },
   "outputs": [
    {
     "name": "stdout",
     "output_type": "stream",
     "text": [
      "Connecting to DB ** desoper ** ...\n"
     ]
    }
   ],
   "source": [
    "cmd = 'create table lzullo.COMSEARCH  \\\n",
    "       (\\\n",
    "          CANID     varchar2(80),  \\\n",
    "          COM       varchar2(500), \\\n",
    "          DATE_ADD  varchar2(80) \\\n",
    "       )'\n",
    "\n",
    "db = ea.connect(section='desoper')\n",
    "cursor = db.cursor()\n",
    "try:\n",
    "    cursor.execute('drop table lzullo.COMSEARCH')     # drop this table in case there was an existing copy\n",
    "    cursor.execute(cmd)\n",
    "except:\n",
    "    cursor.execute(cmd)"
   ]
  },
  {
   "cell_type": "code",
   "execution_count": 25,
   "metadata": {
    "collapsed": false
   },
   "outputs": [
    {
     "name": "stdout",
     "output_type": "stream",
     "text": [
      "Connecting to DB ** desoper ** ...\n"
     ]
    }
   ],
   "source": [
    "cmd = 'create table lzullo.IMAGES  \\\n",
    "       (\\\n",
    "          CANID     varchar2(80),  \\\n",
    "          CCD       NUMBER, \\\n",
    "          DATE_OBS  varchar2(500), \\\n",
    "          EXPNUM    NUMBER, \\\n",
    "          OBJID     NUMBER, \\\n",
    "          PATH      varchar2(200), \\\n",
    "          REF       varchar2(80), \\\n",
    "          T_EFF     NUMBER(10,3) \\\n",
    "       )'\n",
    "\n",
    "db = ea.connect(section='desoper')\n",
    "cursor = db.cursor()\n",
    "try:\n",
    "    cursor.execute('drop table lzullo.IMAGES')     # drop this table in case there was an existing copy\n",
    "    cursor.execute(cmd)\n",
    "except:\n",
    "    cursor.execute(cmd)"
   ]
  },
  {
   "cell_type": "code",
   "execution_count": 27,
   "metadata": {
    "collapsed": false
   },
   "outputs": [
    {
     "name": "stdout",
     "output_type": "stream",
     "text": [
      "Connecting to DB ** desoper ** ...\n"
     ]
    }
   ],
   "source": [
    "cmd = 'create table lzullo.LINKER  \\\n",
    "       (\\\n",
    "          CANID     varchar2(80),  \\\n",
    "          OBJID       NUMBER \\\n",
    "       )'\n",
    "\n",
    "db = ea.connect(section='desoper')\n",
    "cursor = db.cursor()\n",
    "try:\n",
    "    cursor.execute('drop table lzullo.LINKER')     # drop this table in case there was an existing copy\n",
    "    cursor.execute(cmd)\n",
    "except:\n",
    "    cursor.execute(cmd)"
   ]
  },
  {
   "cell_type": "code",
   "execution_count": 38,
   "metadata": {
    "collapsed": false
   },
   "outputs": [
    {
     "ename": "SyntaxError",
     "evalue": "EOL while scanning string literal (<ipython-input-38-738fedb66ff1>, line 1)",
     "output_type": "error",
     "traceback": [
      "\u001b[0;36m  File \u001b[0;32m\"<ipython-input-38-738fedb66ff1>\"\u001b[0;36m, line \u001b[0;32m1\u001b[0m\n\u001b[0;31m    cmd = 'create table lzullo.OBJECTS         (          BAND      varchar2(1),           CCD       NUMBER(20,0),           DATE_OBS  varchar2(80),           DEC       varchar2(11),           EXPNUM    NUMBER,           EXPTIME   binary_double(8),           FAKEID    NUMBER,           MAG       binary_double(8),           ML_SCORE  binary_double(8),           OBJID     NUMBER(20,0),           RA        varchar2(20),           SOURCE    varchar2(300) \\\u001b[0m\n\u001b[0m                                                                                                                                                                                                                                                                                                                                                                                                                                                                        ^\u001b[0m\n\u001b[0;31mSyntaxError\u001b[0m\u001b[0;31m:\u001b[0m EOL while scanning string literal\n"
     ]
    }
   ],
   "source": [
    "cmd = 'create table lzullo.OBJECTS  \\\n",
    "       (\\\n",
    "          BAND      varchar2(1), \\\n",
    "          CCD       NUMBER(20,0), \\\n",
    "          DATE_OBS  varchar2(80), \\\n",
    "          DEC       varchar2(11), \\\n",
    "          EXPNUM    NUMBER, \\\n",
    "          EXPTIME   binary_double(8), \\\n",
    "          FAKEID    NUMBER, \\\n",
    "          MAG       binary_double(8), \\\n",
    "          ML_SCORE  binary_double(8), \\\n",
    "          OBJID     NUMBER(20,0), \\\n",
    "          RA        varchar2(20), \\\n",
    "          SOURCE    varchar2(300) \\ \n",
    "       )'\n",
    "\n",
    "db = ea.connect(section='desoper')\n",
    "cursor = db.cursor()\n",
    "try:\n",
    "    cursor.execute('drop table lzullo.OBJECTS')     # drop this table in case there was an existing copy\n",
    "    cursor.execute(cmd)\n",
    "except:\n",
    "    cursor.execute(cmd)"
   ]
  },
  {
   "cell_type": "code",
   "execution_count": 37,
   "metadata": {
    "collapsed": false
   },
   "outputs": [
    {
     "name": "stdout",
     "output_type": "stream",
     "text": [
      "Connecting to DB ** desoper ** ...\n"
     ]
    }
   ],
   "source": [
    "cmd = 'create table lzullo.ORBIT  \\\n",
    "       (\\\n",
    "          A         NUMBER, \\\n",
    "          AOP       NUMBER, \\\n",
    "          CANID     varchar2(80), \\\n",
    "          CHI       float(22), \\\n",
    "          E         NUMBER, \\\n",
    "          ERR_A     NUMBER, \\\n",
    "          ERR_AOP   NUMBER, \\\n",
    "          ERR_E     NUMBER, \\\n",
    "          ERR_1     NUMBER, \\\n",
    "          ERR_LAN   NUMBER, \\\n",
    "          ERR_TOP   NUMBER, \\\n",
    "          I         NUMBER, \\\n",
    "          LAN       NUMBER, \\\n",
    "          NDOF      NUMBER, \\\n",
    "          TOP       varchar2(80) \\\n",
    "       )'\n",
    "\n",
    "db = ea.connect(section='desoper')\n",
    "cursor = db.cursor()\n",
    "try:\n",
    "    cursor.execute('drop table lzullo.ORBIT')     # drop this table in case there was an existing copy\n",
    "    cursor.execute(cmd)\n",
    "except:\n",
    "    cursor.execute(cmd)"
   ]
  },
  {
   "cell_type": "code",
   "execution_count": 40,
   "metadata": {
    "collapsed": false
   },
   "outputs": [
    {
     "ename": "SyntaxError",
     "evalue": "EOL while scanning string literal (<ipython-input-40-93e8e85c4d08>, line 1)",
     "output_type": "error",
     "traceback": [
      "\u001b[0;36m  File \u001b[0;32m\"<ipython-input-40-93e8e85c4d08>\"\u001b[0;36m, line \u001b[0;32m1\u001b[0m\n\u001b[0;31m    cmd = 'create table lzullo.SEARCHEXPS         (          A          NUMBER(10,2),           B          NUMBER(10,2), \\\u001b[0m\n\u001b[0m                                                                                                                          ^\u001b[0m\n\u001b[0;31mSyntaxError\u001b[0m\u001b[0;31m:\u001b[0m EOL while scanning string literal\n"
     ]
    }
   ],
   "source": [
    "cmd = 'create table lzullo.SEARCHEXPS  \\\n",
    "       (\\\n",
    "          A          NUMBER(10,2), \\\n",
    "          B          NUMBER(10,2), \\ \n",
    "          BAND       varchar2(80), \\\n",
    "          CANID      varchar2(80), \\\n",
    "          CCD        NUMBER(,0), \\\n",
    "          DATE_OBS   varchar2(80), \\\n",
    "          DEC        varchar2(80), \\\n",
    "          EXPNUM     NUMBER(,0), \\\n",
    "          PA         NUMBER(8,2), \\\n",
    "          RA         varchar2(80), \\\n",
    "          SEARCHID   NUMBER(,0) \\\n",
    "       )'\n",
    "\n",
    "db = ea.connect(section='desoper')\n",
    "cursor = db.cursor()\n",
    "try:\n",
    "    cursor.execute('drop table lzullo.SEARCHEXPS')     # drop this table in case there was an existing copy\n",
    "    cursor.execute(cmd)\n",
    "except:\n",
    "    cursor.execute(cmd)"
   ]
  },
  {
   "cell_type": "code",
   "execution_count": null,
   "metadata": {
    "collapsed": true
   },
   "outputs": [],
   "source": [
    "cmd = 'create table lzullo.SEARCHIMGS  \\\n",
    "       (\\\n",
    "          CANID      varchar2(80), \\\n",
    "          CCD        NUMBER(,0), \\\n",
    "          DATE_OBS   varchar2(80), \\\n",
    "          EXPNUM     NUMBER(,0), \\\n",
    "          PATH       varchar2(200), \\\n",
    "          REF        varchar2(80), \\\n",
    "          SEARCHID   NUMBER(,0), \\\n",
    "          T_EFF      NUMBER(10,3) \\\n",
    "       )'\n",
    "\n",
    "db = ea.connect(section='desoper')\n",
    "cursor = db.cursor()\n",
    "try:\n",
    "    cursor.execute('drop table lzullo.SEARCHIMGS')     # drop this table in case there was an existing copy\n",
    "    cursor.execute(cmd)\n",
    "except:\n",
    "    cursor.execute(cmd)"
   ]
  },
  {
   "cell_type": "code",
   "execution_count": null,
   "metadata": {
    "collapsed": true
   },
   "outputs": [],
   "source": [
    "cmd = 'create table lzullo.STATUS  \\\n",
    "       (\\\n",
    "          CANID      varchar2(80), \\\n",
    "          FLAG       varchar2(80), \\\n",
    "          MPC        varchar2(80), \\\n",
    "          STATUS     varchar2(80) \\\n",
    "       )'\n",
    "\n",
    "db = ea.connect(section='desoper')\n",
    "cursor = db.cursor()\n",
    "try:\n",
    "    cursor.execute('drop table lzullo.STATUS')     # drop this table in case there was an existing copy\n",
    "    cursor.execute(cmd)\n",
    "except:\n",
    "    cursor.execute(cmd)"
   ]
  },
  {
   "cell_type": "code",
   "execution_count": null,
   "metadata": {
    "collapsed": true
   },
   "outputs": [],
   "source": []
  }
 ],
 "metadata": {
  "anaconda-cloud": {},
  "kernelspec": {
   "display_name": "Python [Root]",
   "language": "python",
   "name": "Python [Root]"
  },
  "language_info": {
   "codemirror_mode": {
    "name": "ipython",
    "version": 2
   },
   "file_extension": ".py",
   "mimetype": "text/x-python",
   "name": "python",
   "nbconvert_exporter": "python",
   "pygments_lexer": "ipython2",
   "version": "2.7.11"
  }
 },
 "nbformat": 4,
 "nbformat_minor": 0
}
