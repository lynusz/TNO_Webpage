{
 "cells": [
  {
   "cell_type": "code",
   "execution_count": 22,
   "metadata": {
    "collapsed": true
   },
   "outputs": [],
   "source": [
    "import easyaccess as ea\n",
    "import pandas as pd\n",
    "import numpy as np\n",
    "import ephem"
   ]
  },
  {
   "cell_type": "code",
   "execution_count": 23,
   "metadata": {
    "collapsed": false
   },
   "outputs": [
    {
     "name": "stdout",
     "output_type": "stream",
     "text": [
      "Connecting to DB ** desoper ** ...\n"
     ]
    }
   ],
   "source": [
    "db = ea.connect(section = 'desoper')\n",
    "cursor = db.cursor()"
   ]
  },
  {
   "cell_type": "code",
   "execution_count": 24,
   "metadata": {
    "collapsed": false
   },
   "outputs": [],
   "source": [
    "query = \"select distinct o.EXPNUM,c.CCDNUM,e.MJD_OBS,o.FILENAME,o.RA,o.DEC,o.FLUX_AUTO,o.FLUXERR_AUTO,o.FLAGS,o.IMAFLAGS_ISO,o.BAND from prod.proctag t,prod.catalog c,prod.se_object o,prod.exposure e,prod.finalcut_eval f where tag= 'Y3A1_FINALCUT' and t.pfw_attempt_id=c.pfw_attempt_id and c.filename=o.filename and o.expnum=e.expnum and f.expnum=e.expnum and f.accepted='True' and o.BAND!='Y' and o.ra between 0.00 and 0.01 and o.dec between 0.00 and 0.01 and e.exptime>80.0 order by o.EXPNUM,c.CCDNUM;\""
   ]
  },
  {
   "cell_type": "code",
   "execution_count": 101,
   "metadata": {
    "collapsed": false
   },
   "outputs": [
    {
     "data": {
      "text/html": [
       "<div>\n",
       "<table border=\"1\" class=\"dataframe\">\n",
       "  <thead>\n",
       "    <tr style=\"text-align: right;\">\n",
       "      <th></th>\n",
       "      <th>EXPNUM</th>\n",
       "      <th>CCDNUM</th>\n",
       "      <th>MJD_OBS</th>\n",
       "      <th>FILENAME</th>\n",
       "      <th>RA</th>\n",
       "      <th>DEC</th>\n",
       "      <th>FLUX_AUTO</th>\n",
       "      <th>FLUXERR_AUTO</th>\n",
       "      <th>FLAGS</th>\n",
       "      <th>IMAFLAGS_ISO</th>\n",
       "      <th>BAND</th>\n",
       "    </tr>\n",
       "  </thead>\n",
       "  <tbody>\n",
       "    <tr>\n",
       "      <th>0</th>\n",
       "      <td>229683</td>\n",
       "      <td>46</td>\n",
       "      <td>56537.257498</td>\n",
       "      <td>D00229683_g_c46_r2356p01_red-fullcat.fits</td>\n",
       "      <td>0.009281</td>\n",
       "      <td>0.004538</td>\n",
       "      <td>1755.540039</td>\n",
       "      <td>258.944000</td>\n",
       "      <td>0</td>\n",
       "      <td>0</td>\n",
       "      <td>g</td>\n",
       "    </tr>\n",
       "    <tr>\n",
       "      <th>1</th>\n",
       "      <td>232823</td>\n",
       "      <td>36</td>\n",
       "      <td>56546.270851</td>\n",
       "      <td>D00232823_g_c36_r2357p02_red-fullcat.fits</td>\n",
       "      <td>0.009297</td>\n",
       "      <td>0.004477</td>\n",
       "      <td>2287.679932</td>\n",
       "      <td>277.850006</td>\n",
       "      <td>0</td>\n",
       "      <td>0</td>\n",
       "      <td>g</td>\n",
       "    </tr>\n",
       "    <tr>\n",
       "      <th>2</th>\n",
       "      <td>243108</td>\n",
       "      <td>36</td>\n",
       "      <td>56577.118535</td>\n",
       "      <td>D00243108_i_c36_r2363p01_red-fullcat.fits</td>\n",
       "      <td>0.007025</td>\n",
       "      <td>0.000913</td>\n",
       "      <td>6418.729980</td>\n",
       "      <td>771.127991</td>\n",
       "      <td>0</td>\n",
       "      <td>0</td>\n",
       "      <td>i</td>\n",
       "    </tr>\n",
       "    <tr>\n",
       "      <th>3</th>\n",
       "      <td>243108</td>\n",
       "      <td>36</td>\n",
       "      <td>56577.118535</td>\n",
       "      <td>D00243108_i_c36_r2363p01_red-fullcat.fits</td>\n",
       "      <td>0.008330</td>\n",
       "      <td>0.005176</td>\n",
       "      <td>3094.830078</td>\n",
       "      <td>531.112976</td>\n",
       "      <td>0</td>\n",
       "      <td>0</td>\n",
       "      <td>i</td>\n",
       "    </tr>\n",
       "    <tr>\n",
       "      <th>4</th>\n",
       "      <td>243108</td>\n",
       "      <td>36</td>\n",
       "      <td>56577.118535</td>\n",
       "      <td>D00243108_i_c36_r2363p01_red-fullcat.fits</td>\n",
       "      <td>0.009284</td>\n",
       "      <td>0.004464</td>\n",
       "      <td>9154.440430</td>\n",
       "      <td>655.309998</td>\n",
       "      <td>0</td>\n",
       "      <td>0</td>\n",
       "      <td>i</td>\n",
       "    </tr>\n",
       "  </tbody>\n",
       "</table>\n",
       "</div>"
      ],
      "text/plain": [
       "   EXPNUM  CCDNUM       MJD_OBS                                   FILENAME        RA       DEC    FLUX_AUTO  FLUXERR_AUTO  FLAGS  IMAFLAGS_ISO BAND\n",
       "0  229683      46  56537.257498  D00229683_g_c46_r2356p01_red-fullcat.fits  0.009281  0.004538  1755.540039    258.944000      0             0    g\n",
       "1  232823      36  56546.270851  D00232823_g_c36_r2357p02_red-fullcat.fits  0.009297  0.004477  2287.679932    277.850006      0             0    g\n",
       "2  243108      36  56577.118535  D00243108_i_c36_r2363p01_red-fullcat.fits  0.007025  0.000913  6418.729980    771.127991      0             0    i\n",
       "3  243108      36  56577.118535  D00243108_i_c36_r2363p01_red-fullcat.fits  0.008330  0.005176  3094.830078    531.112976      0             0    i\n",
       "4  243108      36  56577.118535  D00243108_i_c36_r2363p01_red-fullcat.fits  0.009284  0.004464  9154.440430    655.309998      0             0    i"
      ]
     },
     "execution_count": 101,
     "metadata": {},
     "output_type": "execute_result"
    }
   ],
   "source": [
    "result = db.query_to_pandas(query)\n",
    "result.head()"
   ]
  },
  {
   "cell_type": "code",
   "execution_count": 121,
   "metadata": {
    "collapsed": false
   },
   "outputs": [
    {
     "name": "stdout",
     "output_type": "stream",
     "text": [
      "<type 'str'>\n",
      "<type 'str'>\n"
     ]
    }
   ],
   "source": [
    "shouldbestr = str(result['EXPNUM'][3])\n",
    "maybestr = ('\"+result['EXPNUM'][3]\"')\n",
    "print type(shouldbestr)\n",
    "print type(maybestr)"
   ]
  },
  {
   "cell_type": "code",
   "execution_count": 108,
   "metadata": {
    "collapsed": false
   },
   "outputs": [],
   "source": [
    "#No observations with the same RA, DEC w diff expnum\n",
    "\n",
    "for k in result.index:\n",
    "    for i in result.index:\n",
    "        if result['RA'][k] == result['RA'][i] and result['DEC'][k] == result['DEC'][i] and result['EXPNUM'][k] != result['EXPNUM'][i]:\n",
    "            print result['EXPNUM'][k]+\" \"+result['EXPNUM'][i]"
   ]
  },
  {
   "cell_type": "code",
   "execution_count": 136,
   "metadata": {
    "collapsed": false
   },
   "outputs": [],
   "source": [
    "def SEtoDB(df):\n",
    "    db=ea.connect(section='desoper')\n",
    "    cmd = \"INSERT INTO scheibne.linker (canid, objid) VALUES ('\"+df['CANID']+\"', '\"+str(df['OBJID'])+\"')\"\n",
    "\n",
    "    cursor.execute(cmd)\n",
    "    \n",
    "    cmd = \"INSERT INTO scheibne.Objects (date_obs, ra, dec, expnum, band, ccd, mag, objid)\\\n",
    "    VALUES ('\"+str(df['DATE'])+\"', '\"+str(df['RA'])+\"','\"+str(df['DEC'])+\"' ,'\"+str(df['EXPNUM'])+\"','\"+str(df['BAND'])+\"','\"+str(df['CCD'])+\"','\"+str(df['MAG'])+\"','\"+str(df['OBJID'])+\"')\"\n",
    "    #cursor.execute(cmd)"
   ]
  },
  {
   "cell_type": "code",
   "execution_count": 26,
   "metadata": {
    "collapsed": false
   },
   "outputs": [],
   "source": [
    "def findPoints(ra, dec):\n",
    "    RA = np.degrees(ephem.hours(ra))\n",
    "    DEC= np.degrees(ephem.degrees(dec))\n",
    "    print RA\n",
    "    print DEC\n",
    "    db=ea.connect(section='desoper')\n",
    "    query=\"select distinct o.EXPNUM,c.CCDNUM,e.MJD_OBS,e.date_obs,o.FILENAME,o.RA,o.DEC,o.FLUX_AUTO,o.FLUXERR_AUTO, \\\n",
    "o.FLAGS,o.IMAFLAGS_ISO,o.BAND from prod.proctag t,prod.catalog c,prod.se_object o,prod.exposure e,prod.finalcut_eval f \\\n",
    "where tag= 'Y3A1_FINALCUT' and t.pfw_attempt_id=c.pfw_attempt_id and c.filename=o.filename and o.expnum=e.expnum and \\\n",
    "f.expnum=e.expnum and f.accepted='True' and o.BAND!='Y' and o.ra between \"+str(RA)+\"-0.008 and \"+str(RA)+\"+0.008 and \\\n",
    "o.dec between \"+str(DEC)+\"-0.008 and \"+str(DEC)+\"+0.008 and e.exptime>80.0 order by o.EXPNUM,c.CCDNUM\"\n",
    "    results=db.query_to_pandas(query)\n",
    "    return results"
   ]
  },
  {
   "cell_type": "code",
   "execution_count": 98,
   "metadata": {
    "collapsed": false
   },
   "outputs": [],
   "source": [
    "def findUniqueRADEC(expnum):\n",
    "    i=0\n",
    "    k=0\n",
    "    \n",
    "    for i in result.index:\n",
    "        probExpnum = result['EXPNUM'][i]\n",
    "        #print probExpnum\n",
    "        if probExpnum == expnum:\n",
    "            probRA = result['RA'][i]\n",
    "            probDEC = result['DEC'][i]\n",
    "                \n",
    "    for k in result.index:\n",
    "        falseExpnum = result['EXPNUM'][k]\n",
    "        if (probRA == result['RA'][k]) and (probDEC == result['DEC'][k]) and (probExpnum != falseExpnum):\n",
    "                    print 'Not unique'\n",
    "                    break\n",
    "                    \n",
    "        else:\n",
    "            print result.ix[i]\n",
    "            #print probRA, probDEC\n",
    "            break\n",
    "           \n",
    "                    \n",
    "            \n",
    "    "
   ]
  },
  {
   "cell_type": "code",
   "execution_count": 99,
   "metadata": {
    "collapsed": false
   },
   "outputs": [
    {
     "name": "stdout",
     "output_type": "stream",
     "text": [
      "EXPNUM                                             377764\n",
      "CCDNUM                                                 14\n",
      "MJD_OBS                                           56976.1\n",
      "FILENAME        D00377764_z_c14_r2262p01_red-fullcat.fits\n",
      "RA                                               0.009283\n",
      "DEC                                              0.004473\n",
      "FLUX_AUTO                                         8728.08\n",
      "FLUXERR_AUTO                                      1134.99\n",
      "FLAGS                                                   0\n",
      "IMAFLAGS_ISO                                            0\n",
      "BAND                                                    z\n",
      "Name: 33, dtype: object\n"
     ]
    }
   ],
   "source": [
    "findUniqueRADEC(243108)"
   ]
  },
  {
   "cell_type": "code",
   "execution_count": null,
   "metadata": {
    "collapsed": true
   },
   "outputs": [],
   "source": []
  }
 ],
 "metadata": {
  "anaconda-cloud": {},
  "kernelspec": {
   "display_name": "Python [Root]",
   "language": "python",
   "name": "Python [Root]"
  },
  "language_info": {
   "codemirror_mode": {
    "name": "ipython",
    "version": 2
   },
   "file_extension": ".py",
   "mimetype": "text/x-python",
   "name": "python",
   "nbconvert_exporter": "python",
   "pygments_lexer": "ipython2",
   "version": "2.7.11"
  }
 },
 "nbformat": 4,
 "nbformat_minor": 0
}
