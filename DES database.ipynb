{
 "cells": [
  {
   "cell_type": "code",
   "execution_count": 1,
   "metadata": {
    "collapsed": true
   },
   "outputs": [],
   "source": [
    "import easyaccess as ea"
   ]
  },
  {
   "cell_type": "code",
   "execution_count": 2,
   "metadata": {
    "collapsed": true
   },
   "outputs": [],
   "source": [
    "import pandas as pd\n",
    "import numpy as np"
   ]
  },
  {
   "cell_type": "code",
   "execution_count": 3,
   "metadata": {
    "collapsed": false
   },
   "outputs": [
    {
     "name": "stdout",
     "output_type": "stream",
     "text": [
      "Connecting to DB ** desoper ** ...\n"
     ]
    }
   ],
   "source": [
    "db = ea.connect(section='desoper')"
   ]
  },
  {
   "cell_type": "code",
   "execution_count": 11,
   "metadata": {
    "collapsed": true
   },
   "outputs": [],
   "source": [
    "query = \"select distinct expnum, date_obs, telra, teldec, exptime, band, object from prod.exposure where \\\n",
    "nite=20140818 and program='survey' order by expnum \""
   ]
  },
  {
   "cell_type": "code",
   "execution_count": 38,
   "metadata": {
    "collapsed": false
   },
   "outputs": [],
   "source": [
    "query = \"select expnum, telra, teldec from prod.exposure where nite=20140818 and program='survey' order by expnum \""
   ]
  },
  {
   "cell_type": "code",
   "execution_count": 39,
   "metadata": {
    "collapsed": false
   },
   "outputs": [],
   "source": [
    "result = db.query_to_pandas(query)"
   ]
  },
  {
   "cell_type": "code",
   "execution_count": 40,
   "metadata": {
    "collapsed": false
   },
   "outputs": [
    {
     "data": {
      "text/html": [
       "<div>\n",
       "<table border=\"1\" class=\"dataframe\">\n",
       "  <thead>\n",
       "    <tr style=\"text-align: right;\">\n",
       "      <th></th>\n",
       "      <th>EXPNUM</th>\n",
       "      <th>TELRA</th>\n",
       "      <th>TELDEC</th>\n",
       "    </tr>\n",
       "  </thead>\n",
       "  <tbody>\n",
       "    <tr>\n",
       "      <th>0</th>\n",
       "      <td>349754</td>\n",
       "      <td>21:54:45.468</td>\n",
       "      <td>-40:58:45.296</td>\n",
       "    </tr>\n",
       "    <tr>\n",
       "      <th>1</th>\n",
       "      <td>349755</td>\n",
       "      <td>22:08:45.769</td>\n",
       "      <td>-41:48:25.596</td>\n",
       "    </tr>\n",
       "    <tr>\n",
       "      <th>2</th>\n",
       "      <td>349756</td>\n",
       "      <td>22:06:29.707</td>\n",
       "      <td>-42:32:04.096</td>\n",
       "    </tr>\n",
       "    <tr>\n",
       "      <th>3</th>\n",
       "      <td>349757</td>\n",
       "      <td>22:19:14.696</td>\n",
       "      <td>-43:14:41.096</td>\n",
       "    </tr>\n",
       "    <tr>\n",
       "      <th>4</th>\n",
       "      <td>349758</td>\n",
       "      <td>22:18:59.108</td>\n",
       "      <td>-44:01:21.594</td>\n",
       "    </tr>\n",
       "    <tr>\n",
       "      <th>5</th>\n",
       "      <td>349759</td>\n",
       "      <td>22:09:46.969</td>\n",
       "      <td>-44:15:33.995</td>\n",
       "    </tr>\n",
       "    <tr>\n",
       "      <th>6</th>\n",
       "      <td>349760</td>\n",
       "      <td>22:09:30.877</td>\n",
       "      <td>-45:02:13.697</td>\n",
       "    </tr>\n",
       "    <tr>\n",
       "      <th>7</th>\n",
       "      <td>349761</td>\n",
       "      <td>22:24:28.656</td>\n",
       "      <td>-45:51:56.394</td>\n",
       "    </tr>\n",
       "    <tr>\n",
       "      <th>8</th>\n",
       "      <td>349762</td>\n",
       "      <td>22:22:32.509</td>\n",
       "      <td>-46:35:33.396</td>\n",
       "    </tr>\n",
       "    <tr>\n",
       "      <th>9</th>\n",
       "      <td>349763</td>\n",
       "      <td>22:17:24.198</td>\n",
       "      <td>-47:18:10.195</td>\n",
       "    </tr>\n",
       "    <tr>\n",
       "      <th>10</th>\n",
       "      <td>349764</td>\n",
       "      <td>22:23:45.906</td>\n",
       "      <td>-47:53:41.096</td>\n",
       "    </tr>\n",
       "    <tr>\n",
       "      <th>11</th>\n",
       "      <td>349765</td>\n",
       "      <td>22:21:42.296</td>\n",
       "      <td>-48:37:17.893</td>\n",
       "    </tr>\n",
       "    <tr>\n",
       "      <th>12</th>\n",
       "      <td>349766</td>\n",
       "      <td>22:36:14.486</td>\n",
       "      <td>-49:19:54.494</td>\n",
       "    </tr>\n",
       "    <tr>\n",
       "      <th>13</th>\n",
       "      <td>349767</td>\n",
       "      <td>22:31:12.727</td>\n",
       "      <td>-49:38:09.996</td>\n",
       "    </tr>\n",
       "    <tr>\n",
       "      <th>14</th>\n",
       "      <td>349768</td>\n",
       "      <td>22:31:12.716</td>\n",
       "      <td>-49:38:09.794</td>\n",
       "    </tr>\n",
       "    <tr>\n",
       "      <th>15</th>\n",
       "      <td>349769</td>\n",
       "      <td>22:35:36.708</td>\n",
       "      <td>-52:08:18.593</td>\n",
       "    </tr>\n",
       "    <tr>\n",
       "      <th>16</th>\n",
       "      <td>349770</td>\n",
       "      <td>22:41:01.428</td>\n",
       "      <td>-52:40:46.693</td>\n",
       "    </tr>\n",
       "    <tr>\n",
       "      <th>17</th>\n",
       "      <td>349771</td>\n",
       "      <td>22:40:54.476</td>\n",
       "      <td>-54:42:30.694</td>\n",
       "    </tr>\n",
       "    <tr>\n",
       "      <th>18</th>\n",
       "      <td>349772</td>\n",
       "      <td>22:40:46.618</td>\n",
       "      <td>-56:44:14.896</td>\n",
       "    </tr>\n",
       "    <tr>\n",
       "      <th>19</th>\n",
       "      <td>349773</td>\n",
       "      <td>22:46:42.906</td>\n",
       "      <td>-56:25:58.994</td>\n",
       "    </tr>\n",
       "  </tbody>\n",
       "</table>\n",
       "</div>"
      ],
      "text/plain": [
       "    EXPNUM         TELRA         TELDEC\n",
       "0   349754  21:54:45.468  -40:58:45.296\n",
       "1   349755  22:08:45.769  -41:48:25.596\n",
       "2   349756  22:06:29.707  -42:32:04.096\n",
       "3   349757  22:19:14.696  -43:14:41.096\n",
       "4   349758  22:18:59.108  -44:01:21.594\n",
       "5   349759  22:09:46.969  -44:15:33.995\n",
       "6   349760  22:09:30.877  -45:02:13.697\n",
       "7   349761  22:24:28.656  -45:51:56.394\n",
       "8   349762  22:22:32.509  -46:35:33.396\n",
       "9   349763  22:17:24.198  -47:18:10.195\n",
       "10  349764  22:23:45.906  -47:53:41.096\n",
       "11  349765  22:21:42.296  -48:37:17.893\n",
       "12  349766  22:36:14.486  -49:19:54.494\n",
       "13  349767  22:31:12.727  -49:38:09.996\n",
       "14  349768  22:31:12.716  -49:38:09.794\n",
       "15  349769  22:35:36.708  -52:08:18.593\n",
       "16  349770  22:41:01.428  -52:40:46.693\n",
       "17  349771  22:40:54.476  -54:42:30.694\n",
       "18  349772  22:40:46.618  -56:44:14.896\n",
       "19  349773  22:46:42.906  -56:25:58.994"
      ]
     },
     "execution_count": 40,
     "metadata": {},
     "output_type": "execute_result"
    }
   ],
   "source": [
    "result.head(20)"
   ]
  },
  {
   "cell_type": "code",
   "execution_count": null,
   "metadata": {
    "collapsed": true
   },
   "outputs": [],
   "source": []
  }
 ],
 "metadata": {
  "anaconda-cloud": {},
  "kernelspec": {
   "display_name": "Python [Root]",
   "language": "python",
   "name": "Python [Root]"
  },
  "language_info": {
   "codemirror_mode": {
    "name": "ipython",
    "version": 2
   },
   "file_extension": ".py",
   "mimetype": "text/x-python",
   "name": "python",
   "nbconvert_exporter": "python",
   "pygments_lexer": "ipython2",
   "version": "2.7.11"
  }
 },
 "nbformat": 4,
 "nbformat_minor": 0
}
