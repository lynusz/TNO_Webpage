{
 "cells": [
  {
   "cell_type": "code",
   "execution_count": 51,
   "metadata": {
    "collapsed": true
   },
   "outputs": [],
   "source": [
    "import easyaccess as ea\n",
    "import pandas as pd\n",
    "import numpy as np\n"
   ]
  },
  {
   "cell_type": "code",
   "execution_count": 52,
   "metadata": {
    "collapsed": false
   },
   "outputs": [
    {
     "name": "stdout",
     "output_type": "stream",
     "text": [
      "Connecting to DB ** desoper ** ...\n"
     ]
    }
   ],
   "source": [
    "db = ea.connect(section = 'desoper')"
   ]
  },
  {
   "cell_type": "code",
   "execution_count": 53,
   "metadata": {
    "collapsed": true
   },
   "outputs": [],
   "source": [
    "cmd = 'create table lzullo.burritos  \\\n",
    "       (\\\n",
    "          NAME     varchar2(80),  \\\n",
    "          LOCATION  varchar2(80),  \\\n",
    "          PRICE      number(9,6),  \\\n",
    "          TYPE     varchar2(80),  \\\n",
    "          QUALITY    number(9,6)   \\\n",
    "       )'"
   ]
  },
  {
   "cell_type": "code",
   "execution_count": 54,
   "metadata": {
    "collapsed": false
   },
   "outputs": [
    {
     "name": "stdout",
     "output_type": "stream",
     "text": [
      "Connecting to DB ** desoper ** ...\n"
     ]
    }
   ],
   "source": [
    "db = ea.connect(section='desoper')\n",
    "cursor = db.cursor()\n",
    "try:\n",
    "    cursor.execute('drop table lzullo.burritos')     # drop this table in case there was an existing copy\n",
    "    cursor.execute(cmd)\n",
    "except:\n",
    "    cursor.execute(cmd)"
   ]
  },
  {
   "cell_type": "code",
   "execution_count": 55,
   "metadata": {
    "collapsed": true
   },
   "outputs": [],
   "source": [
    "result = db.query_to_pandas('select * from lzullo.burritos')"
   ]
  },
  {
   "cell_type": "code",
   "execution_count": 56,
   "metadata": {
    "collapsed": false
   },
   "outputs": [
    {
     "data": {
      "text/html": [
       "<div>\n",
       "<table border=\"1\" class=\"dataframe\">\n",
       "  <thead>\n",
       "    <tr style=\"text-align: right;\">\n",
       "      <th></th>\n",
       "      <th>NAME</th>\n",
       "      <th>LOCATION</th>\n",
       "      <th>PRICE</th>\n",
       "      <th>TYPE</th>\n",
       "      <th>QUALITY</th>\n",
       "    </tr>\n",
       "  </thead>\n",
       "  <tbody>\n",
       "  </tbody>\n",
       "</table>\n",
       "</div>"
      ],
      "text/plain": [
       "Empty DataFrame\n",
       "Columns: [NAME, LOCATION, PRICE, TYPE, QUALITY]\n",
       "Index: []"
      ]
     },
     "execution_count": 56,
     "metadata": {},
     "output_type": "execute_result"
    }
   ],
   "source": [
    "result.head()"
   ]
  },
  {
   "cell_type": "code",
   "execution_count": 57,
   "metadata": {
    "collapsed": true
   },
   "outputs": [],
   "source": [
    "cmds = [\"INSERT INTO lzullo.burritos (NAME, LOCATION, PRICE, TYPE, QUALITY) \\\n",
    "VALUES ('The Chicken Tender', 'Chipotle', 7, 'Chicken', 3)\",\n",
    "        \"INSERT INTO lzullo.burritos (NAME, LOCATION, PRICE, TYPE, QUALITY) \\\n",
    "VALUES ('The Quadruple Bypass', 'Qdoba',10, 'Beef', 6)\",\n",
    "        \"INSERT INTO lzullo.burritos (NAME, LOCATION, PRICE, TYPE, QUALITY) \\\n",
    "VALUES ('The Hipster', 'San Fran', 16, 'love', 2)\",\n",
    "        \"INSERT INTO lzullo.burritos (NAME, LOCATION, PRICE, TYPE, QUALITY) \\\n",
    "VALUES ('The Trump', 'Mexico', 100, 'White ', 0)\",\n",
    "        \"INSERT INTO lzullo.burritos (NAME, LOCATION, PRICE, TYPE, QUALITY) \\\n",
    "VALUES ('The New Porker', 'Florida', 9, 'Pork ',10)\"]"
   ]
  },
  {
   "cell_type": "code",
   "execution_count": 58,
   "metadata": {
    "collapsed": false
   },
   "outputs": [],
   "source": [
    "for c in cmds:\n",
    "    cursor.execute(c)"
   ]
  },
  {
   "cell_type": "code",
   "execution_count": 59,
   "metadata": {
    "collapsed": false
   },
   "outputs": [
    {
     "data": {
      "text/html": [
       "<div>\n",
       "<table border=\"1\" class=\"dataframe\">\n",
       "  <thead>\n",
       "    <tr style=\"text-align: right;\">\n",
       "      <th></th>\n",
       "      <th>NAME</th>\n",
       "      <th>LOCATION</th>\n",
       "      <th>PRICE</th>\n",
       "      <th>TYPE</th>\n",
       "      <th>QUALITY</th>\n",
       "    </tr>\n",
       "  </thead>\n",
       "  <tbody>\n",
       "    <tr>\n",
       "      <th>0</th>\n",
       "      <td>The Chicken Tender</td>\n",
       "      <td>Chipotle</td>\n",
       "      <td>7.0</td>\n",
       "      <td>Chicken</td>\n",
       "      <td>3.0</td>\n",
       "    </tr>\n",
       "    <tr>\n",
       "      <th>1</th>\n",
       "      <td>The Quadruple Bypass</td>\n",
       "      <td>Qdoba</td>\n",
       "      <td>10.0</td>\n",
       "      <td>Beef</td>\n",
       "      <td>6.0</td>\n",
       "    </tr>\n",
       "    <tr>\n",
       "      <th>2</th>\n",
       "      <td>The Hipster</td>\n",
       "      <td>San Fran</td>\n",
       "      <td>16.0</td>\n",
       "      <td>love</td>\n",
       "      <td>2.0</td>\n",
       "    </tr>\n",
       "    <tr>\n",
       "      <th>3</th>\n",
       "      <td>The Trump</td>\n",
       "      <td>Mexico</td>\n",
       "      <td>100.0</td>\n",
       "      <td>White</td>\n",
       "      <td>0.0</td>\n",
       "    </tr>\n",
       "    <tr>\n",
       "      <th>4</th>\n",
       "      <td>The New Porker</td>\n",
       "      <td>Florida</td>\n",
       "      <td>9.0</td>\n",
       "      <td>Pork</td>\n",
       "      <td>10.0</td>\n",
       "    </tr>\n",
       "  </tbody>\n",
       "</table>\n",
       "</div>"
      ],
      "text/plain": [
       "                   NAME  LOCATION  PRICE     TYPE  QUALITY\n",
       "0    The Chicken Tender  Chipotle    7.0  Chicken      3.0\n",
       "1  The Quadruple Bypass     Qdoba   10.0     Beef      6.0\n",
       "2           The Hipster  San Fran   16.0     love      2.0\n",
       "3             The Trump    Mexico  100.0   White       0.0\n",
       "4        The New Porker   Florida    9.0    Pork      10.0"
      ]
     },
     "execution_count": 59,
     "metadata": {},
     "output_type": "execute_result"
    }
   ],
   "source": [
    "result = db.query_to_pandas('select * from lzullo.burritos')\n",
    "result.head(len(result))"
   ]
  },
  {
   "cell_type": "code",
   "execution_count": 60,
   "metadata": {
    "collapsed": true
   },
   "outputs": [],
   "source": [
    "cmds = [\"INSERT INTO lzullo.burritos (NAME, LOCATION, PRICE, TYPE, QUALITY) \\\n",
    "VALUES ('TestBurrito', 'Ann Arbor', 3, 'Vegan', 4)\"]"
   ]
  },
  {
   "cell_type": "code",
   "execution_count": 61,
   "metadata": {
    "collapsed": true
   },
   "outputs": [],
   "source": [
    "for c in cmds:\n",
    "    cursor.execute(c)"
   ]
  },
  {
   "cell_type": "code",
   "execution_count": 62,
   "metadata": {
    "collapsed": false
   },
   "outputs": [
    {
     "data": {
      "text/html": [
       "<div>\n",
       "<table border=\"1\" class=\"dataframe\">\n",
       "  <thead>\n",
       "    <tr style=\"text-align: right;\">\n",
       "      <th></th>\n",
       "      <th>NAME</th>\n",
       "      <th>LOCATION</th>\n",
       "      <th>PRICE</th>\n",
       "      <th>TYPE</th>\n",
       "      <th>QUALITY</th>\n",
       "    </tr>\n",
       "  </thead>\n",
       "  <tbody>\n",
       "    <tr>\n",
       "      <th>0</th>\n",
       "      <td>The Chicken Tender</td>\n",
       "      <td>Chipotle</td>\n",
       "      <td>7.0</td>\n",
       "      <td>Chicken</td>\n",
       "      <td>3.0</td>\n",
       "    </tr>\n",
       "    <tr>\n",
       "      <th>1</th>\n",
       "      <td>The Quadruple Bypass</td>\n",
       "      <td>Qdoba</td>\n",
       "      <td>10.0</td>\n",
       "      <td>Beef</td>\n",
       "      <td>6.0</td>\n",
       "    </tr>\n",
       "    <tr>\n",
       "      <th>2</th>\n",
       "      <td>The Hipster</td>\n",
       "      <td>San Fran</td>\n",
       "      <td>16.0</td>\n",
       "      <td>love</td>\n",
       "      <td>2.0</td>\n",
       "    </tr>\n",
       "    <tr>\n",
       "      <th>3</th>\n",
       "      <td>The Trump</td>\n",
       "      <td>Mexico</td>\n",
       "      <td>100.0</td>\n",
       "      <td>White</td>\n",
       "      <td>0.0</td>\n",
       "    </tr>\n",
       "    <tr>\n",
       "      <th>4</th>\n",
       "      <td>The New Porker</td>\n",
       "      <td>Florida</td>\n",
       "      <td>9.0</td>\n",
       "      <td>Pork</td>\n",
       "      <td>10.0</td>\n",
       "    </tr>\n",
       "    <tr>\n",
       "      <th>5</th>\n",
       "      <td>TestBurrito</td>\n",
       "      <td>Ann Arbor</td>\n",
       "      <td>3.0</td>\n",
       "      <td>Vegan</td>\n",
       "      <td>4.0</td>\n",
       "    </tr>\n",
       "  </tbody>\n",
       "</table>\n",
       "</div>"
      ],
      "text/plain": [
       "                   NAME   LOCATION  PRICE     TYPE  QUALITY\n",
       "0    The Chicken Tender   Chipotle    7.0  Chicken      3.0\n",
       "1  The Quadruple Bypass      Qdoba   10.0     Beef      6.0\n",
       "2           The Hipster   San Fran   16.0     love      2.0\n",
       "3             The Trump     Mexico  100.0   White       0.0\n",
       "4        The New Porker    Florida    9.0    Pork      10.0\n",
       "5           TestBurrito  Ann Arbor    3.0    Vegan      4.0"
      ]
     },
     "execution_count": 62,
     "metadata": {},
     "output_type": "execute_result"
    }
   ],
   "source": [
    "result = db.query_to_pandas('select * from lzullo.burritos')\n",
    "result.head(len(result))"
   ]
  },
  {
   "cell_type": "code",
   "execution_count": 63,
   "metadata": {
    "collapsed": false
   },
   "outputs": [
    {
     "name": "stdout",
     "output_type": "stream",
     "text": [
      "The Trump\n"
     ]
    }
   ],
   "source": [
    "print result['NAME'][3]"
   ]
  },
  {
   "cell_type": "code",
   "execution_count": 64,
   "metadata": {
    "collapsed": false
   },
   "outputs": [],
   "source": [
    "for c in cmds:\n",
    "    result['NAME'][3] = 'The Bernie'"
   ]
  },
  {
   "cell_type": "code",
   "execution_count": 65,
   "metadata": {
    "collapsed": false
   },
   "outputs": [
    {
     "name": "stdout",
     "output_type": "stream",
     "text": [
      "The Bernie\n"
     ]
    }
   ],
   "source": [
    "print result['NAME'][3]"
   ]
  },
  {
   "cell_type": "code",
   "execution_count": 66,
   "metadata": {
    "collapsed": false
   },
   "outputs": [
    {
     "data": {
      "text/html": [
       "<div>\n",
       "<table border=\"1\" class=\"dataframe\">\n",
       "  <thead>\n",
       "    <tr style=\"text-align: right;\">\n",
       "      <th></th>\n",
       "      <th>NAME</th>\n",
       "      <th>LOCATION</th>\n",
       "      <th>PRICE</th>\n",
       "      <th>TYPE</th>\n",
       "      <th>QUALITY</th>\n",
       "    </tr>\n",
       "  </thead>\n",
       "  <tbody>\n",
       "    <tr>\n",
       "      <th>0</th>\n",
       "      <td>The Chicken Tender</td>\n",
       "      <td>Chipotle</td>\n",
       "      <td>7.0</td>\n",
       "      <td>Chicken</td>\n",
       "      <td>3.0</td>\n",
       "    </tr>\n",
       "    <tr>\n",
       "      <th>1</th>\n",
       "      <td>The Quadruple Bypass</td>\n",
       "      <td>Qdoba</td>\n",
       "      <td>10.0</td>\n",
       "      <td>Beef</td>\n",
       "      <td>6.0</td>\n",
       "    </tr>\n",
       "    <tr>\n",
       "      <th>2</th>\n",
       "      <td>The Hipster</td>\n",
       "      <td>San Fran</td>\n",
       "      <td>16.0</td>\n",
       "      <td>love</td>\n",
       "      <td>2.0</td>\n",
       "    </tr>\n",
       "    <tr>\n",
       "      <th>3</th>\n",
       "      <td>The Trump</td>\n",
       "      <td>Mexico</td>\n",
       "      <td>100.0</td>\n",
       "      <td>White</td>\n",
       "      <td>0.0</td>\n",
       "    </tr>\n",
       "    <tr>\n",
       "      <th>4</th>\n",
       "      <td>The New Porker</td>\n",
       "      <td>Florida</td>\n",
       "      <td>9.0</td>\n",
       "      <td>Pork</td>\n",
       "      <td>10.0</td>\n",
       "    </tr>\n",
       "    <tr>\n",
       "      <th>5</th>\n",
       "      <td>TestBurrito</td>\n",
       "      <td>Ann Arbor</td>\n",
       "      <td>3.0</td>\n",
       "      <td>Vegan</td>\n",
       "      <td>4.0</td>\n",
       "    </tr>\n",
       "  </tbody>\n",
       "</table>\n",
       "</div>"
      ],
      "text/plain": [
       "                   NAME   LOCATION  PRICE     TYPE  QUALITY\n",
       "0    The Chicken Tender   Chipotle    7.0  Chicken      3.0\n",
       "1  The Quadruple Bypass      Qdoba   10.0     Beef      6.0\n",
       "2           The Hipster   San Fran   16.0     love      2.0\n",
       "3             The Trump     Mexico  100.0   White       0.0\n",
       "4        The New Porker    Florida    9.0    Pork      10.0\n",
       "5           TestBurrito  Ann Arbor    3.0    Vegan      4.0"
      ]
     },
     "execution_count": 66,
     "metadata": {},
     "output_type": "execute_result"
    }
   ],
   "source": [
    "result = db.query_to_pandas('select * from lzullo.burritos')\n",
    "result.head(len(result))"
   ]
  },
  {
   "cell_type": "code",
   "execution_count": 72,
   "metadata": {
    "collapsed": false
   },
   "outputs": [],
   "source": [
    "cursor.execute(\"update BURRITOS set price = 14 where name = 'The Hipster'\")"
   ]
  },
  {
   "cell_type": "code",
   "execution_count": 74,
   "metadata": {
    "collapsed": false
   },
   "outputs": [
    {
     "data": {
      "text/html": [
       "<div>\n",
       "<table border=\"1\" class=\"dataframe\">\n",
       "  <thead>\n",
       "    <tr style=\"text-align: right;\">\n",
       "      <th></th>\n",
       "      <th>NAME</th>\n",
       "      <th>LOCATION</th>\n",
       "      <th>PRICE</th>\n",
       "      <th>TYPE</th>\n",
       "      <th>QUALITY</th>\n",
       "    </tr>\n",
       "  </thead>\n",
       "  <tbody>\n",
       "    <tr>\n",
       "      <th>0</th>\n",
       "      <td>The Chicken Tender</td>\n",
       "      <td>Chipotle</td>\n",
       "      <td>7.0</td>\n",
       "      <td>Chicken</td>\n",
       "      <td>3.0</td>\n",
       "    </tr>\n",
       "    <tr>\n",
       "      <th>1</th>\n",
       "      <td>The Quadruple Bypass</td>\n",
       "      <td>Qdoba</td>\n",
       "      <td>10.0</td>\n",
       "      <td>Beef</td>\n",
       "      <td>6.0</td>\n",
       "    </tr>\n",
       "    <tr>\n",
       "      <th>2</th>\n",
       "      <td>The Hipster</td>\n",
       "      <td>San Fran</td>\n",
       "      <td>14.0</td>\n",
       "      <td>love</td>\n",
       "      <td>2.0</td>\n",
       "    </tr>\n",
       "    <tr>\n",
       "      <th>3</th>\n",
       "      <td>The Trump</td>\n",
       "      <td>Mexico</td>\n",
       "      <td>100.0</td>\n",
       "      <td>White</td>\n",
       "      <td>0.0</td>\n",
       "    </tr>\n",
       "    <tr>\n",
       "      <th>4</th>\n",
       "      <td>The New Porker</td>\n",
       "      <td>Florida</td>\n",
       "      <td>9.0</td>\n",
       "      <td>Pork</td>\n",
       "      <td>10.0</td>\n",
       "    </tr>\n",
       "    <tr>\n",
       "      <th>5</th>\n",
       "      <td>TestBurrito</td>\n",
       "      <td>Ann Arbor</td>\n",
       "      <td>3.0</td>\n",
       "      <td>Vegan</td>\n",
       "      <td>4.0</td>\n",
       "    </tr>\n",
       "  </tbody>\n",
       "</table>\n",
       "</div>"
      ],
      "text/plain": [
       "                   NAME   LOCATION  PRICE     TYPE  QUALITY\n",
       "0    The Chicken Tender   Chipotle    7.0  Chicken      3.0\n",
       "1  The Quadruple Bypass      Qdoba   10.0     Beef      6.0\n",
       "2           The Hipster   San Fran   14.0     love      2.0\n",
       "3             The Trump     Mexico  100.0   White       0.0\n",
       "4        The New Porker    Florida    9.0    Pork      10.0\n",
       "5           TestBurrito  Ann Arbor    3.0    Vegan      4.0"
      ]
     },
     "execution_count": 74,
     "metadata": {},
     "output_type": "execute_result"
    }
   ],
   "source": [
    "result = db.query_to_pandas('select * from lzullo.burritos')\n",
    "result.head(len(result))"
   ]
  },
  {
   "cell_type": "code",
   "execution_count": null,
   "metadata": {
    "collapsed": true
   },
   "outputs": [],
   "source": []
  },
  {
   "cell_type": "code",
   "execution_count": null,
   "metadata": {
    "collapsed": true
   },
   "outputs": [],
   "source": []
  }
 ],
 "metadata": {
  "anaconda-cloud": {},
  "kernelspec": {
   "display_name": "Python [Root]",
   "language": "python",
   "name": "Python [Root]"
  },
  "language_info": {
   "codemirror_mode": {
    "name": "ipython",
    "version": 2
   },
   "file_extension": ".py",
   "mimetype": "text/x-python",
   "name": "python",
   "nbconvert_exporter": "python",
   "pygments_lexer": "ipython2",
   "version": "2.7.11"
  }
 },
 "nbformat": 4,
 "nbformat_minor": 0
}
